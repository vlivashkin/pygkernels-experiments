{
 "cells": [
  {
   "cell_type": "code",
   "execution_count": 1,
   "metadata": {},
   "outputs": [],
   "source": [
    "import os\n",
    "os.environ[\"OPENBLAS_NUM_THREADS\"] = \"1\"\n",
    "import warnings\n",
    "warnings.filterwarnings(\"ignore\")\n",
    "import sys\n",
    "sys.path.append('../..')"
   ]
  },
  {
   "cell_type": "code",
   "execution_count": 2,
   "metadata": {},
   "outputs": [],
   "source": [
    "import numpy as np\n",
    "import matplotlib.pyplot as plt\n",
    "%matplotlib inline\n",
    "from tqdm import tqdm_notebook as tqdm\n",
    "from collections import defaultdict\n",
    "from sklearn.metrics import adjusted_rand_score\n",
    "from scipy.stats import rankdata\n",
    "import itertools"
   ]
  },
  {
   "cell_type": "code",
   "execution_count": 3,
   "metadata": {},
   "outputs": [],
   "source": [
    "from pygraphs.cluster import KernelKMeans, Ward, KernelKMeansSklearn, KernelWardSklearn\n",
    "from pygraphs.graphs.generator import StochasticBlockModel, RubanovModel\n",
    "from pygraphs.measure import *\n",
    "from pygraphs.measure import H_kernels_plus_RSP_FE_SP_CT, scaler\n",
    "from pygraphs.scenario import plot_results, d3_right_order, measures_right_order"
   ]
  },
  {
   "cell_type": "code",
   "execution_count": 4,
   "metadata": {},
   "outputs": [],
   "source": [
    "best_params = defaultdict(dict)\n",
    "best_params[(100, 4, 0.1)][\"pWalk H\"] = 0.00\n",
    "best_params[(100, 4, 0.1)][\"FE K\"] = 0.93\n",
    "best_params[(100, 4, 0.1)][\"Comm H\"] = 0.00\n",
    "best_params[(100, 4, 0.1)][\"logFor H\"] = 0.53\n",
    "best_params[(100, 4, 0.1)][\"logComm H\"] = 0.67\n",
    "best_params[(100, 4, 0.1)][\"Walk H\"] = 0.53\n",
    "best_params[(100, 4, 0.1)][\"For H\"] = 0.00\n",
    "best_params[(100, 4, 0.1)][\"SCT H\"] = 0.90\n",
    "best_params[(100, 4, 0.1)][\"Heat H\"] = 0.00\n",
    "best_params[(100, 4, 0.1)][\"logHeat H\"] = 0.27\n",
    "best_params[(100, 4, 0.1)][\"SCCT H\"] = 0.83\n",
    "best_params[(100, 4, 0.1)][\"SP-CT H\"] = 0.27\n",
    "best_params[(100, 4, 0.1)][\"RSP K\"] = 0.97\n",
    "best_params[(100, 2, 0.1)][\"pWalk H\"] = 0.77\n",
    "best_params[(100, 2, 0.1)][\"FE K\"] = 0.93\n",
    "best_params[(100, 2, 0.1)][\"Comm H\"] = 0.33\n",
    "best_params[(100, 2, 0.1)][\"logFor H\"] = 0.47\n",
    "best_params[(100, 2, 0.1)][\"logComm H\"] = 0.57\n",
    "best_params[(100, 2, 0.1)][\"Walk H\"] = 0.70\n",
    "best_params[(100, 2, 0.1)][\"For H\"] = 0.97\n",
    "best_params[(100, 2, 0.1)][\"SCT H\"] = 0.43\n",
    "best_params[(100, 2, 0.1)][\"Heat H\"] = 0.87\n",
    "best_params[(100, 2, 0.1)][\"logHeat H\"] = 0.47\n",
    "best_params[(100, 2, 0.1)][\"SCCT H\"] = 0.99\n",
    "best_params[(100, 2, 0.1)][\"SP-CT H\"] = 0.03\n",
    "best_params[(100, 2, 0.1)][\"RSP K\"] = 0.97\n",
    "best_params[(200, 2, 0.15)][\"pWalk H\"] = 0.83\n",
    "best_params[(200, 2, 0.15)][\"FE K\"] = 0.87\n",
    "best_params[(200, 2, 0.15)][\"Comm H\"] = 0.20\n",
    "best_params[(200, 2, 0.15)][\"logFor H\"] = 0.23\n",
    "best_params[(200, 2, 0.15)][\"logComm H\"] = 0.50\n",
    "best_params[(200, 2, 0.15)][\"Walk H\"] = 0.57\n",
    "best_params[(200, 2, 0.15)][\"For H\"] = 0.00\n",
    "best_params[(200, 2, 0.15)][\"SCT H\"] = 0.47\n",
    "best_params[(200, 2, 0.15)][\"Heat H\"] = 0.70\n",
    "best_params[(200, 2, 0.15)][\"logHeat H\"] = 0.23\n",
    "best_params[(200, 2, 0.15)][\"SCCT H\"] = 0.83\n",
    "best_params[(200, 2, 0.15)][\"SP-CT H\"] = 0.03\n",
    "best_params[(200, 2, 0.15)][\"RSP K\"] = 0.97\n",
    "best_params[(200, 2, 0.1)][\"pWalk H\"] = 0.80\n",
    "best_params[(200, 2, 0.1)][\"FE K\"] = 0.93\n",
    "best_params[(200, 2, 0.1)][\"Comm H\"] = 0.23\n",
    "best_params[(200, 2, 0.1)][\"logFor H\"] = 0.43\n",
    "best_params[(200, 2, 0.1)][\"logComm H\"] = 0.47\n",
    "best_params[(200, 2, 0.1)][\"Walk H\"] = 0.87\n",
    "best_params[(200, 2, 0.1)][\"For H\"] = 0.93\n",
    "best_params[(200, 2, 0.1)][\"SCT H\"] = 0.60\n",
    "best_params[(200, 2, 0.1)][\"Heat H\"] = 0.57\n",
    "best_params[(200, 2, 0.1)][\"logHeat H\"] = 0.57\n",
    "best_params[(200, 2, 0.1)][\"SCCT H\"] = 0.03\n",
    "best_params[(200, 2, 0.1)][\"SP-CT H\"] = 0.00\n",
    "best_params[(200, 2, 0.1)][\"RSP K\"] = 0.97\n",
    "best_params[(200, 4, 0.15)][\"pWalk H\"] = 0.00\n",
    "best_params[(200, 4, 0.15)][\"FE K\"] = 0.87\n",
    "best_params[(200, 4, 0.15)][\"Comm H\"] = 0.00\n",
    "best_params[(200, 4, 0.15)][\"logFor H\"] = 0.17\n",
    "best_params[(200, 4, 0.15)][\"logComm H\"] = 0.60\n",
    "best_params[(200, 4, 0.15)][\"Walk H\"] = 0.70\n",
    "best_params[(200, 4, 0.15)][\"For H\"] = 0.00\n",
    "best_params[(200, 4, 0.15)][\"SCT H\"] = 0.00\n",
    "best_params[(200, 4, 0.15)][\"Heat H\"] = 0.00\n",
    "best_params[(200, 4, 0.15)][\"logHeat H\"] = 0.07\n",
    "best_params[(200, 4, 0.15)][\"SCCT H\"] = 0.00\n",
    "best_params[(200, 4, 0.15)][\"SP-CT H\"] = 0.03\n",
    "best_params[(200, 4, 0.15)][\"RSP K\"] = 0.97\n",
    "best_params[(100, 4, 0.15)][\"pWalk H\"] = 0.00\n",
    "best_params[(100, 4, 0.15)][\"FE K\"] = 0.90\n",
    "best_params[(100, 4, 0.15)][\"Comm H\"] = 0.00\n",
    "best_params[(100, 4, 0.15)][\"logFor H\"] = 0.47\n",
    "best_params[(100, 4, 0.15)][\"logComm H\"] = 0.63\n",
    "best_params[(100, 4, 0.15)][\"Walk H\"] = 0.53\n",
    "best_params[(100, 4, 0.15)][\"For H\"] = 0.00\n",
    "best_params[(100, 4, 0.15)][\"SCT H\"] = 0.00\n",
    "best_params[(100, 4, 0.15)][\"Heat H\"] = 0.00\n",
    "best_params[(100, 4, 0.15)][\"logHeat H\"] = 0.07\n",
    "best_params[(100, 4, 0.15)][\"SCCT H\"] = 0.00\n",
    "best_params[(100, 4, 0.15)][\"SP-CT H\"] = 0.07\n",
    "best_params[(100, 4, 0.15)][\"RSP K\"] = 0.93\n",
    "best_params[(200, 4, 0.1)][\"pWalk H\"] = 0.83\n",
    "best_params[(200, 4, 0.1)][\"FE K\"] = 0.90\n",
    "best_params[(200, 4, 0.1)][\"Comm H\"] = 0.23\n",
    "best_params[(200, 4, 0.1)][\"logFor H\"] = 0.37\n",
    "best_params[(200, 4, 0.1)][\"logComm H\"] = 0.57\n",
    "best_params[(200, 4, 0.1)][\"Walk H\"] = 0.60\n",
    "best_params[(200, 4, 0.1)][\"For H\"] = 0.00\n",
    "best_params[(200, 4, 0.1)][\"SCT H\"] = 0.43\n",
    "best_params[(200, 4, 0.1)][\"Heat H\"] = 0.00\n",
    "best_params[(200, 4, 0.1)][\"logHeat H\"] = 0.30\n",
    "best_params[(200, 4, 0.1)][\"SCCT H\"] = 0.17\n",
    "best_params[(200, 4, 0.1)][\"SP-CT H\"] = 0.07\n",
    "best_params[(200, 4, 0.1)][\"RSP K\"] = 0.97\n",
    "best_params[(100, 2, 0.15)][\"pWalk H\"] = 0.67\n",
    "best_params[(100, 2, 0.15)][\"FE K\"] = 0.83\n",
    "best_params[(100, 2, 0.15)][\"Comm H\"] = 0.27\n",
    "best_params[(100, 2, 0.15)][\"logFor H\"] = 0.47\n",
    "best_params[(100, 2, 0.15)][\"logComm H\"] = 0.70\n",
    "best_params[(100, 2, 0.15)][\"Walk H\"] = 0.67\n",
    "best_params[(100, 2, 0.15)][\"For H\"] = 0.83\n",
    "best_params[(100, 2, 0.15)][\"SCT H\"] = 0.53\n",
    "best_params[(100, 2, 0.15)][\"Heat H\"] = 0.83\n",
    "best_params[(100, 2, 0.15)][\"logHeat H\"] = 0.23\n",
    "best_params[(100, 2, 0.15)][\"SCCT H\"] = 0.90\n",
    "best_params[(100, 2, 0.15)][\"SP-CT H\"] = 0.03\n",
    "best_params[(100, 2, 0.15)][\"RSP K\"] = 0.97"
   ]
  },
  {
   "cell_type": "code",
   "execution_count": 5,
   "metadata": {},
   "outputs": [
    {
     "data": {
      "text/plain": [
       "{'pWalk H': 0.77,\n",
       " 'FE K': 0.93,\n",
       " 'Comm H': 0.33,\n",
       " 'logFor H': 0.47,\n",
       " 'logComm H': 0.57,\n",
       " 'Walk H': 0.7,\n",
       " 'For H': 0.97,\n",
       " 'SCT H': 0.43,\n",
       " 'Heat H': 0.87,\n",
       " 'logHeat H': 0.47,\n",
       " 'SCCT H': 0.99,\n",
       " 'SP-CT H': 0.03,\n",
       " 'RSP K': 0.97,\n",
       " 'SP K': 0,\n",
       " 'CT H': 0}"
      ]
     },
     "execution_count": 5,
     "metadata": {},
     "output_type": "execute_result"
    }
   ],
   "source": [
    "best_params_100_2_01 = best_params[(100, 2, 0.1)]\n",
    "best_params_100_2_01['SP K'] = 0\n",
    "best_params_100_2_01['CT H'] = 0\n",
    "best_params_100_2_01"
   ]
  },
  {
   "cell_type": "markdown",
   "metadata": {},
   "source": [
    "# Еще было бы интересно построить матрицу рановых корреляций мер по множеству случайных графов.\n",
    "Тогда будет ясно, какие меры наиболее близки, какие далеки в смысле порядка. \n"
   ]
  },
  {
   "cell_type": "code",
   "execution_count": 6,
   "metadata": {},
   "outputs": [],
   "source": [
    "measure1_ari = np.array([95, 90, 87, 84, 75, 70, 61, 60, 58, 55])\n",
    "measure2_ari = np.array([92, 94, 83, 79, 58, 61, 47, 72, 62, 68])\n",
    "\n",
    "def ranking(measure1_ari, measure2_ari):\n",
    "    assert measure1_ari.shape == measure2_ari.shape\n",
    "    n = measure1_ari.shape[0]\n",
    "\n",
    "    # 1. генерируем ранги\n",
    "    measure1_rank = rankdata(-measure1_ari)\n",
    "    measure2_rank = rankdata(-measure2_ari)\n",
    "\n",
    "    # 2. Для каждой пары мер считаем сумму квадратов разностей\n",
    "    sum_sq_delta = np.sum(np.power(measure1_rank - measure2_rank, 2))\n",
    "\n",
    "    # 3. По формуле Спирмена считаем элементы матрицы корреляций\n",
    "    return 1 - (6 * sum_sq_delta)/((n-1)*n*(n+1))"
   ]
  },
  {
   "cell_type": "code",
   "execution_count": 7,
   "metadata": {},
   "outputs": [
    {
     "data": {
      "application/vnd.jupyter.widget-view+json": {
       "model_id": "80cf4fe53e354076b71d833ac3fc372c",
       "version_major": 2,
       "version_minor": 0
      },
      "text/plain": [
       "HBox(children=(IntProgress(value=0, max=15), HTML(value='')))"
      ]
     },
     "metadata": {},
     "output_type": "display_data"
    },
    {
     "name": "stdout",
     "output_type": "stream",
     "text": [
      "\n"
     ]
    }
   ],
   "source": [
    "graphs, info = StochasticBlockModel(100, 2, p_in=0.3, p_out=0.1).generate_graphs(100)\n",
    "clf = KernelWardSklearn(2)\n",
    "results = defaultdict(list)\n",
    "for kernel_class in tqdm(H_kernels_plus_RSP_FE_SP_CT):\n",
    "    for edges, nodes in graphs:\n",
    "        kernel = kernel_class(edges)\n",
    "        param_flat = best_params_100_2_01[kernel.name]\n",
    "        param = kernel.scaler.scale(param_flat)\n",
    "        K = kernel.get_K(param)\n",
    "        y_pred = clf.fit_predict(K)\n",
    "        ari = adjusted_rand_score(nodes, y_pred)\n",
    "        results[kernel.name].append(ari)"
   ]
  },
  {
   "cell_type": "code",
   "execution_count": 10,
   "metadata": {},
   "outputs": [],
   "source": [
    "ranks = np.zeros((15, 15))\n",
    "for i in range(15):\n",
    "    for j in range(i, 15):\n",
    "        ranks[i, j] = ranking(np.array(results[measures_right_order[i]]),\n",
    "                              np.array(results[measures_right_order[j]]))"
   ]
  },
  {
   "cell_type": "code",
   "execution_count": 11,
   "metadata": {},
   "outputs": [
    {
     "data": {
      "image/png": "[encoded data removed]",
      "text/plain": [
       "<Figure size 432x288 with 1 Axes>"
      ]
     },
     "metadata": {
      "needs_background": "light"
     },
     "output_type": "display_data"
    }
   ],
   "source": [
    "plt.imshow(ranks)\n",
    "plt.xticks(range(15), [x[:-2] for x in measures_right_order], rotation='vertical')\n",
    "plt.yticks(range(15), [x[:-2] for x in measures_right_order]);"
   ]
  },
  {
   "cell_type": "code",
   "execution_count": 12,
   "metadata": {},
   "outputs": [
    {
     "data": {
      "image/png": "[encoded data removed]",
      "text/plain": [
       "<Figure size 432x288 with 1 Axes>"
      ]
     },
     "metadata": {
      "needs_background": "light"
     },
     "output_type": "display_data"
    }
   ],
   "source": [
    "plt.imshow(np.abs(ranks))\n",
    "plt.xticks(range(15), [x[:-2] for x in measures_right_order], rotation='vertical')\n",
    "plt.yticks(range(15), [x[:-2] for x in measures_right_order]);"
   ]
  },
  {
   "cell_type": "code",
   "execution_count": 18,
   "metadata": {},
   "outputs": [
    {
     "name": "stdout",
     "output_type": "stream",
     "text": [
      "1.00 & 0.24 & 0.12 & 0.49 & 0.23 & 0.37 & 0.26 & 0.08 & 0.44 & 0.17 & 0.32 & 0.49 & 0.48 & 0.50 & 0.11\n",
      "0.00 & 1.00 & 0.25 & 0.49 & 0.14 & 0.07 & 0.36 & 0.33 & 0.42 & 0.16 & 0.41 & 0.45 & 0.24 & 0.23 & 0.26\n",
      "0.00 & 0.00 & 1.00 & 0.23 & 0.14 & 0.07 & 0.54 & 0.28 & 0.23 & 0.23 & 0.07 & 0.17 & 0.16 & 0.14 & 1.00\n",
      "0.00 & 0.00 & 0.00 & 1.00 & 0.19 & 0.21 & 0.43 & 0.51 & 0.56 & 0.38 & 0.60 & 0.64 & 0.42 & 0.46 & 0.22\n",
      "0.00 & 0.00 & 0.00 & 0.00 & 1.00 & 0.60 & 0.09 & 0.10 & 0.28 & 0.06 & 0.08 & 0.09 & 0.19 & 0.18 & 0.14\n",
      "0.00 & 0.00 & 0.00 & 0.00 & 0.00 & 1.00 & -0.02 & -0.07 & 0.08 & -0.04 & 0.12 & 0.09 & 0.14 & 0.11 & 0.06\n",
      "0.00 & 0.00 & 0.00 & 0.00 & 0.00 & 0.00 & 1.00 & 0.59 & 0.26 & 0.45 & 0.20 & 0.31 & 0.21 & 0.24 & 0.54\n",
      "0.00 & 0.00 & 0.00 & 0.00 & 0.00 & 0.00 & 0.00 & 1.00 & 0.24 & 0.49 & 0.25 & 0.34 & 0.16 & 0.21 & 0.29\n",
      "0.00 & 0.00 & 0.00 & 0.00 & 0.00 & 0.00 & 0.00 & 0.00 & 1.00 & 0.33 & 0.55 & 0.65 & 0.44 & 0.50 & 0.23\n",
      "0.00 & 0.00 & 0.00 & 0.00 & 0.00 & 0.00 & 0.00 & 0.00 & 0.00 & 1.00 & 0.32 & 0.41 & 0.20 & 0.27 & 0.24\n",
      "0.00 & 0.00 & 0.00 & 0.00 & 0.00 & 0.00 & 0.00 & 0.00 & 0.00 & 0.00 & 1.00 & 0.66 & 0.34 & 0.44 & 0.06\n",
      "0.00 & 0.00 & 0.00 & 0.00 & 0.00 & 0.00 & 0.00 & 0.00 & 0.00 & 0.00 & 0.00 & 1.00 & 0.43 & 0.43 & 0.16\n",
      "0.00 & 0.00 & 0.00 & 0.00 & 0.00 & 0.00 & 0.00 & 0.00 & 0.00 & 0.00 & 0.00 & 0.00 & 1.00 & 0.37 & 0.15\n",
      "0.00 & 0.00 & 0.00 & 0.00 & 0.00 & 0.00 & 0.00 & 0.00 & 0.00 & 0.00 & 0.00 & 0.00 & 0.00 & 1.00 & 0.14\n",
      "0.00 & 0.00 & 0.00 & 0.00 & 0.00 & 0.00 & 0.00 & 0.00 & 0.00 & 0.00 & 0.00 & 0.00 & 0.00 & 0.00 & 1.00\n"
     ]
    }
   ],
   "source": [
    "for i in range(15):\n",
    "    print(' & '.join([\"{:.2f}\".format(x) for x in ranks[i]]))"
   ]
  },
  {
   "cell_type": "code",
   "execution_count": null,
   "metadata": {},
   "outputs": [],
   "source": []
  }
 ],
 "metadata": {
  "kernelspec": {
   "display_name": "Python 3",
   "language": "python",
   "name": "python3"
  },
  "language_info": {
   "codemirror_mode": {
    "name": "ipython",
    "version": 3
   },
   "file_extension": ".py",
   "mimetype": "text/x-python",
   "name": "python",
   "nbconvert_exporter": "python",
   "pygments_lexer": "ipython3",
   "version": "3.7.2"
  }
 },
 "nbformat": 4,
 "nbformat_minor": 2
}
