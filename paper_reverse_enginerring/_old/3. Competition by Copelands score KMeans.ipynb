{
 "cells": [
  {
   "cell_type": "markdown",
   "metadata": {},
   "source": [
    "# Do logarithmic proximity measures outperform plain ones in graph clustering?"
   ]
  },
  {
   "cell_type": "code",
   "execution_count": 1,
   "metadata": {},
   "outputs": [],
   "source": [
    "import os\n",
    "os.environ[\"OPENBLAS_NUM_THREADS\"] = \"1\"\n",
    "import warnings\n",
    "warnings.filterwarnings(\"ignore\")\n",
    "import sys\n",
    "sys.path.append('../..')"
   ]
  },
  {
   "cell_type": "code",
   "execution_count": 31,
   "metadata": {},
   "outputs": [],
   "source": [
    "from collections import defaultdict\n",
    "from itertools import product\n",
    "import numpy as np\n",
    "import matplotlib.pyplot as plt\n",
    "%matplotlib inline\n",
    "from tqdm import tqdm_notebook as tqdm\n",
    "from sklearn.metrics import adjusted_rand_score\n",
    "from scipy import stats"
   ]
  },
  {
   "cell_type": "code",
   "execution_count": 4,
   "metadata": {},
   "outputs": [],
   "source": [
    "from pygraphs.graphs.generator import StochasticBlockModel\n",
    "from pygraphs.measure import kernels\n",
    "from pygraphs.cluster import KKMeans\n",
    "from pygraphs.scenario import ParallelByGraphs\n",
    "from pygraphs.scorer import copeland\n",
    "from pygraphs.util import load_or_calc_and_save, ddict2dict"
   ]
  },
  {
   "cell_type": "markdown",
   "metadata": {},
   "source": [
    "## 3. Competition by Copeland’s score\n",
    "The competition has been performed on random graphs generated with the $G(N,(m)p_{in}, p_{out})$ model and the following parameters: $N \\in {100, 200}$, the number of classes $m \\in {2, 4}$, $p_{in} = 0.3$, $p_{out} \\in {0.1, 0.15}$. For every combination of parameters, we generated 50 graphs and for each of them we computed the best ARI’s the measure families reached. The results are presented in Table 1(a)."
   ]
  },
  {
   "cell_type": "markdown",
   "metadata": {},
   "source": [
    "### find best params and 95% percentile"
   ]
  },
  {
   "cell_type": "code",
   "execution_count": 7,
   "metadata": {},
   "outputs": [
    {
     "data": {
      "application/vnd.jupyter.widget-view+json": {
       "model_id": "1f70b22c10c048558bd77001272e2327",
       "version_major": 2,
       "version_minor": 0
      },
      "text/plain": [
       "HBox(children=(IntProgress(value=0, max=8), HTML(value='')))"
      ]
     },
     "metadata": {},
     "output_type": "display_data"
    },
    {
     "data": {
      "application/vnd.jupyter.widget-view+json": {
       "model_id": "41998a0c48d64477b0bd07f58042a49f",
       "version_major": 2,
       "version_minor": 0
      },
      "text/plain": [
       "HBox(children=(IntProgress(value=0, description='(100, 2, 0.1)', max=21), HTML(value='')))"
      ]
     },
     "metadata": {},
     "output_type": "display_data"
    },
    {
     "data": {
      "application/vnd.jupyter.widget-view+json": {
       "model_id": "ac240f49699543b4801d476f8d905f36",
       "version_major": 2,
       "version_minor": 0
      },
      "text/plain": [
       "HBox(children=(IntProgress(value=0, description='(100, 2, 0.15)', max=21), HTML(value='')))"
      ]
     },
     "metadata": {},
     "output_type": "display_data"
    },
    {
     "data": {
      "application/vnd.jupyter.widget-view+json": {
       "model_id": "da808807591548e089b0b597d05f5e8e",
       "version_major": 2,
       "version_minor": 0
      },
      "text/plain": [
       "HBox(children=(IntProgress(value=0, description='(100, 4, 0.1)', max=21), HTML(value='')))"
      ]
     },
     "metadata": {},
     "output_type": "display_data"
    },
    {
     "data": {
      "application/vnd.jupyter.widget-view+json": {
       "model_id": "b1d5a40c14a84620b770ce58a9cd84cf",
       "version_major": 2,
       "version_minor": 0
      },
      "text/plain": [
       "HBox(children=(IntProgress(value=0, description='(100, 4, 0.15)', max=21), HTML(value='')))"
      ]
     },
     "metadata": {},
     "output_type": "display_data"
    },
    {
     "data": {
      "application/vnd.jupyter.widget-view+json": {
       "model_id": "d878dd19fe464afc8a371ad764566180",
       "version_major": 2,
       "version_minor": 0
      },
      "text/plain": [
       "HBox(children=(IntProgress(value=0, description='(200, 2, 0.1)', max=21), HTML(value='')))"
      ]
     },
     "metadata": {},
     "output_type": "display_data"
    },
    {
     "data": {
      "application/vnd.jupyter.widget-view+json": {
       "model_id": "8a7470e47c774886a3660d9c5a4ca081",
       "version_major": 2,
       "version_minor": 0
      },
      "text/plain": [
       "HBox(children=(IntProgress(value=0, description='(200, 2, 0.15)', max=21), HTML(value='')))"
      ]
     },
     "metadata": {},
     "output_type": "display_data"
    },
    {
     "data": {
      "application/vnd.jupyter.widget-view+json": {
       "model_id": "e046e01b16eb4cc291ba44b3514ba1f3",
       "version_major": 2,
       "version_minor": 0
      },
      "text/plain": [
       "HBox(children=(IntProgress(value=0, description='(200, 4, 0.1)', max=21), HTML(value='')))"
      ]
     },
     "metadata": {},
     "output_type": "display_data"
    },
    {
     "data": {
      "application/vnd.jupyter.widget-view+json": {
       "model_id": "2f3f411f9c42481c9b06b264e1a6abfa",
       "version_major": 2,
       "version_minor": 0
      },
      "text/plain": [
       "HBox(children=(IntProgress(value=0, description='(200, 4, 0.15)', max=21), HTML(value='')))"
      ]
     },
     "metadata": {},
     "output_type": "display_data"
    },
    {
     "name": "stdout",
     "output_type": "stream",
     "text": [
      "\n",
      "(100, 2, 0.1)\tpWalk   \t1.00 (0.01)\t0.00 (-0.00)\n",
      "(100, 2, 0.1)\tWalk    \t0.03 (0.97)\t0.33 (0.97)\n",
      "(100, 2, 0.1)\tFor     \t0.00 (0.00)\t0.63 (-0.00)\n",
      "(100, 2, 0.1)\tlogFor  \t0.27 (0.97)\t0.20 (0.97)\n",
      "(100, 2, 0.1)\tComm    \t0.33 (0.74)\t0.40 (0.44)\n",
      "(100, 2, 0.1)\tlogComm \t0.10 (0.97)\t0.23 (0.97)\n",
      "(100, 2, 0.1)\tHeat    \t0.50 (0.94)\t0.70 (0.92)\n",
      "(100, 2, 0.1)\tlogHeat \t0.03 (0.97)\t0.17 (0.96)\n",
      "(100, 2, 0.1)\tNHeat   \t0.93 (0.93)\t0.97 (0.05)\n",
      "(100, 2, 0.1)\tlogNHeat\t0.07 (0.97)\t0.43 (0.97)\n",
      "(100, 2, 0.1)\tSCT     \t0.90 (0.92)\t0.87 (0.83)\n",
      "(100, 2, 0.1)\tSCCT    \t0.70 (0.96)\t0.67 (0.96)\n",
      "(100, 2, 0.1)\tRSP     \t0.83 (0.77)\t0.87 (0.70)\n",
      "(100, 2, 0.1)\tFE      \t0.60 (0.57)\t0.70 (0.50)\n",
      "(100, 2, 0.1)\tPPR     \t0.00 (0.00)\t0.17 (-0.00)\n",
      "(100, 2, 0.1)\tlogPPR  \t0.03 (0.97)\t0.13 (0.97)\n",
      "(100, 2, 0.1)\tModifPPR\t0.00 (0.00)\t0.10 (-0.00)\n",
      "(100, 2, 0.1)\tlogModifPPR\t0.07 (0.97)\t0.20 (0.97)\n",
      "(100, 2, 0.1)\tHeatPPR \t0.90 (0.59)\t0.97 (0.00)\n",
      "(100, 2, 0.1)\tlogHeatPPR\t0.03 (0.97)\t0.20 (0.97)\n",
      "(100, 2, 0.1)\tSP-CT   \t1.00 (0.16)\t0.97 (0.14)\n",
      "(100, 2, 0.15)\tpWalk   \t0.00 (0.00)\t1.00 (-0.00)\n",
      "(100, 2, 0.15)\tWalk    \t0.30 (0.72)\t0.40 (0.71)\n",
      "(100, 2, 0.15)\tFor     \t0.00 (0.00)\t0.53 (-0.00)\n",
      "(100, 2, 0.15)\tlogFor  \t0.03 (0.71)\t0.13 (0.68)\n",
      "(100, 2, 0.15)\tComm    \t0.37 (0.18)\t0.40 (0.05)\n",
      "(100, 2, 0.15)\tlogComm \t0.67 (0.75)\t0.80 (0.75)\n",
      "(100, 2, 0.15)\tHeat    \t0.63 (0.43)\t0.67 (0.42)\n",
      "(100, 2, 0.15)\tlogHeat \t0.17 (0.75)\t0.07 (0.74)\n",
      "(100, 2, 0.15)\tNHeat   \t0.93 (0.36)\t0.03 (-0.00)\n",
      "(100, 2, 0.15)\tlogNHeat\t0.33 (0.76)\t0.97 (0.75)\n",
      "(100, 2, 0.15)\tSCT     \t0.93 (0.19)\t0.87 (0.08)\n",
      "(100, 2, 0.15)\tSCCT    \t0.90 (0.73)\t0.87 (0.70)\n",
      "(100, 2, 0.15)\tRSP     \t0.83 (0.07)\t0.77 (0.06)\n",
      "(100, 2, 0.15)\tFE      \t0.47 (0.02)\t0.33 (0.02)\n",
      "(100, 2, 0.15)\tPPR     \t0.00 (0.00)\t0.47 (-0.00)\n",
      "(100, 2, 0.15)\tlogPPR  \t0.23 (0.73)\t0.03 (0.71)\n",
      "(100, 2, 0.15)\tModifPPR\t1.00 (0.00)\t0.20 (-0.00)\n",
      "(100, 2, 0.15)\tlogModifPPR\t0.33 (0.74)\t0.37 (0.73)\n",
      "(100, 2, 0.15)\tHeatPPR \t0.93 (0.05)\t0.97 (0.00)\n",
      "(100, 2, 0.15)\tlogHeatPPR\t0.77 (0.74)\t0.73 (0.74)\n",
      "(100, 2, 0.15)\tSP-CT   \t0.73 (0.02)\t0.97 (0.01)\n",
      "(100, 4, 0.1)\tpWalk   \t0.00 (0.00)\t0.03 (-0.00)\n",
      "(100, 4, 0.1)\tWalk    \t0.30 (0.36)\t0.40 (0.35)\n",
      "(100, 4, 0.1)\tFor     \t0.00 (-0.00)\t0.43 (-0.00)\n",
      "(100, 4, 0.1)\tlogFor  \t0.03 (0.36)\t0.13 (0.34)\n",
      "(100, 4, 0.1)\tComm    \t0.43 (0.16)\t0.37 (0.13)\n",
      "(100, 4, 0.1)\tlogComm \t0.30 (0.46)\t0.20 (0.46)\n",
      "(100, 4, 0.1)\tHeat    \t0.63 (0.24)\t0.67 (0.23)\n",
      "(100, 4, 0.1)\tlogHeat \t0.30 (0.46)\t0.33 (0.43)\n",
      "(100, 4, 0.1)\tNHeat   \t0.93 (0.24)\t0.87 (0.02)\n",
      "(100, 4, 0.1)\tlogNHeat\t0.97 (0.54)\t0.87 (0.47)\n",
      "(100, 4, 0.1)\tSCT     \t0.93 (0.23)\t0.87 (0.18)\n",
      "(100, 4, 0.1)\tSCCT    \t0.90 (0.38)\t0.83 (0.37)\n",
      "(100, 4, 0.1)\tRSP     \t0.87 (0.14)\t0.80 (0.14)\n",
      "(100, 4, 0.1)\tFE      \t0.23 (0.10)\t0.33 (0.10)\n",
      "(100, 4, 0.1)\tPPR     \t1.00 (0.00)\t0.13 (-0.00)\n",
      "(100, 4, 0.1)\tlogPPR  \t0.17 (0.35)\t0.37 (0.35)\n",
      "(100, 4, 0.1)\tModifPPR\t0.00 (0.00)\t0.30 (-0.00)\n",
      "(100, 4, 0.1)\tlogModifPPR\t0.27 (0.37)\t0.33 (0.35)\n",
      "(100, 4, 0.1)\tHeatPPR \t0.90 (0.11)\t0.17 (0.00)\n",
      "(100, 4, 0.1)\tlogHeatPPR\t1.00 (0.41)\t0.83 (0.40)\n",
      "(100, 4, 0.1)\tSP-CT   \t0.77 (0.09)\t0.97 (0.08)\n",
      "(100, 4, 0.15)\tpWalk   \t0.00 (0.00)\t0.57 (0.00)\n",
      "(100, 4, 0.15)\tWalk    \t0.07 (0.10)\t0.13 (0.10)\n",
      "(100, 4, 0.15)\tFor     \t0.13 (0.00)\t0.30 (-0.00)\n",
      "(100, 4, 0.15)\tlogFor  \t0.07 (0.10)\t0.13 (0.09)\n",
      "(100, 4, 0.15)\tComm    \t0.37 (0.05)\t0.33 (0.04)\n",
      "(100, 4, 0.15)\tlogComm \t0.73 (0.15)\t0.70 (0.15)\n",
      "(100, 4, 0.15)\tHeat    \t0.47 (0.07)\t0.60 (0.07)\n",
      "(100, 4, 0.15)\tlogHeat \t0.17 (0.11)\t0.30 (0.11)\n",
      "(100, 4, 0.15)\tNHeat   \t0.93 (0.06)\t0.87 (0.00)\n",
      "(100, 4, 0.15)\tlogNHeat\t0.97 (0.17)\t0.30 (0.11)\n",
      "(100, 4, 0.15)\tSCT     \t0.97 (0.09)\t0.87 (0.06)\n",
      "(100, 4, 0.15)\tSCCT    \t0.93 (0.13)\t0.90 (0.12)\n",
      "(100, 4, 0.15)\tRSP     \t0.60 (0.06)\t0.57 (0.06)\n",
      "(100, 4, 0.15)\tFE      \t0.37 (0.05)\t0.57 (0.05)\n",
      "(100, 4, 0.15)\tPPR     \t1.00 (0.00)\t0.27 (-0.00)\n",
      "(100, 4, 0.15)\tlogPPR  \t0.20 (0.10)\t0.23 (0.10)\n",
      "(100, 4, 0.15)\tModifPPR\t0.23 (0.00)\t0.20 (0.00)\n",
      "(100, 4, 0.15)\tlogModifPPR\t0.33 (0.10)\t0.20 (0.09)\n",
      "(100, 4, 0.15)\tHeatPPR \t0.90 (0.03)\t0.07 (0.00)\n",
      "(100, 4, 0.15)\tlogHeatPPR\t0.57 (0.11)\t0.43 (0.11)\n",
      "(100, 4, 0.15)\tSP-CT   \t0.57 (0.05)\t0.60 (0.04)\n",
      "(200, 2, 0.1)\tpWalk   \t1.00 (0.00)\t0.20 (-0.00)\n",
      "(200, 2, 0.1)\tWalk    \t0.03 (1.00)\t0.03 (1.00)\n",
      "(200, 2, 0.1)\tFor     \t0.00 (-0.00)\t0.97 (-0.00)\n",
      "(200, 2, 0.1)\tlogFor  \t0.03 (1.00)\t0.03 (1.00)\n",
      "(200, 2, 0.1)\tComm    \t0.23 (0.98)\t0.17 (0.55)\n",
      "(200, 2, 0.1)\tlogComm \t0.03 (1.00)\t0.03 (1.00)\n",
      "(200, 2, 0.1)\tHeat    \t0.43 (1.00)\t0.43 (1.00)\n",
      "(200, 2, 0.1)\tlogHeat \t0.03 (1.00)\t0.03 (1.00)\n",
      "(200, 2, 0.1)\tNHeat   \t0.93 (1.00)\t0.00 (0.00)\n",
      "(200, 2, 0.1)\tlogNHeat\t0.03 (1.00)\t0.03 (1.00)\n",
      "(200, 2, 0.1)\tSCT     \t0.93 (1.00)\t0.87 (0.99)\n",
      "(200, 2, 0.1)\tSCCT    \t0.03 (1.00)\t0.03 (1.00)\n",
      "(200, 2, 0.1)\tRSP     \t0.67 (1.00)\t0.67 (1.00)\n",
      "(200, 2, 0.1)\tFE      \t0.20 (0.97)\t0.40 (0.95)\n",
      "(200, 2, 0.1)\tPPR     \t1.00 (0.00)\t0.03 (-0.00)\n",
      "(200, 2, 0.1)\tlogPPR  \t0.03 (1.00)\t0.03 (1.00)\n",
      "(200, 2, 0.1)\tModifPPR\t1.00 (0.00)\t0.17 (-0.00)\n",
      "(200, 2, 0.1)\tlogModifPPR\t0.03 (1.00)\t0.03 (1.00)\n",
      "(200, 2, 0.1)\tHeatPPR \t0.90 (0.88)\t0.97 (0.01)\n",
      "(200, 2, 0.1)\tlogHeatPPR\t0.03 (1.00)\t0.03 (1.00)\n",
      "(200, 2, 0.1)\tSP-CT   \t0.90 (0.90)\t0.57 (0.86)\n",
      "(200, 2, 0.15)\tpWalk   \t0.00 (0.00)\t0.10 (-0.00)\n",
      "(200, 2, 0.15)\tWalk    \t0.47 (0.98)\t0.27 (0.98)\n",
      "(200, 2, 0.15)\tFor     \t0.67 (-0.00)\t0.87 (-0.00)\n",
      "(200, 2, 0.15)\tlogFor  \t0.03 (0.97)\t0.13 (0.97)\n",
      "(200, 2, 0.15)\tComm    \t0.23 (0.52)\t0.17 (0.04)\n",
      "(200, 2, 0.15)\tlogComm \t0.10 (0.97)\t0.17 (0.97)\n",
      "(200, 2, 0.15)\tHeat    \t0.33 (0.94)\t0.30 (0.92)\n",
      "(200, 2, 0.15)\tlogHeat \t0.07 (0.97)\t0.13 (0.97)\n",
      "(200, 2, 0.15)\tNHeat   \t0.93 (0.83)\t0.00 (-0.00)\n",
      "(200, 2, 0.15)\tlogNHeat\t0.10 (0.98)\t0.17 (0.98)\n",
      "(200, 2, 0.15)\tSCT     \t0.97 (0.93)\t0.87 (0.59)\n",
      "(200, 2, 0.15)\tSCCT    \t0.80 (0.97)\t0.87 (0.97)\n",
      "(200, 2, 0.15)\tRSP     \t0.67 (0.77)\t0.80 (0.70)\n",
      "(200, 2, 0.15)\tFE      \t0.47 (0.48)\t0.27 (0.43)\n",
      "(200, 2, 0.15)\tPPR     \t0.00 (0.00)\t0.47 (-0.00)\n",
      "(200, 2, 0.15)\tlogPPR  \t0.07 (0.98)\t0.30 (0.98)\n",
      "(200, 2, 0.15)\tModifPPR\t1.00 (0.00)\t0.20 (-0.00)\n",
      "(200, 2, 0.15)\tlogModifPPR\t0.27 (0.98)\t0.20 (0.98)\n",
      "(200, 2, 0.15)\tHeatPPR \t0.90 (0.07)\t0.03 (-0.00)\n",
      "(200, 2, 0.15)\tlogHeatPPR\t0.07 (0.98)\t0.33 (0.98)\n",
      "(200, 2, 0.15)\tSP-CT   \t0.97 (0.42)\t0.77 (0.40)\n",
      "(200, 4, 0.1)\tpWalk   \t0.03 (0.00)\t1.00 (-0.00)\n",
      "(200, 4, 0.1)\tWalk    \t0.07 (0.95)\t0.10 (0.95)\n",
      "(200, 4, 0.1)\tFor     \t0.00 (-0.00)\t0.77 (-0.00)\n",
      "(200, 4, 0.1)\tlogFor  \t0.03 (0.94)\t0.13 (0.92)\n",
      "(200, 4, 0.1)\tComm    \t0.27 (0.32)\t0.33 (0.20)\n",
      "(200, 4, 0.1)\tlogComm \t0.10 (0.95)\t0.07 (0.95)\n",
      "(200, 4, 0.1)\tHeat    \t0.47 (0.65)\t0.57 (0.60)\n",
      "(200, 4, 0.1)\tlogHeat \t0.07 (0.95)\t0.13 (0.94)\n",
      "(200, 4, 0.1)\tNHeat   \t0.93 (0.58)\t0.03 (-0.00)\n",
      "(200, 4, 0.1)\tlogNHeat\t0.67 (0.95)\t0.60 (0.95)\n",
      "(200, 4, 0.1)\tSCT     \t0.97 (0.70)\t0.87 (0.53)\n",
      "(200, 4, 0.1)\tSCCT    \t0.97 (0.86)\t0.83 (0.82)\n",
      "(200, 4, 0.1)\tRSP     \t0.80 (0.54)\t0.70 (0.53)\n",
      "(200, 4, 0.1)\tFE      \t0.43 (0.33)\t0.50 (0.31)\n",
      "(200, 4, 0.1)\tPPR     \t0.00 (0.00)\t0.13 (-0.00)\n",
      "(200, 4, 0.1)\tlogPPR  \t0.10 (0.95)\t0.23 (0.95)\n",
      "(200, 4, 0.1)\tModifPPR\t0.00 (0.00)\t0.07 (-0.00)\n",
      "(200, 4, 0.1)\tlogModifPPR\t0.03 (0.95)\t0.27 (0.95)\n",
      "(200, 4, 0.1)\tHeatPPR \t0.93 (0.19)\t0.00 (0.00)\n",
      "(200, 4, 0.1)\tlogHeatPPR\t0.37 (0.95)\t0.13 (0.95)\n",
      "(200, 4, 0.1)\tSP-CT   \t0.93 (0.15)\t0.90 (0.14)\n",
      "(200, 4, 0.15)\tpWalk   \t0.07 (0.00)\t0.53 (-0.00)\n",
      "(200, 4, 0.15)\tWalk    \t0.17 (0.18)\t0.10 (0.18)\n",
      "(200, 4, 0.15)\tFor     \t0.00 (-0.00)\t0.17 (-0.00)\n",
      "(200, 4, 0.15)\tlogFor  \t0.03 (0.16)\t0.13 (0.10)\n",
      "(200, 4, 0.15)\tComm    \t0.23 (0.05)\t0.33 (0.01)\n",
      "(200, 4, 0.15)\tlogComm \t0.67 (0.38)\t0.53 (0.36)\n",
      "(200, 4, 0.15)\tHeat    \t0.47 (0.15)\t0.50 (0.12)\n",
      "(200, 4, 0.15)\tlogHeat \t0.10 (0.21)\t0.07 (0.20)\n",
      "(200, 4, 0.15)\tNHeat   \t0.93 (0.06)\t0.00 (0.00)\n",
      "(200, 4, 0.15)\tlogNHeat\t0.97 (0.53)\t0.63 (0.22)\n",
      "(200, 4, 0.15)\tSCT     \t0.97 (0.12)\t0.87 (0.07)\n",
      "(200, 4, 0.15)\tSCCT    \t0.90 (0.34)\t0.93 (0.31)\n",
      "(200, 4, 0.15)\tRSP     \t0.77 (0.08)\t0.73 (0.07)\n",
      "(200, 4, 0.15)\tFE      \t0.17 (0.06)\t0.33 (0.05)\n",
      "(200, 4, 0.15)\tPPR     \t0.03 (0.00)\t0.00 (-0.00)\n",
      "(200, 4, 0.15)\tlogPPR  \t0.23 (0.19)\t0.10 (0.18)\n",
      "(200, 4, 0.15)\tModifPPR\t1.00 (0.00)\t0.10 (-0.00)\n",
      "(200, 4, 0.15)\tlogModifPPR\t0.03 (0.19)\t0.40 (0.18)\n",
      "(200, 4, 0.15)\tHeatPPR \t0.93 (0.02)\t0.10 (0.00)\n",
      "(200, 4, 0.15)\tlogHeatPPR\t0.60 (0.22)\t0.73 (0.21)\n",
      "(200, 4, 0.15)\tSP-CT   \t0.57 (0.06)\t0.80 (0.06)\n"
     ]
    }
   ],
   "source": [
    "# KKMeans - results/3_best_params_3_100_ward_2.pkl\n",
    "@load_or_calc_and_save('results/3_best_params_3_100_ward_2.pkl')\n",
    "def calc():\n",
    "    # calc data to find best params\n",
    "    results = defaultdict(lambda: defaultdict(lambda: 0))\n",
    "    for column in tqdm(list(product([100, 200], [2, 4], [0.1, 0.15]))):\n",
    "        n_nodes, n_classes, p_out = column\n",
    "        graphs, info = StochasticBlockModel(n_nodes, n_classes, p_in=0.3, p_out=p_out).generate_graphs(100)\n",
    "        classic_plot = ParallelByGraphs(adjusted_rand_score, np.linspace(0, 1, 31), progressbar=False)\n",
    "        for measure_class in tqdm(kernels, desc=str(column)):\n",
    "            results[column][measure_class.name] = classic_plot.perform(KKMeans, measure_class, graphs, n_classes, n_jobs=12)\n",
    "            \n",
    "    # find best params\n",
    "    best_params = defaultdict(lambda: defaultdict(lambda: 0))\n",
    "    percentile_params = defaultdict(lambda: defaultdict(lambda: 0))\n",
    "    for column, measures in results.items():\n",
    "        for measure_name, measure_results in measures.items():\n",
    "            x, y, error = measure_results\n",
    "            best_idx = np.argmax(y)\n",
    "            percentile_idx = list(y).index(np.percentile(y, 90, interpolation='lower'))\n",
    "\n",
    "            print('{}\\t{}\\t{:0.2f} ({:0.2f})\\t{:0.2f} ({:0.2f})'.format(\n",
    "                column, measure_name.ljust(8, ' '), x[best_idx], y[best_idx], x[percentile_idx], y[percentile_idx]))\n",
    "            best_params[column][measure_name] = x[best_idx]\n",
    "            percentile_params[column][measure_name] = x[percentile_idx]\n",
    "    return (ddict2dict(best_params), ddict2dict(percentile_params))\n",
    "\n",
    "best_params, percentile_params = calc()"
   ]
  },
  {
   "cell_type": "code",
   "execution_count": 70,
   "metadata": {},
   "outputs": [
    {
     "name": "stdout",
     "output_type": "stream",
     "text": [
      "(100, 2, 0.1)\t(100, 2, 0.15)\t(100, 4, 0.1)\t(100, 4, 0.15)\t(200, 2, 0.1)\t(200, 2, 0.15)\t(200, 4, 0.1)\t(200, 4, 0.15)\t\n",
      "pWalk\t1.00\t0.00\t0.00\t0.00\t1.00\t0.00\t0.03\t0.07\t\n",
      "Walk\t0.03\t0.30\t0.30\t0.07\t0.03\t0.47\t0.07\t0.17\t\n",
      "For\t0.00\t0.00\t0.00\t0.13\t0.00\t0.67\t0.00\t0.00\t\n",
      "logFor\t0.27\t0.03\t0.03\t0.07\t0.03\t0.03\t0.03\t0.03\t\n",
      "Comm\t0.33\t0.37\t0.43\t0.37\t0.23\t0.23\t0.27\t0.23\t\n",
      "logComm\t0.10\t0.67\t0.30\t0.73\t0.03\t0.10\t0.10\t0.67\t\n",
      "Heat\t0.50\t0.63\t0.63\t0.47\t0.43\t0.33\t0.47\t0.47\t\n",
      "logHeat\t0.03\t0.17\t0.30\t0.17\t0.03\t0.07\t0.07\t0.10\t\n",
      "NHeat\t0.93\t0.93\t0.93\t0.93\t0.93\t0.93\t0.93\t0.93\t\n",
      "logNHeat\t0.07\t0.33\t0.97\t0.97\t0.03\t0.10\t0.67\t0.97\t\n",
      "SCT\t0.90\t0.93\t0.93\t0.97\t0.93\t0.97\t0.97\t0.97\t\n",
      "SCCT\t0.70\t0.90\t0.90\t0.93\t0.03\t0.80\t0.97\t0.90\t\n",
      "RSP\t0.83\t0.83\t0.87\t0.60\t0.67\t0.67\t0.80\t0.77\t\n",
      "FE\t0.60\t0.47\t0.23\t0.37\t0.20\t0.47\t0.43\t0.17\t\n",
      "PPR\t0.00\t0.00\t1.00\t1.00\t1.00\t0.00\t0.00\t0.03\t\n",
      "logPPR\t0.03\t0.23\t0.17\t0.20\t0.03\t0.07\t0.10\t0.23\t\n",
      "ModifPPR\t0.00\t1.00\t0.00\t0.23\t1.00\t1.00\t0.00\t1.00\t\n",
      "logModifPPR\t0.07\t0.33\t0.27\t0.33\t0.03\t0.27\t0.03\t0.03\t\n",
      "HeatPPR\t0.90\t0.93\t0.90\t0.90\t0.90\t0.90\t0.93\t0.93\t\n",
      "logHeatPPR\t0.03\t0.77\t1.00\t0.57\t0.03\t0.07\t0.37\t0.60\t\n",
      "SP-CT\t1.00\t0.73\t0.77\t0.57\t0.90\t0.97\t0.93\t0.57\t\n"
     ]
    }
   ],
   "source": [
    "for setup in best_params.keys():\n",
    "    print(setup, end='\\t')\n",
    "print()\n",
    "for kernel in kernels:\n",
    "    print(kernel.name, end='\\t')\n",
    "    for setup in best_params.keys():\n",
    "        print(f\"{best_params[setup][kernel.name]:.2f}\", end='\\t')\n",
    "    print()"
   ]
  },
  {
   "cell_type": "markdown",
   "metadata": {},
   "source": [
    "### calc competition for given params"
   ]
  },
  {
   "cell_type": "code",
   "execution_count": 49,
   "metadata": {
    "scrolled": false
   },
   "outputs": [],
   "source": [
    "def calc_competitions(best_params):\n",
    "    results = defaultdict(lambda: defaultdict(lambda: 0))\n",
    "    for column in tqdm(list(product([100, 200], [2, 4], [0.1, 0.15]))):\n",
    "        n_nodes, n_classes, p_out = column\n",
    "        graphs, info = StochasticBlockModel(n_nodes, n_classes, p_in=0.3, p_out=p_out).generate_graphs(600)\n",
    "        success = 0\n",
    "        for edges, nodes in tqdm(graphs, desc=str(column)):\n",
    "            try:\n",
    "                single_competition_best = {}\n",
    "                for kernel_class in kernels:\n",
    "                    best_param = best_params[column][kernel_class.name]\n",
    "                    kernel = kernel_class(edges)\n",
    "                    param = kernel.scaler.scale(best_param)\n",
    "                    K = kernel.get_K(param)\n",
    "                    y_pred = KKMeans(n_classes).fit_predict(K)\n",
    "                    ari = adjusted_rand_score(nodes, y_pred)\n",
    "                    single_competition_best[kernel_class.name] = ari\n",
    "                single_competition_score = copeland(single_competition_best.items())\n",
    "                for measure_name, delta in single_competition_score.items():\n",
    "                    results[column][measure_name] += delta\n",
    "                    results['sum'][measure_name] += delta\n",
    "                success += 1\n",
    "            except Exception or FloatingPointError as e:\n",
    "                print(e)\n",
    "            if success == 200:\n",
    "                break\n",
    "    return results\n",
    "\n",
    "def print_results(results):\n",
    "    mr_transposed = {}\n",
    "    for column_name, column_results in results.items():\n",
    "        mr_transposed[str(column_name)] = stats.rankdata([-column_results[x.name] for x in kernels], 'min')\n",
    "\n",
    "    columns_right_order = [\n",
    "        '(100, 2, 0.1)',\n",
    "        '(100, 2, 0.15)',\n",
    "        '(100, 4, 0.1)',\n",
    "        '(100, 4, 0.15)',\n",
    "        '(200, 2, 0.1)',\n",
    "        '(200, 2, 0.15)',\n",
    "        '(200, 4, 0.1)',\n",
    "        '(200, 4, 0.15)',\n",
    "        'sum'\n",
    "    ]\n",
    "\n",
    "    print('\\t'.join(columns_right_order))\n",
    "    for idx, kernel in enumerate(kernels):\n",
    "        print(kernel.name, '\\t', '\\t'.join([str(mr_transposed[col_name][idx]) for col_name in columns_right_order]))"
   ]
  },
  {
   "cell_type": "markdown",
   "metadata": {},
   "source": [
    "#### best"
   ]
  },
  {
   "cell_type": "code",
   "execution_count": null,
   "metadata": {},
   "outputs": [],
   "source": [
    "results = calc_competitions(best_params)"
   ]
  },
  {
   "cell_type": "code",
   "execution_count": 47,
   "metadata": {},
   "outputs": [
    {
     "name": "stdout",
     "output_type": "stream",
     "text": [
      "(100, 2, 0.1) [('pWalk', -3067), ('Walk', 1460), ('For', -3180), ('logFor', 1392), ('Comm', 170), ('logComm', 1433), ('Heat', 628), ('logHeat', 1490), ('NHeat', 953), ('logNHeat', 1541), ('SCT', 1023), ('SCCT', 1165), ('RSP', 405), ('FE', -651), ('PPR', -2984), ('logPPR', 1539), ('ModifPPR', -3017), ('logModifPPR', 1454), ('HeatPPR', -976), ('logHeatPPR', 1484), ('SP-CT', -2262)]\n",
      "sum [('pWalk', -25526), ('Walk', 13011), ('For', -25821), ('logFor', 12646), ('Comm', -4896), ('logComm', 17847), ('Heat', 2255), ('logHeat', 15200), ('NHeat', 742), ('logNHeat', 19591), ('SCT', 4496), ('SCCT', 13577), ('RSP', -2535), ('FE', -8554), ('PPR', -25056), ('logPPR', 13015), ('ModifPPR', -23788), ('logModifPPR', 13181), ('HeatPPR', -12359), ('logHeatPPR', 14570), ('SP-CT', -11596)]\n",
      "(100, 2, 0.15) [('pWalk', -2853), ('Walk', 2068), ('For', -2649), ('logFor', 2140), ('Comm', -810), ('logComm', 2373), ('Heat', -181), ('logHeat', 2527), ('NHeat', -376), ('logNHeat', 2274), ('SCT', -911), ('SCCT', 2192), ('RSP', -1975), ('FE', -2055), ('PPR', -2771), ('logPPR', 2169), ('ModifPPR', -2064), ('logModifPPR', 2169), ('HeatPPR', -1521), ('logHeatPPR', 2374), ('SP-CT', -2120)]\n",
      "(100, 4, 0.1) [('pWalk', -3367), ('Walk', 1698), ('For', -3401), ('logFor', 1734), ('Comm', -940), ('logComm', 2706), ('Heat', 120), ('logHeat', 2674), ('NHeat', 362), ('logNHeat', 3521), ('SCT', 98), ('SCCT', 1952), ('RSP', -1154), ('FE', -1600), ('PPR', -3318), ('logPPR', 1526), ('ModifPPR', -3435), ('logModifPPR', 1814), ('HeatPPR', -1400), ('logHeatPPR', 2252), ('SP-CT', -1842)]\n",
      "(100, 4, 0.15) [('pWalk', -3092), ('Walk', 1176), ('For', -3263), ('logFor', 1212), ('Comm', -374), ('logComm', 2702), ('Heat', 202), ('logHeat', 1536), ('NHeat', 277), ('logNHeat', 3054), ('SCT', 655), ('SCCT', 2066), ('RSP', -192), ('FE', -736), ('PPR', -3120), ('logPPR', 1098), ('ModifPPR', -3214), ('logModifPPR', 997), ('HeatPPR', -1276), ('logHeatPPR', 1304), ('SP-CT', -1012)]\n",
      "(200, 2, 0.1) [('pWalk', -3504), ('Walk', 946), ('For', -3441), ('logFor', 929), ('Comm', 694), ('logComm', 929), ('Heat', 912), ('logHeat', 929), ('NHeat', 865), ('logNHeat', 946), ('SCT', 932), ('SCCT', 823), ('RSP', 906), ('FE', 438), ('PPR', -3143), ('logPPR', 929), ('ModifPPR', -3101), ('logModifPPR', 929), ('HeatPPR', -119), ('logHeatPPR', 930), ('SP-CT', 271)]\n",
      "(200, 2, 0.15) [('pWalk', -3026), ('Walk', 1771), ('For', -3173), ('logFor', 1801), ('Comm', -1062), ('logComm', 1774), ('Heat', 18), ('logHeat', 1836), ('NHeat', -195), ('logNHeat', 1898), ('SCT', 1405), ('SCCT', 1264), ('RSP', 611), ('FE', -1240), ('PPR', -3029), ('logPPR', 1906), ('ModifPPR', -2462), ('logModifPPR', 1914), ('HeatPPR', -2787), ('logHeatPPR', 1975), ('SP-CT', -1199)]\n",
      "(200, 4, 0.1) [('pWalk', -3364), ('Walk', 2408), ('For', -3396), ('logFor', 2308), ('Comm', -1400), ('logComm', 2518), ('Heat', -100), ('logHeat', 2390), ('NHeat', -294), ('logNHeat', 2403), ('SCT', 852), ('SCCT', 1057), ('RSP', -490), ('FE', -1458), ('PPR', -3348), ('logPPR', 2416), ('ModifPPR', -3332), ('logModifPPR', 2388), ('HeatPPR', -1891), ('logHeatPPR', 2487), ('SP-CT', -2154)]\n",
      "(200, 4, 0.15) [('pWalk', -3253), ('Walk', 1484), ('For', -3318), ('logFor', 1130), ('Comm', -1174), ('logComm', 3412), ('Heat', 656), ('logHeat', 1818), ('NHeat', -850), ('logNHeat', 3954), ('SCT', 442), ('SCCT', 3058), ('RSP', -646), ('FE', -1252), ('PPR', -3343), ('logPPR', 1432), ('ModifPPR', -3163), ('logModifPPR', 1516), ('HeatPPR', -2389), ('logHeatPPR', 1764), ('SP-CT', -1278)]\n"
     ]
    }
   ],
   "source": [
    "for column_name, column_results in results.items():\n",
    "    print(column_name, [(x.name, column_results[x.name]) for x in kernels])"
   ]
  },
  {
   "cell_type": "code",
   "execution_count": 50,
   "metadata": {},
   "outputs": [
    {
     "name": "stdout",
     "output_type": "stream",
     "text": [
      "(100, 2, 0.1)\t(100, 2, 0.15)\t(100, 4, 0.1)\t(100, 4, 0.15)\t(200, 2, 0.1)\t(200, 2, 0.15)\t(200, 4, 0.1)\t(200, 4, 0.15)\tsum\n",
      "pWalk \t 20\t21\t19\t18\t21\t19\t20\t19\t20\n",
      "Walk \t 5\t9\t8\t7\t1\t8\t4\t7\t8\n",
      "For \t 21\t19\t20\t21\t20\t21\t21\t20\t21\n",
      "logFor \t 8\t8\t7\t6\t5\t6\t8\t9\t9\n",
      "Comm \t 14\t12\t13\t14\t14\t14\t14\t14\t14\n",
      "logComm \t 7\t3\t2\t2\t5\t7\t1\t2\t2\n",
      "Heat \t 12\t10\t11\t12\t10\t12\t11\t10\t11\n",
      "logHeat \t 3\t1\t3\t4\t5\t5\t6\t4\t3\n",
      "NHeat \t 11\t11\t10\t11\t12\t13\t12\t13\t12\n",
      "logNHeat \t 1\t4\t1\t1\t1\t4\t5\t1\t1\n",
      "SCT \t 10\t13\t12\t10\t3\t9\t10\t11\t10\n",
      "SCCT \t 9\t5\t5\t3\t13\t10\t9\t3\t5\n",
      "RSP \t 13\t15\t14\t13\t11\t11\t13\t12\t13\n",
      "FE \t 15\t16\t16\t15\t15\t16\t15\t15\t15\n",
      "PPR \t 18\t20\t18\t19\t19\t20\t19\t21\t19\n",
      "logPPR \t 2\t6\t9\t8\t5\t3\t3\t8\t7\n",
      "ModifPPR \t 19\t17\t21\t20\t18\t17\t18\t18\t18\n",
      "logModifPPR \t 6\t6\t6\t9\t5\t2\t7\t6\t6\n",
      "HeatPPR \t 16\t14\t15\t17\t17\t18\t16\t17\t17\n",
      "logHeatPPR \t 4\t2\t4\t5\t4\t1\t2\t5\t4\n",
      "SP-CT \t 17\t18\t17\t16\t16\t15\t17\t16\t16\n"
     ]
    }
   ],
   "source": [
    "print_results(results)"
   ]
  },
  {
   "cell_type": "markdown",
   "metadata": {},
   "source": [
    "#### percentile"
   ]
  },
  {
   "cell_type": "code",
   "execution_count": 51,
   "metadata": {},
   "outputs": [
    {
     "data": {
      "application/vnd.jupyter.widget-view+json": {
       "model_id": "d96b00c01b3f460295f2046c6e8ae2c2",
       "version_major": 2,
       "version_minor": 0
      },
      "text/plain": [
       "HBox(children=(IntProgress(value=0, max=8), HTML(value='')))"
      ]
     },
     "metadata": {},
     "output_type": "display_data"
    },
    {
     "data": {
      "application/vnd.jupyter.widget-view+json": {
       "model_id": "ee24faaf1f09444e85e04586ee5cb5b6",
       "version_major": 2,
       "version_minor": 0
      },
      "text/plain": [
       "HBox(children=(IntProgress(value=0, description='(100, 2, 0.1)', max=600), HTML(value='')))"
      ]
     },
     "metadata": {},
     "output_type": "display_data"
    },
    {
     "name": "stderr",
     "output_type": "stream",
     "text": [
      "Exception in thread Thread-11:\n",
      "Traceback (most recent call last):\n",
      "  File \"/usr/lib/python3.6/threading.py\", line 916, in _bootstrap_inner\n",
      "    self.run()\n",
      "  File \"/usr/local/lib/python3.6/dist-packages/tqdm/_monitor.py\", line 62, in run\n",
      "    for instance in self.tqdm_cls._instances:\n",
      "  File \"/usr/lib/python3.6/_weakrefset.py\", line 60, in __iter__\n",
      "    for itemref in self.data:\n",
      "RuntimeError: Set changed size during iteration\n",
      "\n"
     ]
    },
    {
     "data": {
      "application/vnd.jupyter.widget-view+json": {
       "model_id": "7db16b87899d4a2d92c0469af6e4b590",
       "version_major": 2,
       "version_minor": 0
      },
      "text/plain": [
       "HBox(children=(IntProgress(value=0, description='(100, 2, 0.15)', max=600), HTML(value='')))"
      ]
     },
     "metadata": {},
     "output_type": "display_data"
    },
    {
     "data": {
      "application/vnd.jupyter.widget-view+json": {
       "model_id": "ccf927f30dd94f8a8b8776c00a1985f8",
       "version_major": 2,
       "version_minor": 0
      },
      "text/plain": [
       "HBox(children=(IntProgress(value=0, description='(100, 4, 0.1)', max=600), HTML(value='')))"
      ]
     },
     "metadata": {},
     "output_type": "display_data"
    },
    {
     "data": {
      "application/vnd.jupyter.widget-view+json": {
       "model_id": "c80632b39522482c90da18e8d443ab09",
       "version_major": 2,
       "version_minor": 0
      },
      "text/plain": [
       "HBox(children=(IntProgress(value=0, description='(100, 4, 0.15)', max=600), HTML(value='')))"
      ]
     },
     "metadata": {},
     "output_type": "display_data"
    },
    {
     "data": {
      "application/vnd.jupyter.widget-view+json": {
       "model_id": "f7430a71640a46fba79aa5253626e330",
       "version_major": 2,
       "version_minor": 0
      },
      "text/plain": [
       "HBox(children=(IntProgress(value=0, description='(200, 2, 0.1)', max=600), HTML(value='')))"
      ]
     },
     "metadata": {},
     "output_type": "display_data"
    },
    {
     "data": {
      "application/vnd.jupyter.widget-view+json": {
       "model_id": "cb5ea39f88e1416ea8d09896804cd065",
       "version_major": 2,
       "version_minor": 0
      },
      "text/plain": [
       "HBox(children=(IntProgress(value=0, description='(200, 2, 0.15)', max=600), HTML(value='')))"
      ]
     },
     "metadata": {},
     "output_type": "display_data"
    },
    {
     "data": {
      "application/vnd.jupyter.widget-view+json": {
       "model_id": "1384b032e0a840abb8fb9177e400c833",
       "version_major": 2,
       "version_minor": 0
      },
      "text/plain": [
       "HBox(children=(IntProgress(value=0, description='(200, 4, 0.1)', max=600), HTML(value='')))"
      ]
     },
     "metadata": {},
     "output_type": "display_data"
    },
    {
     "data": {
      "application/vnd.jupyter.widget-view+json": {
       "model_id": "7c75f53555f74c03b0a9fc4b76e05bd7",
       "version_major": 2,
       "version_minor": 0
      },
      "text/plain": [
       "HBox(children=(IntProgress(value=0, description='(200, 4, 0.15)', max=600), HTML(value='')))"
      ]
     },
     "metadata": {},
     "output_type": "display_data"
    },
    {
     "name": "stdout",
     "output_type": "stream",
     "text": [
      "\n"
     ]
    }
   ],
   "source": [
    "results = calc_competitions(percentile_params)"
   ]
  },
  {
   "cell_type": "code",
   "execution_count": 52,
   "metadata": {},
   "outputs": [
    {
     "name": "stdout",
     "output_type": "stream",
     "text": [
      "(100, 2, 0.1) [('pWalk', -2738), ('Walk', 1869), ('For', -2989), ('logFor', 1803), ('Comm', -800), ('logComm', 1737), ('Heat', 1000), ('logHeat', 1839), ('NHeat', -2016), ('logNHeat', 1968), ('SCT', 837), ('SCCT', 1515), ('RSP', 772), ('FE', -941), ('PPR', -3026), ('logPPR', 1982), ('ModifPPR', -2886), ('logModifPPR', 1912), ('HeatPPR', -2014), ('logHeatPPR', 1865), ('SP-CT', -1689)]\n",
      "sum [('pWalk', -22595), ('Walk', 15349), ('For', -23630), ('logFor', 12131), ('Comm', -9759), ('logComm', 19443), ('Heat', 5183), ('logHeat', 17352), ('NHeat', -20380), ('logNHeat', 17790), ('SCT', 1083), ('SCCT', 15972), ('RSP', 1643), ('FE', -4699), ('PPR', -23014), ('logPPR', 15182), ('ModifPPR', -22399), ('logModifPPR', 15204), ('HeatPPR', -19896), ('logHeatPPR', 17106), ('SP-CT', -7066)]\n",
      "(100, 2, 0.15) [('pWalk', -2409), ('Walk', 2157), ('For', -2644), ('logFor', 1796), ('Comm', -1281), ('logComm', 2501), ('Heat', 297), ('logHeat', 2623), ('NHeat', -2460), ('logNHeat', 2618), ('SCT', -1418), ('SCCT', 2232), ('RSP', -1189), ('FE', -1514), ('PPR', -2504), ('logPPR', 2134), ('ModifPPR', -2444), ('logModifPPR', 2159), ('HeatPPR', -1452), ('logHeatPPR', 2643), ('SP-CT', -1845)]\n",
      "(100, 4, 0.1) [('pWalk', -3036), ('Walk', 1778), ('For', -3185), ('logFor', 1762), ('Comm', -664), ('logComm', 2706), ('Heat', 496), ('logHeat', 3006), ('NHeat', -2174), ('logNHeat', 3048), ('SCT', -30), ('SCCT', 2218), ('RSP', -432), ('FE', -982), ('PPR', -3131), ('logPPR', 1778), ('ModifPPR', -3095), ('logModifPPR', 1780), ('HeatPPR', -3129), ('logHeatPPR', 2394), ('SP-CT', -1108)]\n",
      "(100, 4, 0.15) [('pWalk', -2855), ('Walk', 1737), ('For', -2894), ('logFor', 1272), ('Comm', -592), ('logComm', 3003), ('Heat', 414), ('logHeat', 1850), ('NHeat', -2689), ('logNHeat', 1645), ('SCT', 561), ('SCCT', 2402), ('RSP', 100), ('FE', -287), ('PPR', -2736), ('logPPR', 1529), ('ModifPPR', -2787), ('logModifPPR', 1551), ('HeatPPR', -2678), ('logHeatPPR', 1794), ('SP-CT', -340)]\n",
      "(200, 2, 0.1) [('pWalk', -2993), ('Walk', 1394), ('For', -3123), ('logFor', 1394), ('Comm', -1117), ('logComm', 1394), ('Heat', 1355), ('logHeat', 1408), ('NHeat', -2811), ('logNHeat', 1381), ('SCT', 1341), ('SCCT', 1341), ('RSP', 1380), ('FE', 1069), ('PPR', -3019), ('logPPR', 1381), ('ModifPPR', -2914), ('logModifPPR', 1394), ('HeatPPR', -2152), ('logHeatPPR', 1381), ('SP-CT', 516)]\n",
      "(200, 2, 0.15) [('pWalk', -2515), ('Walk', 2097), ('For', -2583), ('logFor', 1800), ('Comm', -2301), ('logComm', 1794), ('Heat', 405), ('logHeat', 1900), ('NHeat', -2492), ('logNHeat', 2210), ('SCT', 87), ('SCCT', 1400), ('RSP', 988), ('FE', -424), ('PPR', -2698), ('logPPR', 2012), ('ModifPPR', -2609), ('logModifPPR', 2105), ('HeatPPR', -2640), ('logHeatPPR', 2070), ('SP-CT', -606)]\n",
      "(200, 4, 0.1) [('pWalk', -3026), ('Walk', 2443), ('For', -3166), ('logFor', 1726), ('Comm', -1108), ('logComm', 2692), ('Heat', 216), ('logHeat', 2476), ('NHeat', -2920), ('logNHeat', 2712), ('SCT', -23), ('SCCT', 1480), ('RSP', 94), ('FE', -892), ('PPR', -3054), ('logPPR', 2444), ('ModifPPR', -2884), ('logModifPPR', 2565), ('HeatPPR', -2950), ('logHeatPPR', 2649), ('SP-CT', -1474)]\n",
      "(200, 4, 0.15) [('pWalk', -3023), ('Walk', 1874), ('For', -3046), ('logFor', 578), ('Comm', -1896), ('logComm', 3616), ('Heat', 1000), ('logHeat', 2250), ('NHeat', -2818), ('logNHeat', 2208), ('SCT', -272), ('SCCT', 3384), ('RSP', -70), ('FE', -728), ('PPR', -2846), ('logPPR', 1922), ('ModifPPR', -2780), ('logModifPPR', 1738), ('HeatPPR', -2881), ('logHeatPPR', 2310), ('SP-CT', -520)]\n"
     ]
    }
   ],
   "source": [
    "for column_name, column_results in results.items():\n",
    "    print(column_name, [(x.name, column_results[x.name]) for x in kernels])"
   ]
  },
  {
   "cell_type": "code",
   "execution_count": 53,
   "metadata": {},
   "outputs": [
    {
     "name": "stdout",
     "output_type": "stream",
     "text": [
      "(100, 2, 0.1)\t(100, 2, 0.15)\t(100, 4, 0.1)\t(100, 4, 0.15)\t(200, 2, 0.1)\t(200, 2, 0.15)\t(200, 4, 0.1)\t(200, 4, 0.15)\tsum\n",
      "pWalk \t 18\t17\t17\t20\t19\t17\t19\t20\t19\n",
      "Walk \t 4\t7\t7\t5\t2\t3\t7\t7\t6\n",
      "For \t 20\t21\t21\t21\t21\t18\t21\t21\t21\n",
      "logFor \t 7\t9\t9\t9\t2\t7\t8\t10\t9\n",
      "Comm \t 13\t12\t13\t15\t15\t15\t14\t15\t15\n",
      "logComm \t 8\t4\t3\t1\t2\t8\t2\t1\t1\n",
      "Heat \t 10\t10\t10\t11\t10\t11\t10\t9\t10\n",
      "logHeat \t 6\t2\t2\t3\t1\t6\t5\t4\t3\n",
      "NHeat \t 17\t19\t16\t17\t17\t16\t17\t17\t17\n",
      "logNHeat \t 2\t3\t1\t6\t6\t1\t1\t5\t2\n",
      "SCT \t 11\t13\t11\t10\t11\t12\t12\t12\t12\n",
      "SCCT \t 9\t5\t5\t2\t11\t9\t9\t2\t5\n",
      "RSP \t 12\t11\t12\t12\t9\t10\t11\t11\t11\n",
      "FE \t 14\t15\t14\t13\t13\t13\t13\t14\t13\n",
      "PPR \t 21\t20\t20\t18\t20\t21\t20\t18\t20\n",
      "logPPR \t 1\t8\t7\t8\t6\t5\t6\t6\t8\n",
      "ModifPPR \t 19\t18\t18\t19\t18\t19\t16\t16\t18\n",
      "logModifPPR \t 3\t6\t6\t7\t2\t2\t4\t8\t7\n",
      "HeatPPR \t 16\t14\t19\t16\t16\t20\t18\t19\t16\n",
      "logHeatPPR \t 5\t1\t4\t4\t6\t4\t3\t3\t4\n",
      "SP-CT \t 15\t16\t15\t14\t14\t14\t15\t13\t14\n"
     ]
    }
   ],
   "source": [
    "print_results(results)"
   ]
  },
  {
   "cell_type": "code",
   "execution_count": null,
   "metadata": {},
   "outputs": [],
   "source": []
  }
 ],
 "metadata": {
  "kernelspec": {
   "display_name": "Python 3",
   "language": "python",
   "name": "python3"
  },
  "language_info": {
   "codemirror_mode": {
    "name": "ipython",
    "version": 3
   },
   "file_extension": ".py",
   "mimetype": "text/x-python",
   "name": "python",
   "nbconvert_exporter": "python",
   "pygments_lexer": "ipython3",
   "version": "3.6.8"
  }
 },
 "nbformat": 4,
 "nbformat_minor": 2
}
