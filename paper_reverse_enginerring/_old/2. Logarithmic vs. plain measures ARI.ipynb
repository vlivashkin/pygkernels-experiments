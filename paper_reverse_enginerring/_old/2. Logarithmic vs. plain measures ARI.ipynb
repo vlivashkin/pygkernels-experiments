{
 "cells": [
  {
   "cell_type": "markdown",
   "metadata": {},
   "source": [
    "# Do logarithmic proximity measures outperform plain ones in graph clustering?"
   ]
  },
  {
   "cell_type": "code",
   "execution_count": 1,
   "metadata": {},
   "outputs": [],
   "source": [
    "import os\n",
    "os.environ[\"OPENBLAS_NUM_THREADS\"] = \"1\"\n",
    "import warnings\n",
    "warnings.filterwarnings(\"ignore\")\n",
    "import sys\n",
    "sys.path.append('../..')"
   ]
  },
  {
   "cell_type": "code",
   "execution_count": 2,
   "metadata": {},
   "outputs": [],
   "source": [
    "from collections import defaultdict\n",
    "import numpy as np\n",
    "import matplotlib.pyplot as plt\n",
    "%matplotlib inline\n",
    "from tqdm import tqdm_notebook as tqdm\n",
    "from sklearn.metrics import adjusted_rand_score"
   ]
  },
  {
   "cell_type": "code",
   "execution_count": 3,
   "metadata": {},
   "outputs": [],
   "source": [
    "from pygraphs.graphs import StochasticBlockModel\n",
    "from pygraphs.measure import *\n",
    "from pygraphs.measure import kernels\n",
    "from pygraphs.cluster import KKMeans_iterative as KKMeans, KWard\n",
    "from pygraphs.scenario import ParallelByGraphs, plot_results\n",
    "from pygraphs.scorer import rand_index\n",
    "from pygraphs.util import load_or_calc_and_save"
   ]
  },
  {
   "cell_type": "markdown",
   "metadata": {},
   "source": [
    "## 2. Logarithmic vs. plain measures\n",
    "Let $G(N,(m)p_{in}, p_{out})$ be the model of generating random graphs on $N$ nodes divided into $m$ classes of the same size, with $p_{in}$ and pout being the probability of $(i, j) \\in E(G)$ for $i$ and $j$ belonging to the same class and different classes, respectively, where $E(G)$ is the edge set of $G$.\n",
    "\n",
    "The curves in Figures 1–3 present the adjusted Rand index (averaged over 200 random graphs) for clustering with Ward’s\n",
    "method."
   ]
  },
  {
   "cell_type": "code",
   "execution_count": 4,
   "metadata": {},
   "outputs": [],
   "source": [
    "def plot_log_results(results):\n",
    "    fig, ax = plt.subplots(2, 8, figsize=(15, 6))\n",
    "    for idx_i, clustring_method in enumerate(tqdm([KKMeans, KWard])):\n",
    "        ax[idx_i][0].set_ylabel(f'{clustring_method.name}, f1')\n",
    "        for idx_j, (name1, name2, xlim, ylim) in enumerate([\n",
    "            [(f'{clustring_method.name}_pWalk', 'pWalk'), (f'{clustring_method.name}_Walk', 'Walk'), (0, 1), (0, 1)],\n",
    "            [(f'{clustring_method.name}_For', 'For'), (f'{clustring_method.name}_logFor', 'logFor'), (0, 1), (0, 1)],\n",
    "            [(f'{clustring_method.name}_Comm', 'Comm'), (f'{clustring_method.name}_logComm', 'logComm'), (0, 0.83), (0, 1)],\n",
    "            [(f'{clustring_method.name}_Heat', 'Heat'), (f'{clustring_method.name}_logHeat', 'logHeat'), (0, 0.83), (0, 1)],\n",
    "            [(f'{clustring_method.name}_NHeat', 'NHeat'), (f'{clustring_method.name}_logNHeat', 'logNHeat'), (0, 0.83), (0, 1)],\n",
    "            [(f'{clustring_method.name}_PPR', 'PPR'), (f'{clustring_method.name}_logPPR', 'logPPR'), (0, 1), (0, 1)],\n",
    "            [(f'{clustring_method.name}_ModifPPR', 'ModifPPR'), (f'{clustring_method.name}_logModifPPR', 'logModifPPR'), (0, 1), (0, 1)],\n",
    "            [(f'{clustring_method.name}_HeatPPR', 'HeatPPR'), (f'{clustring_method.name}_logHeatPPR', 'logHeatPPR'), (0, 1), (0, 1)]\n",
    "        ]):\n",
    "            try:\n",
    "                toplot = [\n",
    "                    (name1[1], *results[name1[0]]),\n",
    "                    (name2[1], *results[name2[0]]),\n",
    "                ]\n",
    "                plot_results(ax[idx_i][idx_j], toplot, xlim, ylim)\n",
    "            except:\n",
    "                print('..')"
   ]
  },
  {
   "cell_type": "code",
   "execution_count": 5,
   "metadata": {},
   "outputs": [],
   "source": [
    "def plot_log_results4(results):\n",
    "    fig, ax = plt.subplots(2, 4, figsize=(7, 5), sharey=True)\n",
    "    plt.subplots_adjust(hspace=.3, wspace=.2)\n",
    "    for idx_j, (name1, name2, name3, name4, xlim, ylim) in enumerate([\n",
    "        [(f'KernelKMeans_pWalk', 'pWalk'), (f'KernelKMeans_Walk', 'Walk'),\n",
    "        (f'KernelWard_pWalk', 'pWalk'), (f'KernelWard_Walk', 'Walk'), (0, 1), (0, 1.05)],\n",
    "        [(f'KernelKMeans_For', 'For'), (f'KernelKMeans_logFor', 'logFor'),\n",
    "        (f'KernelWard_For', 'For'), (f'KernelWard_logFor', 'logFor'), (0, 1), (0, 1.05)],\n",
    "        [(f'KernelKMeans_Comm', 'Comm'), (f'KernelKMeans_logComm', 'logComm'),\n",
    "        (f'KernelWard_Comm', 'Comm'), (f'KernelWard_logComm', 'logComm'), (0, 0.6), (0, 1.05)],\n",
    "        [(f'KernelKMeans_Heat', 'Heat'), (f'KernelKMeans_logHeat', 'logHeat'),\n",
    "        (f'KernelWard_Heat', 'Heat'), (f'KernelWard_logHeat', 'logHeat'), (0, 0.83), (0, 1.05)],\n",
    "        [(f'KernelKMeans_NHeat', 'NHeat'), (f'KernelKMeans_logNHeat', 'logNHeat'),\n",
    "        (f'KernelWard_NHeat', 'NHeat'), (f'KernelWard_logNHeat', 'logNHeat'), (0, 1), (0, 1.05)],\n",
    "        [(f'KernelKMeans_PPR', 'PPR'), (f'KernelKMeans_logPPR', 'logPPR'),\n",
    "        (f'KernelWard_PPR', 'PPR'), (f'KernelWard_logPPR', 'logPPR'), (0, 1), (0, 1.05)],\n",
    "        [(f'KernelKMeans_ModifPPR', 'ModifPPR'), (f'KernelKMeans_logModifPPR', 'logModifPPR'),\n",
    "        (f'KernelWard_ModifPPR', 'ModifPPR'), (f'KernelWard_logModifPPR', 'logModifPPR'), (0, 1), (0, 1.05)],\n",
    "        [(f'KernelKMeans_HeatPPR', 'HeatPPR'), (f'KernelKMeans_logHeatPPR', 'logHeatPPR'),\n",
    "        (f'KernelWard_HeatPPR', 'HeatPPR'), (f'KernelWard_logHeatPPR', 'logHeatPPR'), (0, 1), (0, 1.05)]\n",
    "    ]):\n",
    "        try:\n",
    "            toplot = [\n",
    "                (\"KernelKMeans, plain\", *results[name1[0]]),\n",
    "                (\"KernelKMeans, log\", *results[name2[0]]),\n",
    "                (\"KernelWard, plain\", *results[name3[0]]),\n",
    "                (\"KernelWard, log\", *results[name4[0]]),\n",
    "            ]\n",
    "            \n",
    "            plot_results(ax[idx_j//4][idx_j%4], toplot, xlim, ylim, nolegend=True)\n",
    "            ax[idx_j//4][idx_j%4].set_title(name1[1])\n",
    "            if idx_j == 0 or idx_j == 4:\n",
    "                ax[idx_j//4][idx_j%4].set_ylabel(f'ARI')\n",
    "            if idx_j == 3:\n",
    "                ax[idx_j//4][idx_j%4].legend(bbox_to_anchor=(1,1), loc=\"upper left\")\n",
    "        except:\n",
    "            print('..')"
   ]
  },
  {
   "cell_type": "markdown",
   "metadata": {},
   "source": [
    "### **Fig. 1** Logarithmic vs. plain measures for G(100,(2)0.2,0.05)"
   ]
  },
  {
   "cell_type": "code",
   "execution_count": 6,
   "metadata": {
    "scrolled": false
   },
   "outputs": [
    {
     "data": {
      "application/vnd.jupyter.widget-view+json": {
       "model_id": "6d448f7707ab48bb814c22e26bc80e09",
       "version_major": 2,
       "version_minor": 0
      },
      "text/plain": [
       "HBox(children=(IntProgress(value=0, max=2), HTML(value='')))"
      ]
     },
     "metadata": {},
     "output_type": "display_data"
    },
    {
     "data": {
      "application/vnd.jupyter.widget-view+json": {
       "model_id": "633222296a0f47f989e8cd325d63c648",
       "version_major": 2,
       "version_minor": 0
      },
      "text/plain": [
       "HBox(children=(IntProgress(value=0, max=16), HTML(value='')))"
      ]
     },
     "metadata": {},
     "output_type": "display_data"
    },
    {
     "data": {
      "application/vnd.jupyter.widget-view+json": {
       "model_id": "b4690aadd3c146bfa2ecd99a7ce254a5",
       "version_major": 2,
       "version_minor": 0
      },
      "text/plain": [
       "HBox(children=(IntProgress(value=0, description='pWalk', max=200, style=ProgressStyle(description_width='initi…"
      ]
     },
     "metadata": {},
     "output_type": "display_data"
    },
    {
     "name": "stdout",
     "output_type": "stream",
     "text": [
      "\n"
     ]
    },
    {
     "data": {
      "application/vnd.jupyter.widget-view+json": {
       "model_id": "fa9bbf87e4cf49bd9b403168c66e0f07",
       "version_major": 2,
       "version_minor": 0
      },
      "text/plain": [
       "HBox(children=(IntProgress(value=0, description='Walk', max=200, style=ProgressStyle(description_width='initia…"
      ]
     },
     "metadata": {},
     "output_type": "display_data"
    },
    {
     "ename": "KeyboardInterrupt",
     "evalue": "",
     "output_type": "error",
     "traceback": [
      "\u001b[0;31m---------------------------------------------------------------------------\u001b[0m",
      "\u001b[0;31mKeyboardInterrupt\u001b[0m                         Traceback (most recent call last)",
      "\u001b[0;32m<ipython-input-6-f932d26020c9>\u001b[0m in \u001b[0;36m<module>\u001b[0;34m\u001b[0m\n\u001b[1;32m     10\u001b[0m     \u001b[0;32mreturn\u001b[0m \u001b[0mresults\u001b[0m\u001b[0;34m\u001b[0m\u001b[0;34m\u001b[0m\u001b[0m\n\u001b[1;32m     11\u001b[0m \u001b[0;34m\u001b[0m\u001b[0m\n\u001b[0;32m---> 12\u001b[0;31m \u001b[0mresults\u001b[0m \u001b[0;34m=\u001b[0m \u001b[0mcalc\u001b[0m\u001b[0;34m(\u001b[0m\u001b[0;34m)\u001b[0m\u001b[0;34m\u001b[0m\u001b[0;34m\u001b[0m\u001b[0m\n\u001b[0m",
      "\u001b[0;32m~/Documents/GitHub/pygraphs/pygraphs/util.py\u001b[0m in \u001b[0;36mwrapped\u001b[0;34m()\u001b[0m\n\u001b[1;32m     46\u001b[0m                     \u001b[0mresult\u001b[0m \u001b[0;34m=\u001b[0m \u001b[0mpickle\u001b[0m\u001b[0;34m.\u001b[0m\u001b[0mload\u001b[0m\u001b[0;34m(\u001b[0m\u001b[0mf\u001b[0m\u001b[0;34m)\u001b[0m\u001b[0;34m\u001b[0m\u001b[0;34m\u001b[0m\u001b[0m\n\u001b[1;32m     47\u001b[0m             \u001b[0;32melse\u001b[0m\u001b[0;34m:\u001b[0m\u001b[0;34m\u001b[0m\u001b[0;34m\u001b[0m\u001b[0m\n\u001b[0;32m---> 48\u001b[0;31m                 \u001b[0mresult\u001b[0m \u001b[0;34m=\u001b[0m \u001b[0mfunc\u001b[0m\u001b[0;34m(\u001b[0m\u001b[0;34m)\u001b[0m\u001b[0;34m\u001b[0m\u001b[0;34m\u001b[0m\u001b[0m\n\u001b[0m\u001b[1;32m     49\u001b[0m                 \u001b[0;32mwith\u001b[0m \u001b[0mopen\u001b[0m\u001b[0;34m(\u001b[0m\u001b[0mfilename\u001b[0m\u001b[0;34m,\u001b[0m \u001b[0;34m'wb'\u001b[0m\u001b[0;34m)\u001b[0m \u001b[0;32mas\u001b[0m \u001b[0mf\u001b[0m\u001b[0;34m:\u001b[0m\u001b[0;34m\u001b[0m\u001b[0;34m\u001b[0m\u001b[0m\n\u001b[1;32m     50\u001b[0m                     \u001b[0mpickle\u001b[0m\u001b[0;34m.\u001b[0m\u001b[0mdump\u001b[0m\u001b[0;34m(\u001b[0m\u001b[0mresult\u001b[0m\u001b[0;34m,\u001b[0m \u001b[0mf\u001b[0m\u001b[0;34m)\u001b[0m\u001b[0;34m\u001b[0m\u001b[0;34m\u001b[0m\u001b[0m\n",
      "\u001b[0;32m<ipython-input-6-f932d26020c9>\u001b[0m in \u001b[0;36mcalc\u001b[0;34m()\u001b[0m\n\u001b[1;32m      7\u001b[0m         \u001b[0;32mfor\u001b[0m \u001b[0mmeasure_class\u001b[0m \u001b[0;32min\u001b[0m \u001b[0mtqdm\u001b[0m\u001b[0;34m(\u001b[0m\u001b[0;34m[\u001b[0m\u001b[0mpWalk_H\u001b[0m\u001b[0;34m,\u001b[0m \u001b[0mWalk_H\u001b[0m\u001b[0;34m,\u001b[0m \u001b[0mFor_H\u001b[0m\u001b[0;34m,\u001b[0m \u001b[0mlogFor_H\u001b[0m\u001b[0;34m,\u001b[0m \u001b[0mComm_H\u001b[0m\u001b[0;34m,\u001b[0m \u001b[0mlogComm_H\u001b[0m\u001b[0;34m,\u001b[0m \u001b[0mHeat_H\u001b[0m\u001b[0;34m,\u001b[0m \u001b[0mlogHeat_H\u001b[0m\u001b[0;34m,\u001b[0m \u001b[0mNHeat_H\u001b[0m\u001b[0;34m,\u001b[0m \u001b[0mlogNHeat_H\u001b[0m\u001b[0;34m,\u001b[0m \u001b[0mPPR_H\u001b[0m\u001b[0;34m,\u001b[0m \u001b[0mlogPPR_H\u001b[0m\u001b[0;34m,\u001b[0m \u001b[0mModifPPR_H\u001b[0m\u001b[0;34m,\u001b[0m \u001b[0mlogModifPPR_H\u001b[0m\u001b[0;34m,\u001b[0m \u001b[0mHeatPPR_H\u001b[0m\u001b[0;34m,\u001b[0m \u001b[0mlogHeatPPR_H\u001b[0m\u001b[0;34m]\u001b[0m\u001b[0;34m)\u001b[0m\u001b[0;34m:\u001b[0m\u001b[0;34m\u001b[0m\u001b[0;34m\u001b[0m\u001b[0m\n\u001b[1;32m      8\u001b[0m             \u001b[0mresults\u001b[0m\u001b[0;34m[\u001b[0m\u001b[0;34mf\"{clustring_method.name}_{measure_class.name}\"\u001b[0m\u001b[0;34m]\u001b[0m \u001b[0;34m=\u001b[0m\u001b[0;31m \u001b[0m\u001b[0;31m\\\u001b[0m\u001b[0;34m\u001b[0m\u001b[0;34m\u001b[0m\u001b[0m\n\u001b[0;32m----> 9\u001b[0;31m                 \u001b[0mclassic_plot\u001b[0m\u001b[0;34m.\u001b[0m\u001b[0mperform\u001b[0m\u001b[0;34m(\u001b[0m\u001b[0mclustring_method\u001b[0m\u001b[0;34m,\u001b[0m \u001b[0mmeasure_class\u001b[0m\u001b[0;34m,\u001b[0m \u001b[0mgraphs\u001b[0m\u001b[0;34m,\u001b[0m \u001b[0;36m2\u001b[0m\u001b[0;34m,\u001b[0m \u001b[0mn_jobs\u001b[0m\u001b[0;34m=\u001b[0m\u001b[0;36m10\u001b[0m\u001b[0;34m)\u001b[0m\u001b[0;34m\u001b[0m\u001b[0;34m\u001b[0m\u001b[0m\n\u001b[0m\u001b[1;32m     10\u001b[0m     \u001b[0;32mreturn\u001b[0m \u001b[0mresults\u001b[0m\u001b[0;34m\u001b[0m\u001b[0;34m\u001b[0m\u001b[0m\n\u001b[1;32m     11\u001b[0m \u001b[0;34m\u001b[0m\u001b[0m\n",
      "\u001b[0;32m~/Documents/GitHub/pygraphs/pygraphs/scenario.py\u001b[0m in \u001b[0;36mperform\u001b[0;34m(self, estimator_class, kernel_class, graphs, n_class, n_jobs)\u001b[0m\n\u001b[1;32m    111\u001b[0m             \u001b[0;31m# logging.info(f'n_jobs == {n_jobs}, run in parallel!')\u001b[0m\u001b[0;34m\u001b[0m\u001b[0;34m\u001b[0m\u001b[0;34m\u001b[0m\u001b[0m\n\u001b[1;32m    112\u001b[0m             all_graph_results = Parallel(n_jobs=n_jobs)(delayed(self._calc_graph)(graph, kernel_class, clf, graph_idx)\n\u001b[0;32m--> 113\u001b[0;31m                                                         for graph_idx, graph in enumerate(graphs))\n\u001b[0m\u001b[1;32m    114\u001b[0m             \u001b[0;32mfor\u001b[0m \u001b[0mgraph_results\u001b[0m \u001b[0;32min\u001b[0m \u001b[0mall_graph_results\u001b[0m\u001b[0;34m:\u001b[0m\u001b[0;34m\u001b[0m\u001b[0;34m\u001b[0m\u001b[0m\n\u001b[1;32m    115\u001b[0m                 \u001b[0;32mfor\u001b[0m \u001b[0mparam_flat\u001b[0m\u001b[0;34m,\u001b[0m \u001b[0mari\u001b[0m \u001b[0;32min\u001b[0m \u001b[0mgraph_results\u001b[0m\u001b[0;34m.\u001b[0m\u001b[0mitems\u001b[0m\u001b[0;34m(\u001b[0m\u001b[0;34m)\u001b[0m\u001b[0;34m:\u001b[0m\u001b[0;34m\u001b[0m\u001b[0;34m\u001b[0m\u001b[0m\n",
      "\u001b[0;32m/usr/local/lib/python3.6/dist-packages/joblib/parallel.py\u001b[0m in \u001b[0;36m__call__\u001b[0;34m(self, iterable)\u001b[0m\n\u001b[1;32m    932\u001b[0m \u001b[0;34m\u001b[0m\u001b[0m\n\u001b[1;32m    933\u001b[0m             \u001b[0;32mwith\u001b[0m \u001b[0mself\u001b[0m\u001b[0;34m.\u001b[0m\u001b[0m_backend\u001b[0m\u001b[0;34m.\u001b[0m\u001b[0mretrieval_context\u001b[0m\u001b[0;34m(\u001b[0m\u001b[0;34m)\u001b[0m\u001b[0;34m:\u001b[0m\u001b[0;34m\u001b[0m\u001b[0;34m\u001b[0m\u001b[0m\n\u001b[0;32m--> 934\u001b[0;31m                 \u001b[0mself\u001b[0m\u001b[0;34m.\u001b[0m\u001b[0mretrieve\u001b[0m\u001b[0;34m(\u001b[0m\u001b[0;34m)\u001b[0m\u001b[0;34m\u001b[0m\u001b[0;34m\u001b[0m\u001b[0m\n\u001b[0m\u001b[1;32m    935\u001b[0m             \u001b[0;31m# Make sure that we get a last message telling us we are done\u001b[0m\u001b[0;34m\u001b[0m\u001b[0;34m\u001b[0m\u001b[0;34m\u001b[0m\u001b[0m\n\u001b[1;32m    936\u001b[0m             \u001b[0melapsed_time\u001b[0m \u001b[0;34m=\u001b[0m \u001b[0mtime\u001b[0m\u001b[0;34m.\u001b[0m\u001b[0mtime\u001b[0m\u001b[0;34m(\u001b[0m\u001b[0;34m)\u001b[0m \u001b[0;34m-\u001b[0m \u001b[0mself\u001b[0m\u001b[0;34m.\u001b[0m\u001b[0m_start_time\u001b[0m\u001b[0;34m\u001b[0m\u001b[0;34m\u001b[0m\u001b[0m\n",
      "\u001b[0;32m/usr/local/lib/python3.6/dist-packages/joblib/parallel.py\u001b[0m in \u001b[0;36mretrieve\u001b[0;34m(self)\u001b[0m\n\u001b[1;32m    831\u001b[0m             \u001b[0;32mtry\u001b[0m\u001b[0;34m:\u001b[0m\u001b[0;34m\u001b[0m\u001b[0;34m\u001b[0m\u001b[0m\n\u001b[1;32m    832\u001b[0m                 \u001b[0;32mif\u001b[0m \u001b[0mgetattr\u001b[0m\u001b[0;34m(\u001b[0m\u001b[0mself\u001b[0m\u001b[0;34m.\u001b[0m\u001b[0m_backend\u001b[0m\u001b[0;34m,\u001b[0m \u001b[0;34m'supports_timeout'\u001b[0m\u001b[0;34m,\u001b[0m \u001b[0;32mFalse\u001b[0m\u001b[0;34m)\u001b[0m\u001b[0;34m:\u001b[0m\u001b[0;34m\u001b[0m\u001b[0;34m\u001b[0m\u001b[0m\n\u001b[0;32m--> 833\u001b[0;31m                     \u001b[0mself\u001b[0m\u001b[0;34m.\u001b[0m\u001b[0m_output\u001b[0m\u001b[0;34m.\u001b[0m\u001b[0mextend\u001b[0m\u001b[0;34m(\u001b[0m\u001b[0mjob\u001b[0m\u001b[0;34m.\u001b[0m\u001b[0mget\u001b[0m\u001b[0;34m(\u001b[0m\u001b[0mtimeout\u001b[0m\u001b[0;34m=\u001b[0m\u001b[0mself\u001b[0m\u001b[0;34m.\u001b[0m\u001b[0mtimeout\u001b[0m\u001b[0;34m)\u001b[0m\u001b[0;34m)\u001b[0m\u001b[0;34m\u001b[0m\u001b[0;34m\u001b[0m\u001b[0m\n\u001b[0m\u001b[1;32m    834\u001b[0m                 \u001b[0;32melse\u001b[0m\u001b[0;34m:\u001b[0m\u001b[0;34m\u001b[0m\u001b[0;34m\u001b[0m\u001b[0m\n\u001b[1;32m    835\u001b[0m                     \u001b[0mself\u001b[0m\u001b[0;34m.\u001b[0m\u001b[0m_output\u001b[0m\u001b[0;34m.\u001b[0m\u001b[0mextend\u001b[0m\u001b[0;34m(\u001b[0m\u001b[0mjob\u001b[0m\u001b[0;34m.\u001b[0m\u001b[0mget\u001b[0m\u001b[0;34m(\u001b[0m\u001b[0;34m)\u001b[0m\u001b[0;34m)\u001b[0m\u001b[0;34m\u001b[0m\u001b[0;34m\u001b[0m\u001b[0m\n",
      "\u001b[0;32m/usr/local/lib/python3.6/dist-packages/joblib/_parallel_backends.py\u001b[0m in \u001b[0;36mwrap_future_result\u001b[0;34m(future, timeout)\u001b[0m\n\u001b[1;32m    519\u001b[0m         AsyncResults.get from multiprocessing.\"\"\"\n\u001b[1;32m    520\u001b[0m         \u001b[0;32mtry\u001b[0m\u001b[0;34m:\u001b[0m\u001b[0;34m\u001b[0m\u001b[0;34m\u001b[0m\u001b[0m\n\u001b[0;32m--> 521\u001b[0;31m             \u001b[0;32mreturn\u001b[0m \u001b[0mfuture\u001b[0m\u001b[0;34m.\u001b[0m\u001b[0mresult\u001b[0m\u001b[0;34m(\u001b[0m\u001b[0mtimeout\u001b[0m\u001b[0;34m=\u001b[0m\u001b[0mtimeout\u001b[0m\u001b[0;34m)\u001b[0m\u001b[0;34m\u001b[0m\u001b[0;34m\u001b[0m\u001b[0m\n\u001b[0m\u001b[1;32m    522\u001b[0m         \u001b[0;32mexcept\u001b[0m \u001b[0mLokyTimeoutError\u001b[0m\u001b[0;34m:\u001b[0m\u001b[0;34m\u001b[0m\u001b[0;34m\u001b[0m\u001b[0m\n\u001b[1;32m    523\u001b[0m             \u001b[0;32mraise\u001b[0m \u001b[0mTimeoutError\u001b[0m\u001b[0;34m(\u001b[0m\u001b[0;34m)\u001b[0m\u001b[0;34m\u001b[0m\u001b[0;34m\u001b[0m\u001b[0m\n",
      "\u001b[0;32m/usr/lib/python3.6/concurrent/futures/_base.py\u001b[0m in \u001b[0;36mresult\u001b[0;34m(self, timeout)\u001b[0m\n\u001b[1;32m    425\u001b[0m                 \u001b[0;32mreturn\u001b[0m \u001b[0mself\u001b[0m\u001b[0;34m.\u001b[0m\u001b[0m__get_result\u001b[0m\u001b[0;34m(\u001b[0m\u001b[0;34m)\u001b[0m\u001b[0;34m\u001b[0m\u001b[0;34m\u001b[0m\u001b[0m\n\u001b[1;32m    426\u001b[0m \u001b[0;34m\u001b[0m\u001b[0m\n\u001b[0;32m--> 427\u001b[0;31m             \u001b[0mself\u001b[0m\u001b[0;34m.\u001b[0m\u001b[0m_condition\u001b[0m\u001b[0;34m.\u001b[0m\u001b[0mwait\u001b[0m\u001b[0;34m(\u001b[0m\u001b[0mtimeout\u001b[0m\u001b[0;34m)\u001b[0m\u001b[0;34m\u001b[0m\u001b[0;34m\u001b[0m\u001b[0m\n\u001b[0m\u001b[1;32m    428\u001b[0m \u001b[0;34m\u001b[0m\u001b[0m\n\u001b[1;32m    429\u001b[0m             \u001b[0;32mif\u001b[0m \u001b[0mself\u001b[0m\u001b[0;34m.\u001b[0m\u001b[0m_state\u001b[0m \u001b[0;32min\u001b[0m \u001b[0;34m[\u001b[0m\u001b[0mCANCELLED\u001b[0m\u001b[0;34m,\u001b[0m \u001b[0mCANCELLED_AND_NOTIFIED\u001b[0m\u001b[0;34m]\u001b[0m\u001b[0;34m:\u001b[0m\u001b[0;34m\u001b[0m\u001b[0;34m\u001b[0m\u001b[0m\n",
      "\u001b[0;32m/usr/lib/python3.6/threading.py\u001b[0m in \u001b[0;36mwait\u001b[0;34m(self, timeout)\u001b[0m\n\u001b[1;32m    293\u001b[0m         \u001b[0;32mtry\u001b[0m\u001b[0;34m:\u001b[0m    \u001b[0;31m# restore state no matter what (e.g., KeyboardInterrupt)\u001b[0m\u001b[0;34m\u001b[0m\u001b[0;34m\u001b[0m\u001b[0m\n\u001b[1;32m    294\u001b[0m             \u001b[0;32mif\u001b[0m \u001b[0mtimeout\u001b[0m \u001b[0;32mis\u001b[0m \u001b[0;32mNone\u001b[0m\u001b[0;34m:\u001b[0m\u001b[0;34m\u001b[0m\u001b[0;34m\u001b[0m\u001b[0m\n\u001b[0;32m--> 295\u001b[0;31m                 \u001b[0mwaiter\u001b[0m\u001b[0;34m.\u001b[0m\u001b[0macquire\u001b[0m\u001b[0;34m(\u001b[0m\u001b[0;34m)\u001b[0m\u001b[0;34m\u001b[0m\u001b[0;34m\u001b[0m\u001b[0m\n\u001b[0m\u001b[1;32m    296\u001b[0m                 \u001b[0mgotit\u001b[0m \u001b[0;34m=\u001b[0m \u001b[0;32mTrue\u001b[0m\u001b[0;34m\u001b[0m\u001b[0;34m\u001b[0m\u001b[0m\n\u001b[1;32m    297\u001b[0m             \u001b[0;32melse\u001b[0m\u001b[0;34m:\u001b[0m\u001b[0;34m\u001b[0m\u001b[0;34m\u001b[0m\u001b[0m\n",
      "\u001b[0;31mKeyboardInterrupt\u001b[0m: "
     ]
    }
   ],
   "source": [
    "@load_or_calc_and_save('results/2_11_ari_with_PPR_iterative.pkl')\n",
    "def calc():\n",
    "    results = defaultdict(list)\n",
    "    graphs, info = StochasticBlockModel(100, 2, p_in=0.2, p_out=0.05).generate_graphs(200)\n",
    "    classic_plot = ParallelByGraphs(adjusted_rand_score, np.linspace(0, 1, 101), progressbar=True)\n",
    "    for clustring_method in tqdm([KKMeans, KWard]):\n",
    "        for measure_class in tqdm([pWalk_H, Walk_H, For_H, logFor_H, Comm_H, logComm_H, Heat_H, logHeat_H, NHeat_H, logNHeat_H, PPR_H, logPPR_H, ModifPPR_H, logModifPPR_H, HeatPPR_H, logHeatPPR_H]):\n",
    "            results[f\"{clustring_method.name}_{measure_class.name}\"] = \\\n",
    "                classic_plot.perform(clustring_method, measure_class, graphs, 2, n_jobs=10)\n",
    "    return results\n",
    "\n",
    "results = calc()"
   ]
  },
  {
   "cell_type": "code",
   "execution_count": null,
   "metadata": {},
   "outputs": [],
   "source": [
    "results.keys()"
   ]
  },
  {
   "cell_type": "code",
   "execution_count": null,
   "metadata": {},
   "outputs": [],
   "source": [
    "plot_log_results(results)\n",
    "# gcf().suptitle(\"Fig. 1 Logarithmic vs. plain measures for G(100,(2)0.2,0.05)\");"
   ]
  },
  {
   "cell_type": "code",
   "execution_count": null,
   "metadata": {},
   "outputs": [],
   "source": [
    "plot_log_results4(results)"
   ]
  },
  {
   "cell_type": "markdown",
   "metadata": {},
   "source": [
    "### **Fig. 2** Logarithmic vs. plain measures for G(100,(3)0.3,0.1)"
   ]
  },
  {
   "cell_type": "code",
   "execution_count": null,
   "metadata": {},
   "outputs": [],
   "source": [
    "@load_or_calc_and_save('results/2_21_ari_with_PPR_iterative.pkl')\n",
    "def calc():\n",
    "    results = defaultdict(list)\n",
    "    graphs, info = StochasticBlockModel(102, 3, p_in=0.3, p_out=0.1).generate_graphs(200)\n",
    "    classic_plot = ParallelByGraphs(adjusted_rand_score, np.linspace(0, 1, 101), progressbar=True)\n",
    "    for clustring_method in tqdm([KKMeans, KWard]):\n",
    "        for measure_class in tqdm([pWalk_H, Walk_H, For_H, logFor_H, Comm_H, logComm_H, Heat_H, logHeat_H, NHeat_H, logNHeat_H, PPR_H, logPPR_H, ModifPPR_H, logModifPPR_H, HeatPPR_H, logHeatPPR_H]):\n",
    "            results[f\"{clustring_method.name}_{measure_class.name}\"] = \\\n",
    "                classic_plot.perform(clustring_method, measure_class, graphs, 2, n_jobs=10)\n",
    "    return results\n",
    "\n",
    "results = calc()"
   ]
  },
  {
   "cell_type": "code",
   "execution_count": null,
   "metadata": {},
   "outputs": [],
   "source": [
    "plot_log_results(results)\n",
    "# gcf().suptitle('Fig. 2 Logarithmic vs. plain measures for G(100,(3)0.3,0.1)');"
   ]
  },
  {
   "cell_type": "code",
   "execution_count": null,
   "metadata": {},
   "outputs": [],
   "source": [
    "plot_log_results4(results)"
   ]
  },
  {
   "cell_type": "markdown",
   "metadata": {},
   "source": [
    "### **Fig. 3** Logarithmic vs. plain measures for G(200,(2)0.3,0.1)"
   ]
  },
  {
   "cell_type": "code",
   "execution_count": null,
   "metadata": {},
   "outputs": [],
   "source": [
    "@load_or_calc_and_save('results/2_31_ari_with_PPR_iterative.pkl')\n",
    "def calc():\n",
    "    results = defaultdict(list)\n",
    "    graphs, info = StochasticBlockModel(200, 2, p_in=0.3, p_out=0.1).generate_graphs(200)\n",
    "    classic_plot = ParallelByGraphs(adjusted_rand_score, np.linspace(0, 1, 101), progressbar=True)\n",
    "    for clustring_method in tqdm([KKMeans, KWard]):\n",
    "        for measure_class in tqdm([pWalk_H, Walk_H, For_H, logFor_H, Comm_H, logComm_H, Heat_H, logHeat_H, NHeat_H, logNHeat_H, PPR_H, logPPR_H, ModifPPR_H, logModifPPR_H, HeatPPR_H, logHeatPPR_H]):\n",
    "            results[f\"{clustring_method.name}_{measure_class.name}\"] = \\\n",
    "                classic_plot.perform(clustring_method, measure_class, graphs, 2, n_jobs=10)\n",
    "    return results\n",
    "\n",
    "results = calc()"
   ]
  },
  {
   "cell_type": "code",
   "execution_count": null,
   "metadata": {},
   "outputs": [],
   "source": [
    "plot_log_results(results)\n",
    "# gcf().suptitle('Fig. 3 Logarithmic vs. plain measures for G(200,(2)0.3,0.1)');"
   ]
  },
  {
   "cell_type": "code",
   "execution_count": null,
   "metadata": {},
   "outputs": [],
   "source": [
    "plot_log_results4(results)"
   ]
  },
  {
   "cell_type": "code",
   "execution_count": null,
   "metadata": {},
   "outputs": [],
   "source": []
  },
  {
   "cell_type": "code",
   "execution_count": null,
   "metadata": {},
   "outputs": [],
   "source": []
  }
 ],
 "metadata": {
  "kernelspec": {
   "display_name": "Python 3",
   "language": "python",
   "name": "python3"
  },
  "language_info": {
   "codemirror_mode": {
    "name": "ipython",
    "version": 3
   },
   "file_extension": ".py",
   "mimetype": "text/x-python",
   "name": "python",
   "nbconvert_exporter": "python",
   "pygments_lexer": "ipython3",
   "version": "3.6.8"
  }
 },
 "nbformat": 4,
 "nbformat_minor": 2
}
