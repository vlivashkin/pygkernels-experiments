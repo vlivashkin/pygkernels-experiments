{
 "cells": [
  {
   "cell_type": "code",
   "execution_count": 2,
   "metadata": {},
   "outputs": [],
   "source": [
    "%matplotlib inline"
   ]
  },
  {
   "cell_type": "code",
   "execution_count": 1,
   "metadata": {},
   "outputs": [],
   "source": [
    "import os\n",
    "import sys\n",
    "import pickle\n",
    "import json\n",
    "import pandas as pd\n",
    "from collections import defaultdict\n",
    "from tqdm.notebook import tqdm\n",
    "import numpy as np\n",
    "from itertools import product\n",
    "import random\n",
    "from joblib import Parallel, delayed\n",
    "from scipy.stats import rankdata\n",
    "from sklearn.manifold import TSNE\n",
    "from sklearn.cluster import KMeans\n",
    "from sklearn.cluster import AgglomerativeClustering\n",
    "\n",
    "import matplotlib.pyplot as plt\n",
    "import Orange\n",
    "import networkx as nx\n",
    "\n",
    "sys.path.append('../../pygkernels')\n",
    "from pygkernels.data import Datasets"
   ]
  },
  {
   "cell_type": "code",
   "execution_count": 3,
   "metadata": {},
   "outputs": [],
   "source": [
    "kernels_names = [\n",
    "    'Katz', 'logKatz',\n",
    "    'For', 'logFor',\n",
    "    'Comm', 'logComm',\n",
    "    'Heat', 'logHeat',\n",
    "    'NHeat', 'logNHeat',\n",
    "    'SCT', 'SCCT',\n",
    "    'RSP', 'FE',\n",
    "    'PPR', 'logPPR',\n",
    "    'ModifPPR', 'logModifPPR',\n",
    "    'HeatPR', 'logHeatPR',\n",
    "    'DF', 'logDF',\n",
    "    'Abs', 'logAbs',\n",
    "    'SP-CT'\n",
    "]\n",
    "\n",
    "shuffle = lambda x: sorted(x, key=lambda k: random.random())\n",
    "\n",
    "def dict_argmax(dct, score_key):\n",
    "    best_key = list(dct.keys())[0]\n",
    "    best_val = dct[best_key]\n",
    "    for k, v in dct.items():\n",
    "        if v[score_key] > best_val[score_key]:\n",
    "            best_key, best_val = k, v\n",
    "    return best_key, best_val\n",
    "\n",
    "CACHE_ROOT = '../../cache/cache'\n",
    "\n",
    "def load_or_calc_and_save(filename, ignore_if_exist=False):\n",
    "    def decorator(func):\n",
    "        def wrapped(*args, **kwargs):\n",
    "            if os.path.exists(filename):\n",
    "                print(f'{func.__name__}: cache file {filename} found! Skip calculations')\n",
    "                if not ignore_if_exist:\n",
    "                    with open(filename, 'rb') as f:\n",
    "                        result = pickle.load(f)\n",
    "                else:\n",
    "                    result = None\n",
    "            else:\n",
    "                print(f'{func.__name__}: RECALC {filename}.\\nargs: {\", \".join(args)}, kwargs: {\", \".join([f\"{k}={v}\" for k, v in kwargs.items()])}')\n",
    "                result = func(*args, **kwargs)\n",
    "                with open(filename, 'wb') as f:\n",
    "                    pickle.dump(result, f)\n",
    "            return result\n",
    "        return wrapped\n",
    "    return decorator\n",
    "\n",
    "def calc_avranks(results):  # {dataset: {classifier: accuracy}}\n",
    "    ranks = defaultdict(list)\n",
    "    for dataset, classifier_accuracy in results.items():\n",
    "        if type(dataset) == tuple:\n",
    "            dataset = '_'.join([str(x) for x in dataset])\n",
    "        classifiers, accuracies = zip(*list(classifier_accuracy.items()))\n",
    "        for classifier, rank in zip(classifiers, rankdata(accuracies)):\n",
    "            ranks[classifier].append(rank)\n",
    "    ranks = {k: np.mean(v) for k, v in sorted(ranks.items(), key=lambda x: x[0])}\n",
    "    return list(ranks.values()), list(ranks.keys()), len(results)\n",
    "\n",
    "def ytrue_to_partition(y_true):\n",
    "    partition = defaultdict(list)\n",
    "    for idx, class_ in enumerate(y_true):\n",
    "        partition[class_].append(idx)\n",
    "    return list(partition.values())"
   ]
  },
  {
   "cell_type": "raw",
   "metadata": {},
   "source": [
    "# continue coefficients for nemenyi 0.05\n",
    "plt.plot([1.959964, 2.343701, 2.569032, 2.727774, 2.849705, 2.94832, 3.030879, 3.101730, 3.163684,\n",
    "          3.218654, 3.268004, 3.312739, 3.353618, 3.39123, 3.426041, 3.458425, 3.488685, 3.517073, 3.543799])\n",
    "a = 1.95 + 1/1.85 * np.log(range(1, 25))\n",
    "plt.plot(a)\n",
    "print(a)  # 3.56931474 3.5956878  3.62083376 3.64486174 3.66786694"
   ]
  },
  {
   "cell_type": "raw",
   "metadata": {},
   "source": [
    "# continue coefficients for nemenyi 0.1\n",
    "plt.plot([1.644854, 2.052293, 2.291341, 2.459516, 2.588521, 2.692732, 2.779884, 2.854606, 2.919889,\n",
    "          2.977768, 3.029694, 3.076733, 3.119693, 3.159199, 3.195743, 3.229723, 3.261461, 3.291224, 3.319233])\n",
    "a = 1.65 + 1/1.76 * np.log(range(1, 25))\n",
    "plt.plot(a)\n",
    "print(a)  # 3.35212061 3.37984229 3.40627412 3.4315308  3.4557124"
   ]
  },
  {
   "cell_type": "code",
   "execution_count": 4,
   "metadata": {},
   "outputs": [],
   "source": [
    "def best_inits(param_results):\n",
    "    inits = {\n",
    "        'one': shuffle([x for x in param_results if x['init'] == 'one']),\n",
    "        'all': shuffle([x for x in param_results if x['init'] == 'all']),\n",
    "        'kmp': shuffle([x for x in param_results if x['init'] == 'k-means++'])\n",
    "    }\n",
    "    if len(inits['one']) == 0 or len(inits['all']) == 0 or len(inits['kmp']) == 0:\n",
    "        return None\n",
    "    inits['any2'] = inits['all'][:15] + inits['kmp'][:15]\n",
    "    inits['any3'] = inits['one'][:10] + inits['all'][:10] + inits['kmp'][:10]\n",
    "    \n",
    "    # choose best init, structure – {scorename_initname: init}\n",
    "    score_names = ['inertia', 'modularity']  \n",
    "    bestby = {f'{score_name}_{init_name}': inits[0] for score_name, (init_name, inits) in product(score_names, inits.items())}\n",
    "    for init_name, inits in inits.items():\n",
    "        for init in inits:\n",
    "            if init['inertia'] < bestby[f'inertia_{init_name}']['inertia']:\n",
    "                bestby[f'inertia_{init_name}'] = init\n",
    "            if init['modularity'] > bestby[f'modularity_{init_name}']['modularity']:\n",
    "                bestby[f'modularity_{init_name}'] = init\n",
    "    return bestby\n",
    "\n",
    "def perform_graph(graph_results):\n",
    "    # group params, structure – {scorename_initname: {param: init}}\n",
    "    bestby = defaultdict(dict)\n",
    "    for param, param_results in graph_results.items():\n",
    "        param_inits = best_inits(param_results)\n",
    "        if param_inits is not None:\n",
    "            for scorename_initname, init in param_inits.items():\n",
    "                bestby[scorename_initname][param] = init\n",
    "    \n",
    "    # collapse param axis, structure – {scorename_initname: (best_param, init)}\n",
    "    best_ari = {si: dict_argmax(param_init, 'score_ari') for si, param_init in bestby.items()}\n",
    "    best_modularity = {si: dict_argmax(param_init, 'modularity') for si, param_init in bestby.items()}\n",
    "    \n",
    "    return bestby, best_ari, best_modularity\n",
    "\n",
    "def meanby_graphs__bestparam_individual(data, param_by_ari=True, target_score='score_ari'):\n",
    "    # group graphs, structure – {scorename_initname: [best_ari_for_graph]}\n",
    "    bestby = defaultdict(list)\n",
    "    for graph_idx, graph_results in enumerate(data):\n",
    "        _, best_ari, best_modularity = perform_graph(graph_results['results'])\n",
    "        graph_best = best_ari if param_by_ari else best_modularity\n",
    "        for scorename_initname, (_, init) in graph_best.items():\n",
    "            bestby[scorename_initname].append(init[target_score])\n",
    "        modularity\n",
    "    \n",
    "    # collapse graph axis, structure - {scorename_initname: mean_ari}\n",
    "    best_meanari = {si: np.mean(ari) for si, ari in bestby.items()}\n",
    "    \n",
    "    return bestby, best_meanari\n",
    "\n",
    "def meanby_graphs__allparams(data, target_score='score_ari'):\n",
    "    # group graphs, structure – {scorename_initname: {param: [best_ari_for_graph]}}\n",
    "    bestby = defaultdict(lambda: defaultdict(list))\n",
    "    for graph_idx, graph_results in enumerate(data):\n",
    "        graph_bestby, _, _ = perform_graph(graph_results['results'])\n",
    "        for scorename_initname, param_init in graph_bestby.items():\n",
    "            for param, init in param_init.items():\n",
    "                bestby[scorename_initname][param].append(init[target_score])\n",
    "    \n",
    "    # collapse graph axis, structure – {scorename_initname: {param: mean_ari}}\n",
    "    best_meanari = {si: {param: np.mean(ari) for param, ari in param_ari.items()} for si, param_ari in bestby.items()}\n",
    "    \n",
    "    return bestby, best_meanari"
   ]
  },
  {
   "cell_type": "markdown",
   "metadata": {},
   "source": [
    "# Prepare results of Datasets"
   ]
  },
  {
   "cell_type": "code",
   "execution_count": 5,
   "metadata": {},
   "outputs": [],
   "source": [
    "DATASETS_RESULTS_ROOT = '../../cache/kkmeans_init_datasets'\n",
    "datasets = [\n",
    "    'cora_DB', 'cora_EC', 'cora_HA', 'cora_HCI', 'cora_IR', 'cora_Net',\n",
    "    'dolphins',\n",
    "    'eu-core',\n",
    "    'eurosis',\n",
    "    'football',\n",
    "    'karate',\n",
    "    'news_2cl_1', 'news_2cl_2', 'news_2cl_3',\n",
    "    'news_3cl_1', 'news_3cl_2', 'news_3cl_3',\n",
    "    'news_5cl_1', 'news_5cl_2', 'news_5cl_3',\n",
    "    'polblogs',\n",
    "    'polbooks',\n",
    "    'sp_school_day_1', 'sp_school_day_2'\n",
    "]"
   ]
  },
  {
   "cell_type": "code",
   "execution_count": 6,
   "metadata": {},
   "outputs": [
    {
     "name": "stdout",
     "output_type": "stream",
     "text": [
      "datasets_inits_bestparam_byari_individual: cache file ../../cache/cache/datasets_inits_bestparam_byari_individual.pkl found! Skip calculations\n"
     ]
    }
   ],
   "source": [
    "@load_or_calc_and_save(f'{CACHE_ROOT}/datasets_inits_bestparam_byari_individual.pkl')\n",
    "def datasets_inits_bestparam_byari_individual():\n",
    "    results = {}\n",
    "    for dataset, kernel_name, graph_idx in tqdm(list(product(datasets, kernels_names, range(6)))):\n",
    "        filename = f'{dataset}_{kernel_name}_results_{str(graph_idx).zfill(2)}.pkl'\n",
    "        with open(f'{DATASETS_RESULTS_ROOT}/by_column_and_kernel/{filename}', 'rb') as f:\n",
    "            data = pickle.load(f)\n",
    "        _, best_ari, _ = perform_graph(data)  # {scorename_initname: (best_param, init)}\n",
    "        result = {si: init['score_ari'] for si, (_, init) in best_ari.items()}  # {scorename_initname: best_ari}\n",
    "        results[(dataset, kernel_name, graph_idx)] = result\n",
    "    return results\n",
    "\n",
    "results = datasets_inits_bestparam_byari_individual() # {(dataset, kernel_name, graph_idx): {scorename_initname: best_ari}}"
   ]
  },
  {
   "cell_type": "code",
   "execution_count": 7,
   "metadata": {},
   "outputs": [
    {
     "name": "stdout",
     "output_type": "stream",
     "text": [
      "cora_Net: 0.18\n",
      "cora_DB: 0.18\n",
      "cora_EC: 0.27\n",
      "cora_IR: 0.29\n",
      "eu-core: 0.34\n",
      "cora_HA: 0.38\n",
      "news_5cl_2: 0.48\n",
      "news_5cl_3: 0.48\n",
      "cora_HCI: 0.51\n",
      "news_5cl_1: 0.55\n",
      "news_2cl_2: 0.68\n",
      "news_3cl_1: 0.69\n",
      "polbooks: 0.69\n",
      "news_3cl_3: 0.69\n",
      "news_3cl_2: 0.71\n",
      "sp_school_day_1: 0.72\n",
      "polblogs: 0.73\n",
      "sp_school_day_2: 0.74\n",
      "eurosis: 0.74\n",
      "news_2cl_1: 0.80\n",
      "news_2cl_3: 0.81\n",
      "football: 0.87\n",
      "dolphins: 0.93\n",
      "karate: 1.00\n"
     ]
    }
   ],
   "source": [
    "# table for modularity any3\n",
    "results_m3_dka = defaultdict(lambda: defaultdict(list)) # {dataset, {kernel_name: [best_ari_for_graph]}}\n",
    "for (dataset, kernel_name, graph_idx), si_ari in results.items():\n",
    "    results_m3_dka[dataset][kernel_name].append(si_ari['modularity_any3'])\n",
    "for dataset, kernel_name in product(datasets, kernels_names):  # {dataset, {kernel_name: best_ari}}\n",
    "    results_m3_dka[dataset][kernel_name] = np.mean(results_m3_dka[dataset][kernel_name])\n",
    "\n",
    "df = pd.DataFrame(results_m3_dka)\n",
    "df.to_excel('./results/datasets_modularity_any3_bestparam_byari_individual.xlsx')\n",
    "\n",
    "dataset_meanari = {k: np.mean(list(v.values())) for k, v in results_m3_dka.items()}  # {dataset, mean_mean_bestari}\n",
    "for dataset, meanari in sorted(list(dataset_meanari.items()), key=lambda x: x[1]):\n",
    "    print(f'{dataset}: {meanari:.2f}')"
   ]
  },
  {
   "cell_type": "code",
   "execution_count": 8,
   "metadata": {},
   "outputs": [
    {
     "name": "stdout",
     "output_type": "stream",
     "text": [
      "datasets_modularity: RECALC ../../cache/cache/datasets_modularity.pkl.\n",
      "args: , kwargs: \n"
     ]
    },
    {
     "data": {
      "application/vnd.jupyter.widget-view+json": {
       "model_id": "bd57855af354467b860cb232f51b64c6",
       "version_major": 2,
       "version_minor": 0
      },
      "text/plain": [
       "HBox(children=(IntProgress(value=0, max=24), HTML(value='')))"
      ]
     },
     "metadata": {},
     "output_type": "display_data"
    },
    {
     "name": "stdout",
     "output_type": "stream",
     "text": [
      "\n"
     ]
    }
   ],
   "source": [
    "@load_or_calc_and_save(f'{CACHE_ROOT}/datasets_modularity.pkl')\n",
    "def datasets_modularity():\n",
    "    modularity_results = {}\n",
    "    for dataset in tqdm(list(datasets)):  # dataset = column in this context\n",
    "        A, y_true = Datasets()[dataset][0][0]\n",
    "        partition = ytrue_to_partition(y_true)\n",
    "        modularity = nx.community.modularity(nx.from_numpy_matrix(A), partition)\n",
    "        modularity_results[dataset] = modularity\n",
    "    return modularity_results\n",
    "\n",
    "dataset_modularity = datasets_modularity()  # {dataset: modularity}"
   ]
  },
  {
   "cell_type": "code",
   "execution_count": 9,
   "metadata": {},
   "outputs": [
    {
     "name": "stdout",
     "output_type": "stream",
     "text": [
      "cora_EC: 0.19\n",
      "news_2cl_2: 0.27\n",
      "news_2cl_1: 0.28\n",
      "sp_school_day_1: 0.29\n",
      "news_2cl_3: 0.31\n",
      "news_5cl_3: 0.31\n",
      "eu-core: 0.31\n",
      "news_5cl_2: 0.32\n",
      "sp_school_day_2: 0.32\n",
      "news_5cl_1: 0.33\n",
      "cora_Net: 0.35\n",
      "news_3cl_2: 0.35\n",
      "news_3cl_3: 0.36\n",
      "news_3cl_1: 0.36\n",
      "karate: 0.37\n",
      "dolphins: 0.37\n",
      "cora_IR: 0.38\n",
      "polblogs: 0.41\n",
      "polbooks: 0.41\n",
      "cora_DB: 0.43\n",
      "cora_HCI: 0.53\n",
      "football: 0.55\n",
      "cora_HA: 0.61\n",
      "eurosis: 0.70\n"
     ]
    }
   ],
   "source": [
    "for dataset, modularity in sorted(list(dataset_modularity.items()), key=lambda x: x[1]):\n",
    "    print(f'{dataset}: {modularity:.2f}')"
   ]
  },
  {
   "cell_type": "code",
   "execution_count": 10,
   "metadata": {},
   "outputs": [
    {
     "data": {
      "text/plain": [
       "Text(0, 0.5, 'ARI')"
      ]
     },
     "execution_count": 10,
     "metadata": {},
     "output_type": "execute_result"
    },
    {
     "data": {
      "image/png": "[encoded data removed]",
      "text/plain": [
       "<Figure size 432x288 with 1 Axes>"
      ]
     },
     "metadata": {
      "needs_background": "light"
     },
     "output_type": "display_data"
    }
   ],
   "source": [
    "# draw ari-modularity dependency\n",
    "x, y = [], []\n",
    "for dataset in datasets:\n",
    "    x.append(dataset_modularity[dataset])\n",
    "    y.append(dataset_meanari[dataset])\n",
    "plt.scatter(x, y)\n",
    "plt.xlabel('modularity')\n",
    "plt.ylabel('ARI')"
   ]
  },
  {
   "cell_type": "code",
   "execution_count": null,
   "metadata": {},
   "outputs": [],
   "source": []
  }
 ],
 "metadata": {
  "kernelspec": {
   "display_name": "Python 3",
   "language": "python",
   "name": "python3"
  },
  "language_info": {
   "codemirror_mode": {
    "name": "ipython",
    "version": 3
   },
   "file_extension": ".py",
   "mimetype": "text/x-python",
   "name": "python",
   "nbconvert_exporter": "python",
   "pygments_lexer": "ipython3",
   "version": "3.6.9"
  }
 },
 "nbformat": 4,
 "nbformat_minor": 4
}
