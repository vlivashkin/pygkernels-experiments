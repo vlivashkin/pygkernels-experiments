{
 "cells": [
  {
   "cell_type": "code",
   "execution_count": null,
   "metadata": {},
   "outputs": [],
   "source": [
    "%matplotlib inline"
   ]
  },
  {
   "cell_type": "code",
   "execution_count": 1,
   "metadata": {},
   "outputs": [],
   "source": [
    "import os\n",
    "import sys\n",
    "import pickle\n",
    "import json\n",
    "import pandas as pd\n",
    "from collections import defaultdict\n",
    "from tqdm.notebook import tqdm\n",
    "import numpy as np\n",
    "from itertools import product\n",
    "import random\n",
    "from joblib import Parallel, delayed\n",
    "from scipy.stats import rankdata\n",
    "from sklearn.manifold import TSNE\n",
    "from sklearn.cluster import KMeans\n",
    "from sklearn.cluster import AgglomerativeClustering\n",
    "\n",
    "import matplotlib.pyplot as plt\n",
    "import Orange"
   ]
  },
  {
   "cell_type": "code",
   "execution_count": 2,
   "metadata": {},
   "outputs": [],
   "source": [
    "kernels_names = [\n",
    "    'Katz', 'logKatz',\n",
    "    'For', 'logFor',\n",
    "    'Comm', 'logComm',\n",
    "    'Heat', 'logHeat',\n",
    "    'NHeat', 'logNHeat',\n",
    "    'SCT', 'SCCT',\n",
    "    'RSP', 'FE',\n",
    "    'PPR', 'logPPR',\n",
    "    'ModifPPR', 'logModifPPR',\n",
    "    'HeatPR', 'logHeatPR',\n",
    "    'DF', 'logDF',\n",
    "    'Abs', 'logAbs',\n",
    "    'SP-CT'\n",
    "]\n",
    "\n",
    "shuffle = lambda x: sorted(x, key=lambda k: random.random())\n",
    "\n",
    "def dict_argmax(dct, score_key):\n",
    "    best_key = list(dct.keys())[0]\n",
    "    best_val = dct[best_key]\n",
    "    for k, v in dct.items():\n",
    "        if v[score_key] > best_val[score_key]:\n",
    "            best_key, best_val = k, v\n",
    "    return best_key, best_val\n",
    "\n",
    "CACHE_ROOT = '../../cache/cache'\n",
    "\n",
    "def calc_avranks(results):  # {dataset: {classifier: accuracy}}\n",
    "    ranks = defaultdict(list)\n",
    "    for dataset, classifier_accuracy in results.items():\n",
    "        if type(dataset) == tuple:\n",
    "            dataset = '_'.join([str(x) for x in dataset])\n",
    "        classifiers, accuracies = zip(*list(classifier_accuracy.items()))\n",
    "        for classifier, rank in zip(classifiers, rankdata(accuracies)):\n",
    "            ranks[classifier].append(rank)\n",
    "    ranks = {k: np.mean(v) for k, v in sorted(ranks.items(), key=lambda x: x[0])}\n",
    "    return list(ranks.values()), list(ranks.keys()), len(results)"
   ]
  },
  {
   "cell_type": "markdown",
   "metadata": {},
   "source": [
    "# Analyze results of SBM – Stochastic Block Model"
   ]
  },
  {
   "cell_type": "code",
   "execution_count": 4,
   "metadata": {},
   "outputs": [],
   "source": [
    "SBM_RESULTS_ROOT = '../../cache/kkmeans_init_sbm'\n",
    "columns = [\n",
    "    (100, 2, 0.2, 0.05),\n",
    "    (100, 2, 0.3, 0.05),\n",
    "    (100, 2, 0.3, 0.1),\n",
    "    (100, 2, 0.3, 0.15),\n",
    "    (102, 3, 0.3, 0.1),\n",
    "    (100, 4, 0.3, 0.1),\n",
    "    (100, 4, 0.3, 0.15),\n",
    "    (200, 2, 0.3, 0.05),\n",
    "    (200, 2, 0.3, 0.1),\n",
    "    (200, 2, 0.3, 0.15),\n",
    "    (201, 3, 0.3, 0.1),\n",
    "    (200, 4, 0.3, 0.1),\n",
    "    (200, 4, 0.3, 0.15)\n",
    "]\n",
    "\n",
    "def column2str(column):\n",
    "    n, k, p_in, p_out = column\n",
    "    return f'{n}_{k}_{p_in:.1f}_{p_out:.2f}'\n",
    "\n",
    "datasets = [column2str(x) for x in columns]"
   ]
  },
  {
   "cell_type": "code",
   "execution_count": 5,
   "metadata": {},
   "outputs": [
    {
     "name": "stdout",
     "output_type": "stream",
     "text": [
      "sbm_inits_bestparam_byari_individual: cache file ../../cache/cache/sbm_inits_bestparam_byari_individual.pkl found! Skip calculations\n",
      "sbm_modularity: cache file ../../cache/cache/sbm_modularity.pkl found! Skip calculations\n"
     ]
    }
   ],
   "source": [
    "with open(f'{CACHE_ROOT}/datasets_inits_bestparam_byari_individual.pkl', 'rb') as f:\n",
    "    results = pickle.load(f)  # {(dataset, kernel_name, graph_idx): {scorename_initname: best_ari}}\n",
    "with open(f'{CACHE_ROOT}/datasets_modularity.pkl', 'rb') as f:\n",
    "    modularity_results = pickle.load(f)  # {(dataset, graph_idx): modularity}"
   ]
  },
  {
   "cell_type": "code",
   "execution_count": 18,
   "metadata": {},
   "outputs": [
    {
     "name": "stdout",
     "output_type": "stream",
     "text": [
      "100_4_0.3_0.15: 0.22\n",
      "200_4_0.3_0.15: 0.36\n",
      "100_4_0.3_0.10: 0.52\n",
      "100_2_0.3_0.15: 0.76\n",
      "102_3_0.3_0.10: 0.78\n",
      "200_4_0.3_0.10: 0.80\n",
      "200_2_0.3_0.15: 0.86\n",
      "201_3_0.3_0.10: 0.88\n",
      "100_2_0.3_0.10: 0.93\n",
      "100_2_0.2_0.05: 0.93\n",
      "200_2_0.3_0.10: 0.95\n",
      "100_2_0.3_0.05: 1.00\n",
      "200_2_0.3_0.05: 1.00\n"
     ]
    }
   ],
   "source": [
    "# table for modularity any3\n",
    "results_m3_dka = defaultdict(lambda: defaultdict(list)) # {dataset, {kernel_name: [best_ari_for_graph]}}\n",
    "for (dataset, kernel_name, graph_idx), si_ari in results.items():\n",
    "    results_m3_dka[dataset][kernel_name].append(si_ari['modularity_any3'])\n",
    "for dataset, kernel_name in product(datasets, kernels_names):  # {dataset, {kernel_name: mean_bestari}}\n",
    "    results_m3_dka[dataset][kernel_name] = np.mean(results_m3_dka[dataset][kernel_name])\n",
    "\n",
    "results_m3_dka = calc_dataset_kernel_meanari(results)\n",
    "df = pd.DataFrame(results_m3_dka)\n",
    "df.to_excel('./results/sbm_modularity_any3_bestparam_byari_individual.xlsx')\n",
    "\n",
    "dataset_meanari = {k: np.mean(list(v.values())) for k, v in results_m3_dka.items()}  # {dataset, mean_mean_bestari}\n",
    "for dataset, meanari in sorted(list(dataset_meanari.items()), key=lambda x: x[1]):\n",
    "    print(f'{dataset}: {meanari:.2f}')"
   ]
  },
  {
   "cell_type": "code",
   "execution_count": 6,
   "metadata": {},
   "outputs": [
    {
     "name": "stdout",
     "output_type": "stream",
     "text": [
      "100_4_0.3_0.15: 0.14\n",
      "200_4_0.3_0.15: 0.14\n",
      "100_2_0.3_0.15: 0.16\n",
      "200_2_0.3_0.15: 0.16\n",
      "100_4_0.3_0.10: 0.24\n",
      "200_4_0.3_0.10: 0.25\n",
      "100_2_0.3_0.10: 0.25\n",
      "200_2_0.3_0.10: 0.25\n",
      "102_3_0.3_0.10: 0.26\n",
      "201_3_0.3_0.10: 0.26\n",
      "100_2_0.2_0.05: 0.29\n",
      "100_2_0.3_0.05: 0.35\n",
      "200_2_0.3_0.05: 0.36\n"
     ]
    }
   ],
   "source": [
    "dataset_modularity = dict()\n",
    "for dataset in datasets:\n",
    "    dataset_modularity[dataset] = np.mean([modularity_results[(dataset, graph_idx)] for graph_idx in range(100)])\n",
    "for dataset, modularity in sorted(list(dataset_modularity.items()), key=lambda x: x[1]):\n",
    "    print(f'{dataset}: {modularity:.2f}')"
   ]
  },
  {
   "cell_type": "code",
   "execution_count": 27,
   "metadata": {},
   "outputs": [
    {
     "data": {
      "text/plain": [
       "Text(0, 0.5, 'ARI')"
      ]
     },
     "execution_count": 27,
     "metadata": {},
     "output_type": "execute_result"
    },
    {
     "data": {
      "image/png": "[encoded data removed]",
      "text/plain": [
       "<Figure size 432x288 with 1 Axes>"
      ]
     },
     "metadata": {
      "needs_background": "light"
     },
     "output_type": "display_data"
    }
   ],
   "source": [
    "# draw ari-modularity dependency\n",
    "x, y = [], []\n",
    "for dataset in datasets:\n",
    "    x.append(dataset_modularity[dataset])\n",
    "    y.append(dataset_meanari[dataset])\n",
    "plt.scatter(x, y)\n",
    "plt.xlabel('modularity')\n",
    "plt.ylabel('ARI')"
   ]
  },
  {
   "cell_type": "markdown",
   "metadata": {},
   "source": [
    "## CD diagram"
   ]
  },
  {
   "cell_type": "code",
   "execution_count": null,
   "metadata": {},
   "outputs": [],
   "source": [
    "avranks, names, n_experiments = calc_avranks(results)\n",
    "print(f'n_experiments: {n_experiments}')\n",
    "cd = Orange.evaluation.compute_CD(avranks, n_experiments)\n",
    "Orange.evaluation.graph_ranks(avranks, names, cd=cd, width=9, textspace=1.5)\n",
    "plt.show()"
   ]
  },
  {
   "cell_type": "code",
   "execution_count": null,
   "metadata": {},
   "outputs": [],
   "source": [
    "results_modularity_any3 = defaultdict(lambda: defaultdict(list)) # {dataset_graphidx, {kernel_name: best_ari}}\n",
    "for (dataset, kernel_name, graph_idx), si_ari in results.items():\n",
    "    results_modularity_any3[(dataset, graph_idx)][kernel_name] = si_ari['modularity_any3']\n",
    "\n",
    "avranks, names, n_experiments = calc_avranks(results_modularity_any3)\n",
    "print(f'n_experiments: {n_experiments}')\n",
    "cd = Orange.evaluation.compute_CD(avranks, n_experiments, alpha='0.1')\n",
    "Orange.evaluation.graph_ranks(avranks, names, cd=cd, width=9, textspace=1.5)\n",
    "plt.show()"
   ]
  },
  {
   "cell_type": "markdown",
   "metadata": {},
   "source": [
    "## Group datasets by measure ranking"
   ]
  },
  {
   "cell_type": "code",
   "execution_count": null,
   "metadata": {},
   "outputs": [],
   "source": [
    "results_modularity_any3 = defaultdict(lambda: defaultdict(list)) # {(dataset, graph_idx), {kernel_name: best_ari}}\n",
    "for (dataset, kernel_name, graph_idx), si_ari in results.items():\n",
    "    results_modularity_any3[(dataset, graph_idx)][kernel_name] = si_ari['modularity_any3']\n",
    "\n",
    "dataset_graphidx_avranks = dict()\n",
    "for dataset_name, dataset_results in results_modularity_any3.items():\n",
    "    avranks, _, _ = calc_avranks({'0': dataset_results})\n",
    "    dataset_graphidx_avranks[dataset_name] = avranks\n",
    "    \n",
    "# TSNE\n",
    "X_embedded = TSNE(n_components=2, learning_rate=200).fit_transform(list(dataset_graphidx_avranks.values()))\n",
    "\n",
    "dataset_embedding = defaultdict(list)  # {dataset: [embedding]}\n",
    "for (dataset, graph_idx), X_embedded_item in zip(list(dataset_graphidx_avranks.keys()), X_embedded):\n",
    "    dataset_embedding[dataset].append(X_embedded_item)\n",
    "    \n",
    "plt.subplots(1, figsize=(15, 7))\n",
    "for dataset, embedding in dataset_embedding.items():\n",
    "    embedding = np.array(embedding)\n",
    "    plt.scatter(embedding[:, 0], embedding[:, 1], label=dataset)\n",
    "plt.legend()"
   ]
  },
  {
   "cell_type": "code",
   "execution_count": null,
   "metadata": {},
   "outputs": [],
   "source": [
    "plt.subplots(1, figsize=(15, 7))\n",
    "plt.scatter(X_embedded[:, 0], X_embedded[:, 1], c=list(modularity_results.values()))\n",
    "plt.colorbar()"
   ]
  },
  {
   "cell_type": "code",
   "execution_count": null,
   "metadata": {},
   "outputs": [],
   "source": [
    "results_modularity_any3 = defaultdict(lambda: defaultdict(lambda: defaultdict(list)))  # {dataset: {graphidx: {kernel_name: best_ari}}}\n",
    "for (dataset, kernel_name, graph_idx), si_ari in results.items():\n",
    "    results_modularity_any3[dataset][graph_idx][kernel_name] = si_ari['modularity_any3']\n",
    "\n",
    "dataset_avranks = dict()  # {dataset: avranks}\n",
    "for dataset_name, dataset_results in results_modularity_any3.items():\n",
    "    avranks, _, _ = calc_avranks(dataset_results)\n",
    "    dataset_avranks[dataset_name] = avranks\n",
    "\n",
    "n_clusters = 3\n",
    "# kmeans = KMeans(n_clusters=n_clusters)\n",
    "kmeans = AgglomerativeClustering(linkage='ward', n_clusters=n_clusters)\n",
    "kmeans.fit(list(dataset_avranks.values()))\n",
    "kmeans.labels_\n",
    "\n",
    "datasets_partition = []  # [[dataset]]\n",
    "for class_idx in range(n_clusters):\n",
    "    datasets = [dataset_name for dataset_name, label in zip(list(dataset_avranks.keys()), kmeans.labels_) if label == class_idx]\n",
    "    print(datasets)\n",
    "    datasets_partition.append(datasets)\n",
    "    \n",
    "plt.subplots(1, figsize=(15, 7))\n",
    "for class_idx in range(n_clusters):\n",
    "    datasets = datasets_partition[class_idx]\n",
    "    embedding_filtered = []\n",
    "    for dataset in datasets:\n",
    "        embedding_filtered.extend(dataset_embedding[dataset])\n",
    "    embedding_filtered = np.array(embedding_filtered)\n",
    "    plt.scatter(embedding_filtered[:, 0], embedding_filtered[:, 1], label=class_idx)\n",
    "plt.legend()"
   ]
  },
  {
   "cell_type": "code",
   "execution_count": null,
   "metadata": {},
   "outputs": [],
   "source": [
    "for group_idx, datasets_group in enumerate(datasets_partition):\n",
    "    results_filtered = {k: v for k, v in results.items() if k[0] in datasets_group}\n",
    "    results_modularity_any3 = defaultdict(lambda: defaultdict(list)) # {dataset_graphidx, {kernel_name: best_ari}}\n",
    "    for (dataset, kernel_name, graph_idx), si_ari in results_filtered.items():\n",
    "        results_modularity_any3[(dataset, graph_idx)][kernel_name] = si_ari['modularity_any3']\n",
    "\n",
    "    avranks, names, n_experiments = calc_avranks(results_modularity_any3)\n",
    "    print(datasets_group)\n",
    "    print(f'n_experiments: {n_experiments}')\n",
    "    cd = Orange.evaluation.compute_CD(avranks, n_experiments, alpha='0.1')\n",
    "    Orange.evaluation.graph_ranks(avranks, names, cd=cd, width=9, textspace=1.5)\n",
    "    plt.show()"
   ]
  },
  {
   "cell_type": "code",
   "execution_count": null,
   "metadata": {},
   "outputs": [],
   "source": []
  }
 ],
 "metadata": {
  "kernelspec": {
   "display_name": "Python 3",
   "language": "python",
   "name": "python3"
  },
  "language_info": {
   "codemirror_mode": {
    "name": "ipython",
    "version": 3
   },
   "file_extension": ".py",
   "mimetype": "text/x-python",
   "name": "python",
   "nbconvert_exporter": "python",
   "pygments_lexer": "ipython3",
   "version": "3.6.9"
  }
 },
 "nbformat": 4,
 "nbformat_minor": 4
}
