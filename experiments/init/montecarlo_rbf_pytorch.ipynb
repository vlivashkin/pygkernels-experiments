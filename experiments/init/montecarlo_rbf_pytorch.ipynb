{
 "cells": [
  {
   "cell_type": "markdown",
   "metadata": {},
   "source": [
    "# one vs all"
   ]
  },
  {
   "cell_type": "code",
   "execution_count": 38,
   "metadata": {},
   "outputs": [],
   "source": [
    "import torch_rbf as rbf\n",
    "import torch\n",
    "import torch.nn as nn\n",
    "from torch.utils.data import Dataset, DataLoader\n",
    "import sys\n",
    "import numpy as np\n",
    "import matplotlib.pyplot as plt"
   ]
  },
  {
   "cell_type": "code",
   "execution_count": 86,
   "metadata": {},
   "outputs": [],
   "source": [
    "# Defining an RBF network class\n",
    "\n",
    "class MyDataset(Dataset):\n",
    "    def __init__(self, x, y):\n",
    "        self.x = x\n",
    "        self.y = y\n",
    "    \n",
    "    def __len__(self):\n",
    "        return self.x.size(0)\n",
    "    \n",
    "    def __getitem__(self, idx):\n",
    "        x = self.x[idx]\n",
    "        y = self.y[idx]\n",
    "        return (x, y)\n",
    "\n",
    "class Network(nn.Module):\n",
    "    def __init__(self, layer_widths, layer_centres, basis_func):\n",
    "        super(Network, self).__init__()\n",
    "        self.rbf_layers = nn.ModuleList()\n",
    "        self.linear_layers = nn.ModuleList()\n",
    "        for i in range(len(layer_widths) - 1):\n",
    "            self.rbf_layers.append(rbf.RBF(layer_widths[i], layer_centres[i], basis_func))\n",
    "            self.linear_layers.append(nn.Linear(layer_centres[i], layer_widths[i+1]))\n",
    "    \n",
    "    def forward(self, x):\n",
    "        out = x\n",
    "        for i in range(len(self.rbf_layers)):\n",
    "            out = self.rbf_layers[i](out)\n",
    "            out = self.linear_layers[i](out)\n",
    "        return torch.sigmoid(out)\n",
    "    \n",
    "    def fit(self, x, y, epochs, batch_size, lr, loss_func):\n",
    "        self.train()\n",
    "        obs = x.size(0)\n",
    "        trainset = MyDataset(x, y)\n",
    "        trainloader = DataLoader(trainset, batch_size=batch_size, shuffle=True)\n",
    "        optimiser = torch.optim.Adam(self.parameters(), lr=lr)\n",
    "        epoch = 0\n",
    "        while epoch < epochs:\n",
    "            epoch += 1\n",
    "            current_loss = 0\n",
    "            batches = 0\n",
    "            progress = 0\n",
    "            for x_batch, y_batch in trainloader:\n",
    "                batches += 1\n",
    "                optimiser.zero_grad()\n",
    "                y_hat = self.forward(x_batch)\n",
    "                loss = loss_func(y_hat, y_batch)\n",
    "                current_loss += (1/batches) * (loss.item() - current_loss)\n",
    "                loss.backward()\n",
    "                optimiser.step()\n",
    "                progress += y_batch.size(0)\n",
    "                sys.stdout.write('\\rEpoch: %d, Progress: %d/%d, Loss: %f      ' % \\\n",
    "                                 (epoch, progress, obs, current_loss))\n",
    "                sys.stdout.flush()"
   ]
  },
  {
   "cell_type": "code",
   "execution_count": 87,
   "metadata": {},
   "outputs": [
    {
     "data": {
      "text/plain": [
       "(torch.Size([1196, 12]), torch.Size([1196, 25]))"
      ]
     },
     "execution_count": 87,
     "metadata": {},
     "output_type": "execute_result"
    }
   ],
   "source": [
    "tx = torch.tensor([[fnc[fname](item[1][fname]) for fname in all_feature_names] for item in dataset]).float()\n",
    "ty = torch.tensor([[item[0][kernel] for kernel in kernels_order] for item in dataset]).float()\n",
    "tx.shape, ty.shape"
   ]
  },
  {
   "cell_type": "code",
   "execution_count": 113,
   "metadata": {},
   "outputs": [
    {
     "data": {
      "text/plain": [
       "tensor(0.0575)"
      ]
     },
     "execution_count": 113,
     "metadata": {},
     "output_type": "execute_result"
    }
   ],
   "source": [
    "def binary_loss_wrapper(idx):\n",
    "    def binary_loss(y_pred, y_true):\n",
    "        y_true_max = torch.max(y_true, axis=1)[0]\n",
    "        y_true_target = y_true[:, idx]\n",
    "        y_true_wo_target = torch.max(torch.cat((y_true[:, :idx], y_true[:, idx+1:]), axis=1), axis=1)[0]\n",
    "        y_true = torch.stack((y_true_wo_target, y_true_target), axis=1)\n",
    "        weighted_result = y_true_target * y_pred + y_true_wo_target * (1 - y_pred)\n",
    "        return torch.mean(y_true_max - weighted_result)\n",
    "    return binary_loss\n",
    "\n",
    "binary_loss_wrapper(2)(\n",
    "    torch.tensor([0.7, 0.3, 0.1, 0.6]),\n",
    "    torch.tensor([\n",
    "        [0.7, 0.8, 0.9],\n",
    "        [0.7, 0.8, 0.9],\n",
    "        [0.7, 0.8, 0.9],\n",
    "        [0.7, 0.8, 0.9],\n",
    "    ])\n",
    ")"
   ]
  },
  {
   "cell_type": "code",
   "execution_count": 114,
   "metadata": {},
   "outputs": [
    {
     "name": "stdout",
     "output_type": "stream",
     "text": [
      "Epoch: 100, Progress: 1196/1196, Loss: 0.048424      "
     ]
    },
    {
     "data": {
      "text/plain": [
       "Network(\n",
       "  (rbf_layers): ModuleList(\n",
       "    (0): RBF()\n",
       "  )\n",
       "  (linear_layers): ModuleList(\n",
       "    (0): Linear(in_features=40, out_features=1, bias=True)\n",
       "  )\n",
       ")"
      ]
     },
     "execution_count": 114,
     "metadata": {},
     "output_type": "execute_result"
    }
   ],
   "source": [
    "# Instanciating and training an RBF network with the Gaussian basis function\n",
    "# This network receives a 2-dimensional input, transforms it into a 40-dimensional\n",
    "# hidden representation with an RBF layer and then transforms that into a\n",
    "# 1-dimensional output/prediction with a linear layer\n",
    "\n",
    "# To add more layers, change the layer_widths and layer_centres lists\n",
    "\n",
    "layer_widths = [12, 1]\n",
    "layer_centres = [40]\n",
    "basis_func = rbf.gaussian\n",
    "\n",
    "rbfnet = Network(layer_widths, layer_centres, basis_func)\n",
    "rbfnet.fit(tx, ty, 100, 200, 0.01, binary_loss_wrapper(11))\n",
    "rbfnet.eval()"
   ]
  },
  {
   "cell_type": "code",
   "execution_count": 115,
   "metadata": {},
   "outputs": [
    {
     "data": {
      "text/plain": [
       "(1196, 1)"
      ]
     },
     "execution_count": 115,
     "metadata": {},
     "output_type": "execute_result"
    }
   ],
   "source": [
    "# Plotting the ideal and learned decision boundaries\n",
    "\n",
    "with torch.no_grad():\n",
    "    preds = rbfnet(tx).data.numpy()\n",
    "\n",
    "preds.shape"
   ]
  },
  {
   "cell_type": "code",
   "execution_count": 116,
   "metadata": {},
   "outputs": [
    {
     "data": {
      "text/plain": [
       "[<matplotlib.lines.Line2D at 0x7fbaf1343630>]"
      ]
     },
     "execution_count": 116,
     "metadata": {},
     "output_type": "execute_result"
    },
    {
     "data": {
      "image/png": "[encoded data removed]",
      "text/plain": [
       "<Figure size 432x288 with 1 Axes>"
      ]
     },
     "metadata": {
      "needs_background": "light"
     },
     "output_type": "display_data"
    }
   ],
   "source": [
    "plt.plot(preds)"
   ]
  }
 ],
 "metadata": {
  "kernelspec": {
   "display_name": "Python 3",
   "language": "python",
   "name": "python3"
  },
  "language_info": {
   "codemirror_mode": {
    "name": "ipython",
    "version": 3
   },
   "file_extension": ".py",
   "mimetype": "text/x-python",
   "name": "python",
   "nbconvert_exporter": "python",
   "pygments_lexer": "ipython3",
   "version": "3.6.9"
  }
 },
 "nbformat": 4,
 "nbformat_minor": 4
}
