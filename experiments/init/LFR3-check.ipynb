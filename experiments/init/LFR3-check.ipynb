{
 "cells": [
  {
   "cell_type": "code",
   "execution_count": 15,
   "metadata": {},
   "outputs": [],
   "source": [
    "from collections import defaultdict\n",
    "from itertools import product\n",
    "\n",
    "import Orange\n",
    "import matplotlib.pyplot as plt\n",
    "import numpy as np\n",
    "import pandas as pd\n",
    "from scipy.stats import rankdata\n",
    "from sklearn.cluster import AgglomerativeClustering\n",
    "\n",
    "from helpers import Datasets_Data, SBM_Data, LFR_Data, calc_avranks, sbm_neighbour_score"
   ]
  },
  {
   "cell_type": "code",
   "execution_count": 16,
   "metadata": {},
   "outputs": [],
   "source": [
    "_, results_datasets, results_modularity = Datasets_Data().load_precalculated()\n",
    "_, results_sbm, _ = SBM_Data().load_precalculated()\n",
    "_, results_lfr, _ = LFR_Data().load_precalculated()"
   ]
  },
  {
   "cell_type": "code",
   "execution_count": 17,
   "metadata": {},
   "outputs": [
    {
     "data": {
      "text/plain": [
       "['news_2cl1_0.1',\n",
       " 'news_2cl3_0.1',\n",
       " 'news_3cl1_0.1',\n",
       " 'news_2cl2_0.1',\n",
       " 'news_3cl2_0.1',\n",
       " 'cora_IR',\n",
       " 'news_5cl1_0.1',\n",
       " 'karate',\n",
       " 'news_5cl2_0.1',\n",
       " 'polblogs',\n",
       " 'news_3cl3_0.1',\n",
       " 'news_5cl3_0.1',\n",
       " 'cora_DB']"
      ]
     },
     "execution_count": 17,
     "metadata": {},
     "output_type": "execute_result"
    }
   ],
   "source": [
    "allowed_datasets = set([x[12:] for x in results_lfr.keys()])\n",
    "# allowed2 = set([\n",
    "#     'dolphins',\n",
    "#     'football',\n",
    "#     'karate',\n",
    "#     'polbooks',\n",
    "#     'sp_school_day_1', 'sp_school_day_2',\n",
    "#     'news_2cl1_0.1', 'news_2cl2_0.1', 'news_2cl3_0.1',\n",
    "#     'news_3cl1_0.1', 'news_3cl2_0.1', 'news_3cl3_0.1',\n",
    "#     'news_5cl1_0.1', 'news_5cl2_0.1'\n",
    "# ])\n",
    "# allowed_datasets = allowed_datasets.intersection(allowed2)\n",
    "allowed_datasets = list(allowed_datasets)\n",
    "allowed_datasets"
   ]
  },
  {
   "cell_type": "code",
   "execution_count": 18,
   "metadata": {},
   "outputs": [
    {
     "data": {
      "text/plain": [
       "['Katz',\n",
       " 'logKatz',\n",
       " 'For',\n",
       " 'logFor',\n",
       " 'Comm',\n",
       " 'logComm',\n",
       " 'Heat',\n",
       " 'logHeat',\n",
       " 'NHeat',\n",
       " 'logNHeat',\n",
       " 'SCT',\n",
       " 'SCCT',\n",
       " 'RSP',\n",
       " 'FE',\n",
       " 'PPR',\n",
       " 'logPPR',\n",
       " 'ModifPPR',\n",
       " 'logModifPPR',\n",
       " 'HeatPR',\n",
       " 'logHeatPR',\n",
       " 'DF',\n",
       " 'logDF',\n",
       " 'Abs',\n",
       " 'logAbs',\n",
       " 'SP-CT']"
      ]
     },
     "execution_count": 18,
     "metadata": {},
     "output_type": "execute_result"
    }
   ],
   "source": [
    "kernel_names = list(results_datasets[allowed_datasets[1]][0].keys())\n",
    "kernel_names"
   ]
  },
  {
   "cell_type": "markdown",
   "metadata": {},
   "source": [
    "# Baseline (best measuse for all)"
   ]
  },
  {
   "cell_type": "code",
   "execution_count": 5,
   "metadata": {},
   "outputs": [],
   "source": [
    "baseline = defaultdict(list)\n",
    "for dataset in allowed_datasets:\n",
    "    for i in range(7):\n",
    "        for kernel_name in kernel_names:\n",
    "            result = results_datasets[dataset][i][kernel_name]\n",
    "            assert type(result) == float\n",
    "            baseline[kernel_name].append(result)\n",
    "baseline = {k: np.mean(v) for k, v in baseline.items()}\n",
    "# baseline"
   ]
  },
  {
   "cell_type": "code",
   "execution_count": 6,
   "metadata": {},
   "outputs": [
    {
     "name": "stdout",
     "output_type": "stream",
     "text": [
      "SCT: 0.782\n"
     ]
    }
   ],
   "source": [
    "baseline_measure = list(baseline.keys())[np.argmax(list(baseline.values()))]\n",
    "baseline_meanari = baseline[baseline_measure]\n",
    "print(f\"{baseline_measure}: {baseline_meanari:.3f}\")"
   ]
  },
  {
   "cell_type": "markdown",
   "metadata": {},
   "source": [
    "# Upper bound"
   ]
  },
  {
   "cell_type": "code",
   "execution_count": 7,
   "metadata": {},
   "outputs": [],
   "source": [
    "def calc_upperbound(results_datasets, n=7, prefix=''):\n",
    "    upperbound_measures = {}\n",
    "    upperbound_meanaris = {}\n",
    "    for dataset in allowed_datasets:\n",
    "        dataset_results = defaultdict(list)\n",
    "        for i in range(n):\n",
    "            for kernel_name in kernel_names:\n",
    "                result = results_datasets[prefix + dataset][i][kernel_name]\n",
    "                assert type(result) == float, f\"{dataset}, {i}, {kernel_name}\"\n",
    "                dataset_results[kernel_name].append(result)\n",
    "        dataset_results = {k: np.mean(v) for k, v in dataset_results.items()}\n",
    "        dataset_bestmeasure = list(dataset_results.keys())[np.argmax(list(dataset_results.values()))]\n",
    "        dataset_bestmeanari = dataset_results[dataset_bestmeasure]\n",
    "        upperbound_measures[dataset] = dataset_bestmeasure\n",
    "        upperbound_meanaris[dataset] = dataset_bestmeanari\n",
    "    return upperbound_measures, upperbound_meanaris"
   ]
  },
  {
   "cell_type": "code",
   "execution_count": 8,
   "metadata": {},
   "outputs": [
    {
     "name": "stdout",
     "output_type": "stream",
     "text": [
      "upper bound 0.790\n"
     ]
    },
    {
     "data": {
      "text/plain": [
       "{'news_2cl1_0.1': 'SCT',\n",
       " 'news_2cl3_0.1': 'logFor',\n",
       " 'news_3cl1_0.1': 'HeatPR',\n",
       " 'news_2cl2_0.1': 'SCT',\n",
       " 'news_3cl2_0.1': 'logHeatPR',\n",
       " 'news_5cl1_0.1': 'logFor',\n",
       " 'karate': 'Katz',\n",
       " 'news_5cl2_0.1': 'FE',\n",
       " 'news_3cl3_0.1': 'NHeat'}"
      ]
     },
     "execution_count": 8,
     "metadata": {},
     "output_type": "execute_result"
    }
   ],
   "source": [
    "upperbound_measures, upperbound_meanaris = calc_upperbound(results_datasets)\n",
    "\n",
    "upperbound_meanari = np.mean(list(upperbound_meanaris.values()))\n",
    "print(f'upper bound {upperbound_meanari:.3f}')\n",
    "upperbound_measures"
   ]
  },
  {
   "cell_type": "markdown",
   "metadata": {},
   "source": [
    "# Ours LFR"
   ]
  },
  {
   "cell_type": "code",
   "execution_count": 9,
   "metadata": {},
   "outputs": [
    {
     "data": {
      "text/plain": [
       "{'news_2cl1_0.1': 'logKatz',\n",
       " 'news_2cl3_0.1': 'logKatz',\n",
       " 'news_3cl1_0.1': 'logKatz',\n",
       " 'news_2cl2_0.1': 'SCT',\n",
       " 'news_3cl2_0.1': 'SCT',\n",
       " 'news_5cl1_0.1': 'logNHeat',\n",
       " 'karate': 'RSP',\n",
       " 'news_5cl2_0.1': 'logPPR',\n",
       " 'news_3cl3_0.1': 'Heat'}"
      ]
     },
     "execution_count": 9,
     "metadata": {},
     "output_type": "execute_result"
    }
   ],
   "source": [
    "lfr_measures, lfr_meanaris = calc_upperbound(results_lfr, n=1, prefix='dataset2lfr_')\n",
    "lfr_measures"
   ]
  },
  {
   "cell_type": "code",
   "execution_count": 10,
   "metadata": {},
   "outputs": [],
   "source": [
    "ours_meanaris = {}\n",
    "for dataset in allowed_datasets:\n",
    "    dataset_results = []\n",
    "    for i in range(7):\n",
    "        result = results_datasets[dataset][i][lfr_measures[dataset]]\n",
    "        assert type(result) == float\n",
    "        dataset_results.append(result)\n",
    "    ours_meanaris[dataset] = np.mean(dataset_results)"
   ]
  },
  {
   "cell_type": "code",
   "execution_count": 11,
   "metadata": {},
   "outputs": [
    {
     "name": "stdout",
     "output_type": "stream",
     "text": [
      "ours lfr 0.766\n"
     ]
    }
   ],
   "source": [
    "ours_meanari = np.mean(list(ours_meanaris.values()))\n",
    "print(f'ours lfr {ours_meanari:.3f}')"
   ]
  },
  {
   "cell_type": "markdown",
   "metadata": {},
   "source": [
    "# Ours SBM"
   ]
  },
  {
   "cell_type": "code",
   "execution_count": 12,
   "metadata": {},
   "outputs": [
    {
     "data": {
      "text/plain": [
       "{'news_2cl1_0.1': 'logKatz',\n",
       " 'news_2cl3_0.1': 'Katz',\n",
       " 'news_3cl1_0.1': 'logKatz',\n",
       " 'news_2cl2_0.1': 'logKatz',\n",
       " 'news_3cl2_0.1': 'logKatz',\n",
       " 'news_5cl1_0.1': 'logFor',\n",
       " 'karate': 'Katz',\n",
       " 'news_5cl2_0.1': 'SCCT',\n",
       " 'news_3cl3_0.1': 'logFor'}"
      ]
     },
     "execution_count": 12,
     "metadata": {},
     "output_type": "execute_result"
    }
   ],
   "source": [
    "sbm_measures, sbm_meanaris = calc_upperbound(results_sbm, n=1, prefix='dataset2sbm_')\n",
    "sbm_measures"
   ]
  },
  {
   "cell_type": "code",
   "execution_count": 13,
   "metadata": {},
   "outputs": [],
   "source": [
    "ours_meanaris = {}\n",
    "for dataset in allowed_datasets:\n",
    "    dataset_results = []\n",
    "    for i in range(7):\n",
    "        result = results_datasets[dataset][i][sbm_measures[dataset]]\n",
    "        assert type(result) == float\n",
    "        dataset_results.append(result)\n",
    "    ours_meanaris[dataset] = np.mean(dataset_results)"
   ]
  },
  {
   "cell_type": "code",
   "execution_count": 14,
   "metadata": {},
   "outputs": [
    {
     "name": "stdout",
     "output_type": "stream",
     "text": [
      "ours sbm 0.724\n"
     ]
    }
   ],
   "source": [
    "ours_meanari = np.mean(list(ours_meanaris.values()))\n",
    "print(f'ours sbm {ours_meanari:.3f}')"
   ]
  },
  {
   "cell_type": "code",
   "execution_count": null,
   "metadata": {},
   "outputs": [],
   "source": []
  }
 ],
 "metadata": {
  "kernelspec": {
   "display_name": "Python 3",
   "language": "python",
   "name": "python3"
  },
  "language_info": {
   "codemirror_mode": {
    "name": "ipython",
    "version": 3
   },
   "file_extension": ".py",
   "mimetype": "text/x-python",
   "name": "python",
   "nbconvert_exporter": "python",
   "pygments_lexer": "ipython3",
   "version": "3.6.9"
  }
 },
 "nbformat": 4,
 "nbformat_minor": 4
}
