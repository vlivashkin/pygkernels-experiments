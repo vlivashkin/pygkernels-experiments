{
 "cells": [
  {
   "cell_type": "code",
   "execution_count": 1,
   "metadata": {},
   "outputs": [],
   "source": [
    "%matplotlib inline"
   ]
  },
  {
   "cell_type": "code",
   "execution_count": 2,
   "metadata": {},
   "outputs": [],
   "source": [
    "from collections import defaultdict\n",
    "\n",
    "import networkx as nx\n",
    "import numpy as np\n",
    "import pandas as pd\n",
    "from joblib import Parallel, delayed\n",
    "from networkx.algorithms.approximation import clique\n",
    "from sklearn.linear_model import LogisticRegression\n",
    "from sklearn.metrics import accuracy_score, f1_score\n",
    "from tqdm.notebook import tqdm\n",
    "\n",
    "from utils import Datasets_Data, RFE_custom, load_or_calc_and_save, ytrue_to_partition, calc_avranks"
   ]
  },
  {
   "cell_type": "code",
   "execution_count": 3,
   "metadata": {},
   "outputs": [
    {
     "name": "stderr",
     "output_type": "stream",
     "text": [
      "100%|██████████| 24/24 [00:00<00:00, 1798.43it/s]"
     ]
    },
    {
     "name": "stdout",
     "output_type": "stream",
     "text": [
      "wrapper: cache file ../../cache/cache/feature_importance/cora_DB.pkl found! Skip calculations\n",
      "wrapper: cache file ../../cache/cache/feature_importance/cora_EC.pkl found! Skip calculations\n",
      "wrapper: cache file ../../cache/cache/feature_importance/cora_HA.pkl found! Skip calculations\n",
      "wrapper: cache file ../../cache/cache/feature_importance/cora_HCI.pkl found! Skip calculations\n",
      "wrapper: cache file ../../cache/cache/feature_importance/cora_IR.pkl found! Skip calculations\n",
      "wrapper: cache file ../../cache/cache/feature_importance/cora_Net.pkl found! Skip calculations\n",
      "wrapper: cache file ../../cache/cache/feature_importance/dolphins.pkl found! Skip calculations\n",
      "wrapper: cache file ../../cache/cache/feature_importance/eu-core.pkl found! Skip calculations\n",
      "wrapper: cache file ../../cache/cache/feature_importance/eurosis.pkl found! Skip calculations\n",
      "wrapper: cache file ../../cache/cache/feature_importance/football.pkl found! Skip calculations\n",
      "wrapper: cache file ../../cache/cache/feature_importance/karate.pkl found! Skip calculations\n",
      "wrapper: cache file ../../cache/cache/feature_importance/news_2cl1_0.1.pkl found! Skip calculations\n",
      "wrapper: cache file ../../cache/cache/feature_importance/news_2cl2_0.1.pkl found! Skip calculations\n",
      "wrapper: cache file ../../cache/cache/feature_importance/news_2cl3_0.1.pkl found! Skip calculations\n",
      "wrapper: cache file ../../cache/cache/feature_importance/news_3cl1_0.1.pkl found! Skip calculations\n",
      "wrapper: cache file ../../cache/cache/feature_importance/news_3cl2_0.1.pkl found! Skip calculations\n",
      "wrapper: cache file ../../cache/cache/feature_importance/news_3cl3_0.1.pkl found! Skip calculations\n",
      "wrapper: cache file ../../cache/cache/feature_importance/news_5cl1_0.1.pkl found! Skip calculations\n",
      "wrapper: cache file ../../cache/cache/feature_importance/news_5cl2_0.1.pkl found! Skip calculations\n",
      "wrapper: cache file ../../cache/cache/feature_importance/news_5cl3_0.1.pkl found! Skip calculations\n",
      "wrapper: cache file ../../cache/cache/feature_importance/polblogs.pkl found! Skip calculations\n",
      "wrapper: cache file ../../cache/cache/feature_importance/polbooks.pkl found! Skip calculations\n",
      "wrapper: cache file ../../cache/cache/feature_importance/sp_school_day_1.pkl found! Skip calculations\n",
      "wrapper: cache file ../../cache/cache/feature_importance/sp_school_day_2.pkl found! Skip calculations\n"
     ]
    },
    {
     "name": "stderr",
     "output_type": "stream",
     "text": [
      "\n"
     ]
    }
   ],
   "source": [
    "data_hub = Datasets_Data()\n",
    "results, results_modularity_any3, modularity_results = data_hub.load_precalculated()\n",
    "X, y, X_train, y_train, X_val, y_val, feature_names = data_hub.make_dataset(results_modularity_any3)"
   ]
  },
  {
   "cell_type": "markdown",
   "metadata": {},
   "source": [
    "# Feature importance"
   ]
  },
  {
   "cell_type": "code",
   "execution_count": 4,
   "metadata": {},
   "outputs": [
    {
     "data": {
      "text/plain": [
       "array([ 1.13876919, -0.49987918, -0.71082348,  0.05246037, -0.30272497,\n",
       "        7.49358751,  3.8630649 ,  1.15514418, -1.35364409,  0.79303828,\n",
       "        0.83106491,  0.81310777, -0.14811308,  1.1681215 ,  1.01302749,\n",
       "        1.27660159, -0.69948906, -0.70235936,  1.        ,  0.        ,\n",
       "        0.        ,  0.        ,  0.        ,  0.        ,  0.        ,\n",
       "        0.        ,  0.        ,  0.        ,  0.        ,  0.        ,\n",
       "        0.        ,  0.        ,  0.        ,  0.        ,  0.        ,\n",
       "        0.        ,  0.        ,  0.        ,  0.        ,  0.        ,\n",
       "        0.        ,  0.        ,  0.        ])"
      ]
     },
     "execution_count": 4,
     "metadata": {},
     "output_type": "execute_result"
    }
   ],
   "source": [
    "X_train[0]"
   ]
  },
  {
   "cell_type": "code",
   "execution_count": 5,
   "metadata": {},
   "outputs": [
    {
     "data": {
      "text/html": [
       "<div>\n",
       "<style scoped>\n",
       "    .dataframe tbody tr th:only-of-type {\n",
       "        vertical-align: middle;\n",
       "    }\n",
       "\n",
       "    .dataframe tbody tr th {\n",
       "        vertical-align: top;\n",
       "    }\n",
       "\n",
       "    .dataframe thead th {\n",
       "        text-align: right;\n",
       "    }\n",
       "</style>\n",
       "<table border=\"1\" class=\"dataframe\">\n",
       "  <thead>\n",
       "    <tr style=\"text-align: right;\">\n",
       "      <th></th>\n",
       "      <th>feature</th>\n",
       "      <th>importance</th>\n",
       "    </tr>\n",
       "  </thead>\n",
       "  <tbody>\n",
       "    <tr>\n",
       "      <th>0</th>\n",
       "      <td>median_sp</td>\n",
       "      <td>-3.193033</td>\n",
       "    </tr>\n",
       "    <tr>\n",
       "      <th>1</th>\n",
       "      <td>density</td>\n",
       "      <td>-1.179002</td>\n",
       "    </tr>\n",
       "    <tr>\n",
       "      <th>2</th>\n",
       "      <td>kernel_FE</td>\n",
       "      <td>1.116905</td>\n",
       "    </tr>\n",
       "    <tr>\n",
       "      <th>3</th>\n",
       "      <td>kernel_logFor</td>\n",
       "      <td>0.959298</td>\n",
       "    </tr>\n",
       "    <tr>\n",
       "      <th>4</th>\n",
       "      <td>kernel_RSP</td>\n",
       "      <td>0.959298</td>\n",
       "    </tr>\n",
       "    <tr>\n",
       "      <th>5</th>\n",
       "      <td>median_deg</td>\n",
       "      <td>-0.942677</td>\n",
       "    </tr>\n",
       "    <tr>\n",
       "      <th>6</th>\n",
       "      <td>avg(deg | deg &gt; avg_deg)</td>\n",
       "      <td>-0.808434</td>\n",
       "    </tr>\n",
       "    <tr>\n",
       "      <th>7</th>\n",
       "      <td>log(n)/k * p_in/p_out</td>\n",
       "      <td>-0.787813</td>\n",
       "    </tr>\n",
       "    <tr>\n",
       "      <th>8</th>\n",
       "      <td>avg_sp</td>\n",
       "      <td>0.784672</td>\n",
       "    </tr>\n",
       "    <tr>\n",
       "      <th>9</th>\n",
       "      <td>kernel_Comm</td>\n",
       "      <td>-0.765955</td>\n",
       "    </tr>\n",
       "    <tr>\n",
       "      <th>10</th>\n",
       "      <td>kernel_logHeat</td>\n",
       "      <td>-0.765955</td>\n",
       "    </tr>\n",
       "    <tr>\n",
       "      <th>11</th>\n",
       "      <td>kernel_HeatPR</td>\n",
       "      <td>0.694670</td>\n",
       "    </tr>\n",
       "    <tr>\n",
       "      <th>12</th>\n",
       "      <td>log(n/k) * p_in/p_out</td>\n",
       "      <td>0.660714</td>\n",
       "    </tr>\n",
       "    <tr>\n",
       "      <th>13</th>\n",
       "      <td>kernel_logKatz</td>\n",
       "      <td>-0.587600</td>\n",
       "    </tr>\n",
       "    <tr>\n",
       "      <th>14</th>\n",
       "      <td>kernel_SCT</td>\n",
       "      <td>-0.587600</td>\n",
       "    </tr>\n",
       "    <tr>\n",
       "      <th>15</th>\n",
       "      <td>kernel_Katz</td>\n",
       "      <td>-0.587600</td>\n",
       "    </tr>\n",
       "    <tr>\n",
       "      <th>16</th>\n",
       "      <td>n/k</td>\n",
       "      <td>0.564184</td>\n",
       "    </tr>\n",
       "    <tr>\n",
       "      <th>17</th>\n",
       "      <td>std_sp</td>\n",
       "      <td>0.544975</td>\n",
       "    </tr>\n",
       "    <tr>\n",
       "      <th>18</th>\n",
       "      <td>std_deg</td>\n",
       "      <td>-0.537795</td>\n",
       "    </tr>\n",
       "    <tr>\n",
       "      <th>19</th>\n",
       "      <td>diameter</td>\n",
       "      <td>0.495728</td>\n",
       "    </tr>\n",
       "    <tr>\n",
       "      <th>20</th>\n",
       "      <td>kernel_SP-CT</td>\n",
       "      <td>0.495590</td>\n",
       "    </tr>\n",
       "    <tr>\n",
       "      <th>21</th>\n",
       "      <td>p_in/p_out</td>\n",
       "      <td>0.488748</td>\n",
       "    </tr>\n",
       "    <tr>\n",
       "      <th>22</th>\n",
       "      <td>kernel_PPR</td>\n",
       "      <td>-0.420055</td>\n",
       "    </tr>\n",
       "    <tr>\n",
       "      <th>23</th>\n",
       "      <td>kernel_logComm</td>\n",
       "      <td>-0.420055</td>\n",
       "    </tr>\n",
       "    <tr>\n",
       "      <th>24</th>\n",
       "      <td>kernel_logPPR</td>\n",
       "      <td>-0.420055</td>\n",
       "    </tr>\n",
       "    <tr>\n",
       "      <th>25</th>\n",
       "      <td>kernel_logModifPPR</td>\n",
       "      <td>0.387491</td>\n",
       "    </tr>\n",
       "    <tr>\n",
       "      <th>26</th>\n",
       "      <td>kernel_DF</td>\n",
       "      <td>0.387491</td>\n",
       "    </tr>\n",
       "    <tr>\n",
       "      <th>27</th>\n",
       "      <td>avg_deg</td>\n",
       "      <td>0.302049</td>\n",
       "    </tr>\n",
       "    <tr>\n",
       "      <th>28</th>\n",
       "      <td>kernel_ModifPPR</td>\n",
       "      <td>0.272795</td>\n",
       "    </tr>\n",
       "    <tr>\n",
       "      <th>29</th>\n",
       "      <td>kernel_Heat</td>\n",
       "      <td>0.272795</td>\n",
       "    </tr>\n",
       "    <tr>\n",
       "      <th>30</th>\n",
       "      <td>kernel_SCCT</td>\n",
       "      <td>0.272795</td>\n",
       "    </tr>\n",
       "    <tr>\n",
       "      <th>31</th>\n",
       "      <td>kernel_NHeat</td>\n",
       "      <td>-0.263058</td>\n",
       "    </tr>\n",
       "    <tr>\n",
       "      <th>32</th>\n",
       "      <td>kernel_For</td>\n",
       "      <td>-0.263058</td>\n",
       "    </tr>\n",
       "    <tr>\n",
       "      <th>33</th>\n",
       "      <td>kernel_logDF</td>\n",
       "      <td>-0.263058</td>\n",
       "    </tr>\n",
       "    <tr>\n",
       "      <th>34</th>\n",
       "      <td>kernel_logHeatPR</td>\n",
       "      <td>-0.263058</td>\n",
       "    </tr>\n",
       "    <tr>\n",
       "      <th>35</th>\n",
       "      <td>n/k * p_in/p_out</td>\n",
       "      <td>0.169118</td>\n",
       "    </tr>\n",
       "    <tr>\n",
       "      <th>36</th>\n",
       "      <td>max_clique/(n/k)</td>\n",
       "      <td>0.148610</td>\n",
       "    </tr>\n",
       "    <tr>\n",
       "      <th>37</th>\n",
       "      <td>modularity</td>\n",
       "      <td>-0.144976</td>\n",
       "    </tr>\n",
       "    <tr>\n",
       "      <th>38</th>\n",
       "      <td>kernel_Abs</td>\n",
       "      <td>-0.116116</td>\n",
       "    </tr>\n",
       "    <tr>\n",
       "      <th>39</th>\n",
       "      <td>kernel_logNHeat</td>\n",
       "      <td>-0.116116</td>\n",
       "    </tr>\n",
       "    <tr>\n",
       "      <th>40</th>\n",
       "      <td>max_clique</td>\n",
       "      <td>0.116020</td>\n",
       "    </tr>\n",
       "    <tr>\n",
       "      <th>41</th>\n",
       "      <td>sbm_neighbour_score</td>\n",
       "      <td>0.114679</td>\n",
       "    </tr>\n",
       "    <tr>\n",
       "      <th>42</th>\n",
       "      <td>kernel_logAbs</td>\n",
       "      <td>0.021600</td>\n",
       "    </tr>\n",
       "  </tbody>\n",
       "</table>\n",
       "</div>"
      ],
      "text/plain": [
       "                     feature  importance\n",
       "0                  median_sp   -3.193033\n",
       "1                    density   -1.179002\n",
       "2                  kernel_FE    1.116905\n",
       "3              kernel_logFor    0.959298\n",
       "4                 kernel_RSP    0.959298\n",
       "5                 median_deg   -0.942677\n",
       "6   avg(deg | deg > avg_deg)   -0.808434\n",
       "7      log(n)/k * p_in/p_out   -0.787813\n",
       "8                     avg_sp    0.784672\n",
       "9                kernel_Comm   -0.765955\n",
       "10            kernel_logHeat   -0.765955\n",
       "11             kernel_HeatPR    0.694670\n",
       "12     log(n/k) * p_in/p_out    0.660714\n",
       "13            kernel_logKatz   -0.587600\n",
       "14                kernel_SCT   -0.587600\n",
       "15               kernel_Katz   -0.587600\n",
       "16                       n/k    0.564184\n",
       "17                    std_sp    0.544975\n",
       "18                   std_deg   -0.537795\n",
       "19                  diameter    0.495728\n",
       "20              kernel_SP-CT    0.495590\n",
       "21                p_in/p_out    0.488748\n",
       "22                kernel_PPR   -0.420055\n",
       "23            kernel_logComm   -0.420055\n",
       "24             kernel_logPPR   -0.420055\n",
       "25        kernel_logModifPPR    0.387491\n",
       "26                 kernel_DF    0.387491\n",
       "27                   avg_deg    0.302049\n",
       "28           kernel_ModifPPR    0.272795\n",
       "29               kernel_Heat    0.272795\n",
       "30               kernel_SCCT    0.272795\n",
       "31              kernel_NHeat   -0.263058\n",
       "32                kernel_For   -0.263058\n",
       "33              kernel_logDF   -0.263058\n",
       "34          kernel_logHeatPR   -0.263058\n",
       "35          n/k * p_in/p_out    0.169118\n",
       "36          max_clique/(n/k)    0.148610\n",
       "37                modularity   -0.144976\n",
       "38                kernel_Abs   -0.116116\n",
       "39           kernel_logNHeat   -0.116116\n",
       "40                max_clique    0.116020\n",
       "41       sbm_neighbour_score    0.114679\n",
       "42             kernel_logAbs    0.021600"
      ]
     },
     "execution_count": 5,
     "metadata": {},
     "output_type": "execute_result"
    }
   ],
   "source": [
    "estimator = LogisticRegression(max_iter=10000)\n",
    "estimator.fit(X_train, y_train)\n",
    "pd.DataFrame([{'feature': k, 'importance': v} for k, v in sorted(zip(feature_names, estimator.coef_[0]), key=lambda x: -np.abs(x[1]))])"
   ]
  },
  {
   "cell_type": "code",
   "execution_count": null,
   "metadata": {},
   "outputs": [
    {
     "name": "stderr",
     "output_type": "stream",
     "text": [
      "  0%|          | 0/18 [00:00<?, ?it/s]"
     ]
    },
    {
     "name": "stdout",
     "output_type": "stream",
     "text": [
      "all features, acc=0.934, f1=0.639\n"
     ]
    },
    {
     "name": "stderr",
     "output_type": "stream",
     "text": [
      "100%|██████████| 18/18 [00:05<00:00,  3.47it/s]\n",
      "  0%|          | 0/153 [00:00<?, ?it/s]"
     ]
    },
    {
     "name": "stdout",
     "output_type": "stream",
     "text": [
      "1 features, set=('median_deg',) acc=0.932, f1=0.597\n"
     ]
    },
    {
     "name": "stderr",
     "output_type": "stream",
     "text": [
      "100%|██████████| 153/153 [00:45<00:00,  3.38it/s]\n",
      "  0%|          | 0/816 [00:00<?, ?it/s]"
     ]
    },
    {
     "name": "stdout",
     "output_type": "stream",
     "text": [
      "2 features, set=('log(n)/k * p_in/p_out', 'n/k * p_in/p_out') acc=0.932, f1=0.633\n"
     ]
    },
    {
     "name": "stderr",
     "output_type": "stream",
     "text": [
      " 10%|█         | 82/816 [00:25<04:52,  2.51it/s]"
     ]
    }
   ],
   "source": [
    "estimator = LogisticRegression(max_iter=10000)\n",
    "selector = RFE_custom(estimator)  # , n_features_to_select=3, verbose=1\n",
    "selector = selector.fit(X_train, y_train, X_val, y_val, feature_names)"
   ]
  },
  {
   "cell_type": "code",
   "execution_count": null,
   "metadata": {},
   "outputs": [],
   "source": [
    "pd.DataFrame(zip(feature_names, selector.support_, selector.ranking_), columns=['feature', 'to choose', 'rank']).sort_values('rank')"
   ]
  },
  {
   "cell_type": "code",
   "execution_count": null,
   "metadata": {},
   "outputs": [],
   "source": [
    "estimator = LogisticRegression()\n",
    "estimator.fit(X_train[:, selector.support_], y_train)"
   ]
  },
  {
   "cell_type": "code",
   "execution_count": null,
   "metadata": {},
   "outputs": [],
   "source": [
    "print('\\n'.join([f'{k}\\t{v:.3f}' for k, v in sorted(zip(np.array(feature_names)[selector.support_], estimator.coef_[0]), key=lambda x: -np.abs(x[1]))]))"
   ]
  },
  {
   "cell_type": "code",
   "execution_count": null,
   "metadata": {},
   "outputs": [],
   "source": [
    "y_pred = estimator.predict(X_val[:, selector.support_])"
   ]
  },
  {
   "cell_type": "code",
   "execution_count": null,
   "metadata": {},
   "outputs": [],
   "source": [
    "accuracy_score(y_val.ravel(), y_pred.ravel())"
   ]
  },
  {
   "cell_type": "code",
   "execution_count": null,
   "metadata": {},
   "outputs": [],
   "source": [
    "f1_score(y_val.ravel(), y_pred.ravel())"
   ]
  },
  {
   "cell_type": "code",
   "execution_count": null,
   "metadata": {},
   "outputs": [],
   "source": []
  },
  {
   "cell_type": "code",
   "execution_count": null,
   "metadata": {},
   "outputs": [],
   "source": []
  }
 ],
 "metadata": {
  "kernelspec": {
   "display_name": "Python 3",
   "language": "python",
   "name": "python3"
  },
  "language_info": {
   "codemirror_mode": {
    "name": "ipython",
    "version": 3
   },
   "file_extension": ".py",
   "mimetype": "text/x-python",
   "name": "python",
   "nbconvert_exporter": "python",
   "pygments_lexer": "ipython3",
   "version": "3.6.9"
  }
 },
 "nbformat": 4,
 "nbformat_minor": 4
}