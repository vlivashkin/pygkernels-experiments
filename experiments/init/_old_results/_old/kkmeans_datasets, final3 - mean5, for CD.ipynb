{
 "cells": [
  {
   "cell_type": "code",
   "execution_count": 11,
   "metadata": {},
   "outputs": [],
   "source": [
    "import os\n",
    "import sys\n",
    "import pickle\n",
    "import json\n",
    "from collections import defaultdict, Counter\n",
    "from tqdm.notebook import tqdm\n",
    "import numpy as np\n",
    "from itertools import product\n",
    "import random\n",
    "\n",
    "sys.path.append('../../..')\n",
    "from pygraphs.measure import kernels"
   ]
  },
  {
   "cell_type": "code",
   "execution_count": 2,
   "metadata": {},
   "outputs": [],
   "source": [
    "shuffle = lambda x: sorted(x, key=lambda k: random.random())"
   ]
  },
  {
   "cell_type": "code",
   "execution_count": 3,
   "metadata": {},
   "outputs": [],
   "source": [
    "CACHE_ROOT = '/home/illusionww/Documents/HDD/phd/pygraphs/kkmeans_init_datasets_modularity/by_column_and_kernel'\n",
    "columns = [\n",
    "    'cora_DB', 'cora_EC', 'cora_HA', 'cora_HCI', 'cora_IR', 'cora_Net',\n",
    "    'dolphins',\n",
    "    'eu-core',\n",
    "    'eurosis',\n",
    "    'football',\n",
    "    'karate',\n",
    "    'news_2cl_1', 'news_2cl_2', 'news_2cl_3',\n",
    "    'news_3cl_1', 'news_3cl_2', 'news_3cl_3',\n",
    "    'news_5cl_1', 'news_5cl_2', 'news_5cl_3',\n",
    "    'polblogs',\n",
    "    'polbooks',\n",
    "    'sp_school_day_1', 'sp_school_day_2',\n",
    "]\n",
    "kernels_names = [\n",
    "    'Katz', 'logKatz',\n",
    "    'For', 'logFor',\n",
    "    'Comm', 'logComm',\n",
    "    'Heat', 'logHeat',\n",
    "    'NHeat', 'logNHeat',\n",
    "    'SCT', 'SCCT',\n",
    "    'RSP', 'FE',\n",
    "    'PPR', 'logPPR',\n",
    "    'ModifPPR', 'logModifPPR',\n",
    "    'HeatPR', 'logHeatPR',\n",
    "    'DF', 'logDF',\n",
    "    'Abs', 'logAbs',\n",
    "    'SP-CT'\n",
    "]"
   ]
  },
  {
   "cell_type": "markdown",
   "metadata": {},
   "source": [
    "# kkmeans init experiments, results\n",
    "\n",
    "Final goal: compare both different initialization (one, all, k-means++, any) and initialization quality measures (inertia, modularity) "
   ]
  },
  {
   "cell_type": "code",
   "execution_count": 5,
   "metadata": {},
   "outputs": [
    {
     "data": {
      "text/plain": [
       "{'labels': array([3, 3, 3, ..., 3, 3, 3]),\n",
       " 'inertia': array(7029.0024, dtype=float32),\n",
       " 'modularity': array([-6.830985e-06], dtype=float32),\n",
       " 'init': 'one',\n",
       " 'score_ari': 0.00046596517909929035,\n",
       " 'score_nmi': 0.039346568477725836}"
      ]
     },
     "execution_count": 5,
     "metadata": {},
     "output_type": "execute_result"
    }
   ],
   "source": [
    "# test\n",
    "column_str = columns[0]\n",
    "kernel_name = 'Comm'\n",
    "with open(f'{CACHE_ROOT}/{column_str}_{kernel_name}_results_00.pkl', 'rb') as f:\n",
    "    data = pickle.load(f)\n",
    "data[0.0][0]"
   ]
  },
  {
   "cell_type": "code",
   "execution_count": 12,
   "metadata": {},
   "outputs": [
    {
     "data": {
      "text/plain": [
       "Counter({'one': 30, 'all': 30, 'k-means++': 30})"
      ]
     },
     "execution_count": 12,
     "metadata": {},
     "output_type": "execute_result"
    }
   ],
   "source": [
    "Counter([x['init'] for x in data[0.0]])"
   ]
  },
  {
   "cell_type": "markdown",
   "metadata": {},
   "source": [
    "## Инициализация, дающая наилучший результат\n",
    "\n",
    "Для каждого графа определяем наилучшую инициализацию **для каждого параметра** (по inertia, ARI и NMI). После этого считаем статистику внутри каждого графа, сколько побед у каждого типа инициализаций (one, all, k-kmeans++), выбираем победителя для графа. После этого считаем статистику для всех графов, выбираем победителя. Делаем это для каждой меры и каждого сетапа генерации графов"
   ]
  },
  {
   "cell_type": "code",
   "execution_count": 6,
   "metadata": {},
   "outputs": [],
   "source": [
    "def group_inits(param_results):\n",
    "    \"\"\"\n",
    "    * Сначала группируем инициализации по one, all, k-kmeans++, any,\n",
    "    * Потом для каждой группы выбираем лучшую согласно inertia или modularity\n",
    "    \"\"\"\n",
    "    one_inits = shuffle([x for x in param_results if x['init'] == 'one'])\n",
    "    all_inits = shuffle([x for x in param_results if x['init'] == 'all'])\n",
    "    kmp_inits = shuffle([x for x in param_results if x['init'] == 'k-means++'])\n",
    "    any_inits = one_inits[:10] + all_inits[:10] + kmp_inits[:10]\n",
    "    any2_inits = all_inits[:15] + kmp_inits[:15]\n",
    "    if len(one_inits) == 0 or len(all_inits) == 0 or len(kmp_inits) == 0 or len(any_inits) == 0 \\\n",
    "        or len(any2_inits) == 0:\n",
    "        return None\n",
    "        \n",
    "    bestby = {\n",
    "        'one': {'inertia': one_inits[0], 'modularity': one_inits[0]},\n",
    "        'all': {'inertia': all_inits[0], 'modularity': all_inits[0]},\n",
    "        'kmp': {'inertia': kmp_inits[0], 'modularity': kmp_inits[0]},\n",
    "        'any': {'inertia': any_inits[0], 'modularity': any_inits[0]},\n",
    "        'any2': {'inertia': any2_inits[0], 'modularity': any2_inits[0]},\n",
    "    }\n",
    "    for init_name, inits in {'one': one_inits, 'all': all_inits, 'kmp': kmp_inits, 'any': any_inits,\n",
    "                             'any2': any2_inits}.items():\n",
    "        for init in inits:\n",
    "            if init['inertia'] < bestby[init_name]['inertia']['inertia']:  # choose best by inertia\n",
    "                bestby[init_name]['inertia'] = init\n",
    "            if init['modularity'] > bestby[init_name]['modularity']['modularity']:  # choose best by modularity\n",
    "                bestby[init_name]['modularity'] = init\n",
    "    return bestby"
   ]
  },
  {
   "cell_type": "code",
   "execution_count": 7,
   "metadata": {},
   "outputs": [],
   "source": [
    "def perform_column_kernel(data, score_name='score_ari'):\n",
    "    scores = []\n",
    "    # choose best score accross kernel param\n",
    "    for param, param_results in data.items():\n",
    "        bestby = group_inits(param_results)\n",
    "        if bestby is not None:\n",
    "            unsup, init_name = 'modularity', 'any2'\n",
    "            scores.append(bestby[init_name][unsup][score_name])\n",
    "    return scores"
   ]
  },
  {
   "cell_type": "code",
   "execution_count": 9,
   "metadata": {
    "scrolled": true
   },
   "outputs": [
    {
     "data": {
      "application/vnd.jupyter.widget-view+json": {
       "model_id": "d7f5e40c679a446c9cfe5c8de5ed71d2",
       "version_major": 2,
       "version_minor": 0
      },
      "text/plain": [
       "HBox(children=(IntProgress(value=0, max=600), HTML(value='')))"
      ]
     },
     "metadata": {},
     "output_type": "display_data"
    },
    {
     "name": "stdout",
     "output_type": "stream",
     "text": [
      "\n"
     ]
    }
   ],
   "source": [
    "results = defaultdict(lambda: dict())\n",
    "for column_str, kernel_name in tqdm(list(product(columns, kernels_names))):\n",
    "    for i in range(5):\n",
    "        filename = f'{column_str}_{kernel_name}_results_{str(i).zfill(2)}.pkl'\n",
    "        with open(f'{CACHE_ROOT}/{filename}', 'rb') as f:\n",
    "            data = pickle.load(f)\n",
    "        results[column_str][kernel_name] = perform_column_kernel(data)\n",
    "        break"
   ]
  },
  {
   "cell_type": "code",
   "execution_count": 10,
   "metadata": {},
   "outputs": [],
   "source": [
    "with open('results.pkl', 'wb') as f:\n",
    "    pickle.dump(dict(results), f)"
   ]
  },
  {
   "cell_type": "code",
   "execution_count": 11,
   "metadata": {},
   "outputs": [],
   "source": [
    "with open('all_scores.tsv', 'w') as f:\n",
    "    f.write('\\t')\n",
    "    for column in columns:\n",
    "        for init_name in ['inertia_one', 'inertia_all', 'inertia_kmp', 'inertia_any', 'inertia_any2',\n",
    "            'modularity_one', 'modularity_all', 'modularity_kmp', 'modularity_any', 'modularity_any2']:\n",
    "            f.write(f'{column}\\t')\n",
    "    f.write('\\n\\t')\n",
    "    for column in columns:\n",
    "        for init_name in ['inertia_one', 'inertia_all', 'inertia_kmp', 'inertia_any', 'inertia_any2',\n",
    "            'modularity_one', 'modularity_all', 'modularity_kmp', 'modularity_any', 'modularity_any2']:\n",
    "            f.write(f'{init_name}\\t')\n",
    "    f.write('\\n')\n",
    "    for kernel_name in kernels_names:\n",
    "        f.write(f'{kernel_name}\\t')\n",
    "        for column in columns:\n",
    "            column_str = column\n",
    "            for init_name in ['inertia_one', 'inertia_all', 'inertia_kmp', 'inertia_any', 'inertia_any2',\n",
    "                'modularity_one', 'modularity_all', 'modularity_kmp', 'modularity_any', 'modularity_any2']:\n",
    "                f.write(f'{results[column_str][kernel_name][\"mean_scores\"][init_name]}\\t')\n",
    "        f.write('\\n')"
   ]
  },
  {
   "cell_type": "code",
   "execution_count": null,
   "metadata": {},
   "outputs": [],
   "source": []
  }
 ],
 "metadata": {
  "kernelspec": {
   "display_name": "Python 3",
   "language": "python",
   "name": "python3"
  },
  "language_info": {
   "codemirror_mode": {
    "name": "ipython",
    "version": 3
   },
   "file_extension": ".py",
   "mimetype": "text/x-python",
   "name": "python",
   "nbconvert_exporter": "python",
   "pygments_lexer": "ipython3",
   "version": "3.6.9"
  }
 },
 "nbformat": 4,
 "nbformat_minor": 4
}
