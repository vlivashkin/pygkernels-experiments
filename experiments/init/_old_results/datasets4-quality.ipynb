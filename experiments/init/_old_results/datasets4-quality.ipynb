{
 "cells": [
  {
   "cell_type": "code",
   "execution_count": 1,
   "metadata": {},
   "outputs": [],
   "source": [
    "import pickle\n",
    "from collections import defaultdict\n",
    "\n",
    "import matplotlib.pyplot as plt\n",
    "import networkx as nx\n",
    "import numpy as np\n",
    "import pandas as pd\n",
    "from joblib import Parallel, delayed\n",
    "from networkx.algorithms.approximation import clique\n",
    "from sklearn.linear_model import LogisticRegression\n",
    "from sklearn.metrics import accuracy_score, f1_score\n",
    "from sklearn.preprocessing import Normalizer\n",
    "from tqdm.notebook import tqdm\n",
    "\n",
    "from utils import SBM_Data, Datasets_Data, load_or_calc_and_save, ytrue_to_partition, calc_avranks, RFE, RFE_LOO"
   ]
  },
  {
   "cell_type": "code",
   "execution_count": 2,
   "metadata": {},
   "outputs": [],
   "source": [
    "data_hub = Datasets_Data()\n",
    "_, results_modularity_any3, modularity_results = data_hub.load_precalculated()"
   ]
  },
  {
   "cell_type": "raw",
   "metadata": {},
   "source": [
    "results_modularity_any3['100_2_0.05_0.001'][0]['Katz']"
   ]
  },
  {
   "cell_type": "markdown",
   "metadata": {},
   "source": [
    "# Baseline: the best measure for all"
   ]
  },
  {
   "cell_type": "code",
   "execution_count": 3,
   "metadata": {},
   "outputs": [
    {
     "data": {
      "text/html": [
       "<div>\n",
       "<style scoped>\n",
       "    .dataframe tbody tr th:only-of-type {\n",
       "        vertical-align: middle;\n",
       "    }\n",
       "\n",
       "    .dataframe tbody tr th {\n",
       "        vertical-align: top;\n",
       "    }\n",
       "\n",
       "    .dataframe thead th {\n",
       "        text-align: right;\n",
       "    }\n",
       "</style>\n",
       "<table border=\"1\" class=\"dataframe\">\n",
       "  <thead>\n",
       "    <tr style=\"text-align: right;\">\n",
       "      <th></th>\n",
       "      <th>measure</th>\n",
       "      <th>mean ari</th>\n",
       "    </tr>\n",
       "  </thead>\n",
       "  <tbody>\n",
       "    <tr>\n",
       "      <th>10</th>\n",
       "      <td>SCT</td>\n",
       "      <td>0.686819</td>\n",
       "    </tr>\n",
       "    <tr>\n",
       "      <th>11</th>\n",
       "      <td>SCCT</td>\n",
       "      <td>0.686724</td>\n",
       "    </tr>\n",
       "    <tr>\n",
       "      <th>12</th>\n",
       "      <td>RSP</td>\n",
       "      <td>0.667269</td>\n",
       "    </tr>\n",
       "    <tr>\n",
       "      <th>24</th>\n",
       "      <td>SP-CT</td>\n",
       "      <td>0.663687</td>\n",
       "    </tr>\n",
       "    <tr>\n",
       "      <th>15</th>\n",
       "      <td>logPPR</td>\n",
       "      <td>0.662223</td>\n",
       "    </tr>\n",
       "    <tr>\n",
       "      <th>23</th>\n",
       "      <td>logAbs</td>\n",
       "      <td>0.661906</td>\n",
       "    </tr>\n",
       "    <tr>\n",
       "      <th>7</th>\n",
       "      <td>logHeat</td>\n",
       "      <td>0.661530</td>\n",
       "    </tr>\n",
       "    <tr>\n",
       "      <th>13</th>\n",
       "      <td>FE</td>\n",
       "      <td>0.660830</td>\n",
       "    </tr>\n",
       "    <tr>\n",
       "      <th>17</th>\n",
       "      <td>logModifPPR</td>\n",
       "      <td>0.660433</td>\n",
       "    </tr>\n",
       "    <tr>\n",
       "      <th>3</th>\n",
       "      <td>logFor</td>\n",
       "      <td>0.660237</td>\n",
       "    </tr>\n",
       "    <tr>\n",
       "      <th>9</th>\n",
       "      <td>logNHeat</td>\n",
       "      <td>0.658945</td>\n",
       "    </tr>\n",
       "    <tr>\n",
       "      <th>19</th>\n",
       "      <td>logHeatPR</td>\n",
       "      <td>0.657575</td>\n",
       "    </tr>\n",
       "    <tr>\n",
       "      <th>21</th>\n",
       "      <td>logDF</td>\n",
       "      <td>0.652447</td>\n",
       "    </tr>\n",
       "    <tr>\n",
       "      <th>5</th>\n",
       "      <td>logComm</td>\n",
       "      <td>0.646576</td>\n",
       "    </tr>\n",
       "    <tr>\n",
       "      <th>1</th>\n",
       "      <td>logKatz</td>\n",
       "      <td>0.626418</td>\n",
       "    </tr>\n",
       "    <tr>\n",
       "      <th>18</th>\n",
       "      <td>HeatPR</td>\n",
       "      <td>0.624758</td>\n",
       "    </tr>\n",
       "    <tr>\n",
       "      <th>8</th>\n",
       "      <td>NHeat</td>\n",
       "      <td>0.614645</td>\n",
       "    </tr>\n",
       "    <tr>\n",
       "      <th>14</th>\n",
       "      <td>PPR</td>\n",
       "      <td>0.586537</td>\n",
       "    </tr>\n",
       "    <tr>\n",
       "      <th>6</th>\n",
       "      <td>Heat</td>\n",
       "      <td>0.583184</td>\n",
       "    </tr>\n",
       "    <tr>\n",
       "      <th>2</th>\n",
       "      <td>For</td>\n",
       "      <td>0.509488</td>\n",
       "    </tr>\n",
       "    <tr>\n",
       "      <th>22</th>\n",
       "      <td>Abs</td>\n",
       "      <td>0.495826</td>\n",
       "    </tr>\n",
       "    <tr>\n",
       "      <th>16</th>\n",
       "      <td>ModifPPR</td>\n",
       "      <td>0.445713</td>\n",
       "    </tr>\n",
       "    <tr>\n",
       "      <th>0</th>\n",
       "      <td>Katz</td>\n",
       "      <td>0.405599</td>\n",
       "    </tr>\n",
       "    <tr>\n",
       "      <th>4</th>\n",
       "      <td>Comm</td>\n",
       "      <td>0.391615</td>\n",
       "    </tr>\n",
       "    <tr>\n",
       "      <th>20</th>\n",
       "      <td>DF</td>\n",
       "      <td>0.365249</td>\n",
       "    </tr>\n",
       "  </tbody>\n",
       "</table>\n",
       "</div>"
      ],
      "text/plain": [
       "        measure  mean ari\n",
       "10          SCT  0.686819\n",
       "11         SCCT  0.686724\n",
       "12          RSP  0.667269\n",
       "24        SP-CT  0.663687\n",
       "15       logPPR  0.662223\n",
       "23       logAbs  0.661906\n",
       "7       logHeat  0.661530\n",
       "13           FE  0.660830\n",
       "17  logModifPPR  0.660433\n",
       "3        logFor  0.660237\n",
       "9      logNHeat  0.658945\n",
       "19    logHeatPR  0.657575\n",
       "21        logDF  0.652447\n",
       "5       logComm  0.646576\n",
       "1       logKatz  0.626418\n",
       "18       HeatPR  0.624758\n",
       "8         NHeat  0.614645\n",
       "14          PPR  0.586537\n",
       "6          Heat  0.583184\n",
       "2           For  0.509488\n",
       "22          Abs  0.495826\n",
       "16     ModifPPR  0.445713\n",
       "0          Katz  0.405599\n",
       "4          Comm  0.391615\n",
       "20           DF  0.365249"
      ]
     },
     "execution_count": 3,
     "metadata": {},
     "output_type": "execute_result"
    }
   ],
   "source": [
    "by_kernel_results = defaultdict(list)\n",
    "for column_name, column_results in results_modularity_any3.items():\n",
    "    for graph_idx, graph_results in column_results.items():\n",
    "        for kernel_name, kernel_result in graph_results.items():\n",
    "            by_kernel_results[kernel_name].append(kernel_result)\n",
    "\n",
    "by_kernel_results = {k: np.mean(v) for k, v in by_kernel_results.items()}\n",
    "\n",
    "df = pd.DataFrame(list(by_kernel_results.items()), columns=['measure', 'mean ari'])\n",
    "df.sort_values('mean ari', ascending=False)"
   ]
  },
  {
   "cell_type": "code",
   "execution_count": 4,
   "metadata": {},
   "outputs": [
    {
     "data": {
      "text/plain": [
       "(['logHeat', 0.6615296144644105], ['SCT', 0.6868189236793265])"
      ]
     },
     "execution_count": 4,
     "metadata": {},
     "output_type": "execute_result"
    }
   ],
   "source": [
    "list(df.iloc[7]), list(df.iloc[10])"
   ]
  },
  {
   "cell_type": "markdown",
   "metadata": {},
   "source": [
    "# Upper bound: best measure for every column "
   ]
  },
  {
   "cell_type": "code",
   "execution_count": 5,
   "metadata": {},
   "outputs": [
    {
     "data": {
      "text/plain": [
       "0.7060681799642478"
      ]
     },
     "execution_count": 5,
     "metadata": {},
     "output_type": "execute_result"
    }
   ],
   "source": [
    "by_column_results = defaultdict(list)\n",
    "for column_name, column_results in results_modularity_any3.items():\n",
    "    by_kernel_results = defaultdict(list)\n",
    "    for graph_idx, graph_results in column_results.items():\n",
    "        for kernel_name, kernel_result in graph_results.items():\n",
    "            by_kernel_results[kernel_name].append(kernel_result)\n",
    "    best_measure, best_ari = sorted([(k, np.mean(v)) for k, v in by_kernel_results.items()], key=lambda x: -x[1])[0]\n",
    "    by_column_results[column_name] = (best_measure, best_ari)\n",
    "\n",
    "df = pd.DataFrame([(k, v[0], v[1]) for k, v in by_column_results.items()], columns=['column', 'best_measure', 'mean ari'])\n",
    "np.mean(list(df['mean ari']))"
   ]
  },
  {
   "cell_type": "markdown",
   "metadata": {},
   "source": [
    "# Upper bound: best measure for every graph"
   ]
  },
  {
   "cell_type": "code",
   "execution_count": 6,
   "metadata": {},
   "outputs": [
    {
     "data": {
      "text/plain": [
       "0.7102334917627724"
      ]
     },
     "execution_count": 6,
     "metadata": {},
     "output_type": "execute_result"
    }
   ],
   "source": [
    "results = list()\n",
    "for column_name, column_results in results_modularity_any3.items():\n",
    "    for graph_idx, graph_results in column_results.items():\n",
    "        graph_best_ari = np.max(list(graph_results.values()))\n",
    "        results.append(graph_best_ari)\n",
    "\n",
    "np.mean(results)"
   ]
  },
  {
   "cell_type": "code",
   "execution_count": null,
   "metadata": {},
   "outputs": [],
   "source": []
  }
 ],
 "metadata": {
  "kernelspec": {
   "display_name": "Python 3",
   "language": "python",
   "name": "python3"
  },
  "language_info": {
   "codemirror_mode": {
    "name": "ipython",
    "version": 3
   },
   "file_extension": ".py",
   "mimetype": "text/x-python",
   "name": "python",
   "nbconvert_exporter": "python",
   "pygments_lexer": "ipython3",
   "version": "3.6.9"
  }
 },
 "nbformat": 4,
 "nbformat_minor": 4
}
