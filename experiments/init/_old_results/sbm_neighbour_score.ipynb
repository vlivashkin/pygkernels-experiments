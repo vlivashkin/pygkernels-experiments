{
 "cells": [
  {
   "cell_type": "code",
   "execution_count": 1,
   "metadata": {},
   "outputs": [],
   "source": [
    "import operator as op\n",
    "from collections import Counter\n",
    "from functools import reduce\n",
    "\n",
    "import numpy as np"
   ]
  },
  {
   "cell_type": "markdown",
   "metadata": {},
   "source": [
    "# Simplest case: all classes have equal size"
   ]
  },
  {
   "cell_type": "code",
   "execution_count": 2,
   "metadata": {},
   "outputs": [
    {
     "data": {
      "text/plain": [
       "6"
      ]
     },
     "execution_count": 2,
     "metadata": {},
     "output_type": "execute_result"
    }
   ],
   "source": [
    "def ncr(n, r):\n",
    "    r = min(r, n-r)\n",
    "    numer = reduce(op.mul, range(n, n-r, -1), 1)\n",
    "    denom = reduce(op.mul, range(1, r+1), 1)\n",
    "    return numer // denom\n",
    "\n",
    "ncr(4, 2)"
   ]
  },
  {
   "cell_type": "code",
   "execution_count": 3,
   "metadata": {},
   "outputs": [
    {
     "data": {
      "text/plain": [
       "0.08678386475342761"
      ]
     },
     "execution_count": 3,
     "metadata": {},
     "output_type": "execute_result"
    }
   ],
   "source": [
    "def pe(e, size, p):\n",
    "    \"\"\"\n",
    "    Вероятность иметь e связей из size\n",
    "    \"\"\"\n",
    "    assert 0 <= e <= size\n",
    "    return ncr(size, e) * p**e * (1-p)**(size-e)\n",
    "    \n",
    "pe(30, 100, 0.3)"
   ]
  },
  {
   "cell_type": "code",
   "execution_count": 4,
   "metadata": {},
   "outputs": [
    {
     "data": {
      "text/plain": [
       "0.9999999999999999"
      ]
     },
     "execution_count": 4,
     "metadata": {},
     "output_type": "execute_result"
    }
   ],
   "source": [
    "def p_interval(l, h, size, p):\n",
    "    return np.sum([pe(e, size, p) for e in range(l, h+1)])\n",
    "\n",
    "p_interval(0, 9, 9, 0.01)"
   ]
  },
  {
   "cell_type": "code",
   "execution_count": 5,
   "metadata": {},
   "outputs": [],
   "source": [
    "def score(n, k, p_in, p_out):\n",
    "    size = n // k\n",
    "    sum_ = 0\n",
    "    for e in range(size):\n",
    "        sum_ += pe(e, size-1, p_in) * (p_interval(0, e-1, size, p_out) ** (k - 1))\n",
    "    return sum_"
   ]
  },
  {
   "cell_type": "code",
   "execution_count": 6,
   "metadata": {},
   "outputs": [
    {
     "data": {
      "text/plain": [
       "0.9499097082948508"
      ]
     },
     "execution_count": 6,
     "metadata": {},
     "output_type": "execute_result"
    }
   ],
   "source": [
    "score(100, 2, 0.3, 0.15)"
   ]
  },
  {
   "cell_type": "markdown",
   "metadata": {},
   "source": [
    "# Partition"
   ]
  },
  {
   "cell_type": "code",
   "execution_count": 7,
   "metadata": {},
   "outputs": [],
   "source": [
    "A = np.array([\n",
    "    [0, 1, 1, 0, 0, 0],\n",
    "    [1, 0, 1, 0, 0, 0],\n",
    "    [1, 1, 0, 1, 1, 0],\n",
    "    [0, 0, 1, 0, 1, 1],\n",
    "    [0, 0, 1, 1, 0, 1],\n",
    "    [0, 0, 0, 1, 1, 0]\n",
    "])\n",
    "partition = [1, 1, 1, 2, 2, 2]"
   ]
  },
  {
   "cell_type": "code",
   "execution_count": 53,
   "metadata": {},
   "outputs": [],
   "source": [
    "def score(A, partition):\n",
    "    # calculate cluster_sizes and all p\n",
    "    n_clusters = len(set(partition))\n",
    "    cluster_sizes = dict(Counter(partition))\n",
    "    class_mapping = {v: k for k, v in enumerate(cluster_sizes.keys())}\n",
    "    cluster_sizes = list(cluster_sizes.values())\n",
    "    \n",
    "    incidence = np.zeros((n_clusters, n_clusters))\n",
    "    for i in range(A.shape[0]):\n",
    "        ki = class_mapping[partition[i]]\n",
    "        for j in range(i + 1, A.shape[1]):\n",
    "            if A[i, j] == 1:\n",
    "                kj = class_mapping[partition[j]]\n",
    "                if ki == kj:\n",
    "                    incidence[ki, ki] += 1\n",
    "                else:\n",
    "                    incidence[ki, kj] += 1\n",
    "                    incidence[kj, ki] += 1\n",
    "    \n",
    "    p = np.zeros((n_clusters, n_clusters))\n",
    "    for i in range(n_clusters):\n",
    "        for j in range(i, n_clusters):\n",
    "            if i == j:\n",
    "                p_in = incidence[i, j] / (cluster_sizes[i] * (cluster_sizes[i] - 1) / 2)\n",
    "                p[i, i] = p_in\n",
    "            else:\n",
    "                p_out = incidence[i, j] / (cluster_sizes[i] * cluster_sizes[j])\n",
    "                p[i, j], p[j, i] = p_out, p_out\n",
    "                \n",
    "    # let's calculate score for every class, and than weight it\n",
    "    score = np.zeros((n_clusters,))\n",
    "    for ki in range(n_clusters):\n",
    "        for e in range(cluster_sizes[ki]):\n",
    "            class_score_e = pe(e, cluster_sizes[ki]-1, p[ki, ki])\n",
    "            for kj in range(n_clusters):\n",
    "                if ki != kj:\n",
    "                    class_score_e *= p_interval(0, min(e-1, cluster_sizes[kj]), cluster_sizes[kj], p[ki, kj])\n",
    "            score[ki] += class_score_e\n",
    "        \n",
    "            \n",
    "    overall = np.sum([sc * size for sc, size in zip(score, cluster_sizes)]) / len(partition)\n",
    "    return overall"
   ]
  },
  {
   "cell_type": "code",
   "execution_count": 54,
   "metadata": {},
   "outputs": [
    {
     "data": {
      "text/plain": [
       "0.9382061983750067"
      ]
     },
     "execution_count": 54,
     "metadata": {},
     "output_type": "execute_result"
    }
   ],
   "source": [
    "score(A, partition)"
   ]
  },
  {
   "cell_type": "code",
   "execution_count": 55,
   "metadata": {},
   "outputs": [],
   "source": [
    "import sys\n",
    "sys.path.append('../../pygkernels')\n",
    "from pygkernels.data import Datasets"
   ]
  },
  {
   "cell_type": "code",
   "execution_count": 56,
   "metadata": {},
   "outputs": [],
   "source": [
    "(A, partition), info = Datasets()['eurosis']"
   ]
  },
  {
   "cell_type": "code",
   "execution_count": 57,
   "metadata": {},
   "outputs": [
    {
     "data": {
      "text/plain": [
       "0.9382061983750067"
      ]
     },
     "execution_count": 57,
     "metadata": {},
     "output_type": "execute_result"
    }
   ],
   "source": [
    "score(A, partition)"
   ]
  },
  {
   "cell_type": "code",
   "execution_count": null,
   "metadata": {},
   "outputs": [],
   "source": []
  }
 ],
 "metadata": {
  "kernelspec": {
   "display_name": "Python 3",
   "language": "python",
   "name": "python3"
  },
  "language_info": {
   "codemirror_mode": {
    "name": "ipython",
    "version": 3
   },
   "file_extension": ".py",
   "mimetype": "text/x-python",
   "name": "python",
   "nbconvert_exporter": "python",
   "pygments_lexer": "ipython3",
   "version": "3.6.9"
  }
 },
 "nbformat": 4,
 "nbformat_minor": 4
}