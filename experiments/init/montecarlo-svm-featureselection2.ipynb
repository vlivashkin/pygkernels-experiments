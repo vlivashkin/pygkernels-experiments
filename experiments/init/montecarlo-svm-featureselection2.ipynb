{
 "cells": [
  {
   "cell_type": "code",
   "execution_count": 1,
   "metadata": {},
   "outputs": [],
   "source": [
    "%matplotlib inline"
   ]
  },
  {
   "cell_type": "code",
   "execution_count": 2,
   "metadata": {},
   "outputs": [
    {
     "name": "stderr",
     "output_type": "stream",
     "text": [
      "/home/illusionww/.local/lib/python3.6/site-packages/sklearn/utils/deprecation.py:143: FutureWarning: The sklearn.utils.testing module is  deprecated in version 0.22 and will be removed in version 0.24. The corresponding classes / functions should instead be imported from sklearn.utils. Anything that cannot be imported from sklearn.utils is now part of the private API.\n",
      "  warnings.warn(message, FutureWarning)\n"
     ]
    }
   ],
   "source": [
    "import os\n",
    "import pickle\n",
    "import sys\n",
    "from collections import Counter, defaultdict\n",
    "from copy import deepcopy\n",
    "from itertools import combinations\n",
    "import pandas as pd\n",
    "\n",
    "import matplotlib.pyplot as plt\n",
    "import networkx as nx\n",
    "import numpy as np\n",
    "import powerlaw\n",
    "from joblib import Parallel, delayed\n",
    "from matplotlib import colors\n",
    "from networkx.algorithms.community.quality import modularity as nx_modularity\n",
    "from sklearn.exceptions import ConvergenceWarning\n",
    "from sklearn.metrics import f1_score\n",
    "from sklearn.metrics.pairwise import euclidean_distances\n",
    "from sklearn.mixture import GaussianMixture\n",
    "from sklearn.neighbors import KNeighborsClassifier\n",
    "from sklearn.svm import SVC\n",
    "from sklearn.utils.testing import ignore_warnings\n",
    "from tqdm.notebook import tqdm\n",
    "\n",
    "\n",
    "sys.path.append('../../pygkernels')\n",
    "from pygkernels.measure import kernels\n",
    "from pygkernels.scenario import d3_colors"
   ]
  },
  {
   "cell_type": "markdown",
   "metadata": {},
   "source": [
    "# Functions"
   ]
  },
  {
   "cell_type": "code",
   "execution_count": 3,
   "metadata": {},
   "outputs": [],
   "source": [
    "def create_krondecker(partition):\n",
    "    n = len(partition)\n",
    "    kron_mask = np.tile(partition, n) == np.repeat(partition, n)\n",
    "    return np.reshape(kron_mask, (n, n))\n",
    "\n",
    "def modularity2(AIJ, partition):\n",
    "    n = len(AIJ)\n",
    "    m = np.sum(AIJ)  # no of edges\n",
    "\n",
    "    k = np.sum(AIJ, axis=1)\n",
    "    expectation = np.reshape(np.tile(k, n) * np.repeat(k, n), (n, n)) / m\n",
    "    kron = create_krondecker(partition)\n",
    "\n",
    "    # Q = (1 / 2m) * SUM(AIJ - (ki.kj / 2m)) ∂(ci, cj)\n",
    "    return (1.0 / m) * np.sum(kron * (AIJ - expectation))"
   ]
  },
  {
   "cell_type": "code",
   "execution_count": 4,
   "metadata": {},
   "outputs": [],
   "source": [
    "def np2nx(A: np.ndarray, partition: np.ndarray):\n",
    "    G = nx.from_numpy_matrix(A)\n",
    "    nx.set_node_attributes(G, dict(enumerate(partition)), 'community')\n",
    "    return G\n",
    "\n",
    "def partition2communities(partition):\n",
    "    result = defaultdict(list)\n",
    "    for idx, class_ in enumerate(partition):\n",
    "        result[class_].append(idx)\n",
    "    return list(result.values())\n",
    "\n",
    "def estimate_mu(graph, partition):\n",
    "    n_out_edges = 0\n",
    "    n_nodes = graph.size()\n",
    "    for n1, n2 in graph.edges():  # links:\n",
    "        if partition[n1] != partition[n2]:\n",
    "            n_out_edges += 1\n",
    "    return n_out_edges / n_nodes\n",
    "\n",
    "def power_law(values, maxval=200):\n",
    "    tau = powerlaw.Fit(values, verbose=False).alpha\n",
    "    if tau > maxval or np.isnan(tau):\n",
    "        tau = maxval\n",
    "    return tau\n",
    "\n",
    "def redetect_params(data):\n",
    "    A, partition = data['A'], data['y_true']\n",
    "    G = np2nx(A, partition)\n",
    "    \n",
    "    n = G.number_of_nodes()\n",
    "    average_degree = 2 * G.number_of_edges() / n\n",
    "    node_degrees = [d for n, d in G.degree()]\n",
    "    min_degree = np.min(node_degrees)\n",
    "    max_degree = np.max(node_degrees)\n",
    "    tau1 = power_law(node_degrees, 250)\n",
    "    modularity = nx_modularity(G, partition2communities(partition))\n",
    "\n",
    "    # Community-based parameters\n",
    "    k = len(set(partition))\n",
    "    mu = min(max(estimate_mu(G, partition), 0.), 1.)\n",
    "    community_sizes = list(Counter(partition).values())\n",
    "    min_community = np.min(community_sizes)\n",
    "    max_community = np.max(community_sizes)\n",
    "    tau2 = power_law(community_sizes, 250)\n",
    "    \n",
    "    return {\n",
    "        'n': n,\n",
    "        'k': k,\n",
    "        'average_degree': average_degree,\n",
    "        'min_degree': min_degree, \n",
    "        'max_degree': max_degree,\n",
    "        'tau1': tau1,\n",
    "        'mu': mu,\n",
    "        'min_community': min_community,\n",
    "        'max_community': max_community,\n",
    "        'tau2': tau2,\n",
    "        'modularity': modularity\n",
    "    }"
   ]
  },
  {
   "cell_type": "code",
   "execution_count": 5,
   "metadata": {},
   "outputs": [],
   "source": [
    "def point2plot(x, feature_name):\n",
    "    vmin, vmax = limits[feature_name]\n",
    "    return (x - vmin) / (vmax - vmin) * resolution"
   ]
  },
  {
   "cell_type": "code",
   "execution_count": 6,
   "metadata": {},
   "outputs": [],
   "source": [
    "class RFE:\n",
    "    def __init__(self, estimator, names, max_features=5, n_jobs=None):\n",
    "        self.estimator = estimator\n",
    "        self.names = names\n",
    "        self.max_features = max_features\n",
    "        self.n_jobs = n_jobs\n",
    "        self.results = {}\n",
    "\n",
    "    @ignore_warnings(category=ConvergenceWarning)\n",
    "    def score_one(self, x, y, weights, set_feat_names):\n",
    "        support = np.array([x in set_feat_names for x in self.names], dtype=np.bool)\n",
    "\n",
    "        estimator = deepcopy(self.estimator)\n",
    "        if weights != None:\n",
    "            estimator.fit(x[:, support], y, sample_weight=weights)\n",
    "        else:\n",
    "            estimator.fit(x[:, support], y)\n",
    "        if np.max(y) == 1:\n",
    "            y_pred = estimator.predict_proba(x[:, support])\n",
    "            y_pred = y_pred[:, 1] > 0.5\n",
    "        else:\n",
    "            y_pred = estimator.predict(x[:, support])\n",
    "        f1 = f1_score(y, y_pred)\n",
    "        return set_feat_names, f1, estimator\n",
    "\n",
    "    def fit(self, x, y, weights):\n",
    "        # for all features first:\n",
    "        _, f1_all, estimator_all = self.score_one(x, y, weights, self.names)\n",
    "        print(f'all features, f1={f1_all:.3f}')\n",
    "\n",
    "        for n_features in range(1, self.max_features + 1):\n",
    "            results = Parallel(n_jobs=self.n_jobs)(\n",
    "                delayed(self.score_one)(x, y, weights, set_feat_names)\n",
    "                for set_feat_names in list(combinations(self.names, n_features)))\n",
    "            best_n_feat, best_f1, best_estimator = None, 0, None\n",
    "            for set_feat_names, f1, estimator in results:\n",
    "                if f1 > best_f1:\n",
    "                    best_n_feat, best_f1, best_estimator = set_feat_names, f1, estimator\n",
    "            print(f'{n_features} features, f1={best_f1:.3f}, set={best_n_feat}')\n",
    "            if hasattr(best_estimator, 'best_params_'):\n",
    "                print(best_estimator.best_params_)\n",
    "            self.results[n_features] = {\n",
    "                'f1': best_f1,\n",
    "                'set': best_n_feat\n",
    "            }\n",
    "        return self"
   ]
  },
  {
   "cell_type": "markdown",
   "metadata": {
    "pycharm": {
     "name": "#%% md\n"
    }
   },
   "source": [
    "# Prepare data"
   ]
  },
  {
   "cell_type": "code",
   "execution_count": 7,
   "metadata": {},
   "outputs": [
    {
     "name": "stdout",
     "output_type": "stream",
     "text": [
      "2020-09-11 17:00:20.267906\n"
     ]
    }
   ],
   "source": [
    "import datetime\n",
    "print(datetime.datetime.now())"
   ]
  },
  {
   "cell_type": "code",
   "execution_count": 8,
   "metadata": {},
   "outputs": [],
   "source": [
    "resolution = 100"
   ]
  },
  {
   "cell_type": "code",
   "execution_count": 9,
   "metadata": {},
   "outputs": [
    {
     "data": {
      "image/png": "[encoded data removed]",
      "text/plain": [
       "<Figure size 432x288 with 1 Axes>"
      ]
     },
     "metadata": {
      "needs_background": "light"
     },
     "output_type": "display_data"
    }
   ],
   "source": [
    "a = np.zeros((1, 25, 3), dtype=np.uint8)\n",
    "labels = []\n",
    "for idx, kernel in enumerate(kernels):\n",
    "    a[0, idx] = np.array(colors.to_rgb(d3_colors[kernel.name])) * 255\n",
    "    labels.append(kernel.name)\n",
    "plt.imshow(a)\n",
    "plt.xticks(range(25), labels, rotation='vertical')\n",
    "plt.yticks([]);"
   ]
  },
  {
   "cell_type": "code",
   "execution_count": 10,
   "metadata": {},
   "outputs": [
    {
     "data": {
      "application/vnd.jupyter.widget-view+json": {
       "model_id": "1c37eb673c8645ce8817015926db7958",
       "version_major": 2,
       "version_minor": 0
      },
      "text/plain": [
       "HBox(children=(IntProgress(value=0, max=2094), HTML(value='')))"
      ]
     },
     "metadata": {},
     "output_type": "display_data"
    },
    {
     "name": "stderr",
     "output_type": "stream",
     "text": [
      "/usr/local/lib/python3.6/dist-packages/joblib/externals/loky/process_executor.py:706: UserWarning: A worker stopped while some jobs were given to the executor. This can be caused by a too short worker timeout or by a memory leak.\n",
      "  \"timeout or by a memory leak.\", UserWarning\n"
     ]
    },
    {
     "name": "stdout",
     "output_type": "stream",
     "text": [
      "\n"
     ]
    }
   ],
   "source": [
    "root = '/media/illusionww/68949C3149F4E819/phd/pygkernels/montecarlo_lfr'\n",
    "    \n",
    "def perform_one(fn):\n",
    "    with open(f'{root}/{fn}', 'rb') as f:\n",
    "        data = pickle.load(f)\n",
    "    need_to_save = False\n",
    "    A = data['A']\n",
    "    item = {}\n",
    "    for kernel_name, kernel_results in data['results'].items():\n",
    "        kernel_best_ari = -1\n",
    "        for parameter, parameter_results in kernel_results.items():\n",
    "            if len(parameter_results) > 0:\n",
    "                if 'new_modularity2' not in parameter_results[0]:  # add new_modularity if not exist\n",
    "                    for init_idx, init in enumerate(parameter_results):\n",
    "                        partition = init['labels']\n",
    "                        init['new_modularity2'] = modularity2(A, partition)\n",
    "                    need_to_save = True\n",
    "                param_best_ari = sorted(parameter_results, key=lambda x: -x['new_modularity2'])[0]['score_ari']\n",
    "                kernel_best_ari = max(kernel_best_ari, param_best_ari)\n",
    "        item[kernel_name] = kernel_best_ari\n",
    "    \n",
    "    if need_to_save:\n",
    "        with open(f'{root}/{fn}', 'wb') as f:\n",
    "            pickle.dump(data, f)\n",
    "    \n",
    "    return item, redetect_params(data)\n",
    "\n",
    "dataset = Parallel(n_jobs=12)(delayed(perform_one)(fn) for fn in tqdm(os.listdir(root)))"
   ]
  },
  {
   "cell_type": "code",
   "execution_count": 11,
   "metadata": {},
   "outputs": [],
   "source": [
    "# generate additional features\n",
    "for item in dataset:\n",
    "    maxari = np.max(list(item[0].values()))\n",
    "    item[1]['maxari'] = maxari\n",
    "    item[1]['average_degree/n'] = item[1]['average_degree'] / item[1]['n']\n",
    "    item[1]['min_community/max_community'] = item[1]['min_community'] / item[1]['max_community']\n",
    "    item[1]['min_degree/max_degree'] = item[1]['min_degree'] / item[1]['max_degree']\n",
    "    item[1]['mu/(average_degree/n)'] = item[1]['mu'] / (item[1]['average_degree'] / item[1]['n'])"
   ]
  },
  {
   "cell_type": "code",
   "execution_count": 12,
   "metadata": {
    "pycharm": {
     "name": "#%%\n"
    }
   },
   "outputs": [],
   "source": [
    "all_feature_names = [\n",
    "    'n',\n",
    "    'k',\n",
    "    'tau1',\n",
    "    'tau2',\n",
    "    'mu',\n",
    "    'average_degree',\n",
    "    'min_community',\n",
    "    'maxari',\n",
    "    'modularity',\n",
    "    'average_degree/n',\n",
    "    'min_community/max_community',\n",
    "    'min_degree/max_degree',\n",
    "    'mu/(average_degree/n)'\n",
    "]\n",
    "\n",
    "fnc = {\n",
    "    'n': lambda x: x/1500,\n",
    "    'k': lambda x: ((1 - 1/x) - 0.5) * 2,\n",
    "    'tau1': lambda x: 1 - (1 / x**0.5),\n",
    "    'tau2': lambda x: 1 - (1 / x**0.5),\n",
    "    'mu': lambda x: x,\n",
    "    'average_degree': lambda x: x/850,\n",
    "    'min_community': lambda x: x/750,\n",
    "    'maxari': lambda x: x,\n",
    "    'modularity': lambda x: (x + 0.5) * 0.75,\n",
    "    'average_degree/n': lambda x: x / 0.7,\n",
    "    'min_community/max_community': lambda x: x,\n",
    "    'min_degree/max_degree': lambda x: x / 0.7,\n",
    "    'mu/(average_degree/n)': lambda x: x ** 0.25 / 4\n",
    "}"
   ]
  },
  {
   "cell_type": "code",
   "execution_count": 13,
   "metadata": {},
   "outputs": [
    {
     "name": "stdout",
     "output_type": "stream",
     "text": [
      "n: 10.00, 1499.00 | 0.01, 1.00\n",
      "k: 2.00, 224.00 | 0.00, 0.99\n",
      "tau1: 1.87, 235.90 | 0.27, 0.93\n",
      "tau2: 1.51, 250.00 | 0.19, 0.94\n",
      "mu: 0.00, 1.00 | 0.00, 1.00\n",
      "average_degree: 1.17, 954.59 | 0.00, 1.12\n",
      "min_community: 1.00, 749.00 | 0.00, 1.00\n",
      "maxari: 0.00, 1.00 | 0.00, 1.00\n",
      "modularity: -0.50, 0.95 | -0.00, 1.09\n",
      "average_degree/n: 0.00, 0.80 | 0.00, 1.15\n",
      "min_community/max_community: 0.01, 1.00 | 0.01, 1.00\n",
      "min_degree/max_degree: 0.00, 0.86 | 0.00, 1.23\n",
      "mu/(average_degree/n): 0.00, 368.32 | 0.05, 1.10\n"
     ]
    }
   ],
   "source": [
    "real_limits = {}\n",
    "limits = {}\n",
    "for fname in all_feature_names:\n",
    "    min_max = np.min([info[fname] for _, info in dataset]), np.max([info[fname] for _, info in dataset])\n",
    "    real_limits[fname] = min_max\n",
    "    limits[fname] = fnc[fname](min_max[0]), fnc[fname](min_max[1])\n",
    "    print(f'{fname}: {real_limits[fname][0]:.2f}, {real_limits[fname][1]:.2f} | {limits[fname][0]:.2f}, {limits[fname][1]:.2f}')"
   ]
  },
  {
   "cell_type": "code",
   "execution_count": 42,
   "metadata": {},
   "outputs": [
    {
     "data": {
      "text/plain": [
       "[(0, 'Katz'),\n",
       " (1, 'logKatz'),\n",
       " (2, 'For'),\n",
       " (3, 'logFor'),\n",
       " (4, 'Comm'),\n",
       " (5, 'logComm'),\n",
       " (6, 'Heat'),\n",
       " (7, 'logHeat'),\n",
       " (8, 'NHeat'),\n",
       " (9, 'logNHeat'),\n",
       " (10, 'SCT'),\n",
       " (11, 'SCCT'),\n",
       " (12, 'RSP'),\n",
       " (13, 'FE'),\n",
       " (14, 'PPR'),\n",
       " (15, 'logPPR'),\n",
       " (16, 'ModifPPR'),\n",
       " (17, 'logModifPPR'),\n",
       " (18, 'HeatPR'),\n",
       " (19, 'logHeatPR'),\n",
       " (20, 'DF'),\n",
       " (21, 'logDF'),\n",
       " (22, 'Abs'),\n",
       " (23, 'logAbs'),\n",
       " (24, 'SP-CT')]"
      ]
     },
     "execution_count": 42,
     "metadata": {},
     "output_type": "execute_result"
    }
   ],
   "source": [
    "kernels_order = [x.name for x in kernels]\n",
    "list(enumerate(kernels_order))"
   ]
  },
  {
   "cell_type": "markdown",
   "metadata": {},
   "source": [
    "# Search for best basis"
   ]
  },
  {
   "cell_type": "code",
   "execution_count": 37,
   "metadata": {},
   "outputs": [],
   "source": [
    "class SBM_GridSearch:\n",
    "    def __init__(self, tx, ty):\n",
    "        self.tx = tx\n",
    "        self.ty = ty\n",
    "        self.Cs = [0.001, 0.002, 0.005, 0.01, 0.02, 0.05, 0.1, 0.2, 0.5, 1.0, 2.0, 5.0, 10.0]\n",
    "        self.pos_gammas = [1] #[0.5, 1, 2, 5, 10, 100]\n",
    "        self.neg_gammas = [0.5, 1, 2, 5, 7, 10]\n",
    "\n",
    "    def run_one(self, C, weights, ty_bool):\n",
    "        y_pred = SVC(C=C, probability=True).fit(self.tx, ty_bool).predict_proba(self.tx)[:, 1]\n",
    "        f1 = f1_score(ty_bool, y_pred > 0.5)\n",
    "        return f1\n",
    "\n",
    "    def best_set(self, kernel_names):\n",
    "        print(kernel_names)\n",
    "        measure_indices = [kernels_order.index(kernel_name) for kernel_name in kernel_names]\n",
    "        ari_measure = np.max(np.concatenate([self.ty[:, measure_idx:measure_idx+1] for measure_idx in measure_indices], axis=1), axis=1)\n",
    "        ari_other = np.max(np.concatenate([self.ty[:, measure_idx:measure_idx+1] for measure_idx in range(25) if measure_idx not in measure_indices], axis=1), axis=1)\n",
    "        ty_bool = ari_measure >= ari_other\n",
    "        print(f'{kernel_names} ({measure_indices}), {np.sum(ty_bool)}')\n",
    "\n",
    "        best_f1, best_C, best_pos_gamma, best_neg_gamma = 0, 0, 0, 0\n",
    "        if np.sum(ty_bool) > 0:\n",
    "            for C in self.Cs:\n",
    "                for pos_gamma in self.pos_gammas:\n",
    "                    for neg_gamma in self.neg_gammas:\n",
    "                        win_weights = 1 / np.sum(self.ty == np.max(self.ty, axis=1, keepdims=True), axis=1)**pos_gamma\n",
    "                        lose_weights = np.clip(np.abs(ari_measure - ari_other) * neg_gamma, 0, 1)\n",
    "                        weights = [ww if ari_m >= ari_o else lw for ari_m, ari_o, ww, lw in zip(ari_measure, ari_other, win_weights, lose_weights)]\n",
    "\n",
    "                        f1 = self.run_one(C, weights, ty_bool)\n",
    "                        if f1 > best_f1:\n",
    "                            best_f1, best_C, best_pos_gamma, best_neg_gamma = f1, C, pos_gamma, neg_gamma\n",
    "\n",
    "                f1 = self.run_one(C, None, ty_bool)\n",
    "                if f1 > best_f1:\n",
    "                    best_f1, best_C, best_pos_gamma, best_neg_gamma = f1, C, None, None\n",
    "\n",
    "        return {\n",
    "            'f1': best_f1,\n",
    "            'C': best_C,\n",
    "            'pos_gamma': best_pos_gamma,\n",
    "            'neg_gamma': best_neg_gamma\n",
    "        }"
   ]
  },
  {
   "cell_type": "code",
   "execution_count": 38,
   "metadata": {},
   "outputs": [],
   "source": [
    "all_feature_names = [\n",
    "    'n',\n",
    "#     'k',\n",
    "    'tau1',\n",
    "    'tau2',\n",
    "    'mu',\n",
    "    'average_degree',\n",
    "#     'min_community',\n",
    "    'maxari',\n",
    "    'modularity',\n",
    "    'average_degree/n',\n",
    "#     'min_community/max_community',\n",
    "#     'min_degree/max_degree',\n",
    "#     'mu/(average_degree/n)'\n",
    "]"
   ]
  },
  {
   "cell_type": "code",
   "execution_count": 39,
   "metadata": {},
   "outputs": [
    {
     "name": "stdout",
     "output_type": "stream",
     "text": [
      "255\n"
     ]
    }
   ],
   "source": [
    "combs = []\n",
    "for i in range(1, len(all_feature_names)+1):\n",
    "    combs.extend([list(x) for x in combinations(all_feature_names, i)])\n",
    "print(len(combs))"
   ]
  },
  {
   "cell_type": "raw",
   "metadata": {},
   "source": [
    "combs = [\n",
    "    ['n', 'tau1', 'tau2', 'mu', 'maxari'],\n",
    "    ['n', 'tau1', 'maxari'],\n",
    "    ['n', 'tau1', 'mu', 'modularity', 'average_degree/n'],\n",
    "    ['n', 'tau1', 'average_degree/n'],\n",
    "    ['tau1', 'average_degree', 'modularity']\n",
    "]"
   ]
  },
  {
   "cell_type": "code",
   "execution_count": 44,
   "metadata": {},
   "outputs": [
    {
     "data": {
      "application/vnd.jupyter.widget-view+json": {
       "model_id": "623a60ea8bdb4508a381d03872d5717a",
       "version_major": 2,
       "version_minor": 0
      },
      "text/plain": [
       "HBox(children=(IntProgress(value=0, max=255), HTML(value='')))"
      ]
     },
     "metadata": {},
     "output_type": "display_data"
    },
    {
     "name": "stdout",
     "output_type": "stream",
     "text": [
      "\n"
     ]
    }
   ],
   "source": [
    "kernels_order2 = [\n",
    "    ('RSP',),\n",
    "    ('SCT',),\n",
    "    ('Comm',),\n",
    "    ('RSP', 'SCT'),\n",
    "    ('RSP', 'Comm'),\n",
    "    ('SCT', 'Comm'),\n",
    "    ('RSP', 'SCT', 'Comm')\n",
    "]\n",
    "\n",
    "def one(comb):\n",
    "    print(comb)\n",
    "    \n",
    "    tx = np.array([[fnc[fname](item[1][fname]) for fname in comb] for item in dataset]).astype(np.float32)\n",
    "    ty = np.array([[item[0][kernel] for kernel in kernels_order] for item in dataset]).astype(np.float32)\n",
    "    print(tx.shape, ty.shape)\n",
    "\n",
    "    tx = tx[np.sum(ty == np.max(ty, axis=1, keepdims=True), axis=1) < 2]\n",
    "    ty = ty[np.sum(ty == np.max(ty, axis=1, keepdims=True), axis=1) < 2]\n",
    "    print(tx.shape, ty.shape)\n",
    "    \n",
    "    results_wscct = {}\n",
    "    gs = SBM_GridSearch(tx, ty)\n",
    "    for kernel_names in kernels_order2:\n",
    "        res = gs.best_set(kernel_names)\n",
    "        print(f\"{res['f1']:.3f}, {res['C']:.3f}, {res['pos_gamma']}, {res['neg_gamma']}\")\n",
    "        results_wscct[kernel_names] = res\n",
    "        \n",
    "        \n",
    "    tywo11 = ty.copy()\n",
    "    tywo11[:, 11] = 0\n",
    "    \n",
    "    results_woscct = {}\n",
    "    gs = SBM_GridSearch(tx, tywo11)\n",
    "    for kernel_name in kernels_order2:\n",
    "        results_woscct[kernel_name] = gs.best_set(kernel_name)\n",
    "  \n",
    "    return comb, results_wscct, results_woscct\n",
    "    \n",
    "results = Parallel(n_jobs=12)(delayed(one)(comb) for comb in tqdm(combs))"
   ]
  },
  {
   "cell_type": "code",
   "execution_count": 98,
   "metadata": {},
   "outputs": [
    {
     "name": "stdout",
     "output_type": "stream",
     "text": [
      "Katz (15)\tlogKatz (26)\tFor (3)\tlogFor (8)\tComm (78)\tlogComm (77)\tHeat (12)\tlogHeat (12)\tNHeat (221)\tlogNHeat (2)\tSCT (52)\tSCCT (784)\tRSP (51)\tFE (9)\tPPR (5)\tlogPPR (11)\tModifPPR (1)\tlogModifPPR (10)\tHeatPR (5)\tlogHeatPR (4)\tDF (15)\tlogDF (32)\tAbs (20)\tlogAbs (2)\tSP-CT (31)\t\n",
      "Katz (81)\tlogKatz (45)\tFor (5)\tlogFor (10)\tComm (114)\tlogComm (102)\tHeat (20)\tlogHeat (17)\tNHeat (490)\tlogNHeat (23)\tSCT (124)\tSCCT (0)\tRSP (135)\tFE (26)\tPPR (5)\tlogPPR (28)\tModifPPR (1)\tlogModifPPR (23)\tHeatPR (6)\tlogHeatPR (5)\tDF (22)\tlogDF (42)\tAbs (45)\tlogAbs (9)\tSP-CT (108)\t"
     ]
    }
   ],
   "source": [
    "ty = np.array([[item[0][kernel] for kernel in kernels_order] for item in dataset]).astype(np.float32)\n",
    "ty = ty[np.sum(ty == np.max(ty, axis=1, keepdims=True), axis=1) < 2]\n",
    "tywo11 = ty.copy()\n",
    "tywo11[:, 11] = 0\n",
    "ty = np.argmax(ty, axis=1)\n",
    "tywo11 = np.argmax(tywo11, axis=1)\n",
    "for idx, kernel_name in enumerate(kernels_order):\n",
    "    print(f'{kernel_name} ({np.sum(ty == idx)})', end='\\t')\n",
    "print()\n",
    "for idx, kernel_name in enumerate(kernels_order):\n",
    "    print(f'{kernel_name} ({np.sum(tywo11 == idx)})', end='\\t')"
   ]
  },
  {
   "cell_type": "code",
   "execution_count": 46,
   "metadata": {},
   "outputs": [
    {
     "name": "stdout",
     "output_type": "stream",
     "text": [
      "['n']\t0.16999999999999998\t0.09868421052631578\t0.1901469317199654\t0.21999999999999997\t0\t0.2823803967327888\t0.23222748815165878\t\n",
      "['tau1']\t0.18518518518518517\t0.14204545454545456\t0.259958071278826\t0.15313225058004643\t0\t0\t0\t\n",
      "['tau2']\t0.18001978239366961\t0.11764705882352941\t0\t0.2786561264822134\t0\t0.24033149171270715\t0.16534181240063592\t\n",
      "['mu']\t0.19822485207100593\t0.045454545454545456\t0.2504816955684008\t0.02214022140221402\t0\t0\t0\t\n",
      "['average_degree']\t0\t0\t0\t0\t0.0125\t0\t0\t\n",
      "['maxari']\t0.21993127147766323\t0\t0.03092783505154639\t0.3208333333333333\t0\t0\t0\t\n",
      "['modularity']\t0.17452830188679244\t0\t0.19532908704883223\t0\t0.35023041474654376\t0\t0\t\n",
      "['average_degree/n']\t0.18476190476190477\t0\t0\t0.31728813559322033\t0\t0.12750455373406194\t0\t\n",
      "['n', 'tau1']\t0\t0\t0\t0\t0\t0\t0\t\n",
      "['n', 'tau2']\t0\t0\t0\t0\t0\t0\t0\t\n",
      "['n', 'mu']\t0.013888888888888888\t0.06060606060606061\t0\t0.02952029520295203\t0\t0.026058631921824105\t0.013483146067415729\t\n",
      "['n', 'average_degree']\t0\t0\t0.011363636363636362\t0\t0\t0\t0\t\n",
      "['n', 'maxari']\t0\t0\t0\t0\t0\t0\t0\t\n",
      "['n', 'modularity']\t0\t0.04580152671755725\t0\t0.014925373134328356\t0\t0.013157894736842105\t0.004524886877828055\t\n",
      "['n', 'average_degree/n']\t0\t0\t0\t0\t0\t0\t0\t\n",
      "['tau1', 'tau2']\t0.013888888888888888\t0\t0\t0\t0\t0\t0.017857142857142856\t\n",
      "['tau1', 'mu']\t0\t0.031007751937984496\t0\t0.014925373134328356\t0.006269592476489028\t0.013157894736842105\t0.017937219730941704\t\n",
      "['tau1', 'average_degree']\t0\t0\t0\t0.014925373134328356\t0\t0\t0.013513513513513513\t\n",
      "['tau1', 'maxari']\t0.027586206896551724\t0\t0\t0.029411764705882353\t0\t0\t0.013513513513513513\t\n",
      "['tau1', 'modularity']\t0\t0\t0.22525597269624575\t0\t0\t0\t0\t\n",
      "['tau1', 'average_degree/n']\t0\t0\t0.02259887005649718\t0.00749063670411985\t0.012461059190031154\t0.013157894736842105\t0.00900900900900901\t\n",
      "['tau2', 'mu']\t0.013888888888888888\t0.031007751937984496\t0\t0.014925373134328356\t0.006269592476489028\t0.013157894736842105\t0.009029345372460496\t\n",
      "['tau2', 'average_degree']\t0\t0\t0\t0\t0\t0\t0\t\n",
      "['tau2', 'maxari']\t0.013888888888888888\t0\t0\t0.022222222222222223\t0.006269592476489028\t0\t0.004524886877828055\t\n",
      "['tau2', 'modularity']\t0\t0.015625\t0\t0.00749063670411985\t0\t0.013114754098360656\t0.004524886877828055\t\n",
      "['tau2', 'average_degree/n']\t0\t0\t0\t0\t0\t0.006600660066006602\t0.004524886877828055\t\n",
      "['mu', 'average_degree']\t0.013888888888888888\t0\t0\t0\t0.006269592476489028\t0\t0\t\n",
      "['mu', 'maxari']\t0\t0.06060606060606061\t0\t0.007462686567164178\t0\t0.0196078431372549\t0.013483146067415729\t\n",
      "['mu', 'modularity']\t0.013888888888888888\t0.04580152671755725\t0\t0.022222222222222223\t0.006269592476489028\t0\t0.004524886877828055\t\n",
      "['mu', 'average_degree/n']\t0\t0.031007751937984496\t0.011363636363636362\t0\t0.006269592476489028\t0\t0\t\n",
      "['average_degree', 'maxari']\t0\t0\t0\t0\t0\t0\t0\t\n",
      "['average_degree', 'modularity']\t0.013888888888888888\t0\t0\t0\t0.006269592476489028\t0\t0\t\n",
      "['average_degree', 'average_degree/n']\t0\t0\t0\t0\t0\t0\t0\t\n",
      "['maxari', 'modularity']\t0\t0.03076923076923077\t0.011363636363636362\t0.00749063670411985\t0.006269592476489028\t0.0196078431372549\t0.013483146067415729\t\n",
      "['maxari', 'average_degree/n']\t0\t0\t0.011363636363636362\t0\t0.006269592476489028\t0\t0\t\n",
      "['modularity', 'average_degree/n']\t0\t0\t0.033707865168539325\t0.029629629629629624\t0.018691588785046728\t0.04501607717041801\t0.02237136465324385\t\n",
      "['n', 'tau1', 'tau2']\t0.013888888888888888\t0\t0\t0.00749063670411985\t0\t0\t0\t\n",
      "['n', 'tau1', 'mu']\t0.07999999999999999\t0.046153846153846156\t0\t0.08480565371024736\t0.03680981595092025\t0.019672131147540985\t0.04424778761061947\t\n",
      "['n', 'tau1', 'average_degree']\t0.013888888888888888\t0\t0\t0.02952029520295203\t0\t0\t0.02666666666666666\t\n",
      "['n', 'tau1', 'maxari']\t0.027586206896551724\t0\t0\t0.050724637681159424\t0.0125\t0\t0.02660753880266075\t\n",
      "['n', 'tau1', 'modularity']\t0.013888888888888888\t0.046153846153846156\t0.011363636363636362\t0.03690036900369004\t0.006269592476489028\t0.006600660066006602\t0.02678571428571428\t\n",
      "['n', 'tau1', 'average_degree/n']\t0.027397260273972605\t0\t0.02247191011235955\t0.057761732851985555\t0.012461059190031154\t0.013157894736842105\t0.05274725274725274\t\n",
      "['n', 'tau2', 'mu']\t0.013888888888888888\t0.07575757575757576\t0\t0.014925373134328356\t0.0125\t0.0261437908496732\t0.009029345372460496\t\n",
      "['n', 'tau2', 'average_degree']\t0.013888888888888888\t0\t0\t0\t0\t0\t0\t\n",
      "['n', 'tau2', 'maxari']\t0.013888888888888888\t0.015625\t0\t0.00749063670411985\t0.006269592476489028\t0.006600660066006602\t0\t\n",
      "['n', 'tau2', 'modularity']\t0.027586206896551724\t0.015625\t0\t0.00749063670411985\t0.018691588785046728\t0\t0\t\n",
      "['n', 'tau2', 'average_degree/n']\t0\t0\t0\t0\t0\t0\t0\t\n",
      "['n', 'mu', 'average_degree']\t0\t0.046153846153846156\t0\t0.014925373134328356\t0\t0.0196078431372549\t0.004524886877828055\t\n",
      "['n', 'mu', 'maxari']\t0.013888888888888888\t0.046153846153846156\t0.011363636363636362\t0.02952029520295203\t0.006269592476489028\t0.03246753246753247\t0.026726057906458794\t\n",
      "['n', 'mu', 'modularity']\t0.054421768707483\t0.06060606060606061\t0.011363636363636362\t0.03846153846153846\t0.02484472049689441\t0.013157894736842105\t0.017897091722595078\t\n",
      "['n', 'mu', 'average_degree/n']\t0.013888888888888888\t0.04580152671755725\t0.011363636363636362\t0.014925373134328356\t0.0125\t0.0196078431372549\t0.013483146067415729\t\n",
      "['n', 'average_degree', 'maxari']\t0.027586206896551724\t0\t0.011363636363636362\t0.00749063670411985\t0\t0\t0\t\n",
      "['n', 'average_degree', 'modularity']\t0.0410958904109589\t0.015625\t0.011363636363636362\t0.02214022140221402\t0\t0.013157894736842105\t0\t\n",
      "['n', 'average_degree', 'average_degree/n']\t0\t0\t0\t0\t0\t0\t0\t\n",
      "['n', 'maxari', 'modularity']\t0\t0.06060606060606061\t0.011363636363636362\t0.057761732851985555\t0.006269592476489028\t0.04516129032258064\t0.017937219730941704\t\n",
      "['n', 'maxari', 'average_degree/n']\t0\t0\t0.011363636363636362\t0\t0\t0\t0\t\n",
      "['n', 'modularity', 'average_degree/n']\t0.054421768707483\t0.031007751937984496\t0.033707865168539325\t0.022222222222222223\t0\t0.013157894736842105\t0\t\n",
      "['tau1', 'tau2', 'mu']\t0.013888888888888888\t0.031007751937984496\t0.02259887005649718\t0.02952029520295203\t0.04878048780487805\t0.013157894736842105\t0.031180400890868598\t\n",
      "['tau1', 'tau2', 'average_degree']\t0\t0\t0\t0.014925373134328356\t0\t0\t0.009029345372460496\t\n",
      "['tau1', 'tau2', 'maxari']\t0.013888888888888888\t0.015625\t0\t0.02952029520295203\t0\t0\t0\t\n",
      "['tau1', 'tau2', 'modularity']\t0.054421768707483\t0.04580152671755725\t0\t0.036630036630036625\t0.06006006006006006\t0.013114754098360656\t0.026726057906458794\t\n",
      "['tau1', 'tau2', 'average_degree/n']\t0\t0\t0.011363636363636362\t0.036764705882352935\t0.006269592476489028\t0.019672131147540985\t0.013513513513513513\t\n",
      "['tau1', 'mu', 'average_degree']\t0.013888888888888888\t0.04580152671755725\t0\t0.014925373134328356\t0.006269592476489028\t0\t0.009029345372460496\t\n",
      "['tau1', 'mu', 'maxari']\t0.013888888888888888\t0.06060606060606061\t0\t0.06498194945848375\t0.006269592476489028\t0.0196078431372549\t0.0811965811965812\t\n",
      "['tau1', 'mu', 'modularity']\t0.06756756756756757\t0\t0.02259887005649718\t0.022304832713754646\t0.03095975232198142\t0.013157894736842105\t0.017977528089887642\t\n",
      "['tau1', 'mu', 'average_degree/n']\t0.013888888888888888\t0.031007751937984496\t0.02259887005649718\t0.02214022140221402\t0.018691588785046728\t0.0261437908496732\t0.013513513513513513\t\n",
      "['tau1', 'average_degree', 'maxari']\t0.027586206896551724\t0.015625\t0.011363636363636362\t0.029629629629629624\t0\t0\t0.017977528089887642\t\n",
      "['tau1', 'average_degree', 'modularity']\t0.013888888888888888\t0\t0\t0.00749063670411985\t0.006269592476489028\t0\t0.017857142857142856\t\n",
      "['tau1', 'average_degree', 'average_degree/n']\t0.013888888888888888\t0\t0.02247191011235955\t0.04411764705882353\t0.012461059190031154\t0.013114754098360656\t0.03964757709251101\t\n",
      "['tau1', 'maxari', 'modularity']\t0.027586206896551724\t0.04580152671755725\t0.02247191011235955\t0.036630036630036625\t0.0308641975308642\t0.025974025974025976\t0.07692307692307691\t\n",
      "['tau1', 'maxari', 'average_degree/n']\t0.0410958904109589\t0.031007751937984496\t0.033519553072625705\t0.022304832713754646\t0.02484472049689441\t0.013157894736842105\t0.009029345372460496\t\n",
      "['tau1', 'modularity', 'average_degree/n']\t0.06711409395973154\t0.015625\t0.04469273743016759\t0.043956043956043946\t0.0308641975308642\t0.013157894736842105\t0.017857142857142856\t\n",
      "['tau2', 'mu', 'average_degree']\t0.027586206896551724\t0.031007751937984496\t0\t0.06521739130434782\t0\t0\t0.009029345372460496\t\n",
      "['tau2', 'mu', 'maxari']\t0.013888888888888888\t0.031007751937984496\t0.011363636363636362\t0.014925373134328356\t0.006269592476489028\t0\t0.009029345372460496\t\n",
      "['tau2', 'mu', 'modularity']\t0\t0.06106870229007634\t0\t0.029629629629629624\t0.006269592476489028\t0.0261437908496732\t0.013513513513513513\t\n",
      "['tau2', 'mu', 'average_degree/n']\t0\t0.046153846153846156\t0\t0.022304832713754646\t0\t0.006600660066006602\t0.009029345372460496\t\n",
      "['tau2', 'average_degree', 'maxari']\t0.027586206896551724\t0\t0\t0.014925373134328356\t0\t0\t0\t\n",
      "['tau2', 'average_degree', 'modularity']\t0.013888888888888888\t0.015625\t0\t0.00749063670411985\t0\t0\t0\t\n",
      "['tau2', 'average_degree', 'average_degree/n']\t0\t0\t0\t0.00749063670411985\t0\t0\t0.004524886877828055\t\n",
      "['tau2', 'maxari', 'modularity']\t0.013888888888888888\t0.015625\t0.02259887005649718\t0.00749063670411985\t0.006269592476489028\t0.013114754098360656\t0.004524886877828055\t\n",
      "['tau2', 'maxari', 'average_degree/n']\t0.013888888888888888\t0\t0.02247191011235955\t0.036630036630036625\t0.006269592476489028\t0.0196078431372549\t0.00900900900900901\t\n",
      "['tau2', 'modularity', 'average_degree/n']\t0.013888888888888888\t0.03076923076923077\t0.011363636363636362\t0.036764705882352935\t0\t0.006600660066006602\t0.004524886877828055\t\n",
      "['mu', 'average_degree', 'maxari']\t0.013888888888888888\t0\t0\t0\t0\t0\t0\t\n",
      "['mu', 'average_degree', 'modularity']\t0.013888888888888888\t0.04580152671755725\t0.020833333333333336\t0.07829181494661921\t0.0125\t0.0196078431372549\t0.048458149779735685\t\n",
      "['mu', 'average_degree', 'average_degree/n']\t0.013888888888888888\t0\t0\t0\t0\t0\t0\t\n",
      "['mu', 'maxari', 'modularity']\t0.027397260273972605\t0.07462686567164178\t0.011363636363636362\t0.13103448275862067\t0.0308641975308642\t0.0196078431372549\t0.11016949152542373\t\n",
      "['mu', 'maxari', 'average_degree/n']\t0\t0.015625\t0.02259887005649718\t0.02952029520295203\t0\t0\t0.039387308533916844\t\n",
      "['mu', 'modularity', 'average_degree/n']\t0.054421768707483\t0.06015037593984962\t0.033707865168539325\t0.022304832713754646\t0.037037037037037035\t0.019672131147540985\t0.017937219730941704\t\n",
      "['average_degree', 'maxari', 'modularity']\t0\t0.015625\t0\t0.00749063670411985\t0\t0.006600660066006602\t0.004524886877828055\t\n",
      "['average_degree', 'maxari', 'average_degree/n']\t0\t0\t0\t0.014925373134328356\t0\t0\t0\t\n",
      "['average_degree', 'modularity', 'average_degree/n']\t0\t0\t0.033707865168539325\t0\t0\t0\t0\t\n",
      "['maxari', 'modularity', 'average_degree/n']\t0.053691275167785234\t0.03076923076923077\t0.04444444444444444\t0.02214022140221402\t0.006269592476489028\t0.026058631921824105\t0.017937219730941704\t\n",
      "['n', 'tau1', 'tau2', 'mu']\t0.09333333333333334\t0.07518796992481203\t0.011363636363636362\t0.043956043956043946\t0.04892966360856269\t0.013157894736842105\t0.013513513513513513\t\n",
      "['n', 'tau1', 'tau2', 'average_degree']\t0\t0\t0\t0.014925373134328356\t0\t0\t0.004524886877828055\t\n",
      "['n', 'tau1', 'tau2', 'maxari']\t0.013888888888888888\t0\t0\t0.043795620437956206\t0\t0\t0.017977528089887642\t\n",
      "['n', 'tau1', 'tau2', 'modularity']\t0.013888888888888888\t0.031007751937984496\t0.011363636363636362\t0.058394160583941604\t0.0125\t0.006600660066006602\t0.004524886877828055\t\n",
      "['n', 'tau1', 'tau2', 'average_degree/n']\t0.013888888888888888\t0\t0.02259887005649718\t0.07857142857142857\t0\t0.006600660066006602\t0.013513513513513513\t\n",
      "['n', 'tau1', 'mu', 'average_degree']\t0.0410958904109589\t0.046153846153846156\t0\t0.07913669064748202\t0.018691588785046728\t0.019672131147540985\t0.05286343612334802\t\n",
      "['n', 'tau1', 'mu', 'maxari']\t0.013888888888888888\t0.06106870229007634\t0.011363636363636362\t0.1616161616161616\t0.018691588785046728\t0.0261437908496732\t0.11740041928721173\t\n",
      "['n', 'tau1', 'mu', 'modularity']\t0.054421768707483\t0.07518796992481203\t0.02259887005649718\t0.10238907849829351\t0.03692307692307692\t0.013157894736842105\t0.07725321888412015\t\n",
      "['n', 'tau1', 'mu', 'average_degree/n']\t0.06756756756756757\t0.06060606060606061\t0.02259887005649718\t0.07885304659498207\t0.037037037037037035\t0.03257328990228013\t0.07311827956989246\t\n",
      "['n', 'tau1', 'average_degree', 'maxari']\t0.04054054054054055\t0\t0.011363636363636362\t0.07168458781362007\t0.018691588785046728\t0\t0.009029345372460496\t\n",
      "['n', 'tau1', 'average_degree', 'modularity']\t0.027586206896551724\t0.031007751937984496\t0\t0.05054151624548736\t0.0125\t0\t0.06060606060606061\t\n",
      "['n', 'tau1', 'average_degree', 'average_degree/n']\t0.013888888888888888\t0\t0.02259887005649718\t0.057761732851985555\t0.006269592476489028\t0.013157894736842105\t0.05689277899343546\t\n",
      "['n', 'tau1', 'maxari', 'modularity']\t0.0410958904109589\t0.08955223880597016\t0.033707865168539325\t0.1414141414141414\t0.018691588785046728\t0.04516129032258064\t0.1606425702811245\t\n",
      "['n', 'tau1', 'maxari', 'average_degree/n']\t0.04054054054054055\t0.015625\t0.033707865168539325\t0.10526315789473685\t0\t0\t0.02678571428571428\t\n",
      "['n', 'tau1', 'modularity', 'average_degree/n']\t0.027586206896551724\t0.06106870229007634\t0.033519553072625705\t0.08450704225352113\t0.018691588785046728\t0.0261437908496732\t0.07692307692307691\t\n",
      "['n', 'tau2', 'mu', 'average_degree']\t0.054421768707483\t0.06106870229007634\t0\t0.057971014492753624\t0.018691588785046728\t0\t0.004524886877828055\t\n",
      "['n', 'tau2', 'mu', 'maxari']\t0.027586206896551724\t0.09022556390977444\t0.011363636363636362\t0.00749063670411985\t0.0125\t0.013157894736842105\t0.009029345372460496\t\n",
      "['n', 'tau2', 'mu', 'modularity']\t0.013888888888888888\t0.06060606060606061\t0\t0.09929078014184398\t0.03095975232198142\t0.013114754098360656\t0.02678571428571428\t\n",
      "['n', 'tau2', 'mu', 'average_degree/n']\t0.0410958904109589\t0.07575757575757576\t0\t0.05818181818181818\t0\t0\t0.004524886877828055\t\n",
      "['n', 'tau2', 'average_degree', 'maxari']\t0\t0\t0.011363636363636362\t0.022304832713754646\t0\t0\t0\t\n",
      "['n', 'tau2', 'average_degree', 'modularity']\t0.054421768707483\t0.015625\t0\t0.07220216606498195\t0\t0\t0\t\n",
      "['n', 'tau2', 'average_degree', 'average_degree/n']\t0\t0\t0\t0\t0\t0\t0\t\n",
      "['n', 'tau2', 'maxari', 'modularity']\t0.013888888888888888\t0.06106870229007634\t0.02259887005649718\t0.043956043956043946\t0.0125\t0.019672131147540985\t0.017977528089887642\t\n",
      "['n', 'tau2', 'maxari', 'average_degree/n']\t0.013888888888888888\t0\t0.02259887005649718\t0.014925373134328356\t0.006269592476489028\t0.006600660066006602\t0.004524886877828055\t\n",
      "['n', 'tau2', 'modularity', 'average_degree/n']\t0.027586206896551724\t0.03076923076923077\t0.011363636363636362\t0.00749063670411985\t0\t0\t0\t\n",
      "['n', 'mu', 'average_degree', 'maxari']\t0.027586206896551724\t0.06106870229007634\t0.02259887005649718\t0.043795620437956206\t0.006269592476489028\t0.013157894736842105\t0.013513513513513513\t\n",
      "['n', 'mu', 'average_degree', 'modularity']\t0.027586206896551724\t0.06060606060606061\t0\t0.136986301369863\t0.0125\t0.0196078431372549\t0.022321428571428572\t\n",
      "['n', 'mu', 'average_degree', 'average_degree/n']\t0\t0.046153846153846156\t0.011363636363636362\t0.022222222222222223\t0\t0.006600660066006602\t0.013483146067415729\t\n",
      "['n', 'mu', 'maxari', 'modularity']\t0.06756756756756757\t0.06106870229007634\t0.033707865168539325\t0.2046204620462046\t0.03095975232198142\t0.03257328990228013\t0.1094736842105263\t\n",
      "['n', 'mu', 'maxari', 'average_degree/n']\t0.027586206896551724\t0.06060606060606061\t0.02259887005649718\t0.07194244604316546\t0\t0.019672131147540985\t0.1016949152542373\t\n",
      "['n', 'mu', 'modularity', 'average_degree/n']\t0.06756756756756757\t0.06060606060606061\t0.033707865168539325\t0.13793103448275862\t0.0125\t0.026058631921824105\t0.061269146608315096\t\n",
      "['n', 'average_degree', 'maxari', 'modularity']\t0\t0.06106870229007634\t0.02259887005649718\t0.043795620437956206\t0\t0.013157894736842105\t0.004524886877828055\t\n",
      "['n', 'average_degree', 'maxari', 'average_degree/n']\t0\t0\t0.02259887005649718\t0.014925373134328356\t0\t0\t0\t\n",
      "['n', 'average_degree', 'modularity', 'average_degree/n']\t0.013888888888888888\t0.015625\t0.033707865168539325\t0.00749063670411985\t0\t0.006600660066006602\t0\t\n",
      "['n', 'maxari', 'modularity', 'average_degree/n']\t0\t0.06060606060606061\t0.02259887005649718\t0.0979020979020979\t0\t0.013157894736842105\t0.031111111111111107\t\n",
      "['tau1', 'tau2', 'mu', 'average_degree']\t0.027586206896551724\t0.031007751937984496\t0.011363636363636362\t0.06521739130434782\t0.006269592476489028\t0\t0.013513513513513513\t\n",
      "['tau1', 'tau2', 'mu', 'maxari']\t0.013888888888888888\t0.04580152671755725\t0.033707865168539325\t0.05818181818181818\t0.02484472049689441\t0.013157894736842105\t0.05286343612334802\t\n",
      "['tau1', 'tau2', 'mu', 'modularity']\t0.0410958904109589\t0.09022556390977444\t0.02259887005649718\t0.029629629629629624\t0.06646525679758308\t0.03896103896103896\t0.08993576017130621\t\n",
      "['tau1', 'tau2', 'mu', 'average_degree/n']\t0.06756756756756757\t0.031007751937984496\t0.02259887005649718\t0.022304832713754646\t0.03692307692307692\t0.0261437908496732\t0.02242152466367713\t\n",
      "['tau1', 'tau2', 'average_degree', 'maxari']\t0.027586206896551724\t0\t0.011363636363636362\t0.058394160583941604\t0\t0\t0.017977528089887642\t\n",
      "['tau1', 'tau2', 'average_degree', 'modularity']\t0.0410958904109589\t0.015625\t0.011363636363636362\t0.06428571428571428\t0.006269592476489028\t0.006578947368421052\t0.031111111111111107\t\n",
      "['tau1', 'tau2', 'average_degree', 'average_degree/n']\t0.013888888888888888\t0\t0.011363636363636362\t0.036764705882352935\t0\t0\t0.013513513513513513\t\n",
      "['tau1', 'tau2', 'maxari', 'modularity']\t0.054421768707483\t0.06015037593984962\t0.02259887005649718\t0.08540925266903915\t0.0955223880597015\t0.006600660066006602\t0.0611353711790393\t\n",
      "['tau1', 'tau2', 'maxari', 'average_degree/n']\t0.0410958904109589\t0.031007751937984496\t0.05494505494505494\t0.0857142857142857\t0.006269592476489028\t0.026058631921824105\t0.00900900900900901\t\n",
      "['tau1', 'tau2', 'modularity', 'average_degree/n']\t0.05405405405405405\t0.04580152671755725\t0.033519553072625705\t0.057761732851985555\t0.04892966360856269\t0.03246753246753247\t0.0522875816993464\t\n",
      "['tau1', 'mu', 'average_degree', 'maxari']\t0.0410958904109589\t0.015625\t0.011363636363636362\t0.06521739130434782\t0.006269592476489028\t0\t0\t\n",
      "['tau1', 'mu', 'average_degree', 'modularity']\t0.0410958904109589\t0.046153846153846156\t0\t0.10452961672473866\t0.006269592476489028\t0.006600660066006602\t0.035555555555555556\t\n",
      "['tau1', 'mu', 'average_degree', 'average_degree/n']\t0.027586206896551724\t0\t0.02259887005649718\t0.022304832713754646\t0.018691588785046728\t0.013157894736842105\t0.017977528089887642\t\n",
      "['tau1', 'mu', 'maxari', 'modularity']\t0.09333333333333334\t0.06060606060606061\t0.04469273743016759\t0.22006472491909385\t0.055045871559633024\t0.03236245954692557\t0.1752988047808765\t\n",
      "['tau1', 'mu', 'maxari', 'average_degree/n']\t0.0410958904109589\t0.04580152671755725\t0.033707865168539325\t0.1056338028169014\t0.03095975232198142\t0.03257328990228013\t0.06521739130434782\t\n",
      "['tau1', 'mu', 'modularity', 'average_degree/n']\t0.09333333333333334\t0.031007751937984496\t0.02259887005649718\t0.036764705882352935\t0.02469135802469136\t0.03896103896103896\t0.05217391304347826\t\n",
      "['tau1', 'average_degree', 'maxari', 'modularity']\t0.027586206896551724\t0.04580152671755725\t0.033707865168539325\t0.07168458781362007\t0.02484472049689441\t0.0196078431372549\t0.03547671840354767\t\n",
      "['tau1', 'average_degree', 'maxari', 'average_degree/n']\t0.0410958904109589\t0\t0.02259887005649718\t0.05128205128205127\t0.006269592476489028\t0\t0\t\n",
      "['tau1', 'average_degree', 'modularity', 'average_degree/n']\t0.013888888888888888\t0\t0.02259887005649718\t0.06498194945848375\t0.0125\t0.013157894736842105\t0.026845637583892617\t\n",
      "['tau1', 'maxari', 'modularity', 'average_degree/n']\t0.11688311688311691\t0.04580152671755725\t0.04469273743016759\t0.07168458781362007\t0.060790273556231005\t0.06369426751592357\t0.04824561403508772\t\n",
      "['tau2', 'mu', 'average_degree', 'maxari']\t0.0410958904109589\t0.015625\t0\t0.03690036900369004\t0\t0\t0.004524886877828055\t\n",
      "['tau2', 'mu', 'average_degree', 'modularity']\t0.054421768707483\t0.06106870229007634\t0\t0.10600706713780919\t0.0125\t0.013157894736842105\t0.03991130820399112\t\n",
      "['tau2', 'mu', 'average_degree', 'average_degree/n']\t0.013888888888888888\t0.046153846153846156\t0\t0.00749063670411985\t0.006269592476489028\t0\t0\t\n",
      "['tau2', 'mu', 'maxari', 'modularity']\t0.027586206896551724\t0.031007751937984496\t0.011363636363636362\t0.09219858156028368\t0.018691588785046728\t0.026058631921824105\t0.08602150537634408\t\n",
      "['tau2', 'mu', 'maxari', 'average_degree/n']\t0.013888888888888888\t0.031007751937984496\t0.033519553072625705\t0.02952029520295203\t0.006269592476489028\t0.019672131147540985\t0.013513513513513513\t\n",
      "['tau2', 'mu', 'modularity', 'average_degree/n']\t0.027586206896551724\t0.06106870229007634\t0.033707865168539325\t0.05128205128205127\t0\t0.019672131147540985\t0.02237136465324385\t\n",
      "['tau2', 'average_degree', 'maxari', 'modularity']\t0.027586206896551724\t0.015625\t0.02259887005649718\t0.022304832713754646\t0\t0\t0.004524886877828055\t\n",
      "['tau2', 'average_degree', 'maxari', 'average_degree/n']\t0\t0\t0.011363636363636362\t0.022304832713754646\t0.006269592476489028\t0\t0.013513513513513513\t\n",
      "['tau2', 'average_degree', 'modularity', 'average_degree/n']\t0.027586206896551724\t0.015625\t0\t0.029629629629629624\t0\t0\t0\t\n",
      "['tau2', 'maxari', 'modularity', 'average_degree/n']\t0.027397260273972605\t0.031007751937984496\t0.033519553072625705\t0.03690036900369004\t0.006269592476489028\t0.013157894736842105\t0.013483146067415729\t\n",
      "['mu', 'average_degree', 'maxari', 'modularity']\t0.027586206896551724\t0\t0.05494505494505494\t0.0989399293286219\t0.02484472049689441\t0.0196078431372549\t0.048458149779735685\t\n",
      "['mu', 'average_degree', 'maxari', 'average_degree/n']\t0.027586206896551724\t0.015503875968992248\t0\t0.00749063670411985\t0\t0\t0.004524886877828055\t\n",
      "['mu', 'average_degree', 'modularity', 'average_degree/n']\t0.013888888888888888\t0.06106870229007634\t0.011363636363636362\t0.09252669039145907\t0.006269592476489028\t0\t0.04434589800443459\t\n",
      "['mu', 'maxari', 'modularity', 'average_degree/n']\t0.09271523178807947\t0.031007751937984496\t0.0972972972972973\t0.19333333333333333\t0.04863221884498481\t0.03870967741935484\t0.09850107066381156\t\n",
      "['average_degree', 'maxari', 'modularity', 'average_degree/n']\t0\t0.03076923076923077\t0.011363636363636362\t0.014869888475836432\t0\t0.006600660066006602\t0.004524886877828055\t\n",
      "['n', 'tau1', 'tau2', 'mu', 'average_degree']\t0.0410958904109589\t0.031007751937984496\t0\t0.03690036900369004\t0.0125\t0.013157894736842105\t0.03125\t\n",
      "['n', 'tau1', 'tau2', 'mu', 'maxari']\t0.054421768707483\t0.10447761194029852\t0.011363636363636362\t0.1374570446735395\t0.037037037037037035\t0.019672131147540985\t0.08620689655172414\t\n",
      "['n', 'tau1', 'tau2', 'mu', 'modularity']\t0.10596026490066224\t0.06060606060606061\t0.033707865168539325\t0.13240418118466898\t0.0668693009118541\t0.026058631921824105\t0.035634743875278395\t\n",
      "['n', 'tau1', 'tau2', 'mu', 'average_degree/n']\t0.054421768707483\t0.07575757575757576\t0.02259887005649718\t0.06521739130434782\t0.04307692307692307\t0.019672131147540985\t0.03991130820399112\t\n",
      "['n', 'tau1', 'tau2', 'average_degree', 'maxari']\t0.05405405405405405\t0.015625\t0.011363636363636362\t0.043956043956043946\t0\t0\t0\t\n",
      "['n', 'tau1', 'tau2', 'average_degree', 'modularity']\t0.013888888888888888\t0.015625\t0.033707865168539325\t0.06498194945848375\t0.02476780185758514\t0\t0.0734341252699784\t\n",
      "['n', 'tau1', 'tau2', 'average_degree', 'average_degree/n']\t0.027586206896551724\t0\t0.011363636363636362\t0.043956043956043946\t0\t0\t0.004524886877828055\t\n",
      "['n', 'tau1', 'tau2', 'maxari', 'modularity']\t0.027586206896551724\t0.07575757575757576\t0.04469273743016759\t0.18\t0.018691588785046728\t0.019672131147540985\t0.08974358974358974\t\n",
      "['n', 'tau1', 'tau2', 'maxari', 'average_degree/n']\t0.0410958904109589\t0\t0.05524861878453038\t0.08480565371024736\t0.006269592476489028\t0.006600660066006602\t0.02242152466367713\t\n",
      "['n', 'tau1', 'tau2', 'modularity', 'average_degree/n']\t0.054421768707483\t0.015625\t0.02259887005649718\t0.11188811188811189\t0.037037037037037035\t0.013157894736842105\t0.07311827956989246\t\n",
      "['n', 'tau1', 'mu', 'average_degree', 'maxari']\t0.053691275167785234\t0.07575757575757576\t0.033707865168539325\t0.1501706484641638\t0.0125\t0.019672131147540985\t0.017977528089887642\t\n",
      "['n', 'tau1', 'mu', 'average_degree', 'modularity']\t0.06756756756756757\t0.06060606060606061\t0.02259887005649718\t0.1912144702842377\t0.042813455657492346\t0.013157894736842105\t0.06896551724137931\t\n",
      "['n', 'tau1', 'mu', 'average_degree', 'average_degree/n']\t0.027586206896551724\t0.046153846153846156\t0.02259887005649718\t0.09859154929577464\t0.03095975232198142\t0.03257328990228013\t0.02242152466367713\t\n",
      "['n', 'tau1', 'mu', 'maxari', 'modularity']\t0.06711409395973154\t0.08888888888888888\t0.04469273743016759\t0.2865853658536585\t0.03095975232198142\t0.04501607717041801\t0.20849420849420847\t\n",
      "['n', 'tau1', 'mu', 'maxari', 'average_degree/n']\t0.06756756756756757\t0.06106870229007634\t0.04469273743016759\t0.22149837133550487\t0.02484472049689441\t0.03257328990228013\t0.09071274298056155\t\n",
      "['n', 'tau1', 'mu', 'modularity', 'average_degree/n']\t0.09210526315789473\t0.07462686567164178\t0.033707865168539325\t0.174496644295302\t0.049079754601226995\t0.038834951456310676\t0.1092436974789916\t\n",
      "['n', 'tau1', 'average_degree', 'maxari', 'modularity']\t0.04026845637583893\t0.08955223880597016\t0.02259887005649718\t0.15436241610738255\t0.0125\t0.013157894736842105\t0.08528784648187633\t\n",
      "['n', 'tau1', 'average_degree', 'maxari', 'average_degree/n']\t0.053691275167785234\t0\t0.02259887005649718\t0.07194244604316546\t0\t0\t0.004524886877828055\t\n",
      "['n', 'tau1', 'average_degree', 'modularity', 'average_degree/n']\t0.053691275167785234\t0.031007751937984496\t0.02259887005649718\t0.13559322033898305\t0.018691588785046728\t0.013157894736842105\t0.05664488017429194\t\n",
      "['n', 'tau1', 'maxari', 'modularity', 'average_degree/n']\t0.04026845637583893\t0.11594202898550723\t0.04469273743016759\t0.16611295681063123\t0.02484472049689441\t0.019672131147540985\t0.10878661087866108\t\n",
      "['n', 'tau2', 'mu', 'average_degree', 'maxari']\t0.054421768707483\t0.06106870229007634\t0.02259887005649718\t0.06545454545454546\t0\t0\t0.009029345372460496\t\n",
      "['n', 'tau2', 'mu', 'average_degree', 'modularity']\t0.08053691275167786\t0.04580152671755725\t0\t0.11228070175438595\t0.0125\t0.013114754098360656\t0.06550218340611354\t\n",
      "['n', 'tau2', 'mu', 'average_degree', 'average_degree/n']\t0.013888888888888888\t0.046153846153846156\t0\t0.022222222222222223\t0\t0\t0\t\n",
      "['n', 'tau2', 'mu', 'maxari', 'modularity']\t0.10596026490066224\t0.07575757575757576\t0.06629834254143648\t0.14432989690721648\t0.03095975232198142\t0.038834951456310676\t0.08974358974358974\t\n",
      "['n', 'tau2', 'mu', 'maxari', 'average_degree/n']\t0.013888888888888888\t0.046153846153846156\t0.033707865168539325\t0.05818181818181818\t0.006269592476489028\t0.013157894736842105\t0.048458149779735685\t\n",
      "['n', 'tau2', 'mu', 'modularity', 'average_degree/n']\t0.054421768707483\t0.046153846153846156\t0\t0.1393728222996516\t0.0125\t0.013157894736842105\t0.03125\t\n",
      "['n', 'tau2', 'average_degree', 'maxari', 'modularity']\t0\t0.046153846153846156\t0.04469273743016759\t0.06474820143884892\t0\t0.006600660066006602\t0.013513513513513513\t\n",
      "['n', 'tau2', 'average_degree', 'maxari', 'average_degree/n']\t0.013888888888888888\t0\t0.02259887005649718\t0.022304832713754646\t0.006269592476489028\t0\t0\t\n",
      "['n', 'tau2', 'average_degree', 'modularity', 'average_degree/n']\t0.054421768707483\t0\t0\t0.014925373134328356\t0\t0\t0\t\n",
      "['n', 'tau2', 'maxari', 'modularity', 'average_degree/n']\t0\t0.046153846153846156\t0.08695652173913045\t0.06521739130434782\t0.006269592476489028\t0.0261437908496732\t0.02242152466367713\t\n",
      "['n', 'mu', 'average_degree', 'maxari', 'modularity']\t0.08053691275167786\t0.06106870229007634\t0.02259887005649718\t0.2098360655737705\t0.02484472049689441\t0.03870967741935484\t0.09829059829059829\t\n",
      "['n', 'mu', 'average_degree', 'maxari', 'average_degree/n']\t0.027586206896551724\t0.06060606060606061\t0\t0.06474820143884892\t0\t0\t0.004524886877828055\t\n",
      "['n', 'mu', 'average_degree', 'modularity', 'average_degree/n']\t0.027586206896551724\t0.06060606060606061\t0.02259887005649718\t0.07885304659498207\t0.006269592476489028\t0.013157894736842105\t0.026726057906458794\t\n",
      "['n', 'mu', 'maxari', 'modularity', 'average_degree/n']\t0.09333333333333334\t0.07462686567164178\t0.04469273743016759\t0.24437299035369772\t0.03095975232198142\t0.03870967741935484\t0.1700404858299595\t\n",
      "['n', 'average_degree', 'maxari', 'modularity', 'average_degree/n']\t0\t0.031007751937984496\t0.011363636363636362\t0.07885304659498207\t0\t0.006600660066006602\t0.004524886877828055\t\n",
      "['tau1', 'tau2', 'mu', 'average_degree', 'maxari']\t0.06756756756756757\t0.04580152671755725\t0.04469273743016759\t0.08602150537634408\t0.006269592476489028\t0\t0.013513513513513513\t\n",
      "['tau1', 'tau2', 'mu', 'average_degree', 'modularity']\t0.06756756756756757\t0.06106870229007634\t0.02259887005649718\t0.11267605633802817\t0.006269592476489028\t0.013157894736842105\t0.03991130820399112\t\n",
      "['tau1', 'tau2', 'mu', 'average_degree', 'average_degree/n']\t0.027586206896551724\t0.031007751937984496\t0.02259887005649718\t0.057971014492753624\t0.03095975232198142\t0.013157894736842105\t0.026845637583892617\t\n",
      "['tau1', 'tau2', 'mu', 'maxari', 'modularity']\t0.054421768707483\t0.08888888888888888\t0.033707865168539325\t0.19333333333333333\t0.04892966360856269\t0.04501607717041801\t0.1294363256784969\t\n",
      "['tau1', 'tau2', 'mu', 'maxari', 'average_degree/n']\t0.06756756756756757\t0.04580152671755725\t0.05524861878453038\t0.13194444444444445\t0.060790273556231005\t0.019672131147540985\t0.04424778761061947\t\n",
      "['tau1', 'tau2', 'mu', 'modularity', 'average_degree/n']\t0.08053691275167786\t0.06106870229007634\t0.03333333333333333\t0.057971014492753624\t0.054380664652567974\t0.03257328990228013\t0.02678571428571428\t\n",
      "['tau1', 'tau2', 'average_degree', 'maxari', 'modularity']\t0.054421768707483\t0.03053435114503817\t0.06629834254143648\t0.099644128113879\t0.02484472049689441\t0.006600660066006602\t0.061002178649237467\t\n",
      "['tau1', 'tau2', 'average_degree', 'maxari', 'average_degree/n']\t0.0410958904109589\t0\t0.033707865168539325\t0.07220216606498195\t0.006269592476489028\t0.006600660066006602\t0.009029345372460496\t\n",
      "['tau1', 'tau2', 'average_degree', 'modularity', 'average_degree/n']\t0.06756756756756757\t0.03076923076923077\t0.02259887005649718\t0.0711743772241993\t0.0125\t0.0261437908496732\t0.04835164835164835\t\n",
      "['tau1', 'tau2', 'maxari', 'modularity', 'average_degree/n']\t0.16455696202531647\t0.06060606060606061\t0.07608695652173914\t0.07829181494661921\t0.03692307692307692\t0.026058631921824105\t0.039823008849557515\t\n",
      "['tau1', 'mu', 'average_degree', 'maxari', 'modularity']\t0.06756756756756757\t0.06015037593984962\t0.07650273224043716\t0.25581395348837205\t0.018691588785046728\t0.025974025974025976\t0.11764705882352941\t\n",
      "['tau1', 'mu', 'average_degree', 'maxari', 'average_degree/n']\t0.054421768707483\t0.04580152671755725\t0.033519553072625705\t0.13103448275862067\t0.0125\t0.006600660066006602\t0.03547671840354767\t\n",
      "['tau1', 'mu', 'average_degree', 'modularity', 'average_degree/n']\t0.027586206896551724\t0.031007751937984496\t0.02259887005649718\t0.12413793103448274\t0.02469135802469136\t0.0261437908496732\t0.07218683651804671\t\n",
      "['tau1', 'mu', 'maxari', 'modularity', 'average_degree/n']\t0.1045751633986928\t0.08888888888888888\t0.08695652173913045\t0.2098360655737705\t0.049079754601226995\t0.05750798722044728\t0.1213389121338912\t\n",
      "['tau1', 'average_degree', 'maxari', 'modularity', 'average_degree/n']\t0.04081632653061225\t0.03076923076923077\t0.033707865168539325\t0.0857142857142857\t0.02484472049689441\t0.013157894736842105\t0.009029345372460496\t\n",
      "['tau2', 'mu', 'average_degree', 'maxari', 'modularity']\t0.08053691275167786\t0.06060606060606061\t0.033707865168539325\t0.07220216606498195\t0.0125\t0.006600660066006602\t0.039823008849557515\t\n",
      "['tau2', 'mu', 'average_degree', 'maxari', 'average_degree/n']\t0.027586206896551724\t0.031007751937984496\t0.033707865168539325\t0.029629629629629624\t0.006269592476489028\t0.006600660066006602\t0.004524886877828055\t\n",
      "['tau2', 'mu', 'average_degree', 'modularity', 'average_degree/n']\t0.054421768707483\t0.06106870229007634\t0\t0.099644128113879\t0\t0.006600660066006602\t0.04434589800443459\t\n",
      "['tau2', 'mu', 'maxari', 'modularity', 'average_degree/n']\t0.06756756756756757\t0.06106870229007634\t0.10638297872340426\t0.16382252559726962\t0.02476780185758514\t0.05128205128205128\t0.05274725274725274\t\n",
      "['tau2', 'average_degree', 'maxari', 'modularity', 'average_degree/n']\t0.013888888888888888\t0.031007751937984496\t0.033707865168539325\t0.029629629629629624\t0.006269592476489028\t0.006600660066006602\t0.017977528089887642\t\n",
      "['mu', 'average_degree', 'maxari', 'modularity', 'average_degree/n']\t0.0410958904109589\t0.06015037593984962\t0.06629834254143648\t0.2006688963210702\t0.006269592476489028\t0.03236245954692557\t0.04856512141280354\t\n",
      "['n', 'tau1', 'tau2', 'mu', 'average_degree', 'maxari']\t0.07999999999999999\t0.06106870229007634\t0.033707865168539325\t0.09929078014184398\t0.0125\t0.013157894736842105\t0.009029345372460496\t\n",
      "['n', 'tau1', 'tau2', 'mu', 'average_degree', 'modularity']\t0.06756756756756757\t0.04580152671755725\t0.011363636363636362\t0.13840830449826988\t0.018691588785046728\t0.013157894736842105\t0.08565310492505354\t\n",
      "['n', 'tau1', 'tau2', 'mu', 'average_degree', 'average_degree/n']\t0.013888888888888888\t0.031007751937984496\t0.02259887005649718\t0.03690036900369004\t0.0125\t0.013157894736842105\t0.017977528089887642\t\n",
      "['n', 'tau1', 'tau2', 'mu', 'maxari', 'modularity']\t0.054421768707483\t0.08955223880597016\t0.033707865168539325\t0.28482972136222906\t0.02484472049689441\t0.03896103896103896\t0.1854838709677419\t\n",
      "['n', 'tau1', 'tau2', 'mu', 'maxari', 'average_degree/n']\t0.06756756756756757\t0.07575757575757576\t0.04469273743016759\t0.15120274914089346\t0.02484472049689441\t0.0261437908496732\t0.04856512141280354\t\n",
      "['n', 'tau1', 'tau2', 'mu', 'modularity', 'average_degree/n']\t0.08053691275167786\t0.07518796992481203\t0.033707865168539325\t0.1554054054054054\t0.03692307692307692\t0.026058631921824105\t0.13636363636363635\t\n",
      "['n', 'tau1', 'tau2', 'average_degree', 'maxari', 'modularity']\t0.027586206896551724\t0.046153846153846156\t0.04469273743016759\t0.1374570446735395\t0.0125\t0.019672131147540985\t0.0779220779220779\t\n",
      "['n', 'tau1', 'tau2', 'average_degree', 'maxari', 'average_degree/n']\t0.04081632653061225\t0.015625\t0.033707865168539325\t0.07142857142857142\t0.006269592476489028\t0\t0\t\n",
      "['n', 'tau1', 'tau2', 'average_degree', 'modularity', 'average_degree/n']\t0.013888888888888888\t0.015625\t0.02259887005649718\t0.0851063829787234\t0.02484472049689441\t0.006600660066006602\t0.07758620689655171\t\n",
      "['n', 'tau1', 'tau2', 'maxari', 'modularity', 'average_degree/n']\t0.027586206896551724\t0.08955223880597016\t0.05555555555555556\t0.174496644295302\t0.02484472049689441\t0.03257328990228013\t0.09421841541755889\t\n",
      "['n', 'tau1', 'mu', 'average_degree', 'maxari', 'modularity']\t0.054421768707483\t0.07518796992481203\t0.02259887005649718\t0.25396825396825395\t0.03095975232198142\t0.03257328990228013\t0.15195071868583163\t\n",
      "['n', 'tau1', 'mu', 'average_degree', 'maxari', 'average_degree/n']\t0.07894736842105263\t0.06060606060606061\t0.04469273743016759\t0.13888888888888887\t0.03095975232198142\t0.013157894736842105\t0.031180400890868598\t\n",
      "['n', 'tau1', 'mu', 'average_degree', 'modularity', 'average_degree/n']\t0.054421768707483\t0.06060606060606061\t0.04469273743016759\t0.1554054054054054\t0.02484472049689441\t0.038834951456310676\t0.0611353711790393\t\n",
      "['n', 'tau1', 'mu', 'maxari', 'modularity', 'average_degree/n']\t0.05405405405405405\t0.10218978102189781\t0.06629834254143648\t0.3015384615384616\t0.037037037037037035\t0.05128205128205128\t0.18326693227091634\t\n",
      "['n', 'tau1', 'average_degree', 'maxari', 'modularity', 'average_degree/n']\t0.027586206896551724\t0.08955223880597016\t0.04469273743016759\t0.1548821548821549\t0.018691588785046728\t0.006600660066006602\t0.10482180293501049\t\n",
      "['n', 'tau2', 'mu', 'average_degree', 'maxari', 'modularity']\t0.06756756756756757\t0.07575757575757576\t0.04469273743016759\t0.21854304635761587\t0\t0.03257328990228013\t0.04856512141280354\t\n",
      "['n', 'tau2', 'mu', 'average_degree', 'maxari', 'average_degree/n']\t0.013888888888888888\t0.046153846153846156\t0.02259887005649718\t0.022304832713754646\t0\t0.013157894736842105\t0\t\n",
      "['n', 'tau2', 'mu', 'average_degree', 'modularity', 'average_degree/n']\t0.06756756756756757\t0.04580152671755725\t0\t0.0857142857142857\t0.006269592476489028\t0.013114754098360656\t0.02678571428571428\t\n",
      "['n', 'tau2', 'mu', 'maxari', 'modularity', 'average_degree/n']\t0.08053691275167786\t0.07575757575757576\t0.07692307692307693\t0.2692307692307692\t0.006269592476489028\t0.04516129032258064\t0.12210526315789473\t\n",
      "['n', 'tau2', 'average_degree', 'maxari', 'modularity', 'average_degree/n']\t0\t0.06060606060606061\t0.033707865168539325\t0.05818181818181818\t0.006269592476489028\t0.006600660066006602\t0.004524886877828055\t\n",
      "['n', 'mu', 'average_degree', 'maxari', 'modularity', 'average_degree/n']\t0.08053691275167786\t0.06106870229007634\t0.06629834254143648\t0.2280130293159609\t0.0125\t0.03257328990228013\t0.11368421052631579\t\n",
      "['tau1', 'tau2', 'mu', 'average_degree', 'maxari', 'modularity']\t0.11842105263157895\t0.08888888888888888\t0.04469273743016759\t0.19867549668874168\t0.018691588785046728\t0.006600660066006602\t0.11789473684210526\t\n",
      "['tau1', 'tau2', 'mu', 'average_degree', 'maxari', 'average_degree/n']\t0.054421768707483\t0.046153846153846156\t0.06593406593406594\t0.099644128113879\t0.02484472049689441\t0\t0.035555555555555556\t\n",
      "['tau1', 'tau2', 'mu', 'average_degree', 'modularity', 'average_degree/n']\t0.06756756756756757\t0.06106870229007634\t0.02259887005649718\t0.0989399293286219\t0.018691588785046728\t0.019672131147540985\t0.03956043956043956\t\n",
      "['tau1', 'tau2', 'mu', 'maxari', 'modularity', 'average_degree/n']\t0.11764705882352942\t0.08888888888888888\t0.09677419354838711\t0.15753424657534246\t0.07807807807807808\t0.04516129032258064\t0.09012875536480686\t\n",
      "['tau1', 'tau2', 'average_degree', 'maxari', 'modularity', 'average_degree/n']\t0.06756756756756757\t0.046153846153846156\t0.06593406593406594\t0.08602150537634408\t0.037037037037037035\t0.019672131147540985\t0.04424778761061947\t\n",
      "['tau1', 'mu', 'average_degree', 'maxari', 'modularity', 'average_degree/n']\t0.08053691275167786\t0.06015037593984962\t0.05555555555555556\t0.21333333333333332\t0.02484472049689441\t0.026058631921824105\t0.07741935483870967\t\n",
      "['tau2', 'mu', 'average_degree', 'maxari', 'modularity', 'average_degree/n']\t0.054421768707483\t0.031007751937984496\t0.04469273743016759\t0.1258741258741259\t0.0125\t0.006600660066006602\t0.04415011037527594\t\n",
      "['n', 'tau1', 'tau2', 'mu', 'average_degree', 'maxari', 'modularity']\t0.06756756756756757\t0.07518796992481203\t0.033707865168539325\t0.21639344262295082\t0.018691588785046728\t0.03870967741935484\t0.1218487394957983\t\n",
      "['n', 'tau1', 'tau2', 'mu', 'average_degree', 'maxari', 'average_degree/n']\t0.08053691275167786\t0.046153846153846156\t0.05555555555555556\t0.09318996415770608\t0.037037037037037035\t0.019672131147540985\t0.013513513513513513\t\n",
      "['n', 'tau1', 'tau2', 'mu', 'average_degree', 'modularity', 'average_degree/n']\t0.0410958904109589\t0.04580152671755725\t0.03333333333333333\t0.0979020979020979\t0.018691588785046728\t0.019672131147540985\t0.07359307359307359\t\n",
      "['n', 'tau1', 'tau2', 'mu', 'maxari', 'modularity', 'average_degree/n']\t0.06756756756756757\t0.09022556390977444\t0.07650273224043716\t0.2884012539184953\t0.03095975232198142\t0.05128205128205128\t0.19639278557114226\t\n",
      "['n', 'tau1', 'tau2', 'average_degree', 'maxari', 'modularity', 'average_degree/n']\t0.027586206896551724\t0.06106870229007634\t0.06629834254143648\t0.16216216216216217\t0.02484472049689441\t0.0261437908496732\t0.06550218340611354\t\n",
      "['n', 'tau1', 'mu', 'average_degree', 'maxari', 'modularity', 'average_degree/n']\t0.053691275167785234\t0.07518796992481203\t0.04469273743016759\t0.29374999999999996\t0.02484472049689441\t0.03896103896103896\t0.15132924335378323\t\n",
      "['n', 'tau2', 'mu', 'average_degree', 'maxari', 'modularity', 'average_degree/n']\t0.027586206896551724\t0.07575757575757576\t0.05555555555555556\t0.23684210526315788\t0.0125\t0.0261437908496732\t0.031180400890868598\t\n",
      "['tau1', 'tau2', 'mu', 'average_degree', 'maxari', 'modularity', 'average_degree/n']\t0.09333333333333334\t0.10294117647058823\t0.06593406593406594\t0.1694915254237288\t0.03692307692307692\t0.026058631921824105\t0.11320754716981131\t\n",
      "['n', 'tau1', 'tau2', 'mu', 'average_degree', 'maxari', 'modularity', 'average_degree/n']\t0.054421768707483\t0.08955223880597016\t0.07650273224043716\t0.23948220064724918\t0.037037037037037035\t0.03896103896103896\t0.09766454352441613\t\n"
     ]
    }
   ],
   "source": [
    "for comb, rw, rwo in results:\n",
    "    print(comb, end='\\t')\n",
    "    for kernel_name in kernels_order2:\n",
    "        print(rwo[kernel_name]['f1'], end='\\t')\n",
    "    print()"
   ]
  },
  {
   "cell_type": "code",
   "execution_count": null,
   "metadata": {},
   "outputs": [],
   "source": [
    "for mari, sigma, comb in results:\n",
    "    print(f'{mari:.4f}\\t{sigma:.3f}\\t{comb}')"
   ]
  }
 ],
 "metadata": {
  "kernelspec": {
   "display_name": "Python 3",
   "language": "python",
   "name": "python3"
  },
  "language_info": {
   "codemirror_mode": {
    "name": "ipython",
    "version": 3
   },
   "file_extension": ".py",
   "mimetype": "text/x-python",
   "name": "python",
   "nbconvert_exporter": "python",
   "pygments_lexer": "ipython3",
   "version": "3.6.9"
  }
 },
 "nbformat": 4,
 "nbformat_minor": 4
}
