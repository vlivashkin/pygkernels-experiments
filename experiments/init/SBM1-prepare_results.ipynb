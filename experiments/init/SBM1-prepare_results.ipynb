{
 "cells": [
  {
   "cell_type": "code",
   "execution_count": 1,
   "metadata": {},
   "outputs": [],
   "source": [
    "%matplotlib inline"
   ]
  },
  {
   "cell_type": "code",
   "execution_count": 2,
   "metadata": {},
   "outputs": [],
   "source": [
    "import pickle\n",
    "from collections import defaultdict\n",
    "from itertools import product\n",
    "\n",
    "import matplotlib.pyplot as plt\n",
    "import networkx as nx\n",
    "import numpy as np\n",
    "import pandas as pd\n",
    "from tqdm.notebook import tqdm\n",
    "\n",
    "from utils import SBM_Data, load_or_calc_and_save, ytrue_to_partition, perform_graph"
   ]
  },
  {
   "cell_type": "markdown",
   "metadata": {},
   "source": [
    "# Prepare results of SBM – Stochastic Block Model"
   ]
  },
  {
   "cell_type": "code",
   "execution_count": 3,
   "metadata": {},
   "outputs": [],
   "source": [
    "data_hub = SBM_Data()"
   ]
  },
  {
   "cell_type": "code",
   "execution_count": 4,
   "metadata": {},
   "outputs": [
    {
     "name": "stdout",
     "output_type": "stream",
     "text": [
      "sbm_inits_bestparam_byari_individual: RECALC ../../cache/cache/sbm_inits_bestparam_byari_individual.pkl. args: , kwargs: \n"
     ]
    },
    {
     "data": {
      "application/vnd.jupyter.widget-view+json": {
       "model_id": "1d10fdb882b14b948d37a43ef36ed34f",
       "version_major": 2,
       "version_minor": 0
      },
      "text/plain": [
       "HBox(children=(IntProgress(value=0, max=86), HTML(value='')))"
      ]
     },
     "metadata": {},
     "output_type": "display_data"
    },
    {
     "name": "stdout",
     "output_type": "stream",
     "text": [
      "calculate_dataset: RECALC ../../cache/cache/sbm_inits_bestparam_byari_individual/150_2_0.10_0.030.pkl. args: , kwargs: \n"
     ]
    },
    {
     "data": {
      "application/vnd.jupyter.widget-view+json": {
       "model_id": "9d2aa92ced034a7589a66f24e874bd4e",
       "version_major": 2,
       "version_minor": 0
      },
      "text/plain": [
       "HBox(children=(IntProgress(value=0, description='150_2_0.10_0.030', max=25, style=ProgressStyle(description_wi…"
      ]
     },
     "metadata": {},
     "output_type": "display_data"
    },
    {
     "name": "stdout",
     "output_type": "stream",
     "text": [
      "\n",
      "\n"
     ]
    }
   ],
   "source": [
    "@load_or_calc_and_save(f'{data_hub.CACHE_ROOT}/sbm_inits_bestparam_byari_individual.pkl', force_calc=True)\n",
    "def sbm_inits_bestparam_byari_individual():\n",
    "    results = {}\n",
    "    for dataset in tqdm(data_hub.datasets):  # dataset = column in this context\n",
    "        @load_or_calc_and_save(f'{data_hub.CACHE_ROOT}/sbm_inits_bestparam_byari_individual/{dataset}.pkl')\n",
    "        def calculate_dataset():\n",
    "            dataset_results = {}\n",
    "            for kernel_name in tqdm(data_hub.kernel_names, desc=dataset):\n",
    "                filename = f'{dataset}_{kernel_name}_results.pkl'\n",
    "                try:\n",
    "                    with open(f'{data_hub.SBM_RESULTS_ROOT}/by_column/{dataset}/{filename}', 'rb') as f:\n",
    "                        data = pickle.load(f)\n",
    "                except EOFError:\n",
    "                    print(filename)\n",
    "                    raise\n",
    "                for graph_idx in range(100):\n",
    "                    _, best_ari, _ = perform_graph(data[graph_idx]['results'])  # {scorename_initname: (best_param, init)}\n",
    "                    result = {si: init['score_ari'] for si, (_, init) in best_ari.items()}  # {scorename_initname: best_ari}\n",
    "                    dataset_results[(kernel_name, graph_idx)] = result\n",
    "            return dataset_results\n",
    "        \n",
    "        dataset_results = calculate_dataset()\n",
    "        for (kernel_name, graph_idx), result in dataset_results.items():\n",
    "            results[(dataset, kernel_name, graph_idx)] = result\n",
    "    return results\n",
    "\n",
    "results = sbm_inits_bestparam_byari_individual() # {(dataset, kernel_name, graph_idx): {scorename_initname: best_ari}}"
   ]
  },
  {
   "cell_type": "code",
   "execution_count": 5,
   "metadata": {},
   "outputs": [
    {
     "name": "stdout",
     "output_type": "stream",
     "text": [
      "200_4_0.10_0.100: 0.03\n",
      "150_3_0.10_0.100: 0.04\n",
      "100_4_0.10_0.100: 0.04\n",
      "100_2_0.05_0.050: 0.04\n",
      "102_3_0.10_0.100: 0.05\n",
      "150_2_0.10_0.100: 0.05\n",
      "100_2_0.15_0.150: 0.05\n",
      "100_2_0.10_0.100: 0.05\n",
      "100_2_0.10_0.100_1.00: 0.06\n",
      "100_4_0.10_0.050: 0.08\n",
      "200_4_0.10_0.050: 0.09\n",
      "100_2_0.05_0.030: 0.10\n",
      "100_2_0.10_0.070: 0.10\n",
      "102_3_0.10_0.050: 0.12\n",
      "150_3_0.10_0.050: 0.12\n",
      "100_2_0.20_0.150: 0.13\n",
      "100_2_0.10_0.050_1.00: 0.15\n",
      "100_2_0.15_0.100: 0.15\n",
      "100_2_0.05_0.020: 0.16\n",
      "100_2_0.10_0.050: 0.22\n",
      "100_4_0.30_0.150: 0.22\n",
      "102_3_0.10_0.030: 0.26\n",
      "100_4_0.10_0.020: 0.28\n",
      "150_2_0.10_0.050: 0.32\n",
      "200_4_0.30_0.150: 0.36\n",
      "102_3_0.30_0.150: 0.38\n",
      "100_2_0.15_0.070: 0.40\n",
      "102_3_0.10_0.020: 0.45\n",
      "100_2_0.05_0.010: 0.45\n",
      "100_4_0.30_0.100: 0.52\n",
      "100_2_0.20_0.100: 0.53\n",
      "200_4_0.10_0.020: 0.55\n",
      "100_4_0.10_0.010: 0.55\n",
      "100_2_0.10_0.020_1.00: 0.58\n",
      "100_2_0.05_0.007: 0.59\n",
      "100_2_0.10_0.030: 0.59\n",
      "150_3_0.10_0.020: 0.64\n",
      "100_2_0.05_0.005: 0.72\n",
      "100_4_0.10_0.005: 0.74\n",
      "100_2_0.15_0.050: 0.74\n",
      "150_2_0.10_0.030: 0.75\n",
      "102_3_0.10_0.010: 0.75\n",
      "500_2_0.10_0.050: 0.76\n",
      "100_2_0.30_0.150: 0.76\n",
      "102_3_0.30_0.100: 0.78\n",
      "200_4_0.30_0.100: 0.80\n",
      "100_2_0.10_0.020: 0.82\n",
      "200_4_0.10_0.010: 0.83\n",
      "100_2_0.10_0.010_1.00: 0.86\n",
      "200_2_0.30_0.150: 0.86\n",
      "201_3_0.30_0.100: 0.88\n",
      "150_3_0.10_0.010: 0.89\n",
      "102_3_0.10_0.005: 0.90\n",
      "100_2_0.05_0.002: 0.90\n",
      "150_2_0.10_0.020: 0.91\n",
      "100_4_0.10_0.001: 0.92\n",
      "100_2_0.15_0.030: 0.93\n",
      "100_2_0.30_0.100: 0.93\n",
      "100_2_0.20_0.050: 0.93\n",
      "102_3_0.30_0.050: 0.94\n",
      "100_2_0.10_0.005_1.00: 0.94\n",
      "100_2_0.10_0.010: 0.94\n",
      "100_2_0.05_0.001: 0.94\n",
      "200_4_0.10_0.005: 0.95\n",
      "200_2_0.30_0.100: 0.95\n",
      "150_3_0.10_0.005: 0.97\n",
      "102_3_0.10_0.001: 0.98\n",
      "100_2_0.10_0.005: 0.98\n",
      "500_2_0.10_0.020: 0.98\n",
      "100_2_0.10_0.001_1.00: 0.98\n",
      "150_2_0.10_0.010: 0.99\n",
      "200_4_0.10_0.001: 0.99\n",
      "100_2_0.10_0.002: 0.99\n",
      "150_3_0.10_0.001: 0.99\n",
      "100_2_0.10_0.001: 0.99\n",
      "100_2_0.15_0.010: 0.99\n",
      "150_2_0.10_0.005: 1.00\n",
      "100_2_0.30_0.050: 1.00\n",
      "200_2_0.10_0.010: 1.00\n",
      "200_2_0.30_0.050: 1.00\n",
      "500_2_0.10_0.010: 1.00\n",
      "200_2_0.10_0.005: 1.00\n",
      "150_2_0.10_0.001: 1.00\n",
      "200_2_0.10_0.001: 1.00\n",
      "500_2_0.10_0.001: 1.00\n",
      "500_2_0.10_0.005: 1.00\n"
     ]
    }
   ],
   "source": [
    "# table for modularity any3\n",
    "results_m3_dka = defaultdict(lambda: defaultdict(list)) # {dataset, {kernel_name: [best_ari_for_graph]}}\n",
    "for (dataset, kernel_name, graph_idx), si_ari in results.items():\n",
    "    results_m3_dka[dataset][kernel_name].append(si_ari['modularity_any3'])\n",
    "for dataset, kernel_name in product(data_hub.datasets, data_hub.kernel_names):  # {dataset, {kernel_name: mean_bestari}}\n",
    "    results_m3_dka[dataset][kernel_name] = np.mean(results_m3_dka[dataset][kernel_name])\n",
    "\n",
    "df = pd.DataFrame(results_m3_dka)\n",
    "df.to_excel('./results/sbm_modularity_any3_bestparam_byari_individual.xlsx')\n",
    "\n",
    "dataset_meanari = {k: np.mean(list(v.values())) for k, v in results_m3_dka.items()}  # {dataset, mean_mean_bestari}\n",
    "for dataset, meanari in sorted(list(dataset_meanari.items()), key=lambda x: x[1]):\n",
    "    print(f'{dataset}: {meanari:.2f}')"
   ]
  },
  {
   "cell_type": "code",
   "execution_count": 6,
   "metadata": {},
   "outputs": [
    {
     "name": "stdout",
     "output_type": "stream",
     "text": [
      "sbm_modularity: RECALC ../../cache/cache/sbm_modularity.pkl. args: , kwargs: \n"
     ]
    },
    {
     "data": {
      "application/vnd.jupyter.widget-view+json": {
       "model_id": "21430d08661b4e60a13265f342d43693",
       "version_major": 2,
       "version_minor": 0
      },
      "text/plain": [
       "HBox(children=(IntProgress(value=0, max=86), HTML(value='')))"
      ]
     },
     "metadata": {},
     "output_type": "display_data"
    },
    {
     "name": "stdout",
     "output_type": "stream",
     "text": [
      "\n"
     ]
    }
   ],
   "source": [
    "@load_or_calc_and_save(f'{data_hub.CACHE_ROOT}/sbm_modularity.pkl', force_calc=True)\n",
    "def sbm_modularity():\n",
    "    modularity_results = {}\n",
    "    for dataset in tqdm(data_hub.datasets):  # dataset = column in this context\n",
    "        filename = f'{dataset}_100_graphs.pkl'\n",
    "        with open(f'{data_hub.SBM_RESULTS_ROOT}/graphs/{filename}', 'rb') as f:\n",
    "            data = pickle.load(f)\n",
    "        for graph_idx in range(100):\n",
    "            try:\n",
    "                (A, y_true), _ = data[graph_idx]\n",
    "            except:\n",
    "                (A, y_true) = data[graph_idx]\n",
    "            partition = ytrue_to_partition(y_true)\n",
    "            modularity = nx.community.modularity(nx.from_numpy_matrix(A), partition)\n",
    "            modularity_results[(dataset, graph_idx)] = modularity\n",
    "    return modularity_results\n",
    "\n",
    "modularity_results = sbm_modularity()  # {(dataset, graph_idx): modularity}"
   ]
  },
  {
   "cell_type": "code",
   "execution_count": 7,
   "metadata": {},
   "outputs": [
    {
     "name": "stdout",
     "output_type": "stream",
     "text": [
      "100_4_0.10_0.100: -0.01\n",
      "102_3_0.10_0.100: -0.01\n",
      "100_2_0.05_0.050: -0.01\n",
      "150_3_0.10_0.100: -0.01\n",
      "100_2_0.15_0.150: -0.01\n",
      "100_2_0.10_0.100: -0.01\n",
      "200_4_0.10_0.100: -0.00\n",
      "100_2_0.10_0.100_1.00: -0.00\n",
      "150_2_0.10_0.100: -0.00\n",
      "100_2_0.20_0.150: 0.07\n",
      "100_2_0.10_0.070: 0.09\n",
      "100_2_0.10_0.050_1.00: 0.09\n",
      "100_2_0.15_0.100: 0.09\n",
      "100_2_0.05_0.030: 0.12\n",
      "100_4_0.10_0.050: 0.14\n",
      "100_4_0.30_0.150: 0.14\n",
      "200_4_0.30_0.150: 0.14\n",
      "200_4_0.10_0.050: 0.14\n",
      "102_3_0.10_0.050: 0.16\n",
      "100_2_0.10_0.020_1.00: 0.16\n",
      "150_3_0.10_0.050: 0.16\n",
      "102_3_0.30_0.150: 0.16\n",
      "100_2_0.20_0.100: 0.16\n",
      "100_2_0.30_0.150: 0.16\n",
      "100_2_0.10_0.050: 0.16\n",
      "150_2_0.10_0.050: 0.16\n",
      "200_2_0.30_0.150: 0.16\n",
      "500_2_0.10_0.050: 0.17\n",
      "100_2_0.15_0.070: 0.17\n",
      "100_2_0.10_0.010_1.00: 0.19\n",
      "100_2_0.10_0.005_1.00: 0.21\n",
      "100_2_0.05_0.020: 0.21\n",
      "100_2_0.10_0.001_1.00: 0.22\n",
      "100_4_0.30_0.100: 0.24\n",
      "200_4_0.30_0.100: 0.25\n",
      "100_2_0.30_0.100: 0.25\n",
      "100_2_0.15_0.050: 0.25\n",
      "200_2_0.30_0.100: 0.25\n",
      "102_3_0.30_0.100: 0.26\n",
      "201_3_0.30_0.100: 0.26\n",
      "150_2_0.10_0.030: 0.27\n",
      "100_2_0.10_0.030: 0.27\n",
      "102_3_0.10_0.030: 0.28\n",
      "100_2_0.20_0.050: 0.29\n",
      "100_2_0.15_0.030: 0.33\n",
      "100_2_0.05_0.010: 0.33\n",
      "150_2_0.10_0.020: 0.33\n",
      "500_2_0.10_0.020: 0.33\n",
      "100_2_0.10_0.020: 0.33\n",
      "100_2_0.30_0.050: 0.35\n",
      "200_2_0.30_0.050: 0.36\n",
      "100_4_0.10_0.020: 0.37\n",
      "102_3_0.10_0.020: 0.37\n",
      "200_4_0.10_0.020: 0.37\n",
      "100_2_0.05_0.007: 0.37\n",
      "150_3_0.10_0.020: 0.37\n",
      "100_2_0.05_0.005: 0.40\n",
      "100_2_0.10_0.010: 0.41\n",
      "150_2_0.10_0.010: 0.41\n",
      "200_2_0.10_0.010: 0.41\n",
      "500_2_0.10_0.010: 0.41\n",
      "102_3_0.30_0.050: 0.41\n",
      "100_2_0.15_0.010: 0.44\n",
      "100_2_0.10_0.005: 0.45\n",
      "150_2_0.10_0.005: 0.45\n",
      "200_2_0.10_0.005: 0.45\n",
      "500_2_0.10_0.005: 0.45\n",
      "100_2_0.05_0.002: 0.46\n",
      "100_2_0.05_0.001: 0.48\n",
      "100_2_0.10_0.002: 0.48\n",
      "100_2_0.10_0.001: 0.49\n",
      "200_2_0.10_0.001: 0.49\n",
      "150_2_0.10_0.001: 0.49\n",
      "500_2_0.10_0.001: 0.49\n",
      "102_3_0.10_0.010: 0.49\n",
      "150_3_0.10_0.010: 0.49\n",
      "200_4_0.10_0.010: 0.51\n",
      "100_4_0.10_0.010: 0.52\n",
      "150_3_0.10_0.005: 0.57\n",
      "102_3_0.10_0.005: 0.57\n",
      "100_4_0.10_0.005: 0.61\n",
      "200_4_0.10_0.005: 0.62\n",
      "102_3_0.10_0.001: 0.64\n",
      "150_3_0.10_0.001: 0.64\n",
      "100_4_0.10_0.001: 0.71\n",
      "200_4_0.10_0.001: 0.72\n"
     ]
    }
   ],
   "source": [
    "dataset_modularity = dict()\n",
    "for dataset in data_hub.datasets:\n",
    "    dataset_modularity[dataset] = np.mean([modularity_results[(dataset, graph_idx)] for graph_idx in range(100)])\n",
    "for dataset, modularity in sorted(list(dataset_modularity.items()), key=lambda x: x[1]):\n",
    "    print(f'{dataset}: {modularity:.2f}')"
   ]
  },
  {
   "cell_type": "code",
   "execution_count": 8,
   "metadata": {},
   "outputs": [
    {
     "data": {
      "text/plain": [
       "Text(0, 0.5, 'ARI')"
      ]
     },
     "execution_count": 8,
     "metadata": {},
     "output_type": "execute_result"
    },
    {
     "data": {
      "image/png": "[encoded data removed]",
      "text/plain": [
       "<Figure size 432x288 with 1 Axes>"
      ]
     },
     "metadata": {
      "needs_background": "light"
     },
     "output_type": "display_data"
    }
   ],
   "source": [
    "# draw ari-modularity dependency\n",
    "x, y = [], []\n",
    "for dataset in data_hub.datasets:\n",
    "    x.append(dataset_modularity[dataset])\n",
    "    y.append(dataset_meanari[dataset])\n",
    "plt.scatter(x, y)\n",
    "plt.xlabel('modularity')\n",
    "plt.ylabel('ARI')"
   ]
  },
  {
   "cell_type": "code",
   "execution_count": null,
   "metadata": {},
   "outputs": [],
   "source": []
  }
 ],
 "metadata": {
  "kernelspec": {
   "display_name": "Python 3",
   "language": "python",
   "name": "python3"
  },
  "language_info": {
   "codemirror_mode": {
    "name": "ipython",
    "version": 3
   },
   "file_extension": ".py",
   "mimetype": "text/x-python",
   "name": "python",
   "nbconvert_exporter": "python",
   "pygments_lexer": "ipython3",
   "version": "3.6.9"
  }
 },
 "nbformat": 4,
 "nbformat_minor": 4
}
