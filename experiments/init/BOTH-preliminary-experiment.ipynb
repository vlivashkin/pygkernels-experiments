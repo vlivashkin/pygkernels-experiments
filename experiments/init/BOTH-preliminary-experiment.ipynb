{
 "cells": [
  {
   "cell_type": "code",
   "execution_count": 1,
   "metadata": {},
   "outputs": [],
   "source": [
    "import sys\n",
    "import pickle\n",
    "from collections import defaultdict\n",
    "\n",
    "from matplotlib import colors\n",
    "import matplotlib.pyplot as plt\n",
    "import networkx as nx\n",
    "import numpy as np\n",
    "import pandas as pd\n",
    "from joblib import Parallel, delayed\n",
    "from networkx.algorithms.approximation import clique\n",
    "from sklearn.ensemble import RandomForestClassifier, RandomForestRegressor\n",
    "from sklearn.linear_model import LogisticRegression, Ridge\n",
    "from sklearn.metrics import accuracy_score, f1_score\n",
    "from sklearn.multiclass import OneVsRestClassifier\n",
    "from sklearn.neighbors import KNeighborsClassifier, KNeighborsRegressor\n",
    "from sklearn.svm import SVC, SVR, LinearSVC, LinearSVR\n",
    "from sklearn.preprocessing import Normalizer\n",
    "from tqdm.notebook import tqdm\n",
    "from sklearn.model_selection import LeaveOneOut\n",
    "\n",
    "from helpers import (\n",
    "    SBM_Data,\n",
    "    Datasets_Data,\n",
    "    load_or_calc_and_save,\n",
    "    ytrue_to_partition,\n",
    "    calc_avranks,\n",
    "    RFE,\n",
    "    RFE_LOO,\n",
    "    OneVsRest_custom,\n",
    "    OneHotEncoding_custom,\n",
    ")\n",
    "\n",
    "sys.path.append(\"../../pygkernels\")\n",
    "from pygkernels.scenario import d3_category20"
   ]
  },
  {
   "cell_type": "code",
   "execution_count": 2,
   "metadata": {},
   "outputs": [
    {
     "name": "stderr",
     "output_type": "stream",
     "text": [
      "prepare columns:   0%|          | 0/11 [00:00<?, ?it/s]"
     ]
    },
    {
     "name": "stdout",
     "output_type": "stream",
     "text": [
      "wrapper: RECALC ../../cache/cache/feature_importance/dataset2sbm_sp_school_day_1.pkl. args: , kwargs: \n",
      "Dataset sp_school_day_1 not in cache; reload\n"
     ]
    },
    {
     "name": "stderr",
     "output_type": "stream",
     "text": [
      "prepare columns:  45%|████▌     | 5/11 [00:32<00:39,  6.56s/it]"
     ]
    },
    {
     "name": "stdout",
     "output_type": "stream",
     "text": [
      "wrapper: RECALC ../../cache/cache/feature_importance/dataset2sbm_sp_school_day_2.pkl. args: , kwargs: \n",
      "Dataset sp_school_day_2 not in cache; reload\n"
     ]
    },
    {
     "name": "stderr",
     "output_type": "stream",
     "text": [
      "prepare columns:  55%|█████▍    | 6/11 [01:04<01:11, 14.25s/it]"
     ]
    },
    {
     "name": "stdout",
     "output_type": "stream",
     "text": [
      "wrapper: RECALC ../../cache/cache/feature_importance/dataset2sbm_news_2cl1_0.1.pkl. args: , kwargs: \n",
      "Dataset news_2cl1_0.1 not in cache; reload\n"
     ]
    },
    {
     "name": "stderr",
     "output_type": "stream",
     "text": [
      "prepare columns:  64%|██████▎   | 7/11 [03:31<03:35, 53.88s/it]"
     ]
    },
    {
     "name": "stdout",
     "output_type": "stream",
     "text": [
      "wrapper: RECALC ../../cache/cache/feature_importance/dataset2sbm_news_2cl2_0.1.pkl. args: , kwargs: \n",
      "Dataset news_2cl2_0.1 not in cache; reload\n"
     ]
    },
    {
     "name": "stderr",
     "output_type": "stream",
     "text": [
      "prepare columns:  73%|███████▎  | 8/11 [06:01<04:08, 82.81s/it]"
     ]
    },
    {
     "name": "stdout",
     "output_type": "stream",
     "text": [
      "wrapper: RECALC ../../cache/cache/feature_importance/dataset2sbm_news_2cl3_0.1.pkl. args: , kwargs: \n",
      "Dataset news_2cl3_0.1 not in cache; reload\n"
     ]
    },
    {
     "name": "stderr",
     "output_type": "stream",
     "text": [
      "prepare columns:  82%|████████▏ | 9/11 [08:13<03:15, 97.67s/it]"
     ]
    },
    {
     "name": "stdout",
     "output_type": "stream",
     "text": [
      "wrapper: RECALC ../../cache/cache/feature_importance/dataset2sbm_news_3cl1_0.1.pkl. args: , kwargs: \n",
      "Dataset news_3cl1_0.1 not in cache; reload\n"
     ]
    },
    {
     "name": "stderr",
     "output_type": "stream",
     "text": [
      "prepare columns:  91%|█████████ | 10/11 [15:55<03:26, 206.83s/it]"
     ]
    },
    {
     "name": "stdout",
     "output_type": "stream",
     "text": [
      "wrapper: RECALC ../../cache/cache/feature_importance/dataset2sbm_news_3cl2_0.1.pkl. args: , kwargs: \n",
      "Dataset news_3cl2_0.1 not in cache; reload\n"
     ]
    },
    {
     "name": "stderr",
     "output_type": "stream",
     "text": [
      "prepare columns: 100%|██████████| 11/11 [23:09<00:00, 126.35s/it]\n",
      "prepare columns:   0%|          | 0/11 [00:00<?, ?it/s]"
     ]
    },
    {
     "name": "stdout",
     "output_type": "stream",
     "text": [
      "wrapper: RECALC ../../cache/cache/feature_importance/news_2cl1_0.1.pkl. args: , kwargs: \n",
      "Dataset news_2cl1_0.1 not in cache; reload\n"
     ]
    },
    {
     "name": "stderr",
     "output_type": "stream",
     "text": [
      "prepare columns:  36%|███▋      | 4/11 [00:13<00:23,  3.40s/it]"
     ]
    },
    {
     "name": "stdout",
     "output_type": "stream",
     "text": [
      "wrapper: RECALC ../../cache/cache/feature_importance/news_2cl2_0.1.pkl. args: , kwargs: \n",
      "Dataset news_2cl2_0.1 not in cache; reload\n"
     ]
    },
    {
     "name": "stderr",
     "output_type": "stream",
     "text": [
      "prepare columns:  45%|████▌     | 5/11 [00:27<00:39,  6.52s/it]"
     ]
    },
    {
     "name": "stdout",
     "output_type": "stream",
     "text": [
      "wrapper: RECALC ../../cache/cache/feature_importance/news_2cl3_0.1.pkl. args: , kwargs: \n",
      "Dataset news_2cl3_0.1 not in cache; reload\n"
     ]
    },
    {
     "name": "stderr",
     "output_type": "stream",
     "text": [
      "prepare columns:  55%|█████▍    | 6/11 [00:38<00:39,  7.99s/it]"
     ]
    },
    {
     "name": "stdout",
     "output_type": "stream",
     "text": [
      "wrapper: RECALC ../../cache/cache/feature_importance/news_3cl1_0.1.pkl. args: , kwargs: \n",
      "Dataset news_3cl1_0.1 not in cache; reload\n"
     ]
    },
    {
     "name": "stderr",
     "output_type": "stream",
     "text": [
      "prepare columns:  64%|██████▎   | 7/11 [01:21<01:13, 18.31s/it]"
     ]
    },
    {
     "name": "stdout",
     "output_type": "stream",
     "text": [
      "wrapper: RECALC ../../cache/cache/feature_importance/news_3cl2_0.1.pkl. args: , kwargs: \n",
      "Dataset news_3cl2_0.1 not in cache; reload\n"
     ]
    },
    {
     "name": "stderr",
     "output_type": "stream",
     "text": [
      "prepare columns:  73%|███████▎  | 8/11 [02:01<01:14, 24.93s/it]"
     ]
    },
    {
     "name": "stdout",
     "output_type": "stream",
     "text": [
      "wrapper: RECALC ../../cache/cache/feature_importance/sp_school_day_1.pkl. args: , kwargs: \n",
      "Dataset sp_school_day_1 not in cache; reload\n"
     ]
    },
    {
     "name": "stderr",
     "output_type": "stream",
     "text": [
      "prepare columns:  91%|█████████ | 10/11 [02:04<00:17, 17.96s/it]"
     ]
    },
    {
     "name": "stdout",
     "output_type": "stream",
     "text": [
      "wrapper: RECALC ../../cache/cache/feature_importance/sp_school_day_2.pkl. args: , kwargs: \n",
      "Dataset sp_school_day_2 not in cache; reload\n"
     ]
    },
    {
     "name": "stderr",
     "output_type": "stream",
     "text": [
      "prepare columns: 100%|██████████| 11/11 [02:08<00:00, 11.67s/it]\n",
      "prepare columns: 100%|██████████| 11/11 [00:00<00:00, 2434.56it/s]\n",
      "prepare columns: 100%|██████████| 11/11 [00:00<00:00, 2698.25it/s]\n"
     ]
    }
   ],
   "source": [
    "sbm_data_hub, datasets_data_hub = SBM_Data(), Datasets_Data()\n",
    "\n",
    "X_trainval, ari_trainval = sbm_data_hub.make_dataset(return_clf=False)\n",
    "X_test, ari_test = datasets_data_hub.make_dataset(return_clf=False)\n",
    "_, y_trainval = sbm_data_hub.make_dataset(return_clf=True)\n",
    "_, y_test = datasets_data_hub.make_dataset(return_clf=True)\n",
    "\n",
    "X_trainval_flat = X_trainval.reshape(-1, X_trainval.shape[2])\n",
    "X_test_flat = X_test.reshape(-1, X_test.shape[2])\n",
    "y_trainval_flat = y_trainval.reshape(-1, y_trainval.shape[2])\n",
    "y_test_flat = y_test.reshape(-1, y_test.shape[2])\n",
    "ari_trainval_flat = ari_trainval.reshape(-1, ari_trainval.shape[2])\n",
    "ari_test_flat = ari_test.reshape(-1, ari_test.shape[2])\n",
    "\n",
    "feature_names = sbm_data_hub.allowed_features_list"
   ]
  },
  {
   "cell_type": "code",
   "execution_count": 3,
   "metadata": {},
   "outputs": [
    {
     "data": {
      "text/plain": [
       "[0, 1, 2, 3]"
      ]
     },
     "execution_count": 3,
     "metadata": {},
     "output_type": "execute_result"
    }
   ],
   "source": [
    "chosen_feature_names = [\"n\", \"k\", \"p_in\", \"p_out\"]\n",
    "\n",
    "chosen_features = []\n",
    "for chosen_feature in chosen_feature_names:\n",
    "    chosen_features.append(sbm_data_hub.allowed_features_list.index(chosen_feature))\n",
    "chosen_features"
   ]
  },
  {
   "cell_type": "code",
   "execution_count": 4,
   "metadata": {},
   "outputs": [],
   "source": [
    "support_kernels = np.array([False, True, True, True, False, True, True, True, False,\n",
    "                            False, True, True, True, False, False, False, True, True,\n",
    "                            True, True, False, False, False, False, True])"
   ]
  },
  {
   "cell_type": "markdown",
   "metadata": {},
   "source": [
    "# Baseline 1: the best measure for all"
   ]
  },
  {
   "cell_type": "code",
   "execution_count": 5,
   "metadata": {},
   "outputs": [
    {
     "name": "stdout",
     "output_type": "stream",
     "text": [
      "baseline 1. best: HeatPR (18), trainval: 0.952, test: 0.827\n"
     ]
    }
   ],
   "source": [
    "baseline1_kernel_idx = np.argmax(np.mean(ari_trainval_flat, axis=0))\n",
    "baseline1_trainval_ari = np.mean(ari_trainval_flat[:, baseline1_kernel_idx])\n",
    "baseline1_test_ari = np.mean(ari_test_flat[:, baseline1_kernel_idx])\n",
    "\n",
    "baseline1_kernel_name = sbm_data_hub.kernel_names[baseline1_kernel_idx]\n",
    "print(f\"baseline 1. best: {baseline1_kernel_name} ({baseline1_kernel_idx}), \"\n",
    "      f\"trainval: {baseline1_trainval_ari:.3f}, test: {baseline1_test_ari:.3f}\")"
   ]
  },
  {
   "cell_type": "markdown",
   "metadata": {},
   "source": [
    "# Upper bound 1: the best measure for all (by test)"
   ]
  },
  {
   "cell_type": "code",
   "execution_count": 6,
   "metadata": {},
   "outputs": [
    {
     "name": "stdout",
     "output_type": "stream",
     "text": [
      "upper bound 1. best: SCT (10), trainval: 0.952, test: 0.834\n"
     ]
    }
   ],
   "source": [
    "upperbound1_kernel_idx = np.argmax(np.mean(ari_test_flat, axis=0))\n",
    "upperbound1_trainval_ari = np.mean(ari_trainval_flat[:, upperbound1_kernel_idx])\n",
    "upperbound1_test_ari = np.mean(ari_test_flat[:, upperbound1_kernel_idx])\n",
    "\n",
    "upperbound1_kernel_name = sbm_data_hub.kernel_names[upperbound1_kernel_idx]\n",
    "print(f'upper bound 1. best: {upperbound1_kernel_name} ({upperbound1_kernel_idx}), '\n",
    "      f'trainval: {upperbound1_trainval_ari:.3f}, test: {upperbound1_test_ari:.3f}')"
   ]
  },
  {
   "cell_type": "markdown",
   "metadata": {},
   "source": [
    "# Upper bound 2: the best measure for every graph"
   ]
  },
  {
   "cell_type": "code",
   "execution_count": 7,
   "metadata": {},
   "outputs": [
    {
     "name": "stdout",
     "output_type": "stream",
     "text": [
      "upper bound 2. trainval: 0.973, test: 0.851\n"
     ]
    }
   ],
   "source": [
    "upperbound2_trainval_ari = np.mean(np.max(ari_trainval_flat, axis=1))\n",
    "upperbound2_test_ari = np.mean(np.max(ari_test_flat, axis=1))\n",
    "print(f'upper bound 2. trainval: {upperbound2_trainval_ari:.3f}, test: {upperbound2_test_ari:.3f}')"
   ]
  },
  {
   "cell_type": "markdown",
   "metadata": {},
   "source": [
    "# Ours PRELIMINARY"
   ]
  },
  {
   "cell_type": "code",
   "execution_count": 8,
   "metadata": {},
   "outputs": [
    {
     "data": {
      "text/plain": [
       "0.8192357951064864"
      ]
     },
     "execution_count": 8,
     "metadata": {},
     "output_type": "execute_result"
    }
   ],
   "source": [
    "estimator = OneVsRest_custom(SVR(), weight_samples=True)\n",
    "estimator.fit(X_trainval_flat[:, chosen_features], ari_trainval_flat[:, support_kernels])\n",
    "y_pred = estimator.predict(X_test_flat[:, chosen_features])\n",
    "ours7 = np.mean(ari_test_flat[:, support_kernels][range(y_pred.shape[0]), np.argmax(y_pred, axis=1)])\n",
    "ours7"
   ]
  },
  {
   "cell_type": "code",
   "execution_count": 9,
   "metadata": {},
   "outputs": [
    {
     "name": "stderr",
     "output_type": "stream",
     "text": [
      "  0%|          | 0/19 [00:00<?, ?it/s]"
     ]
    },
    {
     "name": "stdout",
     "output_type": "stream",
     "text": [
      "all features, acc=-1.000, f1=-1.000, ari=0.813\n"
     ]
    },
    {
     "name": "stderr",
     "output_type": "stream",
     "text": [
      "100%|██████████| 19/19 [00:00<00:00, 41.44it/s]\n",
      "100%|██████████| 171/171 [00:00<00:00, 882.56it/s]"
     ]
    },
    {
     "name": "stdout",
     "output_type": "stream",
     "text": [
      "1 features, acc=-1.000, f1=-1.000, ari=0.821, set=('avg_sp',)\n"
     ]
    },
    {
     "name": "stderr",
     "output_type": "stream",
     "text": [
      "\n",
      "  6%|▌         | 60/969 [00:00<00:01, 473.35it/s]"
     ]
    },
    {
     "name": "stdout",
     "output_type": "stream",
     "text": [
      "2 features, acc=-1.000, f1=-1.000, ari=0.832, set=('n', 'sbm_neighbour_score')\n"
     ]
    },
    {
     "name": "stderr",
     "output_type": "stream",
     "text": [
      "100%|██████████| 969/969 [00:05<00:00, 179.65it/s]\n",
      "  2%|▏         | 60/3876 [00:00<00:08, 475.71it/s]"
     ]
    },
    {
     "name": "stdout",
     "output_type": "stream",
     "text": [
      "3 features, acc=-1.000, f1=-1.000, ari=0.837, set=('p_in/p_out', 'modularity', 'std_sp')\n"
     ]
    },
    {
     "name": "stderr",
     "output_type": "stream",
     "text": [
      "100%|██████████| 3876/3876 [00:23<00:00, 162.24it/s]\n"
     ]
    },
    {
     "name": "stdout",
     "output_type": "stream",
     "text": [
      "4 features, acc=-1.000, f1=-1.000, ari=0.832, set=('n', 'k', 'p_in', 'sbm_neighbour_score')\n"
     ]
    }
   ],
   "source": [
    "estimator = OneVsRest_custom(SVC(), weight_samples=False)\n",
    "selector = RFE(estimator, feature_names, max_features=4, n_jobs=12)\n",
    "selector = selector.fit(X_trainval_flat, y_trainval_flat, X_test_flat, y_test_flat, ari_test_flat)"
   ]
  },
  {
   "cell_type": "code",
   "execution_count": 10,
   "metadata": {},
   "outputs": [
    {
     "name": "stderr",
     "output_type": "stream",
     "text": [
      "100%|██████████| 19/19 [00:00<00:00, 2378.01it/s]"
     ]
    },
    {
     "name": "stdout",
     "output_type": "stream",
     "text": [
      "all features, acc=-1.000, f1=-1.000, ari=0.615\n"
     ]
    },
    {
     "name": "stderr",
     "output_type": "stream",
     "text": [
      "\n",
      " 21%|██        | 36/171 [00:00<00:00, 316.05it/s]"
     ]
    },
    {
     "name": "stdout",
     "output_type": "stream",
     "text": [
      "1 features, acc=-1.000, f1=-1.000, ari=0.834, set=('diameter',)\n"
     ]
    },
    {
     "name": "stderr",
     "output_type": "stream",
     "text": [
      "100%|██████████| 171/171 [00:00<00:00, 185.37it/s]\n",
      "  4%|▎         | 36/969 [00:00<00:02, 339.61it/s]"
     ]
    },
    {
     "name": "stdout",
     "output_type": "stream",
     "text": [
      "2 features, acc=-1.000, f1=-1.000, ari=0.836, set=('n/k', 'avg_deg')\n"
     ]
    },
    {
     "name": "stderr",
     "output_type": "stream",
     "text": [
      "100%|██████████| 969/969 [00:08<00:00, 116.33it/s]\n",
      "  1%|          | 40/3876 [00:00<00:11, 346.53it/s]"
     ]
    },
    {
     "name": "stdout",
     "output_type": "stream",
     "text": [
      "3 features, acc=-1.000, f1=-1.000, ari=0.837, set=('k', 'n/k', 'std_deg')\n"
     ]
    },
    {
     "name": "stderr",
     "output_type": "stream",
     "text": [
      "100%|██████████| 3876/3876 [00:35<00:00, 108.17it/s]\n"
     ]
    },
    {
     "name": "stdout",
     "output_type": "stream",
     "text": [
      "4 features, acc=-1.000, f1=-1.000, ari=0.837, set=('p_in/p_out', 'modularity', 'diameter', 'std_sp')\n"
     ]
    }
   ],
   "source": [
    "estimator = OneVsRest_custom(SVR(), weight_samples=True)\n",
    "selector = RFE(estimator, feature_names, max_features=4, n_jobs=12)\n",
    "selector = selector.fit(X_trainval_flat, ari_trainval_flat, X_test_flat, ari_test_flat, ari_test_flat)"
   ]
  },
  {
   "cell_type": "markdown",
   "metadata": {},
   "source": [
    "# Ours MAIN"
   ]
  },
  {
   "cell_type": "code",
   "execution_count": 11,
   "metadata": {},
   "outputs": [
    {
     "ename": "NameError",
     "evalue": "name 'ari_train' is not defined",
     "output_type": "error",
     "traceback": [
      "\u001b[0;31m---------------------------------------------------------------------------\u001b[0m",
      "\u001b[0;31mNameError\u001b[0m                                 Traceback (most recent call last)",
      "\u001b[0;32m<ipython-input-11-a1b8def2eadc>\u001b[0m in \u001b[0;36m<module>\u001b[0;34m\u001b[0m\n\u001b[1;32m      5\u001b[0m \u001b[0;34m\u001b[0m\u001b[0m\n\u001b[1;32m      6\u001b[0m     \u001b[0mestimator\u001b[0m \u001b[0;34m=\u001b[0m \u001b[0mOneVsRest_custom\u001b[0m\u001b[0;34m(\u001b[0m\u001b[0mSVR\u001b[0m\u001b[0;34m(\u001b[0m\u001b[0;34m)\u001b[0m\u001b[0;34m,\u001b[0m \u001b[0mweight_samples\u001b[0m\u001b[0;34m=\u001b[0m\u001b[0;32mTrue\u001b[0m\u001b[0;34m)\u001b[0m\u001b[0;34m\u001b[0m\u001b[0;34m\u001b[0m\u001b[0m\n\u001b[0;32m----> 7\u001b[0;31m     \u001b[0mestimator\u001b[0m\u001b[0;34m.\u001b[0m\u001b[0mfit\u001b[0m\u001b[0;34m(\u001b[0m\u001b[0mX_train\u001b[0m\u001b[0;34m[\u001b[0m\u001b[0;34m:\u001b[0m\u001b[0;34m,\u001b[0m \u001b[0mchosen_features\u001b[0m\u001b[0;34m]\u001b[0m\u001b[0;34m,\u001b[0m \u001b[0mari_train\u001b[0m\u001b[0;34m[\u001b[0m\u001b[0;34m:\u001b[0m\u001b[0;34m,\u001b[0m \u001b[0msupport_kernels\u001b[0m\u001b[0;34m]\u001b[0m\u001b[0;34m)\u001b[0m\u001b[0;34m\u001b[0m\u001b[0;34m\u001b[0m\u001b[0m\n\u001b[0m\u001b[1;32m      8\u001b[0m     \u001b[0my_pred\u001b[0m \u001b[0;34m=\u001b[0m \u001b[0mestimator\u001b[0m\u001b[0;34m.\u001b[0m\u001b[0mpredict\u001b[0m\u001b[0;34m(\u001b[0m\u001b[0mX_val\u001b[0m\u001b[0;34m[\u001b[0m\u001b[0;34m:\u001b[0m\u001b[0;34m,\u001b[0m \u001b[0mchosen_features\u001b[0m\u001b[0;34m]\u001b[0m\u001b[0;34m)\u001b[0m\u001b[0;34m\u001b[0m\u001b[0;34m\u001b[0m\u001b[0m\n\u001b[1;32m      9\u001b[0m     \u001b[0mours7\u001b[0m \u001b[0;34m=\u001b[0m \u001b[0mnp\u001b[0m\u001b[0;34m.\u001b[0m\u001b[0mmean\u001b[0m\u001b[0;34m(\u001b[0m\u001b[0mari_val\u001b[0m\u001b[0;34m[\u001b[0m\u001b[0;34m:\u001b[0m\u001b[0;34m,\u001b[0m \u001b[0msupport_kernels\u001b[0m\u001b[0;34m]\u001b[0m\u001b[0;34m[\u001b[0m\u001b[0mrange\u001b[0m\u001b[0;34m(\u001b[0m\u001b[0my_pred\u001b[0m\u001b[0;34m.\u001b[0m\u001b[0mshape\u001b[0m\u001b[0;34m[\u001b[0m\u001b[0;36m0\u001b[0m\u001b[0;34m]\u001b[0m\u001b[0;34m)\u001b[0m\u001b[0;34m,\u001b[0m \u001b[0mnp\u001b[0m\u001b[0;34m.\u001b[0m\u001b[0margmax\u001b[0m\u001b[0;34m(\u001b[0m\u001b[0my_pred\u001b[0m\u001b[0;34m,\u001b[0m \u001b[0maxis\u001b[0m\u001b[0;34m=\u001b[0m\u001b[0;36m1\u001b[0m\u001b[0;34m)\u001b[0m\u001b[0;34m]\u001b[0m\u001b[0;34m)\u001b[0m\u001b[0;34m\u001b[0m\u001b[0;34m\u001b[0m\u001b[0m\n",
      "\u001b[0;31mNameError\u001b[0m: name 'ari_train' is not defined"
     ]
    }
   ],
   "source": [
    "kernel_ari = defaultdict(list)\n",
    "for train_index, test_index in LeaveOneOut().split(X_trainval):\n",
    "    X_train, X_val = X_trainval[train_index], X_trainval[test_index]\n",
    "    y_train, y_val = y_trainval[train_index], y_trainval[test_index]\n",
    "    \n",
    "    estimator = OneVsRest_custom(SVR(), weight_samples=True)\n",
    "    estimator.fit(X_train[:, chosen_features], ari_train[:, support_kernels])\n",
    "    y_pred = estimator.predict(X_val[:, chosen_features])\n",
    "    ours7 = np.mean(ari_val[:, support_kernels][range(y_pred.shape[0]), np.argmax(y_pred, axis=1)])\n",
    "    "
   ]
  }
 ],
 "metadata": {
  "kernelspec": {
   "display_name": "Python 3",
   "language": "python",
   "name": "python3"
  },
  "language_info": {
   "codemirror_mode": {
    "name": "ipython",
    "version": 3
   },
   "file_extension": ".py",
   "mimetype": "text/x-python",
   "name": "python",
   "nbconvert_exporter": "python",
   "pygments_lexer": "ipython3",
   "version": "3.6.9"
  }
 },
 "nbformat": 4,
 "nbformat_minor": 4
}
