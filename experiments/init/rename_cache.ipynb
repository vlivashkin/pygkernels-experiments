{
 "cells": [
  {
   "cell_type": "code",
   "execution_count": 31,
   "metadata": {},
   "outputs": [],
   "source": [
    "import os\n",
    "import shutil"
   ]
  },
  {
   "cell_type": "code",
   "execution_count": 32,
   "metadata": {},
   "outputs": [],
   "source": [
    "CACHE_ROOT = '../../cache/kkmeans_init_sbm/by_column_and_kernel'"
   ]
  },
  {
   "cell_type": "raw",
   "metadata": {},
   "source": [
    "for fname in os.listdir(CACHE_ROOT):\n",
    "    if fname.startswith('news_5cl_'):\n",
    "        shutil.move(f'{CACHE_ROOT}/{fname}', f'{CACHE_ROOT}/{fname.replace(\"news_5cl_\", \"news_5cl\")}')"
   ]
  },
  {
   "cell_type": "raw",
   "metadata": {},
   "source": [
    "for fname in os.listdir(CACHE_ROOT):\n",
    "    if 'Walk' in fname:\n",
    "        shutil.move(f'{CACHE_ROOT}/{fname}', f'{CACHE_ROOT}/{fname.replace(\"Walk\", \"logKatz\")}')"
   ]
  },
  {
   "cell_type": "raw",
   "metadata": {},
   "source": [
    "for fname in os.listdir(CACHE_ROOT):\n",
    "    if fname.endswith('.pkl'):\n",
    "        fsplits = fname.split('_')\n",
    "        fsplits[3] += '0'\n",
    "        new_fname = '_'.join(fsplits)\n",
    "        shutil.move(f'{CACHE_ROOT}/{fname}', f'{CACHE_ROOT}/{new_fname}')"
   ]
  },
  {
   "cell_type": "code",
   "execution_count": 37,
   "metadata": {},
   "outputs": [],
   "source": [
    "for fname in os.listdir(CACHE_ROOT):\n",
    "    if fname.endswith('.pkl'):\n",
    "        fsplits = fname.split('_')\n",
    "        if fsplits[3] == '0.01':\n",
    "            fsplits[3] = '0.005'\n",
    "            new_fname = '_'.join(fsplits)\n",
    "            shutil.move(f'{CACHE_ROOT}/{fname}', f'{CACHE_ROOT}/{new_fname}')"
   ]
  },
  {
   "cell_type": "code",
   "execution_count": 29,
   "metadata": {},
   "outputs": [],
   "source": [
    "CACHE_ROOT = '../../cache/kkmeans_init_sbm/graphs'"
   ]
  },
  {
   "cell_type": "raw",
   "metadata": {},
   "source": [
    "src, dst = '100_4_0.3', '100_4_0.30'\n",
    "for fname in os.listdir(CACHE_ROOT):\n",
    "    if src in fname:\n",
    "        shutil.move(f'{CACHE_ROOT}/{fname}', f'{CACHE_ROOT}/{fname.replace(src, dst)}')"
   ]
  },
  {
   "cell_type": "raw",
   "metadata": {},
   "source": [
    "for fname in os.listdir(CACHE_ROOT):\n",
    "    if fname.endswith('.pkl'):\n",
    "        fsplits = fname.split('_')\n",
    "        fsplits[3] += '0'\n",
    "        new_fname = '_'.join(fsplits)\n",
    "        shutil.move(f'{CACHE_ROOT}/{fname}', f'{CACHE_ROOT}/{new_fname}')"
   ]
  },
  {
   "cell_type": "code",
   "execution_count": 38,
   "metadata": {},
   "outputs": [],
   "source": [
    "CACHE_ROOT = '../../cache/cache/sbm_inits_bestparam_byari_individual'"
   ]
  },
  {
   "cell_type": "code",
   "execution_count": null,
   "metadata": {},
   "outputs": [],
   "source": []
  }
 ],
 "metadata": {
  "kernelspec": {
   "display_name": "Python 3",
   "language": "python",
   "name": "python3"
  },
  "language_info": {
   "codemirror_mode": {
    "name": "ipython",
    "version": 3
   },
   "file_extension": ".py",
   "mimetype": "text/x-python",
   "name": "python",
   "nbconvert_exporter": "python",
   "pygments_lexer": "ipython3",
   "version": "3.6.9"
  }
 },
 "nbformat": 4,
 "nbformat_minor": 4
}
