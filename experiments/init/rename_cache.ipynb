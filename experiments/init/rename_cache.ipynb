{
 "cells": [
  {
   "cell_type": "code",
   "execution_count": 2,
   "metadata": {},
   "outputs": [],
   "source": [
    "import os\n",
    "import shutil"
   ]
  },
  {
   "cell_type": "code",
   "execution_count": 2,
   "metadata": {},
   "outputs": [],
   "source": [
    "CACHE_ROOT = '../../cache/kkmeans_init_datasets/by_column_and_kernel'"
   ]
  },
  {
   "cell_type": "code",
   "execution_count": 12,
   "metadata": {},
   "outputs": [],
   "source": [
    "for fname in os.listdir(CACHE_ROOT):\n",
    "    if fname.startswith('news_5cl_'):\n",
    "        shutil.move(f'{CACHE_ROOT}/{fname}', f'{CACHE_ROOT}/{fname.replace(\"news_5cl_\", \"news_5cl\")}')"
   ]
  },
  {
   "cell_type": "code",
   "execution_count": 3,
   "metadata": {},
   "outputs": [],
   "source": [
    "CACHE_ROOT = '../../cache/kkmeans_init_sbm/by_column_and_kernel'"
   ]
  },
  {
   "cell_type": "code",
   "execution_count": 6,
   "metadata": {},
   "outputs": [],
   "source": [
    "for fname in os.listdir(CACHE_ROOT):\n",
    "    if 'Walk' in fname:\n",
    "        shutil.move(f'{CACHE_ROOT}/{fname}', f'{CACHE_ROOT}/{fname.replace(\"Walk\", \"logKatz\")}')"
   ]
  },
  {
   "cell_type": "code",
   "execution_count": null,
   "metadata": {},
   "outputs": [],
   "source": []
  }
 ],
 "metadata": {
  "kernelspec": {
   "display_name": "Python 3",
   "language": "python",
   "name": "python3"
  },
  "language_info": {
   "codemirror_mode": {
    "name": "ipython",
    "version": 3
   },
   "file_extension": ".py",
   "mimetype": "text/x-python",
   "name": "python",
   "nbconvert_exporter": "python",
   "pygments_lexer": "ipython3",
   "version": "3.6.9"
  }
 },
 "nbformat": 4,
 "nbformat_minor": 4
}
