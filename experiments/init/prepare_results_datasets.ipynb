{
 "cells": [
  {
   "cell_type": "code",
   "execution_count": 1,
   "metadata": {},
   "outputs": [],
   "source": [
    "%matplotlib inline"
   ]
  },
  {
   "cell_type": "code",
   "execution_count": 2,
   "metadata": {},
   "outputs": [],
   "source": [
    "import os\n",
    "import pickle\n",
    "import random\n",
    "import sys\n",
    "from collections import defaultdict\n",
    "from itertools import product\n",
    "\n",
    "import matplotlib.pyplot as plt\n",
    "import networkx as nx\n",
    "import numpy as np\n",
    "import pandas as pd\n",
    "from scipy.stats import rankdata\n",
    "from tqdm.notebook import tqdm\n",
    "\n",
    "sys.path.append('../../pygkernels')\n",
    "from pygkernels.data import Datasets"
   ]
  },
  {
   "cell_type": "code",
   "execution_count": 3,
   "metadata": {},
   "outputs": [],
   "source": [
    "kernels_names = [\n",
    "    'Katz', 'logKatz',\n",
    "    'For', 'logFor',\n",
    "    'Comm', 'logComm',\n",
    "    'Heat', 'logHeat',\n",
    "    'NHeat', 'logNHeat',\n",
    "    'SCT', 'SCCT',\n",
    "    'RSP', 'FE',\n",
    "    'PPR', 'logPPR',\n",
    "    'ModifPPR', 'logModifPPR',\n",
    "    'HeatPR', 'logHeatPR',\n",
    "    'DF', 'logDF',\n",
    "    'Abs', 'logAbs',\n",
    "    'SP-CT'\n",
    "]\n",
    "\n",
    "shuffle = lambda x: sorted(x, key=lambda k: random.random())\n",
    "\n",
    "def dict_argmax(dct, score_key):\n",
    "    best_key = list(dct.keys())[0]\n",
    "    best_val = dct[best_key]\n",
    "    for k, v in dct.items():\n",
    "        if v[score_key] > best_val[score_key]:\n",
    "            best_key, best_val = k, v\n",
    "    return best_key, best_val\n",
    "\n",
    "CACHE_ROOT = '../../cache/cache'\n",
    "\n",
    "def load_or_calc_and_save(filename, ignore_if_exist=False):\n",
    "    def decorator(func):\n",
    "        def wrapped(*args, **kwargs):\n",
    "            if os.path.exists(filename):\n",
    "                print(f'{func.__name__}: cache file {filename} found! Skip calculations')\n",
    "                if not ignore_if_exist:\n",
    "                    with open(filename, 'rb') as f:\n",
    "                        result = pickle.load(f)\n",
    "                else:\n",
    "                    result = None\n",
    "            else:\n",
    "                print(f'{func.__name__}: RECALC {filename}.\\nargs: {\", \".join(args)}, kwargs: {\", \".join([f\"{k}={v}\" for k, v in kwargs.items()])}')\n",
    "                result = func(*args, **kwargs)\n",
    "                with open(filename, 'wb') as f:\n",
    "                    pickle.dump(result, f)\n",
    "            return result\n",
    "        return wrapped\n",
    "    return decorator\n",
    "\n",
    "def calc_avranks(results):  # {dataset: {classifier: accuracy}}\n",
    "    ranks = defaultdict(list)\n",
    "    for dataset, classifier_accuracy in results.items():\n",
    "        if type(dataset) == tuple:\n",
    "            dataset = '_'.join([str(x) for x in dataset])\n",
    "        classifiers, accuracies = zip(*list(classifier_accuracy.items()))\n",
    "        for classifier, rank in zip(classifiers, rankdata(accuracies)):\n",
    "            ranks[classifier].append(rank)\n",
    "    ranks = {k: np.mean(v) for k, v in sorted(ranks.items(), key=lambda x: x[0])}\n",
    "    return list(ranks.values()), list(ranks.keys()), len(results)\n",
    "\n",
    "def ytrue_to_partition(y_true):\n",
    "    partition = defaultdict(list)\n",
    "    for idx, class_ in enumerate(y_true):\n",
    "        partition[class_].append(idx)\n",
    "    return list(partition.values())"
   ]
  },
  {
   "cell_type": "code",
   "execution_count": 4,
   "metadata": {},
   "outputs": [],
   "source": [
    "def best_inits(param_results):\n",
    "    inits = {\n",
    "        'one': shuffle([x for x in param_results if x['init'] == 'one']),\n",
    "        'all': shuffle([x for x in param_results if x['init'] == 'all']),\n",
    "        'kmp': shuffle([x for x in param_results if x['init'] == 'k-means++'])\n",
    "    }\n",
    "    if len(inits['one']) == 0 or len(inits['all']) == 0 or len(inits['kmp']) == 0:\n",
    "        return None\n",
    "    inits['any2'] = inits['all'][:15] + inits['kmp'][:15]\n",
    "    inits['any3'] = inits['one'][:10] + inits['all'][:10] + inits['kmp'][:10]\n",
    "    \n",
    "    # choose best init, structure – {scorename_initname: init}\n",
    "    score_names = ['inertia', 'modularity']  \n",
    "    bestby = {f'{score_name}_{init_name}': inits[0] for score_name, (init_name, inits) in product(score_names, inits.items())}\n",
    "    for init_name, inits in inits.items():\n",
    "        for init in inits:\n",
    "            if init['inertia'] < bestby[f'inertia_{init_name}']['inertia']:\n",
    "                bestby[f'inertia_{init_name}'] = init\n",
    "            if init['modularity'] > bestby[f'modularity_{init_name}']['modularity']:\n",
    "                bestby[f'modularity_{init_name}'] = init\n",
    "    return bestby\n",
    "\n",
    "def perform_graph(graph_results):\n",
    "    # group params, structure – {scorename_initname: {param: init}}\n",
    "    bestby = defaultdict(dict)\n",
    "    for param, param_results in graph_results.items():\n",
    "        param_inits = best_inits(param_results)\n",
    "        if param_inits is not None:\n",
    "            for scorename_initname, init in param_inits.items():\n",
    "                bestby[scorename_initname][param] = init\n",
    "    \n",
    "    # collapse param axis, structure – {scorename_initname: (best_param, init)}\n",
    "    best_ari = {si: dict_argmax(param_init, 'score_ari') for si, param_init in bestby.items()}\n",
    "    best_modularity = {si: dict_argmax(param_init, 'modularity') for si, param_init in bestby.items()}\n",
    "    \n",
    "    return bestby, best_ari, best_modularity\n",
    "\n",
    "def meanby_graphs__bestparam_individual(data, param_by_ari=True, target_score='score_ari'):\n",
    "    # group graphs, structure – {scorename_initname: [best_ari_for_graph]}\n",
    "    bestby = defaultdict(list)\n",
    "    for graph_idx, graph_results in enumerate(data):\n",
    "        _, best_ari, best_modularity = perform_graph(graph_results['results'])\n",
    "        graph_best = best_ari if param_by_ari else best_modularity\n",
    "        for scorename_initname, (_, init) in graph_best.items():\n",
    "            bestby[scorename_initname].append(init[target_score])\n",
    "        modularity\n",
    "    \n",
    "    # collapse graph axis, structure - {scorename_initname: mean_ari}\n",
    "    best_meanari = {si: np.mean(ari) for si, ari in bestby.items()}\n",
    "    \n",
    "    return bestby, best_meanari\n",
    "\n",
    "def meanby_graphs__allparams(data, target_score='score_ari'):\n",
    "    # group graphs, structure – {scorename_initname: {param: [best_ari_for_graph]}}\n",
    "    bestby = defaultdict(lambda: defaultdict(list))\n",
    "    for graph_idx, graph_results in enumerate(data):\n",
    "        graph_bestby, _, _ = perform_graph(graph_results['results'])\n",
    "        for scorename_initname, param_init in graph_bestby.items():\n",
    "            for param, init in param_init.items():\n",
    "                bestby[scorename_initname][param].append(init[target_score])\n",
    "    \n",
    "    # collapse graph axis, structure – {scorename_initname: {param: mean_ari}}\n",
    "    best_meanari = {si: {param: np.mean(ari) for param, ari in param_ari.items()} for si, param_ari in bestby.items()}\n",
    "    \n",
    "    return bestby, best_meanari"
   ]
  },
  {
   "cell_type": "markdown",
   "metadata": {},
   "source": [
    "# Prepare results of Datasets"
   ]
  },
  {
   "cell_type": "code",
   "execution_count": 5,
   "metadata": {},
   "outputs": [],
   "source": [
    "DATASETS_RESULTS_ROOT = '../../cache/kkmeans_init_datasets'\n",
    "datasets = [\n",
    "    'cora_DB', 'cora_EC', 'cora_HA', 'cora_HCI', 'cora_IR', 'cora_Net',\n",
    "    'dolphins',\n",
    "    'eu-core',\n",
    "    'eurosis',\n",
    "    'football',\n",
    "    'karate',\n",
    "    'news_2cl1_0.1', 'news_2cl2_0.1', 'news_2cl3_0.1',\n",
    "    'news_3cl1_0.1', 'news_3cl2_0.1', 'news_3cl3_0.1',\n",
    "    'news_5cl1_0.1', 'news_5cl2_0.1', 'news_5cl3_0.1',\n",
    "    'polblogs',\n",
    "    'polbooks',\n",
    "    'sp_school_day_1', 'sp_school_day_2'\n",
    "]"
   ]
  },
  {
   "cell_type": "code",
   "execution_count": 6,
   "metadata": {},
   "outputs": [
    {
     "name": "stdout",
     "output_type": "stream",
     "text": [
      "datasets_inits_bestparam_byari_individual: RECALC ../../cache/cache/datasets_inits_bestparam_byari_individual_0.1.pkl.\n",
      "args: , kwargs: \n"
     ]
    },
    {
     "data": {
      "application/vnd.jupyter.widget-view+json": {
       "model_id": "69793eb028d841d3a844ed7f4f3e2295",
       "version_major": 2,
       "version_minor": 0
      },
      "text/plain": [
       "HBox(children=(IntProgress(value=0, max=4200), HTML(value='')))"
      ]
     },
     "metadata": {},
     "output_type": "display_data"
    },
    {
     "name": "stdout",
     "output_type": "stream",
     "text": [
      "\n"
     ]
    }
   ],
   "source": [
    "@load_or_calc_and_save(f'{CACHE_ROOT}/datasets_inits_bestparam_byari_individual_0.1.pkl')\n",
    "def datasets_inits_bestparam_byari_individual():\n",
    "    results = {}\n",
    "    for dataset, kernel_name, graph_idx in tqdm(list(product(datasets, kernels_names, range(7)))):\n",
    "        filename = f'{dataset}_{kernel_name}_results_{str(graph_idx).zfill(2)}.pkl'\n",
    "        with open(f'{DATASETS_RESULTS_ROOT}/by_column_and_kernel/{filename}', 'rb') as f:\n",
    "            data = pickle.load(f)\n",
    "        _, best_ari, _ = perform_graph(data)  # {scorename_initname: (best_param, init)}\n",
    "        result = {si: init['score_ari'] for si, (_, init) in best_ari.items()}  # {scorename_initname: best_ari}\n",
    "        results[(dataset, kernel_name, graph_idx)] = result\n",
    "    return results\n",
    "\n",
    "results = datasets_inits_bestparam_byari_individual() # {(dataset, kernel_name, graph_idx): {scorename_initname: best_ari}}"
   ]
  },
  {
   "cell_type": "code",
   "execution_count": 7,
   "metadata": {},
   "outputs": [
    {
     "name": "stdout",
     "output_type": "stream",
     "text": [
      "cora_Net: 0.18\n",
      "cora_DB: 0.18\n",
      "cora_EC: 0.27\n",
      "cora_IR: 0.30\n",
      "eu-core: 0.34\n",
      "cora_HA: 0.38\n",
      "news_5cl3_0.1: 0.42\n",
      "news_5cl2_0.1: 0.49\n",
      "cora_HCI: 0.51\n",
      "news_5cl1_0.1: 0.61\n",
      "news_3cl2_0.1: 0.62\n",
      "news_3cl3_0.1: 0.66\n",
      "news_2cl2_0.1: 0.67\n",
      "polbooks: 0.69\n",
      "sp_school_day_1: 0.72\n",
      "news_3cl1_0.1: 0.73\n",
      "news_2cl1_0.1: 0.73\n",
      "polblogs: 0.73\n",
      "sp_school_day_2: 0.74\n",
      "eurosis: 0.74\n",
      "news_2cl3_0.1: 0.83\n",
      "football: 0.87\n",
      "dolphins: 0.93\n",
      "karate: 1.00\n"
     ]
    }
   ],
   "source": [
    "# table for modularity any3\n",
    "results_m3_dka = defaultdict(lambda: defaultdict(list)) # {dataset, {kernel_name: [best_ari_for_graph]}}\n",
    "for (dataset, kernel_name, graph_idx), si_ari in results.items():\n",
    "    results_m3_dka[dataset][kernel_name].append(si_ari['modularity_any3'])\n",
    "for dataset, kernel_name in product(datasets, kernels_names):  # {dataset, {kernel_name: best_ari}}\n",
    "    results_m3_dka[dataset][kernel_name] = np.mean(results_m3_dka[dataset][kernel_name])\n",
    "\n",
    "df = pd.DataFrame(results_m3_dka)\n",
    "df.to_excel('./results/datasets_modularity_any3_bestparam_byari_individual.xlsx')\n",
    "\n",
    "dataset_meanari = {k: np.mean(list(v.values())) for k, v in results_m3_dka.items()}  # {dataset, mean_mean_bestari}\n",
    "for dataset, meanari in sorted(list(dataset_meanari.items()), key=lambda x: x[1]):\n",
    "    print(f'{dataset}: {meanari:.2f}')"
   ]
  },
  {
   "cell_type": "code",
   "execution_count": 8,
   "metadata": {},
   "outputs": [
    {
     "name": "stdout",
     "output_type": "stream",
     "text": [
      "datasets_modularity: RECALC ../../cache/cache/datasets_modularity_0.1.pkl.\n",
      "args: , kwargs: \n"
     ]
    },
    {
     "data": {
      "application/vnd.jupyter.widget-view+json": {
       "model_id": "d3751b215999474d8b1f2020c6866a1e",
       "version_major": 2,
       "version_minor": 0
      },
      "text/plain": [
       "HBox(children=(IntProgress(value=0, max=24), HTML(value='')))"
      ]
     },
     "metadata": {},
     "output_type": "display_data"
    },
    {
     "name": "stdout",
     "output_type": "stream",
     "text": [
      "\n"
     ]
    }
   ],
   "source": [
    "@load_or_calc_and_save(f'{CACHE_ROOT}/datasets_modularity_0.1.pkl')\n",
    "def datasets_modularity():\n",
    "    modularity_results = {}\n",
    "    for dataset in tqdm(list(datasets)):  # dataset = column in this context\n",
    "        A, y_true = Datasets()[dataset][0][0]\n",
    "        partition = ytrue_to_partition(y_true)\n",
    "        modularity = nx.community.modularity(nx.from_numpy_matrix(A), partition)\n",
    "        modularity_results[dataset] = modularity\n",
    "    return modularity_results\n",
    "\n",
    "dataset_modularity = datasets_modularity()  # {dataset: modularity}"
   ]
  },
  {
   "cell_type": "code",
   "execution_count": 9,
   "metadata": {},
   "outputs": [
    {
     "name": "stdout",
     "output_type": "stream",
     "text": [
      "cora_EC: 0.19\n",
      "sp_school_day_1: 0.29\n",
      "eu-core: 0.31\n",
      "sp_school_day_2: 0.32\n",
      "news_2cl2_0.1: 0.34\n",
      "cora_Net: 0.35\n",
      "karate: 0.37\n",
      "dolphins: 0.37\n",
      "news_2cl1_0.1: 0.38\n",
      "cora_IR: 0.38\n",
      "polblogs: 0.41\n",
      "polbooks: 0.41\n",
      "news_2cl3_0.1: 0.42\n",
      "news_5cl3_0.1: 0.42\n",
      "cora_DB: 0.43\n",
      "news_3cl2_0.1: 0.46\n",
      "news_5cl2_0.1: 0.50\n",
      "news_3cl3_0.1: 0.51\n",
      "news_3cl1_0.1: 0.53\n",
      "cora_HCI: 0.53\n",
      "football: 0.55\n",
      "news_5cl1_0.1: 0.56\n",
      "cora_HA: 0.61\n",
      "eurosis: 0.70\n"
     ]
    }
   ],
   "source": [
    "for dataset, modularity in sorted(list(dataset_modularity.items()), key=lambda x: x[1]):\n",
    "    print(f'{dataset}: {modularity:.2f}')"
   ]
  },
  {
   "cell_type": "code",
   "execution_count": 10,
   "metadata": {},
   "outputs": [
    {
     "data": {
      "text/plain": [
       "Text(0, 0.5, 'ARI')"
      ]
     },
     "execution_count": 10,
     "metadata": {},
     "output_type": "execute_result"
    },
    {
     "data": {
      "image/png": "[encoded data removed]",
      "text/plain": [
       "<Figure size 432x288 with 1 Axes>"
      ]
     },
     "metadata": {
      "needs_background": "light"
     },
     "output_type": "display_data"
    }
   ],
   "source": [
    "# draw ari-modularity dependency\n",
    "x, y = [], []\n",
    "for dataset in datasets:\n",
    "    x.append(dataset_modularity[dataset])\n",
    "    y.append(dataset_meanari[dataset])\n",
    "plt.scatter(x, y)\n",
    "plt.xlabel('modularity')\n",
    "plt.ylabel('ARI')"
   ]
  },
  {
   "cell_type": "code",
   "execution_count": null,
   "metadata": {},
   "outputs": [],
   "source": []
  }
 ],
 "metadata": {
  "kernelspec": {
   "display_name": "Python 3",
   "language": "python",
   "name": "python3"
  },
  "language_info": {
   "codemirror_mode": {
    "name": "ipython",
    "version": 3
   },
   "file_extension": ".py",
   "mimetype": "text/x-python",
   "name": "python",
   "nbconvert_exporter": "python",
   "pygments_lexer": "ipython3",
   "version": "3.6.9"
  }
 },
 "nbformat": 4,
 "nbformat_minor": 4
}
