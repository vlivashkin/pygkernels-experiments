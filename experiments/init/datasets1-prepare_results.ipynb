{
 "cells": [
  {
   "cell_type": "code",
   "execution_count": 1,
   "metadata": {},
   "outputs": [],
   "source": [
    "%matplotlib inline"
   ]
  },
  {
   "cell_type": "code",
   "execution_count": 2,
   "metadata": {},
   "outputs": [],
   "source": [
    "import os\n",
    "import pickle\n",
    "import random\n",
    "import sys\n",
    "from collections import defaultdict\n",
    "from itertools import product\n",
    "\n",
    "import matplotlib.pyplot as plt\n",
    "import networkx as nx\n",
    "import numpy as np\n",
    "import pandas as pd\n",
    "from scipy.stats import rankdata\n",
    "from tqdm.notebook import tqdm\n",
    "\n",
    "sys.path.append('../../pygkernels')\n",
    "from pygkernels.data import Datasets\n",
    "\n",
    "from helpers import Datasets_Data, load_or_calc_and_save, perform_graph, ytrue_to_partition"
   ]
  },
  {
   "cell_type": "markdown",
   "metadata": {},
   "source": [
    "# Prepare results of Datasets"
   ]
  },
  {
   "cell_type": "code",
   "execution_count": 3,
   "metadata": {
    "collapsed": false,
    "jupyter": {
     "outputs_hidden": false
    },
    "pycharm": {
     "name": "#%%\n"
    }
   },
   "outputs": [],
   "source": [
    "data_hub = Datasets_Data()"
   ]
  },
  {
   "cell_type": "code",
   "execution_count": 4,
   "metadata": {},
   "outputs": [],
   "source": [
    "@load_or_calc_and_save(f'{data_hub.CACHE_ROOT}/datasets_inits_bestparam_byari_individual_0.1.pkl')\n",
    "def datasets_inits_bestparam_byari_individual():\n",
    "    results = {}\n",
    "    for dataset, kernel_name, graph_idx in tqdm(list(product(data_hub.datasets, data_hub.kernels_names, range(7)))):\n",
    "        filename = f'{dataset}_{kernel_name}_results_{str(graph_idx).zfill(2)}.pkl'\n",
    "        with open(f'{data_hub.DATASETS_RESULTS_ROOT}/by_column_and_kernel/{filename}', 'rb') as f:\n",
    "            data = pickle.load(f)\n",
    "        _, best_ari, _ = perform_graph(data)  # {scorename_initname: (best_param, init)}\n",
    "        result = {si: init['score_ari'] for si, (_, init) in best_ari.items()}  # {scorename_initname: best_ari}\n",
    "        results[(dataset, kernel_name, graph_idx)] = result\n",
    "    return results\n",
    "\n",
    "results = datasets_inits_bestparam_byari_individual() # {(dataset, kernel_name, graph_idx): {scorename_initname: best_ari}}"
   ]
  },
  {
   "cell_type": "code",
   "execution_count": 5,
   "metadata": {},
   "outputs": [
    {
     "name": "stdout",
     "output_type": "stream",
     "text": [
      "cora_Net: 0.18\n",
      "cora_DB: 0.18\n",
      "cora_EC: 0.27\n",
      "cora_IR: 0.30\n",
      "eu-core: 0.34\n",
      "cora_HA: 0.38\n",
      "news_5cl3_0.1: 0.42\n",
      "news_5cl2_0.1: 0.49\n",
      "cora_HCI: 0.51\n",
      "news_5cl1_0.1: 0.61\n",
      "news_3cl2_0.1: 0.62\n",
      "news_3cl3_0.1: 0.66\n",
      "news_2cl2_0.1: 0.67\n",
      "polbooks: 0.69\n",
      "sp_school_day_1: 0.72\n",
      "news_3cl1_0.1: 0.73\n",
      "news_2cl1_0.1: 0.73\n",
      "polblogs: 0.73\n",
      "sp_school_day_2: 0.74\n",
      "eurosis: 0.74\n",
      "news_2cl3_0.1: 0.83\n",
      "football: 0.87\n",
      "dolphins: 0.93\n",
      "karate: 1.00\n"
     ]
    }
   ],
   "source": [
    "# table for modularity any3\n",
    "results_m3_dka = defaultdict(lambda: defaultdict(list)) # {dataset, {kernel_name: [best_ari_for_graph]}}\n",
    "for (dataset, kernel_name, graph_idx), si_ari in results.items():\n",
    "    results_m3_dka[dataset][kernel_name].append(si_ari['modularity_any3'])\n",
    "for dataset, kernel_name in product(data_hub.datasets, data_hub.kernel_names):  # {dataset, {kernel_name: best_ari}}\n",
    "    results_m3_dka[dataset][kernel_name] = np.mean(results_m3_dka[dataset][kernel_name])\n",
    "\n",
    "df = pd.DataFrame(results_m3_dka)\n",
    "df.to_excel('./results/datasets_modularity_any3_bestparam_byari_individual.xlsx')\n",
    "\n",
    "dataset_meanari = {k: np.mean(list(v.values())) for k, v in results_m3_dka.items()}  # {dataset, mean_mean_bestari}\n",
    "for dataset, meanari in sorted(list(dataset_meanari.items()), key=lambda x: x[1]):\n",
    "    print(f'{dataset}: {meanari:.2f}')"
   ]
  },
  {
   "cell_type": "code",
   "execution_count": 6,
   "metadata": {},
   "outputs": [],
   "source": [
    "@load_or_calc_and_save(f'{data_hub.CACHE_ROOT}/datasets_modularity_0.1.pkl')\n",
    "def datasets_modularity():\n",
    "    modularity_results = {}\n",
    "    for dataset in tqdm(list(data_hub.datasets)):  # dataset = column in this context\n",
    "        A, y_true = Datasets()[dataset][0][0]\n",
    "        partition = ytrue_to_partition(y_true)\n",
    "        modularity = nx.community.modularity(nx.from_numpy_matrix(A), partition)\n",
    "        modularity_results[dataset] = modularity\n",
    "    return modularity_results\n",
    "\n",
    "dataset_modularity = datasets_modularity()  # {dataset: modularity}"
   ]
  },
  {
   "cell_type": "code",
   "execution_count": 7,
   "metadata": {},
   "outputs": [
    {
     "name": "stdout",
     "output_type": "stream",
     "text": [
      "cora_EC: 0.19\n",
      "sp_school_day_1: 0.29\n",
      "eu-core: 0.31\n",
      "sp_school_day_2: 0.32\n",
      "news_2cl2_0.1: 0.34\n",
      "cora_Net: 0.35\n",
      "karate: 0.37\n",
      "dolphins: 0.37\n",
      "news_2cl1_0.1: 0.38\n",
      "cora_IR: 0.38\n",
      "polblogs: 0.41\n",
      "polbooks: 0.41\n",
      "news_2cl3_0.1: 0.42\n",
      "news_5cl3_0.1: 0.42\n",
      "cora_DB: 0.43\n",
      "news_3cl2_0.1: 0.46\n",
      "news_5cl2_0.1: 0.50\n",
      "news_3cl3_0.1: 0.51\n",
      "news_3cl1_0.1: 0.53\n",
      "cora_HCI: 0.53\n",
      "football: 0.55\n",
      "news_5cl1_0.1: 0.56\n",
      "cora_HA: 0.61\n",
      "eurosis: 0.70\n"
     ]
    }
   ],
   "source": [
    "for dataset, modularity in sorted(list(dataset_modularity.items()), key=lambda x: x[1]):\n",
    "    print(f'{dataset}: {modularity:.2f}')"
   ]
  },
  {
   "cell_type": "code",
   "execution_count": 8,
   "metadata": {},
   "outputs": [
    {
     "data": {
      "text/plain": [
       "Text(0, 0.5, 'ARI')"
      ]
     },
     "execution_count": 8,
     "metadata": {},
     "output_type": "execute_result"
    },
    {
     "data": {
      "image/png": "[encoded data removed]",
      "text/plain": [
       "<Figure size 432x288 with 1 Axes>"
      ]
     },
     "metadata": {
      "needs_background": "light"
     },
     "output_type": "display_data"
    }
   ],
   "source": [
    "# draw ari-modularity dependency\n",
    "x, y = [], []\n",
    "for dataset in data_hub.datasets:\n",
    "    x.append(dataset_modularity[dataset])\n",
    "    y.append(dataset_meanari[dataset])\n",
    "plt.scatter(x, y)\n",
    "plt.xlabel('modularity')\n",
    "plt.ylabel('ARI')"
   ]
  },
  {
   "cell_type": "code",
   "execution_count": 9,
   "metadata": {},
   "outputs": [
    {
     "data": {
      "text/plain": [
       "Text(0, 0.5, 'ARI')"
      ]
     },
     "execution_count": 9,
     "metadata": {},
     "output_type": "execute_result"
    },
    {
     "data": {
      "image/png": "[encoded data removed]",
      "text/plain": [
       "<Figure size 432x288 with 1 Axes>"
      ]
     },
     "metadata": {
      "needs_background": "light"
     },
     "output_type": "display_data"
    }
   ],
   "source": [
    "# draw ari-modularity dependency\n",
    "x, y = [], []\n",
    "for dataset in data_hub.datasets:\n",
    "    x.append(dataset_modularity[dataset])\n",
    "    y.append(dataset_meanari[dataset])\n",
    "plt.scatter(x, y)\n",
    "plt.xlabel('modularity')\n",
    "plt.ylabel('ARI')"
   ]
  },
  {
   "cell_type": "code",
   "execution_count": null,
   "metadata": {},
   "outputs": [],
   "source": []
  }
 ],
 "metadata": {
  "kernelspec": {
   "display_name": "Python 3",
   "language": "python",
   "name": "python3"
  },
  "language_info": {
   "codemirror_mode": {
    "name": "ipython",
    "version": 3
   },
   "file_extension": ".py",
   "mimetype": "text/x-python",
   "name": "python",
   "nbconvert_exporter": "python",
   "pygments_lexer": "ipython3",
   "version": "3.6.9"
  }
 },
 "nbformat": 4,
 "nbformat_minor": 4
}
