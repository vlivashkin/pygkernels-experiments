{
 "cells": [
  {
   "cell_type": "code",
   "execution_count": 11,
   "metadata": {},
   "outputs": [],
   "source": [
    "%matplotlib inline"
   ]
  },
  {
   "cell_type": "code",
   "execution_count": 12,
   "metadata": {},
   "outputs": [],
   "source": [
    "import os\n",
    "import pickle\n",
    "import sys\n",
    "from collections import Counter, defaultdict\n",
    "from copy import deepcopy\n",
    "from itertools import combinations\n",
    "import pandas as pd\n",
    "\n",
    "import matplotlib.pyplot as plt\n",
    "import networkx as nx\n",
    "import numpy as np\n",
    "import powerlaw\n",
    "from joblib import Parallel, delayed\n",
    "from matplotlib import colors\n",
    "from networkx.algorithms.community.quality import modularity as nx_modularity\n",
    "from sklearn.exceptions import ConvergenceWarning\n",
    "from sklearn.metrics import f1_score\n",
    "from sklearn.metrics.pairwise import euclidean_distances\n",
    "from sklearn.mixture import GaussianMixture\n",
    "from sklearn.neighbors import KNeighborsClassifier\n",
    "from sklearn.svm import SVC\n",
    "from sklearn.utils.testing import ignore_warnings\n",
    "from tqdm.notebook import tqdm\n",
    "\n",
    "\n",
    "sys.path.append('../../pygkernels')\n",
    "from pygkernels.measure import kernels\n",
    "from pygkernels.scenario import d3_colors"
   ]
  },
  {
   "cell_type": "markdown",
   "metadata": {},
   "source": [
    "# Functions"
   ]
  },
  {
   "cell_type": "code",
   "execution_count": 13,
   "metadata": {},
   "outputs": [],
   "source": [
    "def create_krondecker(partition):\n",
    "    n = len(partition)\n",
    "    kron_mask = np.tile(partition, n) == np.repeat(partition, n)\n",
    "    return np.reshape(kron_mask, (n, n))\n",
    "\n",
    "def modularity2(AIJ, partition):\n",
    "    n = len(AIJ)\n",
    "    m = np.sum(AIJ)  # no of edges\n",
    "\n",
    "    k = np.sum(AIJ, axis=1)\n",
    "    expectation = np.reshape(np.tile(k, n) * np.repeat(k, n), (n, n)) / m\n",
    "    kron = create_krondecker(partition)\n",
    "\n",
    "    # Q = (1 / 2m) * SUM(AIJ - (ki.kj / 2m)) ∂(ci, cj)\n",
    "    return (1.0 / m) * np.sum(kron * (AIJ - expectation))"
   ]
  },
  {
   "cell_type": "code",
   "execution_count": 14,
   "metadata": {},
   "outputs": [],
   "source": [
    "def np2nx(A: np.ndarray, partition: np.ndarray):\n",
    "    G = nx.from_numpy_matrix(A)\n",
    "    nx.set_node_attributes(G, dict(enumerate(partition)), 'community')\n",
    "    return G\n",
    "\n",
    "def partition2communities(partition):\n",
    "    result = defaultdict(list)\n",
    "    for idx, class_ in enumerate(partition):\n",
    "        result[class_].append(idx)\n",
    "    return list(result.values())\n",
    "\n",
    "def estimate_mu(graph, partition):\n",
    "    n_out_edges = 0\n",
    "    n_nodes = graph.size()\n",
    "    for n1, n2 in graph.edges():  # links:\n",
    "        if partition[n1] != partition[n2]:\n",
    "            n_out_edges += 1\n",
    "    return n_out_edges / n_nodes\n",
    "\n",
    "def power_law(values, maxval=200):\n",
    "    tau = powerlaw.Fit(values, verbose=False).alpha\n",
    "    if tau > maxval or np.isnan(tau):\n",
    "        tau = maxval\n",
    "    return tau\n",
    "\n",
    "def redetect_params(data):\n",
    "    A, partition = data['A'], data['y_true']\n",
    "    G = np2nx(A, partition)\n",
    "    \n",
    "    n = G.number_of_nodes()\n",
    "    average_degree = 2 * G.number_of_edges() / n\n",
    "    node_degrees = [d for n, d in G.degree()]\n",
    "    min_degree = np.min(node_degrees)\n",
    "    max_degree = np.max(node_degrees)\n",
    "    tau1 = power_law(node_degrees, 250)\n",
    "    modularity = nx_modularity(G, partition2communities(partition))\n",
    "\n",
    "    # Community-based parameters\n",
    "    k = len(set(partition))\n",
    "    mu = min(max(estimate_mu(G, partition), 0.), 1.)\n",
    "    community_sizes = list(Counter(partition).values())\n",
    "    min_community = np.min(community_sizes)\n",
    "    max_community = np.max(community_sizes)\n",
    "    tau2 = power_law(community_sizes, 250)\n",
    "    \n",
    "    return {\n",
    "        'n': n,\n",
    "        'k': k,\n",
    "        'average_degree': average_degree,\n",
    "        'min_degree': min_degree, \n",
    "        'max_degree': max_degree,\n",
    "        'tau1': tau1,\n",
    "        'mu': mu,\n",
    "        'min_community': min_community,\n",
    "        'max_community': max_community,\n",
    "        'tau2': tau2,\n",
    "        'modularity': modularity\n",
    "    }"
   ]
  },
  {
   "cell_type": "code",
   "execution_count": 15,
   "metadata": {},
   "outputs": [],
   "source": [
    "def point2plot(x, feature_name):\n",
    "    vmin, vmax = limits[feature_name]\n",
    "    return (x - vmin) / (vmax - vmin) * resolution"
   ]
  },
  {
   "cell_type": "code",
   "execution_count": 16,
   "metadata": {},
   "outputs": [],
   "source": [
    "class RFE:\n",
    "    def __init__(self, estimator, names, max_features=5, n_jobs=None):\n",
    "        self.estimator = estimator\n",
    "        self.names = names\n",
    "        self.max_features = max_features\n",
    "        self.n_jobs = n_jobs\n",
    "        self.results = {}\n",
    "\n",
    "    @ignore_warnings(category=ConvergenceWarning)\n",
    "    def score_one(self, x, y, weights, set_feat_names):\n",
    "        support = np.array([x in set_feat_names for x in self.names], dtype=np.bool)\n",
    "\n",
    "        estimator = deepcopy(self.estimator)\n",
    "        if weights != None:\n",
    "            estimator.fit(x[:, support], y, sample_weight=weights)\n",
    "        else:\n",
    "            estimator.fit(x[:, support], y)\n",
    "        if np.max(y) == 1:\n",
    "            y_pred = estimator.predict_proba(x[:, support])\n",
    "            y_pred = y_pred[:, 1] > 0.5\n",
    "        else:\n",
    "            y_pred = estimator.predict(x[:, support])\n",
    "        f1 = f1_score(y, y_pred)\n",
    "        return set_feat_names, f1, estimator\n",
    "\n",
    "    def fit(self, x, y, weights):\n",
    "        # for all features first:\n",
    "        _, f1_all, estimator_all = self.score_one(x, y, weights, self.names)\n",
    "        print(f'all features, f1={f1_all:.3f}')\n",
    "\n",
    "        for n_features in range(1, self.max_features + 1):\n",
    "            results = Parallel(n_jobs=self.n_jobs)(\n",
    "                delayed(self.score_one)(x, y, weights, set_feat_names)\n",
    "                for set_feat_names in list(combinations(self.names, n_features)))\n",
    "            best_n_feat, best_f1, best_estimator = None, 0, None\n",
    "            for set_feat_names, f1, estimator in results:\n",
    "                if f1 > best_f1:\n",
    "                    best_n_feat, best_f1, best_estimator = set_feat_names, f1, estimator\n",
    "            print(f'{n_features} features, f1={best_f1:.3f}, set={best_n_feat}')\n",
    "            if hasattr(best_estimator, 'best_params_'):\n",
    "                print(best_estimator.best_params_)\n",
    "            self.results[n_features] = {\n",
    "                'f1': best_f1,\n",
    "                'set': best_n_feat\n",
    "            }\n",
    "        return self"
   ]
  },
  {
   "cell_type": "markdown",
   "metadata": {
    "pycharm": {
     "name": "#%% md\n"
    }
   },
   "source": [
    "# Prepare data"
   ]
  },
  {
   "cell_type": "code",
   "execution_count": 17,
   "metadata": {},
   "outputs": [
    {
     "name": "stdout",
     "output_type": "stream",
     "text": [
      "2020-09-10 15:53:14.749429\n"
     ]
    }
   ],
   "source": [
    "import datetime\n",
    "print(datetime.datetime.now())"
   ]
  },
  {
   "cell_type": "code",
   "execution_count": 18,
   "metadata": {},
   "outputs": [],
   "source": [
    "resolution = 100"
   ]
  },
  {
   "cell_type": "code",
   "execution_count": 19,
   "metadata": {},
   "outputs": [
    {
     "data": {
      "image/png": "[encoded data removed]",
      "text/plain": [
       "<Figure size 432x288 with 1 Axes>"
      ]
     },
     "metadata": {
      "needs_background": "light"
     },
     "output_type": "display_data"
    }
   ],
   "source": [
    "a = np.zeros((1, 25, 3), dtype=np.uint8)\n",
    "labels = []\n",
    "for idx, kernel in enumerate(kernels):\n",
    "    a[0, idx] = np.array(colors.to_rgb(d3_colors[kernel.name])) * 255\n",
    "    labels.append(kernel.name)\n",
    "plt.imshow(a)\n",
    "plt.xticks(range(25), labels, rotation='vertical')\n",
    "plt.yticks([]);"
   ]
  },
  {
   "cell_type": "code",
   "execution_count": 20,
   "metadata": {},
   "outputs": [
    {
     "data": {
      "application/vnd.jupyter.widget-view+json": {
       "model_id": "20a2dd4b262542978eda30191bcf4208",
       "version_major": 2,
       "version_minor": 0
      },
      "text/plain": [
       "HBox(children=(IntProgress(value=0, max=2066), HTML(value='')))"
      ]
     },
     "metadata": {},
     "output_type": "display_data"
    },
    {
     "name": "stderr",
     "output_type": "stream",
     "text": [
      "/usr/local/lib/python3.6/dist-packages/joblib/externals/loky/process_executor.py:706: UserWarning: A worker stopped while some jobs were given to the executor. This can be caused by a too short worker timeout or by a memory leak.\n",
      "  \"timeout or by a memory leak.\", UserWarning\n"
     ]
    },
    {
     "name": "stdout",
     "output_type": "stream",
     "text": [
      "\n"
     ]
    }
   ],
   "source": [
    "root = '/media/illusionww/68949C3149F4E819/phd/pygkernels/montecarlo_lfr'\n",
    "    \n",
    "def perform_one(fn):\n",
    "    with open(f'{root}/{fn}', 'rb') as f:\n",
    "        data = pickle.load(f)\n",
    "    need_to_save = False\n",
    "    A = data['A']\n",
    "    item = {}\n",
    "    for kernel_name, kernel_results in data['results'].items():\n",
    "        kernel_best_ari = -1\n",
    "        for parameter, parameter_results in kernel_results.items():\n",
    "            if len(parameter_results) > 0:\n",
    "                if 'new_modularity2' not in parameter_results[0]:  # add new_modularity if not exist\n",
    "                    for init_idx, init in enumerate(parameter_results):\n",
    "                        partition = init['labels']\n",
    "                        init['new_modularity2'] = modularity2(A, partition)\n",
    "                    need_to_save = True\n",
    "                param_best_ari = sorted(parameter_results, key=lambda x: -x['new_modularity2'])[0]['score_ari']\n",
    "                kernel_best_ari = max(kernel_best_ari, param_best_ari)\n",
    "        item[kernel_name] = kernel_best_ari\n",
    "    \n",
    "    if need_to_save:\n",
    "        with open(f'{root}/{fn}', 'wb') as f:\n",
    "            pickle.dump(data, f)\n",
    "    \n",
    "    return item, redetect_params(data)\n",
    "\n",
    "dataset = Parallel(n_jobs=12)(delayed(perform_one)(fn) for fn in tqdm(os.listdir(root)))"
   ]
  },
  {
   "cell_type": "code",
   "execution_count": 23,
   "metadata": {},
   "outputs": [],
   "source": [
    "# generate additional features\n",
    "for item in dataset:\n",
    "    maxari = np.max(list(item[0].values()))\n",
    "    item[1]['maxari'] = maxari\n",
    "    item[1]['average_degree/n'] = item[1]['average_degree'] / item[1]['n']\n",
    "    item[1]['min_community/max_community'] = item[1]['min_community'] / item[1]['max_community']\n",
    "    item[1]['min_degree/max_degree'] = item[1]['min_degree'] / item[1]['max_degree']\n",
    "    item[1]['mu/(average_degree/n)'] = item[1]['mu'] / (item[1]['average_degree'] / item[1]['n'])"
   ]
  },
  {
   "cell_type": "code",
   "execution_count": 24,
   "metadata": {
    "pycharm": {
     "name": "#%%\n"
    }
   },
   "outputs": [],
   "source": [
    "all_feature_names = [\n",
    "    'n',\n",
    "    'k',\n",
    "    'tau1',\n",
    "    'tau2',\n",
    "    'mu',\n",
    "    'average_degree',\n",
    "    'min_community',\n",
    "    'maxari',\n",
    "    'modularity',\n",
    "    'average_degree/n',\n",
    "    'min_community/max_community',\n",
    "    'min_degree/max_degree',\n",
    "    'mu/(average_degree/n)'\n",
    "]\n",
    "\n",
    "fnc = {\n",
    "    'n': lambda x: x/1500,\n",
    "    'k': lambda x: ((1 - 1/x) - 0.5) * 2,\n",
    "    'tau1': lambda x: 1 - (1 / x**0.5),\n",
    "    'tau2': lambda x: 1 - (1 / x**0.5),\n",
    "    'mu': lambda x: x,\n",
    "    'average_degree': lambda x: x/850,\n",
    "    'min_community': lambda x: x/750,\n",
    "    'maxari': lambda x: x,\n",
    "    'modularity': lambda x: (x + 0.5) * 0.75,\n",
    "    'average_degree/n': lambda x: x / 0.7,\n",
    "    'min_community/max_community': lambda x: x,\n",
    "    'min_degree/max_degree': lambda x: x / 0.7,\n",
    "    'mu/(average_degree/n)': lambda x: x ** 0.25 / 4\n",
    "}"
   ]
  },
  {
   "cell_type": "code",
   "execution_count": 25,
   "metadata": {},
   "outputs": [
    {
     "name": "stdout",
     "output_type": "stream",
     "text": [
      "n: 10.00, 1499.00 | 0.01, 1.00\n",
      "k: 2.00, 224.00 | 0.00, 0.99\n",
      "tau1: 1.87, 235.90 | 0.27, 0.93\n",
      "tau2: 1.51, 250.00 | 0.19, 0.94\n",
      "mu: 0.00, 1.00 | 0.00, 1.00\n",
      "average_degree: 1.17, 954.59 | 0.00, 1.12\n",
      "min_community: 1.00, 749.00 | 0.00, 1.00\n",
      "maxari: 0.00, 1.00 | 0.00, 1.00\n",
      "modularity: -0.50, 0.95 | -0.00, 1.09\n",
      "average_degree/n: 0.00, 0.80 | 0.00, 1.15\n",
      "min_community/max_community: 0.01, 1.00 | 0.01, 1.00\n",
      "min_degree/max_degree: 0.00, 0.86 | 0.00, 1.23\n",
      "mu/(average_degree/n): 0.00, 368.32 | 0.05, 1.10\n"
     ]
    }
   ],
   "source": [
    "real_limits = {}\n",
    "limits = {}\n",
    "for fname in all_feature_names:\n",
    "    min_max = np.min([info[fname] for _, info in dataset]), np.max([info[fname] for _, info in dataset])\n",
    "    real_limits[fname] = min_max\n",
    "    limits[fname] = fnc[fname](min_max[0]), fnc[fname](min_max[1])\n",
    "    print(f'{fname}: {real_limits[fname][0]:.2f}, {real_limits[fname][1]:.2f} | {limits[fname][0]:.2f}, {limits[fname][1]:.2f}')"
   ]
  },
  {
   "cell_type": "code",
   "execution_count": 26,
   "metadata": {},
   "outputs": [
    {
     "data": {
      "text/plain": [
       "[(0, 'Katz'),\n",
       " (1, 'logKatz'),\n",
       " (2, 'For'),\n",
       " (3, 'logFor'),\n",
       " (4, 'Comm'),\n",
       " (5, 'logComm'),\n",
       " (6, 'Heat'),\n",
       " (7, 'logHeat'),\n",
       " (8, 'NHeat'),\n",
       " (9, 'logNHeat'),\n",
       " (10, 'SCT'),\n",
       " (11, 'SCCT'),\n",
       " (12, 'RSP'),\n",
       " (13, 'FE'),\n",
       " (14, 'PPR'),\n",
       " (15, 'logPPR'),\n",
       " (16, 'ModifPPR'),\n",
       " (17, 'logModifPPR'),\n",
       " (18, 'HeatPR'),\n",
       " (19, 'logHeatPR'),\n",
       " (20, 'DF'),\n",
       " (21, 'logDF'),\n",
       " (22, 'Abs'),\n",
       " (23, 'logAbs'),\n",
       " (24, 'SP-CT')]"
      ]
     },
     "execution_count": 26,
     "metadata": {},
     "output_type": "execute_result"
    }
   ],
   "source": [
    "kernels_order = [x.name for x in kernels]\n",
    "list(enumerate(kernels_order))"
   ]
  },
  {
   "cell_type": "markdown",
   "metadata": {},
   "source": [
    "# Search for best basis"
   ]
  },
  {
   "cell_type": "code",
   "execution_count": 79,
   "metadata": {},
   "outputs": [],
   "source": [
    "class SBM_GridSearch:\n",
    "    def __init__(self, tx, ty):\n",
    "        self.tx = tx\n",
    "        self.ty = ty\n",
    "        self.Cs = [0.001, 0.002, 0.005, 0.01, 0.02, 0.05, 0.1, 0.2, 0.5, 1.0, 2.0, 5.0, 10.0]\n",
    "        self.pos_gammas = [1] #[0.5, 1, 2, 5, 10, 100]\n",
    "        self.neg_gammas = [0.5, 1, 2, 5, 7, 10]\n",
    "\n",
    "    def run_one(self, C, weights, ty_bool):\n",
    "        y_pred = SVC(C=C, probability=True).fit(self.tx, ty_bool).predict_proba(self.tx)[:, 1]\n",
    "        f1 = f1_score(ty_bool, y_pred > 0.5)\n",
    "        return f1\n",
    "\n",
    "    def best_set(self, kernel_name):\n",
    "        measure_idx = kernels_order.index(kernel_name)\n",
    "        ari_measure = self.ty[:, measure_idx]\n",
    "        ari_other = np.max(np.concatenate((self.ty[:, :measure_idx], self.ty[:, measure_idx+1:]), axis=1), axis=1)\n",
    "        ty_bool = ari_measure >= ari_other\n",
    "        print(f'{kernel_name} ({measure_idx}), {np.sum(ty_bool)}')\n",
    "\n",
    "        best_f1, best_C, best_pos_gamma, best_neg_gamma = 0, 0, 0, 0\n",
    "        if np.sum(ty_bool) > 0:\n",
    "            for C in self.Cs:\n",
    "                for pos_gamma in self.pos_gammas:\n",
    "                    for neg_gamma in self.neg_gammas:\n",
    "                        win_weights = 1 / np.sum(self.ty == np.max(self.ty, axis=1, keepdims=True), axis=1)**pos_gamma\n",
    "                        lose_weights = np.clip(np.abs(ari_measure - ari_other) * neg_gamma, 0, 1)\n",
    "                        weights = [ww if ari_m >= ari_o else lw for ari_m, ari_o, ww, lw in zip(ari_measure, ari_other, win_weights, lose_weights)]\n",
    "\n",
    "                        f1 = self.run_one(C, weights, ty_bool)\n",
    "                        if f1 > best_f1:\n",
    "                            best_f1, best_C, best_pos_gamma, best_neg_gamma = f1, C, pos_gamma, neg_gamma\n",
    "\n",
    "                f1 = self.run_one(C, None, ty_bool)\n",
    "                if f1 > best_f1:\n",
    "                    best_f1, best_C, best_pos_gamma, best_neg_gamma = f1, C, None, None\n",
    "\n",
    "        return {\n",
    "            'f1': best_f1,\n",
    "            'C': best_C,\n",
    "            'pos_gamma': best_pos_gamma,\n",
    "            'neg_gamma': best_neg_gamma\n",
    "        }"
   ]
  },
  {
   "cell_type": "code",
   "execution_count": 80,
   "metadata": {},
   "outputs": [],
   "source": [
    "all_feature_names = [\n",
    "    'n',\n",
    "#     'k',\n",
    "    'tau1',\n",
    "    'tau2',\n",
    "    'mu',\n",
    "    'average_degree',\n",
    "#     'min_community',\n",
    "    'maxari',\n",
    "    'modularity',\n",
    "    'average_degree/n',\n",
    "#     'min_community/max_community',\n",
    "#     'min_degree/max_degree',\n",
    "#     'mu/(average_degree/n)'\n",
    "]"
   ]
  },
  {
   "cell_type": "code",
   "execution_count": 81,
   "metadata": {},
   "outputs": [
    {
     "name": "stdout",
     "output_type": "stream",
     "text": [
      "255\n"
     ]
    }
   ],
   "source": [
    "combs = []\n",
    "for i in range(1, len(all_feature_names)+1):\n",
    "    combs.extend([list(x) for x in combinations(all_feature_names, i)])\n",
    "print(len(combs))"
   ]
  },
  {
   "cell_type": "raw",
   "metadata": {},
   "source": [
    "combs = [\n",
    "    ['n', 'tau1', 'tau2', 'mu', 'maxari'],\n",
    "    ['n', 'tau1', 'maxari'],\n",
    "    ['n', 'tau1', 'mu', 'modularity', 'average_degree/n'],\n",
    "    ['n', 'tau1', 'average_degree/n'],\n",
    "    ['tau1', 'average_degree', 'modularity']\n",
    "]"
   ]
  },
  {
   "cell_type": "code",
   "execution_count": 84,
   "metadata": {},
   "outputs": [
    {
     "data": {
      "application/vnd.jupyter.widget-view+json": {
       "model_id": "77633a297e274c72958cc97ae45225e2",
       "version_major": 2,
       "version_minor": 0
      },
      "text/plain": [
       "HBox(children=(IntProgress(value=0, max=255), HTML(value='')))"
      ]
     },
     "metadata": {},
     "output_type": "display_data"
    },
    {
     "name": "stdout",
     "output_type": "stream",
     "text": [
      "\n"
     ]
    }
   ],
   "source": [
    "def one(comb):\n",
    "    print(comb)\n",
    "    \n",
    "    tx = np.array([[fnc[fname](item[1][fname]) for fname in comb] for item in dataset]).astype(np.float32)\n",
    "    ty = np.array([[item[0][kernel] for kernel in kernels_order] for item in dataset]).astype(np.float32)\n",
    "    print(tx.shape, ty.shape)\n",
    "\n",
    "    tx = tx[np.sum(ty == np.max(ty, axis=1, keepdims=True), axis=1) < 2]\n",
    "    ty = ty[np.sum(ty == np.max(ty, axis=1, keepdims=True), axis=1) < 2]\n",
    "    print(tx.shape, ty.shape)\n",
    "    \n",
    "    results_wscct = {}\n",
    "    gs = SBM_GridSearch(tx, ty)\n",
    "    for kernel_name in kernels_order:\n",
    "        res = gs.best_set(kernel_name)\n",
    "        print(f\"{res['f1']:.3f}, {res['C']:.3f}, {res['pos_gamma']}, {res['neg_gamma']}\")\n",
    "        results_wscct[kernel_name] = res\n",
    "        \n",
    "        \n",
    "    tywo11 = ty.copy()\n",
    "    tywo11[:, 11] = 0\n",
    "    \n",
    "    results_woscct = {}\n",
    "    gs = SBM_GridSearch(tx, tywo11)\n",
    "    for kernel_name in kernels_order:\n",
    "        results_woscct[kernel_name] = gs.best_set(kernel_name)\n",
    "  \n",
    "    return comb, results_wscct, results_woscct\n",
    "    \n",
    "results = Parallel(n_jobs=12)(delayed(one)(comb) for comb in tqdm(combs))"
   ]
  },
  {
   "cell_type": "code",
   "execution_count": 98,
   "metadata": {},
   "outputs": [
    {
     "name": "stdout",
     "output_type": "stream",
     "text": [
      "Katz (15)\tlogKatz (26)\tFor (3)\tlogFor (8)\tComm (78)\tlogComm (77)\tHeat (12)\tlogHeat (12)\tNHeat (221)\tlogNHeat (2)\tSCT (52)\tSCCT (784)\tRSP (51)\tFE (9)\tPPR (5)\tlogPPR (11)\tModifPPR (1)\tlogModifPPR (10)\tHeatPR (5)\tlogHeatPR (4)\tDF (15)\tlogDF (32)\tAbs (20)\tlogAbs (2)\tSP-CT (31)\t\n",
      "Katz (81)\tlogKatz (45)\tFor (5)\tlogFor (10)\tComm (114)\tlogComm (102)\tHeat (20)\tlogHeat (17)\tNHeat (490)\tlogNHeat (23)\tSCT (124)\tSCCT (0)\tRSP (135)\tFE (26)\tPPR (5)\tlogPPR (28)\tModifPPR (1)\tlogModifPPR (23)\tHeatPR (6)\tlogHeatPR (5)\tDF (22)\tlogDF (42)\tAbs (45)\tlogAbs (9)\tSP-CT (108)\t"
     ]
    }
   ],
   "source": [
    "ty = np.array([[item[0][kernel] for kernel in kernels_order] for item in dataset]).astype(np.float32)\n",
    "ty = ty[np.sum(ty == np.max(ty, axis=1, keepdims=True), axis=1) < 2]\n",
    "tywo11 = ty.copy()\n",
    "tywo11[:, 11] = 0\n",
    "ty = np.argmax(ty, axis=1)\n",
    "tywo11 = np.argmax(tywo11, axis=1)\n",
    "for idx, kernel_name in enumerate(kernels_order):\n",
    "    print(f'{kernel_name} ({np.sum(ty == idx)})', end='\\t')\n",
    "print()\n",
    "for idx, kernel_name in enumerate(kernels_order):\n",
    "    print(f'{kernel_name} ({np.sum(tywo11 == idx)})', end='\\t')"
   ]
  },
  {
   "cell_type": "code",
   "execution_count": 90,
   "metadata": {},
   "outputs": [
    {
     "name": "stdout",
     "output_type": "stream",
     "text": [
      "['n']\t0.07484407484407483\t0.08421052631578947\t0.005102040816326531\t0.02006688963210702\t0\t0.13410404624277455\t0.03488372093023255\t0.03012048192771084\t0\t0.05882352941176471\t0.1226215644820296\t0\t0.19036697247706422\t0.033268101761252444\t0\t0.034447821681864235\t0\t0.03389830508474576\t0.020833333333333336\t0.04975124378109452\t0.10416666666666666\t0.03773584905660377\t0.08912188728702491\t0.05263157894736842\t0.14074074074074075\t\n",
      "['tau1']\t0.11264822134387352\t0.054309327036599755\t0\t0\t0.09343715239154617\t0.1616161616161616\t0.04819277108433734\t0.038834951456310676\t0.15114235500878737\t0.04291845493562232\t0.14404432132963987\t0\t0.14964028776978416\t0.03460207612456747\t0.026548672566371688\t0.037833190025795355\t0.012738853503184714\t0.0425531914893617\t0.012195121951219513\t0.03773584905660377\t0.0875\t0.10476190476190475\t0.058519793459552494\t0\t0.04268292682926829\t\n",
      "['tau2']\t0.10336341263330599\t0.06802721088435373\t0.01680672268907563\t0.02783300198807157\t0\t0.14153846153846153\t0.10526315789473685\t0.05333333333333334\t0.004073319755600815\t0.04899135446685879\t0.11538461538461539\t0\t0.1840628507295174\t0.058823529411764705\t0.010657193605683837\t0.041901692183722805\t0.01886792452830189\t0.05970149253731343\t0.10526315789473685\t0.040968342644320296\t0\t0\t0.049586776859504134\t0.10810810810810811\t0.05925925925925926\t\n",
      "['mu']\t0.13079019073569484\t0.08750000000000001\t0.08000000000000002\t0\t0.13032581453634084\t0.2453416149068323\t0.033745781777277835\t0\t0.41025641025641024\t0.022116903633491312\t0.031007751937984496\t0\t0\t0\t0.08000000000000002\t0\t0.00437636761487965\t0.040983606557377046\t0\t0.022222222222222223\t0.13818181818181818\t0.0589101620029455\t0.10482180293501048\t0\t0.07761194029850747\t\n",
      "['average_degree']\t0.15671641791044777\t0.06648936170212766\t0.039999999999999994\t0.011312217194570135\t0.18687872763419483\t0.08637873754152824\t0.003048780487804878\t0.027742749054224462\t0\t0.02244668911335578\t0\t0\t0\t0.04651162790697674\t0.014571948998178506\t0.06374501992031872\t0\t0.1111111111111111\t0.015053763440860216\t0\t0.14227642276422764\t0.125\t0.09380863039399624\t0.01904761904761905\t0.10953346855983773\t\n",
      "['maxari']\t0.09326424870466321\t0.06510416666666667\t0.016260162601626018\t0.041666666666666664\t0.11379310344827587\t0\t0.02380952380952381\t0\t0\t0.040520984081041975\t0.015686274509803925\t0\t0\t0.051948051948051945\t0.004555808656036447\t0.05921052631578948\t0\t0.03877221324717285\t0.0392156862745098\t0.07294832826747721\t0\t0.08098591549295775\t0.08067940552016985\t0.04057971014492754\t0.057259713701431486\t\n",
      "['modularity']\t0.14784946236559138\t0.12987012987012986\t0.018750000000000003\t0.019943019943019943\t0.05896805896805897\t0.0930232558139535\t0.09523809523809523\t0\t0.46277205040091635\t0.027868852459016394\t0\t0\t0\t0.024746906636670417\t0\t0.029806259314456036\t0.07142857142857142\t0.1038062283737024\t0.03508771929824561\t0.02884615384615384\t0.1465201465201465\t0.2857142857142857\t0.1038961038961039\t0.013179571663920923\t0.1092896174863388\t\n",
      "['average_degree/n']\t0\t0.03858520900321544\t0.015873015873015872\t0.018691588785046728\t0\t0.20084566596194503\t0.05405405405405405\t0.0380952380952381\t0.01612903225806452\t0.0660377358490566\t0.10020876826722339\t0\t0.1545711592836946\t0.06360424028268552\t0.054421768707483\t0.03956043956043956\t0.013245033112582783\t0.021978021978021976\t0.0037807183364839325\t0.058455114822546964\t0\t0.04835164835164835\t0.07162534435261707\t0.01312910284463895\t0\t\n",
      "['n', 'tau1']\t0\t0\t0\t0\t0\t0\t0\t0\t0.17900172117039587\t0\t0\t0\t0\t0\t0\t0.024390243902439025\t0\t0\t0\t0.02523659305993691\t0\t0\t0\t0\t0\t\n",
      "['n', 'tau2']\t0\t0\t0\t0.13333333333333333\t0\t0\t0\t0\t0.004073319755600815\t0\t0\t0\t0\t0\t0\t0\t0\t0\t0\t0\t0\t0\t0\t0\t0\t\n",
      "['n', 'mu']\t0\t0\t0\t0\t0\t0\t0.1739130434782609\t0\t0.38957475994513024\t0\t0.04651162790697675\t0\t0.014084507042253521\t0\t0\t0\t0\t0\t0\t0\t0.12704918032786885\t0\t0\t0\t0\t\n",
      "['n', 'average_degree']\t0\t0\t0\t0.020864381520119223\t0\t0\t0.020202020202020204\t0\t0.09039548022598869\t0\t0\t0\t0\t0\t0\t0\t0\t0.03448275862068965\t0\t0\t0\t0.11820330969267141\t0.015503875968992248\t0\t0\t\n",
      "['n', 'maxari']\t0\t0\t0.018518518518518517\t0\t0\t0\t0\t0.035398230088495575\t0\t0\t0\t0\t0\t0\t0\t0\t0\t0\t0\t0\t0\t0.13333333333333333\t0\t0\t0\t\n",
      "['n', 'modularity']\t0\t0\t0\t0\t0\t0\t0.18181818181818182\t0\t0.2534351145038168\t0\t0.031496062992125984\t0\t0\t0\t0\t0\t0\t0\t0\t0\t0\t0.41509433962264153\t0\t0\t0\t\n",
      "['n', 'average_degree/n']\t0\t0\t0\t0.025316455696202535\t0\t0.045112781954887216\t0\t0.023391812865497075\t0.07003891050583659\t0\t0\t0\t0\t0\t0\t0\t0\t0\t0\t0\t0\t0\t0\t0\t0\t\n",
      "['tau1', 'tau2']\t0\t0\t0\t0.023529411764705882\t0\t0\t0.016260162601626015\t0\t0.3031203566121842\t0\t0\t0\t0.014084507042253521\t0\t0\t0\t0\t0\t0.014705882352941175\t0\t0\t0.046511627906976744\t0\t0\t0\t\n",
      "['tau1', 'mu']\t0\t0\t0\t0.05128205128205127\t0\t0.01923076923076923\t0.09523809523809523\t0.1\t0.43711843711843706\t0\t0.04651162790697675\t0\t0.014084507042253521\t0\t0\t0\t0.022988505747126436\t0\t0\t0\t0\t0\t0\t0\t0\t\n",
      "['tau1', 'average_degree']\t0\t0\t0.017825311942959002\t0.029985007496251874\t0\t0.16778523489932884\t0.021621621621621623\t0.04\t0.07619047619047617\t0.0631578947368421\t0\t0\t0\t0\t0.011049723756906079\t0\t0.0038759689922480615\t0\t0\t0.06896551724137932\t0.10606060606060606\t0\t0\t0.020512820512820513\t0\t\n",
      "['tau1', 'maxari']\t0\t0\t0\t0.07352941176470588\t0\t0.01923076923076923\t0\t0\t0.4085750315258513\t0\t0\t0\t0.027972027972027972\t0\t0.027972027972027972\t0\t0\t0\t0\t0\t0\t0\t0.04347826086956522\t0.022857142857142854\t0\t\n",
      "['tau1', 'modularity']\t0\t0\t0\t0.0037383177570093455\t0.05447470817120622\t0.01923076923076923\t0.18181818181818182\t0.1904761904761905\t0.5130641330166271\t0.041666666666666664\t0\t0\t0\t0\t0.027027027027027025\t0\t0\t0\t0\t0.02197802197802198\t0.09090909090909091\t0.3461538461538461\t0.036036036036036036\t0\t0\t\n",
      "['tau1', 'average_degree/n']\t0\t0.09282700421940929\t0\t0\t0.023255813953488372\t0\t0\t0.07594936708860761\t0.14711033274956214\t0\t0\t0\t0\t0\t0.07407407407407407\t0\t0\t0.10638297872340424\t0\t0\t0\t0\t0.04347826086956522\t0\t0\t\n",
      "['tau2', 'mu']\t0\t0\t0\t0.16666666666666669\t0\t0.03773584905660377\t0\t0\t0.3357041251778094\t0.07407407407407407\t0.031496062992125984\t0\t0.014084507042253521\t0\t0\t0\t0.015503875968992248\t0.0689655172413793\t0\t0.07142857142857142\t0\t0\t0\t0\t0\t\n",
      "['tau2', 'average_degree']\t0\t0\t0.08000000000000002\t0.022988505747126436\t0\t0.01834862385321101\t0.05555555555555556\t0.008415147265077139\t0.22003284072249593\t0.03278688524590164\t0\t0\t0\t0\t0.03636363636363637\t0.0588235294117647\t0.006211180124223603\t0\t0.011650485436893204\t0\t0\t0.11046511627906976\t0\t0\t0\t\n",
      "['tau2', 'maxari']\t0\t0.0851063829787234\t0\t0.16666666666666669\t0\t0\t0\t0\t0\t0\t0\t0\t0.014084507042253521\t0\t0.01474201474201474\t0\t0\t0\t0.25\t0.07142857142857142\t0\t0\t0\t0\t0\t\n",
      "['tau2', 'modularity']\t0\t0\t0\t0\t0\t0.03809523809523809\t0.18181818181818182\t0\t0.32210834553440704\t0\t0.015873015873015872\t0\t0\t0\t0.007968127490039842\t0\t0\t0\t0\t0\t0\t0.2857142857142857\t0\t0.1\t0\t\n",
      "['tau2', 'average_degree/n']\t0\t0\t0\t0.008620689655172414\t0\t0.0736196319018405\t0\t0.10526315789473684\t0.1839863713798978\t0\t0\t0\t0\t0\t0.025\t0\t0.0392156862745098\t0\t0\t0\t0\t0\t0\t0\t0\t\n",
      "['mu', 'average_degree']\t0\t0\t0.04371584699453552\t0.15384615384615385\t0\t0.01923076923076923\t0\t0.0051413881748071984\t0.26540284360189575\t0\t0\t0\t0.014084507042253521\t0\t0.015384615384615384\t0\t0.01923076923076923\t0\t0.005479452054794521\t0.05405405405405406\t0\t0\t0.026809651474530828\t0\t0.034782608695652174\t\n",
      "['mu', 'maxari']\t0\t0\t0\t0\t0\t0\t0\t0.012048192771084338\t0.4387096774193548\t0\t0.015748031496062992\t0\t0\t0\t0\t0\t0\t0\t0\t0\t0\t0\t0\t0.02197802197802198\t0\t\n",
      "['mu', 'modularity']\t0\t0\t0\t0\t0\t0.21265822784810126\t0.09523809523809523\t0\t0.49397590361445787\t0\t0.04651162790697675\t0\t0.014084507042253521\t0\t0\t0\t0.007547169811320754\t0\t0\t0\t0\t0.32\t0.07722007722007722\t0\t0\t\n",
      "['mu', 'average_degree/n']\t0\t0\t0\t0.021276595744680854\t0.011695906432748537\t0\t0.18181818181818182\t0\t0.08396946564885496\t0\t0\t0\t0\t0\t0\t0\t0.6666666666666666\t0\t0\t0\t0\t0\t0\t0\t0\t\n",
      "['average_degree', 'maxari']\t0\t0\t0\t0.01075268817204301\t0\t0\t0.017971758664955068\t0\t0.13528336380255943\t0.07377049180327869\t0\t0\t0\t0\t0.019999999999999997\t0\t0\t0\t0.01606425702811245\t0\t0\t0.012738853503184714\t0\t0.031746031746031744\t0\t\n",
      "['average_degree', 'modularity']\t0\t0\t0.015503875968992248\t0\t0\t0.01680672268907563\t0.18181818181818182\t0\t0.2956259426847662\t0\t0\t0\t0\t0.0689655172413793\t0\t0\t0\t0\t0.00272108843537415\t0\t0\t0.5\t0\t0\t0.03508771929824561\t\n",
      "['average_degree', 'average_degree/n']\t0\t0\t0.008771929824561403\t0.0091324200913242\t0\t0\t0\t0.0034071550255536627\t0.111731843575419\t0\t0\t0\t0\t0\t0.022675736961451247\t0\t0\t0\t0\t0\t0\t0\t0\t0\t0\t\n",
      "['maxari', 'modularity']\t0\t0\t0\t0\t0.011695906432748537\t0\t0\t0\t0.39800995024875613\t0\t0.03125\t0\t0\t0\t0\t0\t0\t0\t0\t0.02824858757062147\t0\t0.25\t0.029761904761904767\t0\t0\t\n",
      "['maxari', 'average_degree/n']\t0\t0\t0\t0\t0.011695906432748537\t0\t0\t0\t0.219672131147541\t0\t0\t0\t0\t0\t0.052631578947368425\t0\t0\t0\t0.009950248756218905\t0.02531645569620253\t0\t0\t0.04347826086956522\t0\t0\t\n",
      "['modularity', 'average_degree/n']\t0\t0\t0\t0\t0.034682080924855495\t0.41732283464566927\t0.18181818181818182\t0.1\t0.22185970636215335\t0\t0.031496062992125984\t0\t0.027586206896551724\t0\t0\t0\t0.028169014084507043\t0\t0.05555555555555555\t0\t0\t0.3137254901960784\t0.04347826086956522\t0\t0\t\n",
      "['n', 'tau1', 'tau2']\t0\t0\t0.33333333333333337\t0\t0\t0\t0\t0\t0.2543171114599686\t0\t0\t0\t0\t0\t0\t0\t0\t0\t0\t0\t0\t0.046511627906976744\t0\t0.15384615384615385\t0\t\n",
      "['n', 'tau1', 'mu']\t0\t0\t0\t0\t0\t0.01923076923076923\t0.1739130434782609\t0.1\t0.39841688654353563\t0\t0.07633587786259541\t0\t0.0547945205479452\t0\t0\t0\t0\t0\t0\t0\t0\t0\t0\t0\t0.052173913043478265\t\n",
      "['n', 'tau1', 'average_degree']\t0\t0\t0.060606060606060615\t0\t0\t0\t0\t0\t0.20401337792642135\t0\t0\t0\t0.014084507042253521\t0\t0\t0\t0\t0\t0\t0\t0\t0.1782178217821782\t0\t0\t0\t\n",
      "['n', 'tau1', 'maxari']\t0.024390243902439022\t0\t0\t0\t0\t0\t0\t0\t0.4066073697585769\t0\t0\t0\t0.027972027972027972\t0.0689655172413793\t0\t0\t0\t0\t0\t0\t0\t0.046511627906976744\t0\t0\t0\t\n",
      "['n', 'tau1', 'modularity']\t0\t0\t0\t0\t0.011695906432748537\t0.21311475409836064\t0.18181818181818182\t0.1904761904761905\t0.5066344993968637\t0\t0.04651162790697675\t0\t0.014084507042253521\t0\t0\t0.06666666666666667\t0\t0\t0\t0\t0\t0.5\t0\t0\t0\t\n",
      "['n', 'tau1', 'average_degree/n']\t0\t0\t0\t0.12903225806451613\t0.023255813953488372\t0\t0\t0\t0.2626582278481013\t0\t0\t0\t0.04137931034482758\t0\t0\t0\t0\t0\t0\t0\t0\t0\t0.04347826086956522\t0\t0\t\n",
      "['n', 'tau2', 'mu']\t0\t0.125\t0\t0.16666666666666669\t0\t0.01923076923076923\t0.18181818181818182\t0\t0.37741046831955927\t0.07692307692307693\t0.046875\t0\t0.014084507042253521\t0.0689655172413793\t0\t0.06666666666666667\t0\t0.0689655172413793\t0.25\t0.07142857142857142\t0\t0\t0\t0\t0\t\n",
      "['n', 'tau2', 'average_degree']\t0\t0\t0\t0\t0\t0\t0\t0\t0.2067796610169491\t0\t0\t0\t0\t0\t0\t0\t0\t0.0689655172413793\t0\t0\t0\t0\t0\t0\t0\t\n",
      "['n', 'tau2', 'maxari']\t0\t0\t0\t0\t0\t0\t0\t0\t0.01612903225806452\t0\t0.015873015873015872\t0\t0.014084507042253521\t0.0689655172413793\t0\t0.06666666666666667\t0\t0.0689655172413793\t0\t0\t0\t0.046511627906976744\t0\t0\t0.017699115044247787\t\n",
      "['n', 'tau2', 'modularity']\t0\t0.04347826086956522\t0\t0\t0\t0.09174311926605504\t0.18181818181818182\t0\t0.29618768328445744\t0\t0\t0\t0.027972027972027972\t0\t0\t0.06666666666666667\t0\t0\t0\t0\t0\t0.4482758620689655\t0.04347826086956522\t0\t0\t\n",
      "['n', 'tau2', 'average_degree/n']\t0\t0\t0.006920415224913495\t0\t0.011695906432748537\t0.01923076923076923\t0\t0\t0.22885572139303478\t0\t0\t0\t0\t0\t0\t0\t0\t0.0689655172413793\t0\t0\t0\t0\t0\t0\t0\t\n",
      "['n', 'mu', 'average_degree']\t0\t0\t0\t0\t0\t0.03809523809523809\t0.1739130434782609\t0.0816326530612245\t0.3058823529411765\t0\t0.046875\t0\t0.014084507042253521\t0\t0\t0\t0\t0\t0\t0\t0\t0\t0\t0\t0.051724137931034475\t\n",
      "['n', 'mu', 'maxari']\t0\t0\t0\t0\t0.011695906432748537\t0\t0.09523809523809523\t0\t0.4502487562189055\t0\t0.06201550387596899\t0\t0.027972027972027972\t0\t0\t0\t0\t0\t0\t0\t0\t0.1702127659574468\t0\t0\t0\t\n",
      "['n', 'mu', 'modularity']\t0\t0\t0\t0\t0.011695906432748537\t0.27499999999999997\t0.18181818181818182\t0\t0.47704081632653067\t0\t0.061068702290076333\t0\t0.04166666666666667\t0.0689655172413793\t0\t0\t0\t0\t0\t0\t0\t0.41509433962264153\t0\t0\t0\t\n",
      "['n', 'mu', 'average_degree/n']\t0\t0\t0\t0\t0.011695906432748537\t0.01923076923076923\t0.18181818181818182\t0\t0.324074074074074\t0.07692307692307693\t0.04651162790697675\t0\t0\t0\t0\t0\t0\t0\t0\t0.07142857142857142\t0\t0\t0.04347826086956522\t0\t0.051724137931034475\t\n",
      "['n', 'average_degree', 'maxari']\t0.024390243902439022\t0\t0\t0\t0.011695906432748537\t0\t0\t0\t0.14590747330960854\t0\t0\t0\t0\t0\t0\t0\t0\t0\t0\t0\t0\t0.0909090909090909\t0\t0\t0\t\n",
      "['n', 'average_degree', 'modularity']\t0\t0\t0\t0\t0\t0.07339449541284404\t0.18181818181818182\t0\t0.24476650563607086\t0\t0\t0\t0\t0\t0\t0.06666666666666667\t0\t0\t0\t0\t0\t0.48275862068965514\t0\t0\t0.03508771929824561\t\n",
      "['n', 'average_degree', 'average_degree/n']\t0\t0\t0.020618556701030927\t0\t0\t0\t0\t0.05357142857142857\t0.0550098231827112\t0\t0\t0\t0\t0\t0\t0\t0\t0\t0\t0\t0\t0.0272108843537415\t0\t0\t0\t\n",
      "['n', 'maxari', 'modularity']\t0\t0\t0\t0.16666666666666669\t0.011695906432748537\t0.03809523809523809\t0.18181818181818182\t0.1\t0.34513274336283184\t0\t0.04651162790697675\t0\t0.014084507042253521\t0\t0\t0\t0\t0\t0\t0\t0\t0.41509433962264153\t0\t0\t0\t\n",
      "['n', 'maxari', 'average_degree/n']\t0.024390243902439022\t0\t0\t0\t0\t0.05660377358490566\t0\t0\t0.24193548387096772\t0\t0\t0\t0\t0\t0\t0\t0\t0\t0\t0\t0\t0\t0\t0\t0\t\n",
      "['n', 'modularity', 'average_degree/n']\t0\t0\t0\t0\t0.034682080924855495\t0\t0.18181818181818182\t0\t0.3132530120481928\t0\t0\t0\t0.027972027972027972\t0\t0\t0.06666666666666667\t0\t0\t0\t0\t0\t0.46428571428571436\t0.04347826086956522\t0\t0.052173913043478265\t\n",
      "['tau1', 'tau2', 'mu']\t0\t0.04347826086956522\t0\t0\t0.023255813953488372\t0.03809523809523809\t0.09523809523809523\t0.1904761904761905\t0.429305912596401\t0\t0.031496062992125984\t0\t0.014084507042253521\t0\t0\t0.06666666666666667\t0.06060606060606061\t0.0689655172413793\t0\t0\t0\t0.046511627906976744\t0\t0\t0\t\n",
      "['tau1', 'tau2', 'average_degree']\t0\t0\t0\t0.01762114537444934\t0\t0\t0.07547169811320756\t0\t0.2347266881028939\t0\t0\t0\t0\t0\t0.01532567049808429\t0\t0\t0\t0.04255319148936171\t0\t0\t0.046511627906976744\t0\t0\t0\t\n",
      "['tau1', 'tau2', 'maxari']\t0\t0.1568627450980392\t0\t0.03875968992248062\t0\t0\t0\t0\t0.35624123422159887\t0\t0\t0\t0.014084507042253521\t0\t0\t0\t0\t0\t0\t0.07142857142857142\t0\t0.046511627906976744\t0\t0\t0\t\n",
      "['tau1', 'tau2', 'modularity']\t0\t0\t0\t0.08695652173913043\t0\t0.08695652173913043\t0.18181818181818182\t0.1904761904761905\t0.5278450363196127\t0\t0.07633587786259541\t0\t0.05517241379310345\t0\t0\t0\t0\t0\t0\t0\t0\t0.3846153846153846\t0\t0\t0\t\n",
      "['tau1', 'tau2', 'average_degree/n']\t0\t0.04347826086956522\t0\t0\t0.034682080924855495\t0.01923076923076923\t0\t0\t0.24154589371980675\t0\t0\t0\t0\t0\t0\t0\t0\t0\t0.16666666666666666\t0\t0\t0.046511627906976744\t0\t0\t0\t\n",
      "['tau1', 'mu', 'average_degree']\t0\t0\t0.017777777777777778\t0.0163265306122449\t0\t0\t0.09523809523809523\t0.1\t0.3544303797468354\t0\t0\t0\t0.014084507042253521\t0\t0\t0\t0.02247191011235955\t0\t0\t0\t0\t0\t0\t0\t0.017699115044247787\t\n",
      "['tau1', 'mu', 'maxari']\t0\t0\t0\t0.10169491525423728\t0\t0.03773584905660377\t0\t0.1\t0.5146341463414633\t0\t0.031496062992125984\t0\t0\t0\t0.050420168067226885\t0\t0\t0\t0\t0\t0\t0.046511627906976744\t0\t0\t0\t\n",
      "['tau1', 'mu', 'modularity']\t0\t0.04347826086956522\t0\t0\t0.023255813953488372\t0.30097087378640774\t0.09523809523809523\t0.1904761904761905\t0.5791855203619909\t0\t0.046875\t0\t0.04166666666666667\t0\t0\t0\t0\t0\t0\t0\t0\t0.3773584905660377\t0\t0\t0\t\n",
      "['tau1', 'mu', 'average_degree/n']\t0\t0\t0\t0\t0.023255813953488372\t0.15384615384615385\t0.09523809523809523\t0.1904761904761905\t0.41698841698841704\t0\t0.031496062992125984\t0\t0.014084507042253521\t0\t0.026785714285714288\t0\t0\t0\t0\t0\t0\t0\t0.04347826086956522\t0\t0\t\n",
      "['tau1', 'average_degree', 'maxari']\t0.024390243902439022\t0\t0\t0.0026007802340702207\t0.011695906432748537\t0.03809523809523809\t0\t0.1\t0.3796791443850267\t0\t0.015873015873015872\t0\t0.027972027972027972\t0\t0.021505376344086023\t0\t0.017391304347826087\t0\t0\t0\t0\t0\t0\t0.11764705882352941\t0\t\n",
      "['tau1', 'average_degree', 'modularity']\t0\t0\t0.028089887640449437\t0.022556390977443608\t0.011695906432748537\t0.23255813953488372\t0.18181818181818182\t0.1904761904761905\t0.511296076099881\t0\t0\t0\t0\t0\t0\t0\t0\t0\t0\t0\t0\t0.4912280701754386\t0\t0\t0.03508771929824561\t\n",
      "['tau1', 'average_degree', 'average_degree/n']\t0\t0\t0.06451612903225806\t0\t0.023255813953488372\t0\t0\t0\t0.1701388888888889\t0\t0\t0\t0.014084507042253521\t0\t0.0449438202247191\t0\t0\t0\t0.22222222222222224\t0\t0.019230769230769232\t0\t0.04347826086956522\t0\t0\t\n",
      "['tau1', 'maxari', 'modularity']\t0\t0.15999999999999998\t0\t0\t0.023121387283236997\t0.125\t0\t0.1904761904761905\t0.5766590389016018\t0\t0.04651162790697675\t0\t0.027972027972027972\t0\t0\t0\t0\t0\t0\t0\t0\t0.2857142857142857\t0.04347826086956522\t0\t0.017699115044247787\t\n",
      "['tau1', 'maxari', 'average_degree/n']\t0\t0\t0\t0\t0.023255813953488372\t0\t0\t0.1\t0.3620933521923621\t0\t0.015873015873015872\t0\t0.04166666666666667\t0\t0\t0\t0\t0\t0\t0\t0\t0\t0.0851063829787234\t0\t0\t\n",
      "['tau1', 'modularity', 'average_degree/n']\t0.024390243902439022\t0\t0\t0\t0.045454545454545456\t0.26229508196721313\t0.18181818181818182\t0.18181818181818182\t0.5675368898978433\t0\t0\t0\t0.06802721088435375\t0\t0\t0\t0\t0\t0\t0\t0\t0.3461538461538461\t0.04347826086956522\t0\t0\t\n",
      "['tau2', 'mu', 'average_degree']\t0\t0\t0.049999999999999996\t0.16666666666666669\t0\t0.01923076923076923\t0\t0\t0.31718061674008813\t0\t0.031496062992125984\t0\t0.027972027972027972\t0\t0.033149171270718224\t0\t0.5\t0.12903225806451613\t0.22222222222222224\t0\t0\t0.0625\t0\t0\t0.034782608695652174\t\n",
      "['tau2', 'mu', 'maxari']\t0\t0.0851063829787234\t0\t0.16666666666666669\t0.011695906432748537\t0.01923076923076923\t0\t0\t0.42666666666666664\t0\t0.031496062992125984\t0\t0.014084507042253521\t0\t0\t0.06666666666666667\t0\t0.0689655172413793\t0.25\t0.07142857142857142\t0\t0\t0\t0.15384615384615385\t0.017699115044247787\t\n",
      "['tau2', 'mu', 'modularity']\t0\t0.04347826086956522\t0\t0\t0\t0.03773584905660377\t0.09523809523809523\t0\t0.4993788819875776\t0.07407407407407407\t0.07692307692307693\t0\t0\t0\t0\t0\t0\t0\t0.18181818181818182\t0.027149321266968326\t0\t0.32\t0\t0\t0\t\n",
      "['tau2', 'mu', 'average_degree/n']\t0\t0\t0\t0\t0.023255813953488372\t0.11009174311926606\t0.18181818181818182\t0.08333333333333333\t0.2642089093701997\t0\t0.031496062992125984\t0\t0\t0\t0\t0\t0\t0.0689655172413793\t0.05714285714285715\t0\t0\t0\t0\t0\t0\t\n",
      "['tau2', 'average_degree', 'maxari']\t0.024096385542168672\t0.0851063829787234\t0\t0\t0\t0\t0\t0\t0.24115755627009647\t0\t0\t0\t0\t0\t0\t0\t0\t0.13333333333333333\t0\t0\t0\t0.046511627906976744\t0\t0\t0\t\n",
      "['tau2', 'average_degree', 'modularity']\t0\t0\t0\t0\t0\t0.07407407407407407\t0.09523809523809523\t0\t0.28301886792452835\t0\t0.015873015873015872\t0\t0\t0\t0\t0\t0.012820512820512822\t0.0689655172413793\t0.00784313725490196\t0\t0\t0.5396825396825397\t0\t0\t0.03508771929824561\t\n",
      "['tau2', 'average_degree', 'average_degree/n']\t0\t0\t0.039999999999999994\t0\t0\t0.01923076923076923\t0\t0\t0.26391096979332274\t0\t0\t0\t0.014084507042253521\t0\t0\t0\t0.010526315789473682\t0\t0.02941176470588235\t0\t0\t0.04545454545454545\t0\t0.15384615384615385\t0\t\n",
      "['tau2', 'maxari', 'modularity']\t0\t0.0851063829787234\t0.22222222222222224\t0\t0.023255813953488372\t0.05660377358490566\t0\t0\t0.33724340175953077\t0\t0.015873015873015872\t0\t0.014084507042253521\t0\t0\t0\t0\t0\t0\t0\t0\t0.25\t0\t0\t0\t\n",
      "['tau2', 'maxari', 'average_degree/n']\t0\t0.0851063829787234\t0\t0\t0.023121387283236997\t0.01923076923076923\t0\t0\t0.2772585669781932\t0\t0\t0\t0.014084507042253521\t0\t0\t0\t0\t0\t0\t0\t0\t0\t0.04347826086956522\t0\t0\t\n",
      "['tau2', 'modularity', 'average_degree/n']\t0\t0\t0\t0\t0.034682080924855495\t0.07339449541284404\t0.18181818181818182\t0\t0.3253012048192771\t0\t0.015873015873015872\t0\t0.014084507042253521\t0\t0\t0\t0\t0\t0\t0\t0\t0.35294117647058826\t0\t0\t0\t\n",
      "['mu', 'average_degree', 'maxari']\t0.024390243902439022\t0\t0.05714285714285715\t0\t0\t0.03773584905660377\t0\t0.02727272727272727\t0.40927694406548426\t0\t0.015748031496062992\t0\t0.014084507042253521\t0\t0\t0\t0\t0\t0\t0\t0\t0.32\t0\t0\t0.051724137931034475\t\n",
      "['mu', 'average_degree', 'modularity']\t0\t0\t0.03508771929824562\t0.003134796238244514\t0\t0.1044776119402985\t0.09523809523809523\t0\t0.47557840616966585\t0\t0.031496062992125984\t0\t0.014084507042253521\t0.0689655172413793\t0\t0\t0.013333333333333332\t0\t0.25\t0\t0\t0.4912280701754386\t0\t0\t0.051724137931034475\t\n",
      "['mu', 'average_degree', 'average_degree/n']\t0\t0\t0.02127659574468085\t0\t0.023121387283236997\t0.07339449541284404\t0\t0.15384615384615385\t0.32732732732732733\t0\t0.03125\t0\t0.014084507042253521\t0\t0.07692307692307693\t0\t0.0625\t0\t0\t0\t0\t0\t0.08333333333333334\t0\t0.017699115044247787\t\n",
      "['mu', 'maxari', 'modularity']\t0\t0\t0\t0\t0.011695906432748537\t0.01923076923076923\t0.09523809523809523\t0.1\t0.49938499384993856\t0.07692307692307693\t0.015748031496062992\t0\t0.027777777777777776\t0\t0\t0\t0\t0.0689655172413793\t0\t0.07142857142857142\t0\t0.32\t0\t0\t0\t\n",
      "['mu', 'maxari', 'average_degree/n']\t0\t0\t0.06666666666666667\t0\t0.011695906432748537\t0.030769230769230767\t0.18181818181818182\t0\t0.4728192161820481\t0\t0.015873015873015872\t0\t0\t0\t0\t0\t0\t0\t0\t0\t0\t0\t0\t0\t0.03508771929824561\t\n",
      "['mu', 'modularity', 'average_degree/n']\t0\t0\t0\t0\t0.034682080924855495\t0.3926380368098159\t0.33333333333333337\t0\t0.4950980392156863\t0\t0.046875\t0\t0.04166666666666667\t0\t0\t0\t0.16666666666666669\t0\t0\t0\t0\t0.25\t0\t0\t0\t\n",
      "['average_degree', 'maxari', 'modularity']\t0.024390243902439022\t0\t0\t0.01197604790419162\t0.011695906432748537\t0.03809523809523809\t0\t0\t0.2777777777777778\t0\t0.015873015873015872\t0\t0\t0\t0\t0\t0\t0\t0\t0\t0\t0.41509433962264153\t0\t0\t0.03508771929824561\t\n",
      "['average_degree', 'maxari', 'average_degree/n']\t0\t0\t0\t0\t0.011695906432748537\t0\t0.05128205128205128\t0\t0.21512605042016808\t0\t0\t0\t0.014084507042253521\t0\t0\t0\t0\t0\t0\t0\t0\t0\t0.04347826086956522\t0\t0\t\n",
      "['average_degree', 'modularity', 'average_degree/n']\t0\t0\t0\t0\t0.034682080924855495\t0.01923076923076923\t0.18181818181818182\t0\t0.3333333333333333\t0\t0\t0\t0\t0.0689655172413793\t0\t0\t0\t0\t0\t0\t0.025641025641025647\t0.5\t0.04347826086956522\t0\t0.03508771929824561\t\n",
      "['maxari', 'modularity', 'average_degree/n']\t0\t0\t0\t0\t0.034482758620689655\t0.2137404580152672\t0\t0\t0.39255014326647564\t0\t0.03125\t0\t0.05442176870748299\t0\t0\t0\t0\t0\t0\t0\t0\t0.2857142857142857\t0.04347826086956522\t0\t0\t\n",
      "['n', 'tau1', 'tau2', 'mu']\t0\t0.0851063829787234\t0\t0.16666666666666669\t0\t0.03809523809523809\t0.18181818181818182\t0.2727272727272727\t0.3967828418230563\t0\t0.07692307692307693\t0\t0.0945945945945946\t0.0689655172413793\t0\t0.06666666666666667\t0\t0\t0.25\t0.07142857142857142\t0.05063291139240507\t0.046511627906976744\t0\t0\t0.052173913043478265\t\n",
      "['n', 'tau1', 'tau2', 'average_degree']\t0\t0\t0.33333333333333337\t0\t0\t0.01923076923076923\t0\t0\t0.3086053412462908\t0\t0\t0\t0\t0\t0\t0\t0\t0.0689655172413793\t0\t0\t0\t0.046511627906976744\t0\t0\t0\t\n",
      "['n', 'tau1', 'tau2', 'maxari']\t0.024390243902439022\t0.125\t0\t0\t0\t0.01923076923076923\t0\t0\t0.4109589041095891\t0\t0\t0\t0.014084507042253521\t0\t0\t0\t0\t0.0689655172413793\t0\t0.07142857142857142\t0\t0.046511627906976744\t0\t0\t0.017699115044247787\t\n",
      "['n', 'tau1', 'tau2', 'modularity']\t0\t0.04347826086956522\t0\t0\t0.011695906432748537\t0.23333333333333334\t0.18181818181818182\t0.1904761904761905\t0.5152625152625153\t0\t0.031496062992125984\t0\t0.04166666666666667\t0\t0\t0.06666666666666667\t0\t0\t0.25\t0\t0\t0.5084745762711864\t0\t0\t0.017699115044247787\t\n",
      "['n', 'tau1', 'tau2', 'average_degree/n']\t0\t0\t0\t0\t0.023255813953488372\t0.01923076923076923\t0.18181818181818182\t0.1\t0.29012345679012347\t0\t0\t0\t0.014084507042253521\t0\t0\t0\t0\t0\t0\t0\t0\t0.046511627906976744\t0.04347826086956522\t0\t0.017699115044247787\t\n",
      "['n', 'tau1', 'mu', 'average_degree']\t0\t0\t0\t0\t0\t0.125\t0.1739130434782609\t0.1904761904761905\t0.37026239067055394\t0\t0.046875\t0\t0.05517241379310345\t0\t0\t0\t0\t0\t0\t0\t0\t0\t0\t0\t0.051724137931034475\t\n",
      "['n', 'tau1', 'mu', 'maxari']\t0\t0\t0\t0\t0.011695906432748537\t0.1090909090909091\t0.1739130434782609\t0.1\t0.5303593556381659\t0\t0.06201550387596899\t0\t0.027972027972027972\t0.0689655172413793\t0\t0\t0\t0\t0\t0\t0\t0.2692307692307692\t0\t0\t0.052173913043478265\t\n",
      "['n', 'tau1', 'mu', 'modularity']\t0\t0\t0\t0.16666666666666669\t0.034682080924855495\t0.30158730158730157\t0.18181818181818182\t0.1904761904761905\t0.5757225433526011\t0\t0.04651162790697675\t0\t0.0547945205479452\t0\t0\t0\t0\t0\t0\t0\t0\t0.4\t0\t0\t0.0689655172413793\t\n",
      "['n', 'tau1', 'mu', 'average_degree/n']\t0\t0\t0\t0\t0.023255813953488372\t0.09259259259259259\t0.24999999999999997\t0.1904761904761905\t0.4153005464480874\t0.07692307692307693\t0.046875\t0\t0.06849315068493152\t0\t0\t0\t0\t0\t0\t0\t0\t0\t0.04347826086956522\t0\t0.06837606837606837\t\n",
      "['n', 'tau1', 'average_degree', 'maxari']\t0.024390243902439022\t0\t0\t0\t0.011695906432748537\t0.01923076923076923\t0\t0\t0.37517241379310345\t0\t0\t0\t0.05442176870748299\t0\t0\t0\t0\t0\t0\t0\t0\t0.17391304347826084\t0\t0\t0.017699115044247787\t\n",
      "['n', 'tau1', 'average_degree', 'modularity']\t0\t0\t0\t0\t0\t0.2459016393442623\t0.18181818181818182\t0.1904761904761905\t0.5222623345367027\t0\t0.031496062992125984\t0\t0.05442176870748299\t0\t0.0045662100456621\t0.06666666666666667\t0\t0\t0\t0\t0\t0.4745762711864407\t0\t0\t0.052173913043478265\t\n",
      "['n', 'tau1', 'average_degree', 'average_degree/n']\t0\t0\t0\t0.02816901408450704\t0.023255813953488372\t0\t0\t0\t0.2689873417721519\t0\t0\t0\t0.014084507042253521\t0\t0\t0\t0\t0\t0\t0\t0\t0\t0\t0\t0\t\n",
      "['n', 'tau1', 'maxari', 'modularity']\t0\t0\t0\t0\t0.04597701149425288\t0.16071428571428573\t0.18181818181818182\t0.2727272727272727\t0.5897435897435898\t0\t0.10526315789473684\t0\t0.04137931034482758\t0\t0\t0\t0\t0\t0\t0\t0\t0.4074074074074074\t0\t0\t0\t\n",
      "['n', 'tau1', 'maxari', 'average_degree/n']\t0.024390243902439022\t0\t0\t0\t0.034682080924855495\t0.03809523809523809\t0\t0.1904761904761905\t0.4308093994778068\t0\t0\t0\t0.05442176870748299\t0\t0\t0\t0\t0\t0\t0\t0\t0.046511627906976744\t0\t0\t0\t\n",
      "['n', 'tau1', 'modularity', 'average_degree/n']\t0.024390243902439022\t0\t0\t0\t0.03428571428571428\t0.26016260162601623\t0.18181818181818182\t0.1904761904761905\t0.559423769507803\t0\t0.06201550387596899\t0\t0.06756756756756757\t0\t0\t0.06666666666666667\t0\t0\t0\t0\t0\t0.46428571428571436\t0.0851063829787234\t0\t0.052173913043478265\t\n",
      "['n', 'tau2', 'mu', 'average_degree']\t0\t0.0851063829787234\t0\t0.16666666666666669\t0\t0.07476635514018691\t0.18181818181818182\t0\t0.33620689655172414\t0\t0.031496062992125984\t0\t0.014084507042253521\t0.0689655172413793\t0\t0\t0\t0.0689655172413793\t0\t0.07142857142857142\t0\t0\t0\t0\t0.051724137931034475\t\n",
      "['n', 'tau2', 'mu', 'maxari']\t0\t0.0851063829787234\t0\t0.16666666666666669\t0.011695906432748537\t0.01923076923076923\t0.18181818181818182\t0.1\t0.4353741496598639\t0\t0.0916030534351145\t0\t0.014084507042253521\t0\t0\t0.06666666666666667\t0\t0\t0\t0.07142857142857142\t0\t0\t0\t0\t0.017699115044247787\t\n",
      "['n', 'tau2', 'mu', 'modularity']\t0\t0.12244897959183675\t0\t0\t0\t0.05660377358490566\t0.18181818181818182\t0\t0.5006321112515802\t0.07692307692307693\t0.061538461538461535\t0\t0.014084507042253521\t0.0689655172413793\t0\t0\t0\t0\t0\t0\t0.025641025641025647\t0.43636363636363634\t0.0851063829787234\t0\t0.017699115044247787\t\n",
      "['n', 'tau2', 'mu', 'average_degree/n']\t0\t0.125\t0\t0.16666666666666669\t0\t0.07476635514018691\t0.33333333333333337\t0\t0.3815028901734104\t0.07692307692307693\t0.07692307692307693\t0\t0.04166666666666667\t0.0689655172413793\t0\t0\t0\t0.0689655172413793\t0\t0.07142857142857142\t0\t0.0909090909090909\t0.04347826086956522\t0\t0.03508771929824561\t\n",
      "['n', 'tau2', 'average_degree', 'maxari']\t0.024390243902439022\t0\t0\t0.16666666666666669\t0.011695906432748537\t0.01923076923076923\t0\t0\t0.27596899224806204\t0\t0\t0\t0.027972027972027972\t0\t0\t0\t0\t0.0689655172413793\t0\t0\t0\t0.13333333333333333\t0\t0\t0.03508771929824561\t\n",
      "['n', 'tau2', 'average_degree', 'modularity']\t0.024390243902439022\t0.04347826086956522\t0\t0\t0\t0.13981762917933133\t0.18181818181818182\t0\t0.29017160686427457\t0\t0\t0\t0.04166666666666667\t0\t0\t0\t0\t0.12903225806451613\t0\t0\t0\t0.5245901639344263\t0\t0\t0.03508771929824561\t\n",
      "['n', 'tau2', 'average_degree', 'average_degree/n']\t0\t0\t0\t0\t0\t0\t0\t0\t0.24104234527687296\t0\t0\t0\t0\t0\t0\t0\t0\t0.0689655172413793\t0\t0\t0\t0.046511627906976744\t0\t0\t0\t\n",
      "['n', 'tau2', 'maxari', 'modularity']\t0\t0\t0\t0\t0.034682080924855495\t0.10810810810810811\t0.18181818181818182\t0.1\t0.34859675036927623\t0\t0.046875\t0\t0.014084507042253521\t0\t0\t0\t0\t0\t0\t0\t0\t0.4727272727272727\t0.04347826086956522\t0\t0.017699115044247787\t\n",
      "['n', 'tau2', 'maxari', 'average_degree/n']\t0.024390243902439022\t0\t0\t0.16666666666666669\t0.034682080924855495\t0.07476635514018691\t0\t0\t0.3062500000000001\t0\t0\t0\t0.014084507042253521\t0\t0\t0\t0\t0.0689655172413793\t0\t0\t0\t0.046511627906976744\t0\t0\t0.017699115044247787\t\n",
      "['n', 'tau2', 'modularity', 'average_degree/n']\t0\t0\t0\t0\t0.011695906432748537\t0.09259259259259259\t0.18181818181818182\t0\t0.3421828908554572\t0\t0.015873015873015872\t0\t0.05517241379310345\t0\t0\t0.06666666666666667\t0\t0.0689655172413793\t0\t0\t0\t0.5\t0.0851063829787234\t0\t0.052173913043478265\t\n",
      "['n', 'mu', 'average_degree', 'maxari']\t0.024390243902439022\t0\t0\t0\t0.034682080924855495\t0.09174311926605504\t0.09523809523809523\t0\t0.4573643410852713\t0\t0.061538461538461535\t0\t0.027972027972027972\t0\t0\t0\t0\t0\t0\t0\t0\t0.3137254901960784\t0\t0\t0.051724137931034475\t\n",
      "['n', 'mu', 'average_degree', 'modularity']\t0.024390243902439022\t0\t0\t0\t0\t0.12612612612612614\t0.18181818181818182\t0\t0.461139896373057\t0\t0.061538461538461535\t0\t0.05517241379310345\t0\t0\t0\t0\t0\t0\t0\t0\t0.4482758620689655\t0\t0\t0.06837606837606837\t\n",
      "['n', 'mu', 'average_degree', 'average_degree/n']\t0\t0\t0\t0\t0.011695906432748537\t0.01923076923076923\t0.18181818181818182\t0\t0.31852986217457885\t0\t0.046875\t0\t0\t0\t0\t0\t0\t0\t0.25\t0\t0\t0\t0.04347826086956522\t0\t0.051724137931034475\t\n",
      "['n', 'mu', 'maxari', 'modularity']\t0\t0\t0\t0\t0.034682080924855495\t0.07476635514018691\t0.18181818181818182\t0.1904761904761905\t0.49301143583227447\t0\t0.06201550387596899\t0\t0.08163265306122448\t0\t0\t0\t0\t0\t0\t0.07142857142857142\t0\t0.4444444444444445\t0\t0\t0.017699115044247787\t\n",
      "['n', 'mu', 'maxari', 'average_degree/n']\t0.024390243902439022\t0\t0.33333333333333337\t0\t0.023255813953488372\t0.1090909090909091\t0.09523809523809523\t0\t0.5044136191677175\t0.07692307692307693\t0.06201550387596899\t0\t0.027972027972027972\t0\t0\t0\t0\t0\t0\t0.07142857142857142\t0\t0.32\t0.04347826086956522\t0\t0.051724137931034475\t\n",
      "['n', 'mu', 'modularity', 'average_degree/n']\t0.024390243902439022\t0\t0\t0\t0.034682080924855495\t0.17391304347826086\t0.33333333333333337\t0\t0.4987341772151898\t0\t0.061538461538461535\t0\t0.08163265306122448\t0\t0\t0\t0\t0\t0\t0.07142857142857142\t0\t0.4666666666666666\t0.04347826086956522\t0\t0.0689655172413793\t\n",
      "['n', 'average_degree', 'maxari', 'modularity']\t0.024390243902439022\t0\t0\t0\t0.023255813953488372\t0.10714285714285714\t0.18181818181818182\t0.1\t0.3599419448476053\t0\t0.046875\t0\t0\t0\t0\t0\t0\t0\t0\t0\t0\t0.41509433962264153\t0\t0\t0.03508771929824561\t\n",
      "['n', 'average_degree', 'maxari', 'average_degree/n']\t0.024390243902439022\t0\t0\t0\t0.023255813953488372\t0.05660377358490566\t0\t0\t0.2173913043478261\t0\t0\t0\t0\t0\t0\t0\t0\t0\t0\t0\t0\t0\t0\t0\t0\t\n",
      "['n', 'average_degree', 'modularity', 'average_degree/n']\t0\t0\t0\t0\t0.034682080924855495\t0.07272727272727272\t0.18181818181818182\t0\t0.29923664122137406\t0\t0.015873015873015872\t0\t0\t0\t0\t0.06666666666666667\t0\t0\t0\t0\t0\t0.4745762711864407\t0.04347826086956522\t0\t0.03508771929824561\t\n",
      "['n', 'maxari', 'modularity', 'average_degree/n']\t0.024390243902439022\t0\t0\t0\t0.011695906432748537\t0.17094017094017094\t0.18181818181818182\t0.1\t0.38135593220338976\t0\t0.09090909090909091\t0\t0\t0\t0\t0\t0\t0\t0\t0\t0\t0.37037037037037035\t0\t0\t0.03508771929824561\t\n",
      "['tau1', 'tau2', 'mu', 'average_degree']\t0\t0\t0\t0\t0\t0.01923076923076923\t0.09523809523809523\t0.1\t0.37068965517241387\t0\t0.031496062992125984\t0\t0.04166666666666667\t0\t0.039999999999999994\t0\t0\t0\t0\t0\t0\t0\t0\t0\t0.034782608695652174\t\n",
      "['tau1', 'tau2', 'mu', 'maxari']\t0\t0.125\t0\t0\t0\t0.05660377358490566\t0\t0.1904761904761905\t0.5131414267834794\t0\t0.031496062992125984\t0\t0.027972027972027972\t0\t0\t0.06666666666666667\t0.020408163265306124\t0.0689655172413793\t0.25\t0.07142857142857142\t0\t0\t0\t0\t0.017699115044247787\t\n",
      "['tau1', 'tau2', 'mu', 'modularity']\t0\t0\t0\t0\t0.023255813953488372\t0.18604651162790697\t0.09523809523809523\t0.1904761904761905\t0.5929304446978335\t0\t0.06201550387596899\t0\t0.014084507042253521\t0.0689655172413793\t0\t0\t0\t0\t0\t0\t0\t0.3846153846153846\t0\t0\t0\t\n",
      "['tau1', 'tau2', 'mu', 'average_degree/n']\t0\t0\t0\t0\t0.023255813953488372\t0.09090909090909091\t0.18181818181818182\t0.1904761904761905\t0.4394141145139813\t0\t0.06201550387596899\t0\t0.027972027972027972\t0\t0\t0\t0\t0\t0\t0\t0\t0\t0\t0\t0\t\n",
      "['tau1', 'tau2', 'average_degree', 'maxari']\t0\t0.0851063829787234\t0\t0\t0.023255813953488372\t0\t0\t0\t0.4022038567493113\t0\t0\t0\t0.027972027972027972\t0\t0\t0\t0\t0.13333333333333333\t0\t0\t0\t0.0909090909090909\t0\t0\t0.051724137931034475\t\n",
      "['tau1', 'tau2', 'average_degree', 'modularity']\t0.048192771084337345\t0.04347826086956522\t0.05555555555555556\t0\t0.011695906432748537\t0.23999999999999996\t0.18181818181818182\t0.1904761904761905\t0.5112781954887219\t0\t0.015873015873015872\t0\t0.027972027972027972\t0.0689655172413793\t0.05714285714285715\t0\t0\t0.0689655172413793\t0\t0\t0\t0.5423728813559321\t0\t0\t0.03508771929824561\t\n",
      "['tau1', 'tau2', 'average_degree', 'average_degree/n']\t0\t0\t0.1818181818181818\t0\t0.011695906432748537\t0.01923076923076923\t0.09523809523809523\t0\t0.32753623188405795\t0\t0\t0\t0.014084507042253521\t0\t0\t0\t0\t0\t0\t0\t0\t0.046511627906976744\t0\t0\t0.017699115044247787\t\n",
      "['tau1', 'tau2', 'maxari', 'modularity']\t0\t0.1568627450980392\t0\t0\t0.023255813953488372\t0.12612612612612614\t0\t0.1904761904761905\t0.5950991831971995\t0\t0.04615384615384615\t0\t0.05517241379310345\t0\t0\t0.06666666666666667\t0\t0\t0\t0\t0\t0.3461538461538461\t0\t0\t0\t\n",
      "['tau1', 'tau2', 'maxari', 'average_degree/n']\t0\t0.12244897959183675\t0\t0\t0.045714285714285714\t0.01923076923076923\t0\t0\t0.3771428571428571\t0\t0.046875\t0\t0.027972027972027972\t0\t0\t0\t0\t0\t0\t0\t0\t0.046511627906976744\t0\t0\t0\t\n",
      "['tau1', 'tau2', 'modularity', 'average_degree/n']\t0\t0.0851063829787234\t0\t0\t0.034482758620689655\t0.33082706766917286\t0.18181818181818182\t0.1904761904761905\t0.5629453681710214\t0\t0.07575757575757576\t0\t0.05517241379310345\t0\t0\t0\t0\t0\t0\t0\t0\t0.35294117647058826\t0\t0\t0\t\n",
      "['tau1', 'mu', 'average_degree', 'maxari']\t0.024390243902439022\t0\t0\t0\t0.011695906432748537\t0.09174311926605504\t0.09523809523809523\t0.1\t0.5278450363196127\t0\t0\t0\t0.04166666666666667\t0\t0\t0\t0\t0\t0\t0\t0\t0.2857142857142857\t0\t0\t0.051724137931034475\t\n",
      "['tau1', 'mu', 'average_degree', 'modularity']\t0\t0\t0.015936254980079684\t0\t0.02298850574712644\t0.15929203539823011\t0.18181818181818182\t0.1904761904761905\t0.5855855855855856\t0\t0.04651162790697675\t0\t0.05517241379310345\t0\t0\t0\t0\t0\t0\t0\t0\t0.45614035087719296\t0\t0\t0.052173913043478265\t\n",
      "['tau1', 'mu', 'average_degree', 'average_degree/n']\t0\t0\t0\t0\t0.023255813953488372\t0.11009174311926606\t0.09523809523809523\t0.1904761904761905\t0.41032608695652173\t0\t0.031496062992125984\t0\t0.027972027972027972\t0\t0\t0\t0\t0\t0.054794520547945216\t0\t0\t0\t0.04347826086956522\t0\t0.017699115044247787\t\n",
      "['tau1', 'mu', 'maxari', 'modularity']\t0\t0.04347826086956522\t0.0425531914893617\t0\t0.045714285714285714\t0.1415929203539823\t0.09523809523809523\t0.1904761904761905\t0.6093928980526918\t0.07692307692307693\t0.061538461538461535\t0\t0.0945945945945946\t0\t0\t0\t0\t0\t0\t0.07142857142857142\t0.025641025641025647\t0.32\t0\t0\t0\t\n",
      "['tau1', 'mu', 'maxari', 'average_degree/n']\t0\t0\t0\t0\t0.034482758620689655\t0.1512605042016807\t0.09523809523809523\t0.1904761904761905\t0.5670945157526254\t0.07692307692307693\t0.046875\t0\t0.08108108108108109\t0\t0\t0\t0\t0\t0\t0.07142857142857142\t0\t0\t0.125\t0\t0.017699115044247787\t\n",
      "['tau1', 'mu', 'modularity', 'average_degree/n']\t0\t0\t0\t0\t0.023255813953488372\t0.37410071942446044\t0.18181818181818182\t0.1904761904761905\t0.6027397260273972\t0\t0.015873015873015872\t0\t0.10738255033557045\t0\t0\t0\t0\t0\t0\t0\t0\t0.35294117647058826\t0.04347826086956522\t0\t0\t\n",
      "['tau1', 'average_degree', 'maxari', 'modularity']\t0.024390243902439022\t0.12244897959183675\t0.03076923076923077\t0\t0.034682080924855495\t0.3673469387755102\t0.09523809523809523\t0.1904761904761905\t0.5910112359550561\t0\t0.03125\t0\t0.027972027972027972\t0\t0\t0\t0\t0\t0\t0\t0.025641025641025647\t0.41509433962264153\t0.04347826086956522\t0\t0.052173913043478265\t\n",
      "['tau1', 'average_degree', 'maxari', 'average_degree/n']\t0\t0\t0\t0\t0.023255813953488372\t0.03809523809523809\t0\t0.1\t0.399452804377565\t0\t0\t0\t0.04166666666666667\t0\t0\t0\t0\t0\t0.016194331983805665\t0\t0\t0.046511627906976744\t0\t0\t0\t\n",
      "['tau1', 'average_degree', 'modularity', 'average_degree/n']\t0\t0\t0.052631578947368425\t0\t0.023255813953488372\t0.38216560509554137\t0.18181818181818182\t0.1904761904761905\t0.558472553699284\t0\t0\t0\t0.0547945205479452\t0.0689655172413793\t0\t0\t0\t0\t0\t0\t0\t0.5084745762711864\t0.04347826086956522\t0\t0.017699115044247787\t\n",
      "['tau1', 'maxari', 'modularity', 'average_degree/n']\t0\t0\t0\t0.14285714285714285\t0.05714285714285715\t0.26016260162601623\t0.09523809523809523\t0.1904761904761905\t0.6009174311926605\t0\t0.04651162790697675\t0\t0.11842105263157894\t0\t0.33333333333333337\t0\t0\t0\t0\t0\t0\t0.35294117647058826\t0.125\t0\t0.017699115044247787\t\n",
      "['tau2', 'mu', 'average_degree', 'maxari']\t0.024390243902439022\t0.0851063829787234\t0\t0\t0.011695906432748537\t0.01923076923076923\t0\t0\t0.4257028112449799\t0\t0.031496062992125984\t0\t0.014084507042253521\t0\t0\t0.06666666666666667\t0\t0.0689655172413793\t0\t0.07142857142857142\t0\t0.3773584905660377\t0\t0\t0.051724137931034475\t\n",
      "['tau2', 'mu', 'average_degree', 'modularity']\t0\t0.0851063829787234\t0\t0.14285714285714288\t0.011695906432748537\t0.05660377358490566\t0.09523809523809523\t0\t0.46858638743455494\t0\t0.07692307692307693\t0\t0.05517241379310345\t0\t0\t0\t0\t0.12903225806451613\t0.22222222222222224\t0\t0\t0.5172413793103449\t0\t0\t0.051724137931034475\t\n",
      "['tau2', 'mu', 'average_degree', 'average_degree/n']\t0\t0\t0.028571428571428574\t0\t0\t0.05660377358490566\t0.18181818181818182\t0\t0.3649425287356322\t0\t0.031496062992125984\t0\t0.014084507042253521\t0\t0\t0\t0.6666666666666666\t0\t0\t0\t0\t0.0909090909090909\t0.04347826086956522\t0\t0.034782608695652174\t\n",
      "['tau2', 'mu', 'maxari', 'modularity']\t0\t0.0851063829787234\t0\t0\t0.011695906432748537\t0.14285714285714285\t0\t0.1904761904761905\t0.526071842410197\t0.07692307692307693\t0.015873015873015872\t0\t0.027972027972027972\t0\t0\t0.06666666666666667\t0\t0.0689655172413793\t0\t0.07142857142857142\t0.025641025641025647\t0.32\t0\t0\t0.017699115044247787\t\n",
      "['tau2', 'mu', 'maxari', 'average_degree/n']\t0\t0.0851063829787234\t0\t0\t0.034482758620689655\t0.01923076923076923\t0.18181818181818182\t0\t0.4773869346733668\t0.07692307692307693\t0.031496062992125984\t0\t0.014084507042253521\t0\t0\t0.06666666666666667\t0\t0.0689655172413793\t0\t0.07142857142857142\t0\t0\t0\t0\t0\t\n",
      "['tau2', 'mu', 'modularity', 'average_degree/n']\t0\t0\t0.28571428571428575\t0\t0.034682080924855495\t0.18965517241379312\t0.09523809523809523\t0\t0.5129469790382245\t0\t0.07692307692307693\t0\t0.0547945205479452\t0\t0\t0.06666666666666667\t0\t0\t0\t0\t0\t0.2857142857142857\t0\t0\t0\t\n",
      "['tau2', 'average_degree', 'maxari', 'modularity']\t0.024390243902439022\t0.0851063829787234\t0\t0\t0.034682080924855495\t0.07476635514018691\t0.09523809523809523\t0\t0.36310395314787697\t0\t0.015873015873015872\t0\t0.027972027972027972\t0\t0\t0.06666666666666667\t0\t0.13333333333333333\t0\t0\t0\t0.41509433962264153\t0\t0\t0.03508771929824561\t\n",
      "['tau2', 'average_degree', 'maxari', 'average_degree/n']\t0.024390243902439022\t0\t0\t0\t0.023255813953488372\t0\t0\t0\t0.296998420221169\t0\t0\t0\t0\t0\t0\t0\t0\t0.0689655172413793\t0.25\t0\t0\t0.046511627906976744\t0\t0\t0\t\n",
      "['tau2', 'average_degree', 'modularity', 'average_degree/n']\t0\t0\t0\t0\t0\t0.09090909090909091\t0.18181818181818182\t0\t0.3434343434343434\t0\t0.015873015873015872\t0\t0.027972027972027972\t0\t0\t0\t0\t0\t0\t0\t0\t0.4745762711864407\t0.04347826086956522\t0\t0.03508771929824561\t\n",
      "['tau2', 'maxari', 'modularity', 'average_degree/n']\t0\t0.0851063829787234\t0\t0\t0.034482758620689655\t0.09090909090909091\t0\t0\t0.40168539325842695\t0\t0.031496062992125984\t0\t0.013986013986013986\t0\t0\t0\t0\t0\t0\t0\t0\t0.2857142857142857\t0.0851063829787234\t0\t0\t\n",
      "['mu', 'average_degree', 'maxari', 'modularity']\t0.024390243902439022\t0\t0\t0\t0.034682080924855495\t0.09174311926605504\t0.09523809523809523\t0.1\t0.5063291139240507\t0.07692307692307693\t0.031007751937984496\t0\t0.027972027972027972\t0\t0\t0\t0\t0\t0\t0.07142857142857142\t0.025641025641025647\t0.41509433962264153\t0\t0\t0.051724137931034475\t\n",
      "['mu', 'average_degree', 'maxari', 'average_degree/n']\t0.024390243902439022\t0\t0.005242463958060288\t0\t0\t0.15384615384615383\t0.18181818181818182\t0\t0.48362720403022663\t0\t0\t0\t0.014084507042253521\t0\t0\t0\t0\t0\t0\t0\t0\t0.17391304347826084\t0.04347826086956522\t0\t0.051724137931034475\t\n",
      "['mu', 'average_degree', 'modularity', 'average_degree/n']\t0.024390243902439022\t0\t0\t0\t0.034682080924855495\t0.296875\t0.33333333333333337\t0\t0.49180327868852464\t0\t0.046875\t0\t0.014084507042253521\t0.0689655172413793\t0\t0\t0.6666666666666666\t0\t0.052631578947368425\t0\t0\t0.4210526315789473\t0.04347826086956522\t0\t0.03508771929824561\t\n",
      "['mu', 'maxari', 'modularity', 'average_degree/n']\t0\t0\t0\t0\t0.09999999999999999\t0.39999999999999997\t0.18181818181818182\t0.1\t0.533816425120773\t0.07692307692307693\t0.061068702290076333\t0\t0.10666666666666667\t0\t0\t0\t0\t0.0689655172413793\t0\t0.07142857142857142\t0.05063291139240507\t0.32\t0.0851063829787234\t0\t0\t\n",
      "['average_degree', 'maxari', 'modularity', 'average_degree/n']\t0.024390243902439022\t0\t0\t0\t0.011695906432748537\t0.36601307189542487\t0\t0\t0.3938973647711511\t0\t0.015873015873015872\t0\t0\t0\t0.019047619047619046\t0\t0\t0\t0\t0\t0.025641025641025647\t0.41509433962264153\t0\t0\t0.03508771929824561\t\n",
      "['n', 'tau1', 'tau2', 'mu', 'average_degree']\t0\t0.04347826086956522\t0\t0.16666666666666669\t0\t0.17543859649122806\t0.18181818181818182\t0\t0.40113798008534857\t0\t0.031496062992125984\t0\t0.027972027972027972\t0\t0\t0\t0\t0\t0.25\t0\t0\t0.046511627906976744\t0\t0\t0.051724137931034475\t\n",
      "['n', 'tau1', 'tau2', 'mu', 'maxari']\t0\t0.0851063829787234\t0.5714285714285715\t0.16666666666666669\t0.011695906432748537\t0.07476635514018691\t0.09523809523809523\t0\t0.5588235294117646\t0\t0.07692307692307693\t0\t0.05517241379310345\t0.0689655172413793\t0\t0.06666666666666667\t0\t0\t0.25\t0.07142857142857142\t0.05063291139240507\t0.24\t0\t0\t0.03508771929824561\t\n",
      "['n', 'tau1', 'tau2', 'mu', 'modularity']\t0\t0.0851063829787234\t0\t0.16666666666666669\t0.023255813953488372\t0.15789473684210528\t0.18181818181818182\t0.1904761904761905\t0.584795321637427\t0\t0.07633587786259541\t0\t0.08163265306122448\t0.0689655172413793\t0\t0\t0\t0.0689655172413793\t0.4444444444444445\t0.07142857142857142\t0.05063291139240507\t0.45614035087719296\t0\t0\t0.08547008547008547\t\n",
      "['n', 'tau1', 'tau2', 'mu', 'average_degree/n']\t0\t0.0851063829787234\t0\t0.16666666666666669\t0.023255813953488372\t0.12612612612612614\t0.33333333333333337\t0.1904761904761905\t0.45212765957446804\t0\t0.07692307692307693\t0\t0.027972027972027972\t0.0689655172413793\t0\t0.06666666666666667\t0\t0\t0\t0\t0\t0.17391304347826084\t0.04347826086956522\t0\t0.051724137931034475\t\n",
      "['n', 'tau1', 'tau2', 'average_degree', 'maxari']\t0.024390243902439022\t0.0851063829787234\t0\t0\t0.011695906432748537\t0.01923076923076923\t0\t0\t0.39889196675900274\t0\t0\t0\t0.0547945205479452\t0\t0\t0\t0\t0.0689655172413793\t0\t0\t0\t0.046511627906976744\t0\t0\t0.0689655172413793\t\n",
      "['n', 'tau1', 'tau2', 'average_degree', 'modularity']\t0.024390243902439022\t0.04347826086956522\t0\t0\t0\t0.23140495867768593\t0.18181818181818182\t0.1904761904761905\t0.528061224489796\t0\t0.015873015873015872\t0\t0.04166666666666667\t0\t0\t0.06666666666666667\t0\t0.0689655172413793\t0.25\t0\t0\t0.4912280701754386\t0\t0\t0.0689655172413793\t\n",
      "['n', 'tau1', 'tau2', 'average_degree', 'average_degree/n']\t0\t0\t0\t0\t0.023255813953488372\t0.01923076923076923\t0.09523809523809523\t0.1\t0.2909090909090909\t0\t0\t0\t0.014084507042253521\t0\t0\t0\t0\t0.0689655172413793\t0\t0\t0\t0.13333333333333333\t0\t0\t0\t\n",
      "['n', 'tau1', 'tau2', 'maxari', 'modularity']\t0\t0.125\t0\t0\t0.034682080924855495\t0.1565217391304348\t0.18181818181818182\t0.1904761904761905\t0.6254295532646048\t0\t0.07692307692307693\t0\t0.04137931034482758\t0\t0\t0.06666666666666667\t0\t0\t0\t0\t0\t0.4074074074074074\t0\t0\t0\t\n",
      "['n', 'tau1', 'tau2', 'maxari', 'average_degree/n']\t0.024390243902439022\t0.125\t0\t0\t0.034682080924855495\t0.09259259259259259\t0.09523809523809523\t0.1904761904761905\t0.42721088435374155\t0\t0\t0\t0.04166666666666667\t0\t0\t0\t0\t0\t0\t0.07142857142857142\t0\t0.046511627906976744\t0\t0\t0.03508771929824561\t\n",
      "['n', 'tau1', 'tau2', 'modularity', 'average_degree/n']\t0\t0.04347826086956522\t0\t0\t0.023255813953488372\t0.2764227642276423\t0.18181818181818182\t0.1904761904761905\t0.5544554455445544\t0\t0.031496062992125984\t0\t0.0547945205479452\t0\t0\t0.06666666666666667\t0\t0\t0.25\t0\t0\t0.5172413793103449\t0.163265306122449\t0\t0.0689655172413793\t\n",
      "['n', 'tau1', 'mu', 'average_degree', 'maxari']\t0.024390243902439022\t0\t0\t0\t0.023255813953488372\t0.07407407407407407\t0.09523809523809523\t0.1\t0.5181476846057571\t0\t0.061538461538461535\t0\t0.05517241379310345\t0\t0\t0\t0\t0\t0\t0.07142857142857142\t0\t0.33962264150943394\t0\t0\t0.051724137931034475\t\n",
      "['n', 'tau1', 'mu', 'average_degree', 'modularity']\t0.024390243902439022\t0\t0\t0\t0\t0.23140495867768593\t0.18181818181818182\t0.1904761904761905\t0.5807962529274003\t0\t0.07633587786259541\t0\t0.06802721088435375\t0.0689655172413793\t0\t0\t0\t0\t0\t0.07142857142857142\t0\t0.43636363636363634\t0\t0\t0.051724137931034475\t\n",
      "['n', 'tau1', 'mu', 'average_degree', 'average_degree/n']\t0\t0\t0\t0\t0.023255813953488372\t0.07476635514018691\t0.24999999999999997\t0.1904761904761905\t0.42587601078167114\t0\t0.046875\t0\t0.027972027972027972\t0\t0\t0\t0\t0\t0\t0\t0\t0\t0.04347826086956522\t0\t0.051724137931034475\t\n",
      "['n', 'tau1', 'mu', 'maxari', 'modularity']\t0\t0.04347826086956522\t0\t0\t0.04597701149425288\t0.15929203539823011\t0.18181818181818182\t0.2727272727272727\t0.608092485549133\t0.07692307692307693\t0.09022556390977444\t0\t0.0547945205479452\t0\t0\t0\t0\t0\t0\t0.07142857142857142\t0.025641025641025647\t0.41509433962264153\t0\t0\t0.03508771929824561\t\n",
      "['n', 'tau1', 'mu', 'maxari', 'average_degree/n']\t0.024390243902439022\t0\t0\t0\t0.04597701149425288\t0.15517241379310348\t0.09523809523809523\t0.1904761904761905\t0.5755053507728893\t0.07692307692307693\t0.07633587786259541\t0\t0.06756756756756757\t0\t0\t0\t0\t0\t0\t0.07142857142857142\t0\t0.32\t0.125\t0\t0.051724137931034475\t\n",
      "['n', 'tau1', 'mu', 'modularity', 'average_degree/n']\t0\t0\t0\t0\t0.034682080924855495\t0.29530201342281875\t0.2608695652173913\t0.1904761904761905\t0.5897435897435898\t0\t0.07575757575757576\t0\t0.12987012987012989\t0\t0\t0\t0\t0\t0\t0.07142857142857142\t0\t0.4912280701754386\t0.125\t0\t0.052173913043478265\t\n",
      "['n', 'tau1', 'average_degree', 'maxari', 'modularity']\t0.024390243902439022\t0\t0\t0\t0.023255813953488372\t0.21666666666666667\t0.18181818181818182\t0.2727272727272727\t0.6030267753201397\t0\t0.09090909090909091\t0\t0.04137931034482758\t0\t0\t0\t0\t0\t0\t0\t0\t0.4074074074074074\t0\t0\t0.052173913043478265\t\n",
      "['n', 'tau1', 'average_degree', 'maxari', 'average_degree/n']\t0.024390243902439022\t0\t0\t0\t0.04597701149425288\t0.03809523809523809\t0\t0.1904761904761905\t0.4167794316644114\t0\t0\t0\t0.06756756756756757\t0\t0\t0\t0\t0\t0\t0\t0\t0.046511627906976744\t0.04347826086956522\t0\t0\t\n",
      "['n', 'tau1', 'average_degree', 'modularity', 'average_degree/n']\t0\t0\t0\t0\t0.03428571428571428\t0.2741935483870968\t0.18181818181818182\t0.1904761904761905\t0.5288461538461539\t0\t0.031496062992125984\t0\t0.04137931034482758\t0\t0\t0\t0\t0\t0\t0\t0\t0.46428571428571436\t0.0851063829787234\t0\t0.03508771929824561\t\n",
      "['n', 'tau1', 'maxari', 'modularity', 'average_degree/n']\t0.024390243902439022\t0\t0\t0\t0.05714285714285715\t0.2\t0.18181818181818182\t0.2727272727272727\t0.6197502837684449\t0\t0.10526315789473684\t0\t0.04081632653061224\t0\t0\t0\t0\t0\t0\t0\t0\t0.3773584905660377\t0.0851063829787234\t0\t0.03508771929824561\t\n",
      "['n', 'tau2', 'mu', 'average_degree', 'maxari']\t0.024390243902439022\t0.04347826086956522\t0\t0\t0.011695906432748537\t0.12727272727272726\t0.18181818181818182\t0\t0.46666666666666673\t0\t0.031496062992125984\t0\t0.014084507042253521\t0\t0\t0\t0\t0\t0\t0.07142857142857142\t0\t0.3846153846153846\t0\t0\t0.051724137931034475\t\n",
      "['n', 'tau2', 'mu', 'average_degree', 'modularity']\t0\t0.0851063829787234\t0\t0\t0.023255813953488372\t0.14285714285714285\t0.18181818181818182\t0\t0.4763157894736843\t0\t0.061538461538461535\t0\t0.08163265306122448\t0\t0\t0\t0\t0.0689655172413793\t0.25\t0\t0\t0.5245901639344263\t0\t0\t0.051724137931034475\t\n",
      "['n', 'tau2', 'mu', 'average_degree', 'average_degree/n']\t0\t0.0851063829787234\t0\t0.16666666666666669\t0\t0.05660377358490566\t0.09523809523809523\t0\t0.37047756874095517\t0\t0.015873015873015872\t0\t0.014084507042253521\t0.0689655172413793\t0\t0\t0\t0\t0\t0.07142857142857142\t0\t0.13333333333333333\t0.04347826086956522\t0\t0.051724137931034475\t\n",
      "['n', 'tau2', 'mu', 'maxari', 'modularity']\t0\t0.12244897959183675\t0\t0\t0.04597701149425288\t0.12727272727272726\t0.18181818181818182\t0.2727272727272727\t0.5169385194479297\t0\t0.07692307692307693\t0\t0.10738255033557045\t0\t0\t0.06666666666666667\t0\t0\t0\t0.07142857142857142\t0\t0.4727272727272727\t0\t0\t0\t\n",
      "['n', 'tau2', 'mu', 'maxari', 'average_degree/n']\t0.024390243902439022\t0.0851063829787234\t0\t0\t0.023255813953488372\t0.2809917355371901\t0.2608695652173913\t0\t0.506900878293601\t0.07692307692307693\t0.0916030534351145\t0\t0.04166666666666667\t0\t0\t0.06666666666666667\t0\t0\t0\t0.07142857142857142\t0\t0.32\t0.125\t0\t0.051724137931034475\t\n",
      "['n', 'tau2', 'mu', 'modularity', 'average_degree/n']\t0\t0.12244897959183675\t0\t0\t0.011695906432748537\t0.12727272727272726\t0.2608695652173913\t0\t0.5181476846057571\t0\t0.07633587786259541\t0\t0.05517241379310345\t0.0689655172413793\t0\t0\t0\t0\t0.25\t0.07142857142857142\t0\t0.46428571428571436\t0.04347826086956522\t0\t0.052173913043478265\t\n",
      "['n', 'tau2', 'average_degree', 'maxari', 'modularity']\t0.024390243902439022\t0\t0\t0\t0.04597701149425288\t0.18803418803418803\t0.18181818181818182\t0\t0.3873744619799139\t0\t0.046875\t0\t0\t0\t0\t0\t0\t0\t0\t0\t0\t0.45614035087719296\t0\t0\t0.03508771929824561\t\n",
      "['n', 'tau2', 'average_degree', 'maxari', 'average_degree/n']\t0.024390243902439022\t0\t0\t0\t0.023255813953488372\t0.01923076923076923\t0\t0\t0.3386396526772793\t0\t0\t0\t0\t0\t0\t0\t0\t0.0689655172413793\t0\t0\t0\t0.046511627906976744\t0\t0\t0\t\n",
      "['n', 'tau2', 'average_degree', 'modularity', 'average_degree/n']\t0.024390243902439022\t0\t0\t0.16666666666666669\t0.011695906432748537\t0.09174311926605504\t0.18181818181818182\t0\t0.33183856502242154\t0\t0\t0\t0\t0\t0\t0.06666666666666667\t0\t0.0689655172413793\t0\t0\t0\t0.4482758620689655\t0.04347826086956522\t0\t0.03508771929824561\t\n",
      "['n', 'tau2', 'maxari', 'modularity', 'average_degree/n']\t0.024390243902439022\t0.04347826086956522\t0\t0\t0.04597701149425288\t0.22764227642276424\t0.09523809523809523\t0\t0.4255910987482615\t0\t0.07633587786259541\t0\t0\t0\t0\t0\t0\t0\t0\t0\t0\t0.4\t0.0851063829787234\t0\t0\t\n",
      "['n', 'mu', 'average_degree', 'maxari', 'modularity']\t0.024390243902439022\t0\t0\t0\t0.023255813953488372\t0.14285714285714285\t0.18181818181818182\t0.1904761904761905\t0.5137844611528822\t0\t0.06201550387596899\t0\t0.10738255033557045\t0\t0\t0.06666666666666667\t0\t0\t0\t0.07142857142857142\t0\t0.41509433962264153\t0\t0\t0.051724137931034475\t\n",
      "['n', 'mu', 'average_degree', 'maxari', 'average_degree/n']\t0.024390243902439022\t0\t0\t0\t0\t0.09174311926605504\t0.18181818181818182\t0\t0.4910941475826972\t0.07692307692307693\t0.061538461538461535\t0\t0.014084507042253521\t0\t0\t0\t0\t0\t0\t0.07142857142857142\t0\t0.32\t0.04347826086956522\t0\t0.051724137931034475\t\n",
      "['n', 'mu', 'average_degree', 'modularity', 'average_degree/n']\t0.024390243902439022\t0\t0\t0\t0.034682080924855495\t0.15789473684210528\t0.18181818181818182\t0.1\t0.48717948717948717\t0\t0.061538461538461535\t0\t0.04166666666666667\t0\t0\t0\t0\t0\t0\t0\t0\t0.4074074074074074\t0.04347826086956522\t0\t0.052173913043478265\t\n",
      "['n', 'mu', 'maxari', 'modularity', 'average_degree/n']\t0.024390243902439022\t0\t0.33333333333333337\t0\t0.0790960451977401\t0.21487603305785125\t0.18181818181818182\t0.1904761904761905\t0.5315203955500618\t0\t0.09022556390977444\t0\t0.0945945945945946\t0\t0\t0\t0\t0\t0\t0.07142857142857142\t0\t0.39285714285714285\t0.04347826086956522\t0\t0.052173913043478265\t\n",
      "['n', 'average_degree', 'maxari', 'modularity', 'average_degree/n']\t0.024390243902439022\t0\t0\t0\t0.011695906432748537\t0.3134328358208955\t0.18181818181818182\t0.1\t0.33923303834808255\t0\t0.06201550387596899\t0\t0\t0\t0\t0\t0\t0\t0\t0\t0.025641025641025647\t0.3773584905660377\t0\t0\t0.03508771929824561\t\n",
      "['tau1', 'tau2', 'mu', 'average_degree', 'maxari']\t0.024390243902439022\t0.0851063829787234\t0\t0\t0.011695906432748537\t0.07476635514018691\t0\t0.1\t0.5441176470588235\t0\t0.046875\t0\t0.06849315068493152\t0\t0\t0.06666666666666667\t0\t0.0689655172413793\t0\t0.07142857142857142\t0\t0.35294117647058826\t0\t0\t0.051724137931034475\t\n",
      "['tau1', 'tau2', 'mu', 'average_degree', 'modularity']\t0.024390243902439022\t0.0851063829787234\t0\t0\t0.023255813953488372\t0.12727272727272726\t0.18181818181818182\t0.1904761904761905\t0.581986143187067\t0\t0.06201550387596899\t0\t0.06849315068493152\t0\t0\t0\t0\t0.0689655172413793\t0.22222222222222224\t0\t0\t0.5172413793103449\t0\t0\t0.052173913043478265\t\n",
      "['tau1', 'tau2', 'mu', 'average_degree', 'average_degree/n']\t0\t0\t0.06666666666666667\t0\t0.023255813953488372\t0.1724137931034483\t0.18181818181818182\t0.1904761904761905\t0.4534731323722149\t0\t0.031496062992125984\t0\t0.027972027972027972\t0\t0.0909090909090909\t0\t0\t0\t0\t0\t0\t0.13333333333333333\t0.04347826086956522\t0\t0.034782608695652174\t\n",
      "['tau1', 'tau2', 'mu', 'maxari', 'modularity']\t0\t0.15999999999999998\t0\t0\t0.034682080924855495\t0.2184873949579832\t0\t0.1904761904761905\t0.6434195725534309\t0.07692307692307693\t0.09022556390977444\t0\t0.06849315068493152\t0\t0\t0.06666666666666667\t0\t0.0689655172413793\t0\t0.07142857142857142\t0.025641025641025647\t0.35294117647058826\t0\t0\t0\t\n",
      "['tau1', 'tau2', 'mu', 'maxari', 'average_degree/n']\t0\t0.125\t0\t0\t0.056818181818181816\t0.11009174311926606\t0.18181818181818182\t0.1\t0.5781990521327014\t0.07692307692307693\t0.07633587786259541\t0\t0.05517241379310345\t0\t0\t0\t0\t0\t0\t0.07142857142857142\t0\t0.0909090909090909\t0.125\t0\t0.052173913043478265\t\n",
      "['tau1', 'tau2', 'mu', 'modularity', 'average_degree/n']\t0\t0\t0\t0\t0.03428571428571428\t0.3513513513513513\t0.09523809523809523\t0.1904761904761905\t0.6094808126410836\t0\t0.07692307692307693\t0\t0.0945945945945946\t0\t0\t0.06666666666666667\t0\t0\t0\t0\t0\t0.32\t0\t0\t0.017699115044247787\t\n",
      "['tau1', 'tau2', 'average_degree', 'maxari', 'modularity']\t0.024096385542168672\t0.12244897959183675\t0\t0\t0.05714285714285715\t0.20689655172413796\t0.09523809523809523\t0.1904761904761905\t0.6022988505747128\t0\t0.031496062992125984\t0\t0.04166666666666667\t0\t0\t0.06666666666666667\t0\t0.0689655172413793\t0\t0\t0\t0.41509433962264153\t0\t0\t0.052173913043478265\t\n",
      "['tau1', 'tau2', 'average_degree', 'maxari', 'average_degree/n']\t0.024390243902439022\t0.0851063829787234\t0\t0\t0.056818181818181816\t0.01923076923076923\t0\t0\t0.39889196675900274\t0\t0\t0\t0.014084507042253521\t0\t0\t0\t0\t0.0689655172413793\t0\t0\t0\t0.046511627906976744\t0.04347826086956522\t0\t0\t\n",
      "['tau1', 'tau2', 'average_degree', 'modularity', 'average_degree/n']\t0\t0\t0.25\t0\t0.023255813953488372\t0.2786885245901639\t0.18181818181818182\t0.1904761904761905\t0.5613608748481166\t0\t0.04615384615384615\t0\t0.05517241379310345\t0\t0\t0\t0\t0\t0\t0\t0\t0.46428571428571436\t0.125\t0\t0.03508771929824561\t\n",
      "['tau1', 'tau2', 'maxari', 'modularity', 'average_degree/n']\t0\t0.12244897959183675\t0\t0\t0.0782122905027933\t0.3333333333333333\t0\t0.1904761904761905\t0.609090909090909\t0\t0.061538461538461535\t0\t0.13071895424836602\t0\t0\t0\t0\t0\t0\t0\t0.025641025641025647\t0.3846153846153846\t0.125\t0\t0.017699115044247787\t\n",
      "['tau1', 'mu', 'average_degree', 'maxari', 'modularity']\t0.024390243902439022\t0.04347826086956522\t0\t0\t0.06779661016949153\t0.1983471074380165\t0.09523809523809523\t0.1904761904761905\t0.6359550561797753\t0.07692307692307693\t0.1044776119402985\t0\t0.06849315068493152\t0\t0\t0\t0\t0\t0\t0.07142857142857142\t0.025641025641025647\t0.4727272727272727\t0.04347826086956522\t0\t0.052173913043478265\t\n",
      "['tau1', 'mu', 'average_degree', 'maxari', 'average_degree/n']\t0.024390243902439022\t0\t0.15384615384615385\t0\t0.023255813953488372\t0.18803418803418803\t0\t0.1904761904761905\t0.57981220657277\t0.07692307692307693\t0.04651162790697675\t0\t0.027972027972027972\t0\t0\t0\t0\t0\t0\t0.07142857142857142\t0\t0.17391304347826084\t0.125\t0.13333333333333333\t0.034782608695652174\t\n",
      "['tau1', 'mu', 'average_degree', 'modularity', 'average_degree/n']\t0\t0\t0\t0\t0.034682080924855495\t0.38926174496644295\t0.2608695652173913\t0.1904761904761905\t0.593103448275862\t0\t0.031496062992125984\t0\t0.04166666666666667\t0.0689655172413793\t0\t0\t0\t0\t0\t0\t0\t0.46428571428571436\t0.04347826086956522\t0\t0.03508771929824561\t\n",
      "['tau1', 'mu', 'maxari', 'modularity', 'average_degree/n']\t0\t0\t0\t0\t0.09999999999999999\t0.25806451612903225\t0.18181818181818182\t0.1904761904761905\t0.6390134529147982\t0.07692307692307693\t0.07575757575757576\t0\t0.10666666666666667\t0\t0\t0\t0\t0\t0\t0.07142857142857142\t0.05063291139240507\t0.35294117647058826\t0.0851063829787234\t0\t0.017699115044247787\t\n",
      "['tau1', 'average_degree', 'maxari', 'modularity', 'average_degree/n']\t0.024390243902439022\t0\t0\t0\t0.034682080924855495\t0.3582089552238806\t0.09523809523809523\t0.1904761904761905\t0.6211604095563141\t0\t0.04651162790697675\t0\t0.04137931034482758\t0\t0\t0\t0\t0\t0\t0\t0.025641025641025647\t0.41509433962264153\t0.04347826086956522\t0\t0.03508771929824561\t\n",
      "['tau2', 'mu', 'average_degree', 'maxari', 'modularity']\t0.024390243902439022\t0.0851063829787234\t0\t0.16666666666666669\t0.04597701149425288\t0.09929078014184396\t0.09523809523809523\t0.1\t0.5315533980582525\t0.07692307692307693\t0.03125\t0\t0.08163265306122448\t0\t0\t0.06666666666666667\t0.01129943502824859\t0.0689655172413793\t0\t0.07142857142857142\t0\t0.41509433962264153\t0\t0.15384615384615385\t0.051724137931034475\t\n",
      "['tau2', 'mu', 'average_degree', 'maxari', 'average_degree/n']\t0.024390243902439022\t0.04347826086956522\t0\t0\t0.034682080924855495\t0.16071428571428573\t0.18181818181818182\t0\t0.47798742138364775\t0\t0.031496062992125984\t0\t0.014084507042253521\t0\t0\t0\t0.012048192771084336\t0\t0\t0.07142857142857142\t0\t0.41509433962264153\t0.04347826086956522\t0\t0.034782608695652174\t\n",
      "['tau2', 'mu', 'average_degree', 'modularity', 'average_degree/n']\t0\t0\t0.16666666666666666\t0\t0.023255813953488372\t0.23529411764705885\t0.2608695652173913\t0\t0.5108005082592122\t0\t0.031496062992125984\t0\t0.05517241379310345\t0.0689655172413793\t0\t0.06666666666666667\t0\t0.0689655172413793\t0\t0\t0\t0.42857142857142855\t0.04347826086956522\t0\t0.052173913043478265\t\n",
      "['tau2', 'mu', 'maxari', 'modularity', 'average_degree/n']\t0.024390243902439022\t0.0851063829787234\t0\t0\t0.0989010989010989\t0.2698412698412698\t0.09523809523809523\t0\t0.5570228091236494\t0\t0.046875\t0\t0.06849315068493152\t0\t0\t0\t0\t0.0689655172413793\t0\t0.07142857142857142\t0.025641025641025647\t0.32\t0\t0\t0\t\n",
      "['tau2', 'average_degree', 'maxari', 'modularity', 'average_degree/n']\t0.047619047619047616\t0.0851063829787234\t0\t0\t0.04597701149425288\t0.22764227642276424\t0.09523809523809523\t0\t0.4134078212290503\t0\t0.015873015873015872\t0\t0.014084507042253521\t0\t0\t0\t0\t0\t0\t0\t0\t0.4444444444444445\t0.0851063829787234\t0\t0.03508771929824561\t\n",
      "['mu', 'average_degree', 'maxari', 'modularity', 'average_degree/n']\t0.024390243902439022\t0\t0\t0\t0.0790960451977401\t0.44736842105263164\t0.18181818181818182\t0.1\t0.534629404617254\t0.07692307692307693\t0.061068702290076333\t0\t0.027972027972027972\t0\t0\t0\t0\t0\t0\t0.07142857142857142\t0\t0.41509433962264153\t0.04347826086956522\t0\t0.051724137931034475\t\n",
      "['n', 'tau1', 'tau2', 'mu', 'average_degree', 'maxari']\t0.024390243902439022\t0.0851063829787234\t0\t0\t0.023255813953488372\t0.14414414414414414\t0\t0\t0.5507955936352509\t0\t0.06201550387596899\t0\t0.06849315068493152\t0\t0\t0.06666666666666667\t0\t0\t0.25\t0.07142857142857142\t0\t0.37037037037037035\t0\t0\t0.06837606837606837\t\n",
      "['n', 'tau1', 'tau2', 'mu', 'average_degree', 'modularity']\t0\t0.0851063829787234\t0\t0.16666666666666669\t0.011695906432748537\t0.18965517241379312\t0.18181818181818182\t0.1904761904761905\t0.591283863368669\t0\t0.031496062992125984\t0\t0.04166666666666667\t0.0689655172413793\t0\t0.06666666666666667\t0\t0.0689655172413793\t0.4444444444444445\t0.07142857142857142\t0\t0.4745762711864407\t0\t0\t0.051724137931034475\t\n",
      "['n', 'tau1', 'tau2', 'mu', 'average_degree', 'average_degree/n']\t0\t0.04347826086956522\t0\t0\t0.023255813953488372\t0.15625\t0.33333333333333337\t0.1904761904761905\t0.45092838196286467\t0\t0.06201550387596899\t0\t0.027972027972027972\t0\t0\t0\t0\t0\t0\t0\t0\t0.046511627906976744\t0.04347826086956522\t0\t0.051724137931034475\t\n",
      "['n', 'tau1', 'tau2', 'mu', 'maxari', 'modularity']\t0\t0.125\t0\t0\t0.034682080924855495\t0.20689655172413796\t0.18181818181818182\t0.1904761904761905\t0.656072644721907\t0.07692307692307693\t0.09090909090909091\t0\t0.04166666666666667\t0\t0\t0\t0\t0\t0\t0\t0.025641025641025647\t0.4137931034482759\t0\t0\t0.017699115044247787\t\n",
      "['n', 'tau1', 'tau2', 'mu', 'maxari', 'average_degree/n']\t0\t0.0851063829787234\t0\t0\t0.04597701149425288\t0.18803418803418803\t0\t0.1904761904761905\t0.5876662636033857\t0.07692307692307693\t0.07692307692307693\t0\t0.06849315068493152\t0\t0\t0\t0\t0\t0\t0.07142857142857142\t0\t0.32\t0.125\t0\t0.03508771929824561\t\n",
      "['n', 'tau1', 'tau2', 'mu', 'modularity', 'average_degree/n']\t0\t0.0851063829787234\t0\t0\t0.03428571428571428\t0.30158730158730157\t0.2608695652173913\t0.1904761904761905\t0.6175115207373272\t0\t0.07633587786259541\t0\t0.06849315068493152\t0.0689655172413793\t0\t0\t0\t0\t0.4444444444444445\t0\t0\t0.4912280701754386\t0.04347826086956522\t0\t0.03508771929824561\t\n",
      "['n', 'tau1', 'tau2', 'average_degree', 'maxari', 'modularity']\t0.024390243902439022\t0.125\t0\t0\t0.034682080924855495\t0.2764227642276423\t0.18181818181818182\t0.1904761904761905\t0.616822429906542\t0\t0.046875\t0\t0.0410958904109589\t0\t0\t0\t0\t0\t0\t0\t0\t0.4074074074074074\t0\t0\t0.052173913043478265\t\n",
      "['n', 'tau1', 'tau2', 'average_degree', 'maxari', 'average_degree/n']\t0.024390243902439022\t0.0851063829787234\t0\t0\t0.034682080924855495\t0.03809523809523809\t0\t0.1904761904761905\t0.40167364016736407\t0\t0\t0\t0.04137931034482758\t0\t0\t0\t0\t0\t0\t0\t0\t0.0909090909090909\t0\t0\t0.052173913043478265\t\n",
      "['n', 'tau1', 'tau2', 'average_degree', 'modularity', 'average_degree/n']\t0\t0\t0\t0\t0.023255813953488372\t0.24793388429752064\t0.18181818181818182\t0.1904761904761905\t0.5388471177944862\t0\t0\t0\t0.06756756756756757\t0\t0\t0.06666666666666667\t0\t0.0689655172413793\t0\t0\t0\t0.5084745762711864\t0.0851063829787234\t0\t0.03508771929824561\t\n",
      "['n', 'tau1', 'tau2', 'maxari', 'modularity', 'average_degree/n']\t0.024390243902439022\t0.125\t0\t0\t0.05714285714285715\t0.4225352112676056\t0.18181818181818182\t0.1904761904761905\t0.6422018348623854\t0\t0.09090909090909091\t0\t0.04081632653061224\t0\t0\t0\t0\t0\t0\t0\t0\t0.4\t0.04347826086956522\t0\t0\t\n",
      "['n', 'tau1', 'mu', 'average_degree', 'maxari', 'modularity']\t0.024390243902439022\t0\t0\t0\t0.023255813953488372\t0.17391304347826086\t0.18181818181818182\t0.2727272727272727\t0.6296296296296297\t0.07692307692307693\t0.06201550387596899\t0\t0.05442176870748299\t0\t0\t0\t0\t0\t0\t0.07142857142857142\t0\t0.41509433962264153\t0\t0\t0.052173913043478265\t\n",
      "['n', 'tau1', 'mu', 'average_degree', 'maxari', 'average_degree/n']\t0.024390243902439022\t0\t0\t0\t0.034682080924855495\t0.1724137931034483\t0.09523809523809523\t0.1904761904761905\t0.5693606755126659\t0.07692307692307693\t0.06201550387596899\t0\t0.05442176870748299\t0\t0\t0\t0\t0\t0\t0.13793103448275862\t0\t0.32\t0.125\t0\t0.051724137931034475\t\n",
      "['n', 'tau1', 'mu', 'average_degree', 'modularity', 'average_degree/n']\t0.024390243902439022\t0\t0\t0\t0.023255813953488372\t0.2459016393442623\t0.2608695652173913\t0.1904761904761905\t0.5807962529274003\t0\t0.061538461538461535\t0\t0.08053691275167785\t0\t0\t0\t0\t0\t0\t0\t0\t0.4912280701754386\t0.125\t0\t0.052173913043478265\t\n",
      "['n', 'tau1', 'mu', 'maxari', 'modularity', 'average_degree/n']\t0.024390243902439022\t0\t0\t0\t0.06779661016949153\t0.24193548387096772\t0.18181818181818182\t0.2727272727272727\t0.6477916194790487\t0.07692307692307693\t0.09090909090909091\t0\t0.04166666666666667\t0\t0\t0\t0\t0\t0\t0.07142857142857142\t0\t0.4\t0.125\t0\t0.0689655172413793\t\n",
      "['n', 'tau1', 'average_degree', 'maxari', 'modularity', 'average_degree/n']\t0.024390243902439022\t0\t0\t0\t0.034682080924855495\t0.23999999999999996\t0.18181818181818182\t0.1904761904761905\t0.6120591581342435\t0\t0.10526315789473684\t0\t0.05405405405405404\t0\t0\t0\t0\t0\t0\t0\t0\t0.3461538461538461\t0.0851063829787234\t0\t0.052173913043478265\t\n",
      "['n', 'tau2', 'mu', 'average_degree', 'maxari', 'modularity']\t0.024390243902439022\t0.04347826086956522\t0\t0\t0.04597701149425288\t0.18965517241379312\t0.18181818181818182\t0.1\t0.5267080745341615\t0\t0.07692307692307693\t0\t0.10738255033557045\t0\t0\t0\t0\t0\t0\t0.07142857142857142\t0\t0.46428571428571436\t0\t0\t0.051724137931034475\t\n",
      "['n', 'tau2', 'mu', 'average_degree', 'maxari', 'average_degree/n']\t0.024390243902439022\t0\t0\t0\t0.034682080924855495\t0.23728813559322035\t0.18181818181818182\t0\t0.4962216624685139\t0\t0.046875\t0\t0.014084507042253521\t0\t0\t0\t0\t0\t0\t0.07142857142857142\t0\t0.32\t0.0851063829787234\t0\t0.051724137931034475\t\n",
      "['n', 'tau2', 'mu', 'average_degree', 'modularity', 'average_degree/n']\t0\t0.0851063829787234\t0\t0\t0.011695906432748537\t0.12727272727272726\t0.2608695652173913\t0\t0.5159642401021711\t0\t0.04651162790697675\t0\t0.05517241379310345\t0\t0\t0\t0\t0.0689655172413793\t0\t0\t0\t0.43636363636363634\t0.04347826086956522\t0\t0.051724137931034475\t\n",
      "['n', 'tau2', 'mu', 'maxari', 'modularity', 'average_degree/n']\t0.024390243902439022\t0.04347826086956522\t0\t0\t0.06818181818181818\t0.3230769230769231\t0.2608695652173913\t0.1904761904761905\t0.5366459627329193\t0\t0.07692307692307693\t0\t0.08163265306122448\t0\t0\t0\t0\t0\t0\t0.07142857142857142\t0\t0.4210526315789473\t0.0851063829787234\t0\t0.03508771929824561\t\n",
      "['n', 'tau2', 'average_degree', 'maxari', 'modularity', 'average_degree/n']\t0.024390243902439022\t0.04347826086956522\t0\t0\t0.034682080924855495\t0.20168067226890757\t0.09523809523809523\t0.1\t0.39024390243902435\t0\t0.07633587786259541\t0\t0\t0\t0\t0\t0\t0\t0\t0\t0\t0.4\t0.04347826086956522\t0\t0.017699115044247787\t\n",
      "['n', 'mu', 'average_degree', 'maxari', 'modularity', 'average_degree/n']\t0.024390243902439022\t0\t0\t0\t0.05714285714285715\t0.25806451612903225\t0.18181818181818182\t0.1904761904761905\t0.5192546583850932\t0\t0.06201550387596899\t0\t0.08163265306122448\t0\t0\t0\t0\t0\t0\t0.07142857142857142\t0\t0.4074074074074074\t0.04347826086956522\t0\t0.052173913043478265\t\n",
      "['tau1', 'tau2', 'mu', 'average_degree', 'maxari', 'modularity']\t0.024390243902439022\t0.0851063829787234\t0\t0\t0.034682080924855495\t0.26016260162601623\t0.09523809523809523\t0.1904761904761905\t0.6504961411245866\t0.07692307692307693\t0.09022556390977444\t0\t0.08163265306122448\t0\t0\t0\t0.016949152542372885\t0\t0\t0.07142857142857142\t0\t0.4444444444444445\t0\t0\t0.051724137931034475\t\n",
      "['tau1', 'tau2', 'mu', 'average_degree', 'maxari', 'average_degree/n']\t0.024390243902439022\t0.0851063829787234\t0\t0\t0.04597701149425288\t0.16071428571428573\t0.18181818181818182\t0.1\t0.580568720379147\t0\t0.031496062992125984\t0\t0.04166666666666667\t0\t0\t0\t0.4\t0\t0\t0.07142857142857142\t0\t0.41509433962264153\t0.125\t0\t0.017699115044247787\t\n",
      "['tau1', 'tau2', 'mu', 'average_degree', 'modularity', 'average_degree/n']\t0\t0\t0\t0.12500000000000003\t0.0670391061452514\t0.291970802919708\t0.33333333333333337\t0.1904761904761905\t0.60849598163031\t0\t0.06201550387596899\t0\t0.08163265306122448\t0\t0\t0\t0\t0.0689655172413793\t0\t0\t0\t0.4745762711864407\t0.04347826086956522\t0\t0.052173913043478265\t\n",
      "['tau1', 'tau2', 'mu', 'maxari', 'modularity', 'average_degree/n']\t0\t0.125\t0\t0\t0.09944751381215469\t0.35384615384615387\t0\t0.1904761904761905\t0.6547085201793722\t0.07692307692307693\t0.1044776119402985\t0\t0.10666666666666667\t0\t0\t0\t0\t0\t0\t0.07142857142857142\t0.07500000000000001\t0.41509433962264153\t0.125\t0\t0.017699115044247787\t\n",
      "['tau1', 'tau2', 'average_degree', 'maxari', 'modularity', 'average_degree/n']\t0.047619047619047616\t0.12244897959183675\t0\t0\t0.07865168539325842\t0.3511450381679389\t0.09523809523809523\t0.1904761904761905\t0.6279863481228669\t0\t0.031496062992125984\t0\t0.06849315068493152\t0.13333333333333333\t0\t0\t0\t0\t0\t0\t0.025641025641025647\t0.4444444444444445\t0.125\t0\t0.03508771929824561\t\n",
      "['tau1', 'mu', 'average_degree', 'maxari', 'modularity', 'average_degree/n']\t0.024390243902439022\t0\t0\t0\t0.0989010989010989\t0.47852760736196326\t0.18181818181818182\t0.1904761904761905\t0.6469945355191257\t0\t0.04615384615384615\t0\t0.05517241379310345\t0\t0\t0\t0.014388489208633093\t0\t0\t0.07142857142857142\t0\t0.41509433962264153\t0.125\t0\t0.052173913043478265\t\n",
      "['tau2', 'mu', 'average_degree', 'maxari', 'modularity', 'average_degree/n']\t0.047619047619047616\t0.0851063829787234\t0\t0\t0.05714285714285715\t0.2857142857142857\t0\t0\t0.5562130177514792\t0\t0.061538461538461535\t0\t0.06849315068493152\t0\t0\t0.06666666666666667\t0.011363636363636362\t0.0689655172413793\t0\t0.07142857142857142\t0\t0.46428571428571436\t0.125\t0\t0.052173913043478265\t\n",
      "['n', 'tau1', 'tau2', 'mu', 'average_degree', 'maxari', 'modularity']\t0.024390243902439022\t0.125\t0\t0\t0.034682080924855495\t0.2764227642276423\t0.18181818181818182\t0.2727272727272727\t0.6363636363636365\t0\t0.09090909090909091\t0\t0.06849315068493152\t0\t0\t0\t0\t0\t0\t0.07142857142857142\t0\t0.43636363636363634\t0\t0\t0.06837606837606837\t\n",
      "['n', 'tau1', 'tau2', 'mu', 'average_degree', 'maxari', 'average_degree/n']\t0.024390243902439022\t0.0851063829787234\t0\t0\t0.04597701149425288\t0.14414414414414414\t0\t0.1904761904761905\t0.5717761557177615\t0\t0.06201550387596899\t0\t0.08163265306122448\t0\t0\t0\t0\t0\t0\t0.07142857142857142\t0\t0.32\t0.04347826086956522\t0\t0.051724137931034475\t\n",
      "['n', 'tau1', 'tau2', 'mu', 'average_degree', 'modularity', 'average_degree/n']\t0\t0.0851063829787234\t0\t0\t0.023255813953488372\t0.26229508196721313\t0.2608695652173913\t0.1904761904761905\t0.5916167664670658\t0\t0.04651162790697675\t0\t0.06849315068493152\t0\t0\t0\t0\t0.0689655172413793\t0.25\t0\t0\t0.4727272727272727\t0.04347826086956522\t0\t0.051724137931034475\t\n",
      "['n', 'tau1', 'tau2', 'mu', 'maxari', 'modularity', 'average_degree/n']\t0.024390243902439022\t0.125\t0\t0\t0.07865168539325842\t0.3358778625954198\t0.18181818181818182\t0.1904761904761905\t0.6696935300794551\t0\t0.07692307692307693\t0\t0.06849315068493152\t0\t0\t0\t0\t0\t0\t0.07142857142857142\t0\t0.4\t0.04347826086956522\t0\t0.03508771929824561\t\n",
      "['n', 'tau1', 'tau2', 'average_degree', 'maxari', 'modularity', 'average_degree/n']\t0.024390243902439022\t0.125\t0\t0\t0.06818181818181818\t0.4142857142857143\t0.18181818181818182\t0.1904761904761905\t0.6351039260969976\t0\t0.046875\t0\t0.027972027972027972\t0\t0\t0\t0\t0\t0\t0\t0\t0.4\t0.04347826086956522\t0\t0.052173913043478265\t\n",
      "['n', 'tau1', 'mu', 'average_degree', 'maxari', 'modularity', 'average_degree/n']\t0.024390243902439022\t0\t0\t0\t0.045714285714285714\t0.34328358208955223\t0.2608695652173913\t0.2727272727272727\t0.6388261851015802\t0.07692307692307693\t0.07633587786259541\t0\t0.06711409395973154\t0\t0\t0\t0\t0\t0\t0.07142857142857142\t0\t0.4\t0.125\t0\t0.052173913043478265\t\n",
      "['n', 'tau2', 'mu', 'average_degree', 'maxari', 'modularity', 'average_degree/n']\t0.024390243902439022\t0.04347826086956522\t0\t0\t0.05714285714285715\t0.3384615384615384\t0.18181818181818182\t0.1\t0.5430303030303031\t0\t0.07692307692307693\t0\t0.06849315068493152\t0\t0\t0\t0\t0\t0\t0.07142857142857142\t0\t0.4210526315789473\t0.04347826086956522\t0\t0.051724137931034475\t\n",
      "['tau1', 'tau2', 'mu', 'average_degree', 'maxari', 'modularity', 'average_degree/n']\t0.024390243902439022\t0.125\t0\t0\t0.056818181818181816\t0.30158730158730157\t0.18181818181818182\t0.1904761904761905\t0.6539753639417692\t0.07692307692307693\t0.07633587786259541\t0\t0.0945945945945946\t0\t0\t0\t0.4\t0\t0\t0.07142857142857142\t0\t0.5\t0.0851063829787234\t0\t0.052173913043478265\t\n",
      "['n', 'tau1', 'tau2', 'mu', 'average_degree', 'maxari', 'modularity', 'average_degree/n']\t0.024390243902439022\t0.0851063829787234\t0\t0\t0.07865168539325842\t0.2764227642276423\t0.18181818181818182\t0.1904761904761905\t0.6466512702078522\t0\t0.09090909090909091\t0\t0.0547945205479452\t0\t0\t0\t0\t0\t0\t0.07142857142857142\t0\t0.4074074074074074\t0.04347826086956522\t0\t0.051724137931034475\t\n"
     ]
    }
   ],
   "source": [
    "for comb, rw, rwo in results:\n",
    "    print(comb, end='\\t')\n",
    "    for kernel_name in kernels_order:\n",
    "        print(rwo[kernel_name]['f1'], end='\\t')\n",
    "    print()"
   ]
  },
  {
   "cell_type": "code",
   "execution_count": null,
   "metadata": {},
   "outputs": [],
   "source": [
    "for mari, sigma, comb in results:\n",
    "    print(f'{mari:.4f}\\t{sigma:.3f}\\t{comb}')"
   ]
  }
 ],
 "metadata": {
  "kernelspec": {
   "display_name": "Python 3",
   "language": "python",
   "name": "python3"
  },
  "language_info": {
   "codemirror_mode": {
    "name": "ipython",
    "version": 3
   },
   "file_extension": ".py",
   "mimetype": "text/x-python",
   "name": "python",
   "nbconvert_exporter": "python",
   "pygments_lexer": "ipython3",
   "version": "3.6.9"
  }
 },
 "nbformat": 4,
 "nbformat_minor": 4
}
