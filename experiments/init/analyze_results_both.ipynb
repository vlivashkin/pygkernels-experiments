{
 "cells": [
  {
   "cell_type": "code",
   "execution_count": null,
   "metadata": {},
   "outputs": [],
   "source": [
    "%matplotlib inline"
   ]
  },
  {
   "cell_type": "code",
   "execution_count": 1,
   "metadata": {},
   "outputs": [],
   "source": [
    "import pickle\n",
    "import random\n",
    "from collections import defaultdict\n",
    "\n",
    "import numpy as np\n",
    "from scipy.stats import rankdata"
   ]
  },
  {
   "cell_type": "code",
   "execution_count": 2,
   "metadata": {},
   "outputs": [],
   "source": [
    "kernels_names = [\n",
    "    'Katz', 'logKatz',\n",
    "    'For', 'logFor',\n",
    "    'Comm', 'logComm',\n",
    "    'Heat', 'logHeat',\n",
    "    'NHeat', 'logNHeat',\n",
    "    'SCT', 'SCCT',\n",
    "    'RSP', 'FE',\n",
    "    'PPR', 'logPPR',\n",
    "    'ModifPPR', 'logModifPPR',\n",
    "    'HeatPR', 'logHeatPR',\n",
    "    'DF', 'logDF',\n",
    "    'Abs', 'logAbs',\n",
    "    'SP-CT'\n",
    "]\n",
    "\n",
    "shuffle = lambda x: sorted(x, key=lambda k: random.random())\n",
    "\n",
    "def dict_argmax(dct, score_key):\n",
    "    best_key = list(dct.keys())[0]\n",
    "    best_val = dct[best_key]\n",
    "    for k, v in dct.items():\n",
    "        if v[score_key] > best_val[score_key]:\n",
    "            best_key, best_val = k, v\n",
    "    return best_key, best_val\n",
    "\n",
    "CACHE_ROOT = '../../cache/cache'\n",
    "\n",
    "def calc_avranks(results):  # {dataset: {classifier: accuracy}}\n",
    "    ranks = defaultdict(list)\n",
    "    for dataset, classifier_accuracy in results.items():\n",
    "        if type(dataset) == tuple:\n",
    "            dataset = '_'.join([str(x) for x in dataset])\n",
    "        classifiers, accuracies = zip(*list(classifier_accuracy.items()))\n",
    "        for classifier, rank in zip(classifiers, rankdata(accuracies)):\n",
    "            ranks[classifier].append(rank)\n",
    "    ranks = {k: np.mean(v) for k, v in sorted(ranks.items(), key=lambda x: x[0])}\n",
    "    return list(ranks.values()), list(ranks.keys()), len(results)\n"
   ]
  },
  {
   "cell_type": "markdown",
   "metadata": {},
   "source": [
    "# Prepare results of SBM – Stochastic Block Model"
   ]
  },
  {
   "cell_type": "code",
   "execution_count": 4,
   "metadata": {},
   "outputs": [],
   "source": [
    "SBM_RESULTS_ROOT = '../../cache/kkmeans_init_sbm'\n",
    "columns = [\n",
    "    (100, 2, 0.2, 0.05),\n",
    "    (100, 2, 0.3, 0.05),\n",
    "    (100, 2, 0.3, 0.1),\n",
    "    (100, 2, 0.3, 0.15),\n",
    "    (102, 3, 0.3, 0.1),\n",
    "    (100, 4, 0.3, 0.1),\n",
    "    (100, 4, 0.3, 0.15),\n",
    "    (200, 2, 0.3, 0.05),\n",
    "    (200, 2, 0.3, 0.1),\n",
    "    (200, 2, 0.3, 0.15),\n",
    "    (201, 3, 0.3, 0.1),\n",
    "    (200, 4, 0.3, 0.1),\n",
    "    (200, 4, 0.3, 0.15)\n",
    "]\n",
    "\n",
    "def column2str(column):\n",
    "    n, k, p_in, p_out = column\n",
    "    return f'{n}_{k}_{p_in:.1f}_{p_out:.2f}'\n",
    "\n",
    "datasets = [column2str(x) for x in columns]"
   ]
  },
  {
   "cell_type": "code",
   "execution_count": 5,
   "metadata": {},
   "outputs": [
    {
     "name": "stdout",
     "output_type": "stream",
     "text": [
      "sbm_inits_bestparam_byari_individual: cache file ../../cache/cache/sbm_inits_bestparam_byari_individual.pkl found! Skip calculations\n",
      "sbm_modularity: cache file ../../cache/cache/sbm_modularity.pkl found! Skip calculations\n"
     ]
    }
   ],
   "source": [
    "with open(f'{CACHE_ROOT}/datasets_inits_bestparam_byari_individual.pkl', 'rb') as f:\n",
    "    results = pickle.load(f)  # {(dataset, kernel_name, graph_idx): {scorename_initname: best_ari}}\n",
    "with open(f'{CACHE_ROOT}/datasets_modularity.pkl', 'rb') as f:\n",
    "    modularity_results = pickle.load(f)  # {(dataset, graph_idx): modularity}"
   ]
  }
 ],
 "metadata": {
  "kernelspec": {
   "display_name": "Python 3",
   "language": "python",
   "name": "python3"
  },
  "language_info": {
   "codemirror_mode": {
    "name": "ipython",
    "version": 3
   },
   "file_extension": ".py",
   "mimetype": "text/x-python",
   "name": "python",
   "nbconvert_exporter": "python",
   "pygments_lexer": "ipython3",
   "version": "3.6.9"
  }
 },
 "nbformat": 4,
 "nbformat_minor": 4
}