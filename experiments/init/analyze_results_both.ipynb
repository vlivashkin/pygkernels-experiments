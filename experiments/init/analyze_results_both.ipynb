{
 "cells": [
  {
   "cell_type": "code",
   "execution_count": 1,
   "metadata": {},
   "outputs": [],
   "source": [
    "%matplotlib inline"
   ]
  },
  {
   "cell_type": "code",
   "execution_count": 2,
   "metadata": {},
   "outputs": [],
   "source": [
    "import pickle\n",
    "import random\n",
    "from collections import defaultdict\n",
    "from itertools import product\n",
    "\n",
    "import numpy as np\n",
    "from scipy.stats import rankdata\n",
    "import matplotlib.pyplot as plt"
   ]
  },
  {
   "cell_type": "code",
   "execution_count": 3,
   "metadata": {},
   "outputs": [],
   "source": [
    "kernels_names = [\n",
    "    'Katz', 'logKatz',\n",
    "    'For', 'logFor',\n",
    "    'Comm', 'logComm',\n",
    "    'Heat', 'logHeat',\n",
    "    'NHeat', 'logNHeat',\n",
    "    'SCT', 'SCCT',\n",
    "    'RSP', 'FE',\n",
    "    'PPR', 'logPPR',\n",
    "    'ModifPPR', 'logModifPPR',\n",
    "    'HeatPR', 'logHeatPR',\n",
    "    'DF', 'logDF',\n",
    "    'Abs', 'logAbs',\n",
    "    'SP-CT'\n",
    "]\n",
    "\n",
    "shuffle = lambda x: sorted(x, key=lambda k: random.random())\n",
    "\n",
    "def dict_argmax(dct, score_key):\n",
    "    best_key = list(dct.keys())[0]\n",
    "    best_val = dct[best_key]\n",
    "    for k, v in dct.items():\n",
    "        if v[score_key] > best_val[score_key]:\n",
    "            best_key, best_val = k, v\n",
    "    return best_key, best_val\n",
    "\n",
    "CACHE_ROOT = '../../cache/cache'\n",
    "\n",
    "def calc_avranks(results):  # {dataset: {classifier: accuracy}}\n",
    "    ranks = defaultdict(list)\n",
    "    for dataset, classifier_accuracy in results.items():\n",
    "        if type(dataset) == tuple:\n",
    "            dataset = '_'.join([str(x) for x in dataset])\n",
    "        classifiers, accuracies = zip(*list(classifier_accuracy.items()))\n",
    "        for classifier, rank in zip(classifiers, rankdata(accuracies)):\n",
    "            ranks[classifier].append(rank)\n",
    "    ranks = {k: np.mean(v) for k, v in sorted(ranks.items(), key=lambda x: x[0])}\n",
    "    return list(ranks.values()), list(ranks.keys()), len(results)\n"
   ]
  },
  {
   "cell_type": "markdown",
   "metadata": {},
   "source": [
    "# Analyze results of SBM – Stochastic Block Model"
   ]
  },
  {
   "cell_type": "code",
   "execution_count": 4,
   "metadata": {},
   "outputs": [],
   "source": [
    "columns = [\n",
    "    (100, 2, 0.2, 0.05),\n",
    "    (100, 2, 0.3, 0.05),\n",
    "    (100, 2, 0.3, 0.1),\n",
    "    (100, 2, 0.3, 0.15),\n",
    "    (102, 3, 0.3, 0.1),\n",
    "    (100, 4, 0.3, 0.1),\n",
    "    (100, 4, 0.3, 0.15),\n",
    "    (200, 2, 0.3, 0.05),\n",
    "    (200, 2, 0.3, 0.1),\n",
    "    (200, 2, 0.3, 0.15),\n",
    "    (201, 3, 0.3, 0.1),\n",
    "    (200, 4, 0.3, 0.1),\n",
    "    (200, 4, 0.3, 0.15)\n",
    "]\n",
    "\n",
    "def column2str(column):\n",
    "    n, k, p_in, p_out = column\n",
    "    return f'{n}_{k}_{p_in:.1f}_{p_out:.2f}'\n",
    "\n",
    "sbm_datasets = [column2str(x) for x in columns]"
   ]
  },
  {
   "cell_type": "code",
   "execution_count": 5,
   "metadata": {},
   "outputs": [],
   "source": [
    "with open(f'{CACHE_ROOT}/sbm_inits_bestparam_byari_individual.pkl', 'rb') as f:\n",
    "    sbm_results = pickle.load(f)  # {(dataset, kernel_name, graph_idx): {scorename_initname: best_ari}}\n",
    "with open(f'{CACHE_ROOT}/sbm_modularity.pkl', 'rb') as f:\n",
    "    sbm_modularity = pickle.load(f)  # {(dataset, graph_idx): modularity}"
   ]
  },
  {
   "cell_type": "code",
   "execution_count": 6,
   "metadata": {},
   "outputs": [
    {
     "name": "stdout",
     "output_type": "stream",
     "text": [
      "100_4_0.3_0.15: 0.22\n",
      "200_4_0.3_0.15: 0.36\n",
      "100_4_0.3_0.10: 0.52\n",
      "100_2_0.3_0.15: 0.76\n",
      "102_3_0.3_0.10: 0.78\n",
      "200_4_0.3_0.10: 0.80\n",
      "200_2_0.3_0.15: 0.86\n",
      "201_3_0.3_0.10: 0.88\n",
      "100_2_0.3_0.10: 0.93\n",
      "100_2_0.2_0.05: 0.93\n",
      "200_2_0.3_0.10: 0.95\n",
      "100_2_0.3_0.05: 1.00\n",
      "200_2_0.3_0.05: 1.00\n"
     ]
    }
   ],
   "source": [
    "sbm_results_m3_dka = defaultdict(lambda: defaultdict(list)) # {dataset, {kernel_name: [best_ari_for_graph]}}\n",
    "for (dataset, kernel_name, graph_idx), si_ari in sbm_results.items():\n",
    "    sbm_results_m3_dka[dataset][kernel_name].append(si_ari['modularity_any3'])\n",
    "for dataset, kernel_name in product(sbm_datasets, kernels_names):  # {dataset, {kernel_name: mean_bestari}}\n",
    "    sbm_results_m3_dka[dataset][kernel_name] = np.mean(sbm_results_m3_dka[dataset][kernel_name])\n",
    "\n",
    "sbm_meanari = {k: np.mean(list(v.values())) for k, v in sbm_results_m3_dka.items()}  # {dataset, mean_mean_bestari}\n",
    "for dataset, meanari in sorted(list(sbm_meanari.items()), key=lambda x: x[1]):\n",
    "    print(f'{dataset}: {meanari:.2f}')"
   ]
  },
  {
   "cell_type": "code",
   "execution_count": 7,
   "metadata": {},
   "outputs": [
    {
     "name": "stdout",
     "output_type": "stream",
     "text": [
      "100_4_0.3_0.15: 0.14\n",
      "200_4_0.3_0.15: 0.14\n",
      "100_2_0.3_0.15: 0.16\n",
      "200_2_0.3_0.15: 0.16\n",
      "100_4_0.3_0.10: 0.24\n",
      "200_4_0.3_0.10: 0.25\n",
      "100_2_0.3_0.10: 0.25\n",
      "200_2_0.3_0.10: 0.25\n",
      "102_3_0.3_0.10: 0.26\n",
      "201_3_0.3_0.10: 0.26\n",
      "100_2_0.2_0.05: 0.29\n",
      "100_2_0.3_0.05: 0.35\n",
      "200_2_0.3_0.05: 0.36\n"
     ]
    }
   ],
   "source": [
    "sbm_meanmodularity = dict()\n",
    "for dataset in sbm_datasets:\n",
    "    sbm_meanmodularity[dataset] = np.mean([sbm_modularity[(dataset, graph_idx)] for graph_idx in range(100)])\n",
    "for dataset, modularity in sorted(list(sbm_meanmodularity.items()), key=lambda x: x[1]):\n",
    "    print(f'{dataset}: {modularity:.2f}')"
   ]
  },
  {
   "cell_type": "code",
   "execution_count": 8,
   "metadata": {},
   "outputs": [],
   "source": [
    "datasets_datasets = [\n",
    "    'cora_DB', 'cora_EC', 'cora_HA', 'cora_HCI', 'cora_IR', 'cora_Net',\n",
    "    'dolphins',\n",
    "    'eu-core',\n",
    "    'eurosis',\n",
    "    'football',\n",
    "    'karate',\n",
    "    'news_2cl1_0.1', 'news_2cl2_0.1', 'news_2cl3_0.1',\n",
    "    'news_3cl1_0.1', 'news_3cl2_0.1', 'news_3cl3_0.1',\n",
    "    'news_5cl1_0.1', 'news_5cl2_0.1', 'news_5cl3_0.1',\n",
    "    'polblogs',\n",
    "    'polbooks',\n",
    "    'sp_school_day_1', 'sp_school_day_2'\n",
    "]"
   ]
  },
  {
   "cell_type": "code",
   "execution_count": 9,
   "metadata": {},
   "outputs": [],
   "source": [
    "with open(f'{CACHE_ROOT}/datasets_inits_bestparam_byari_individual_0.1.pkl', 'rb') as f:\n",
    "    datasets_results = pickle.load(f)  # {(dataset, kernel_name, graph_idx): {scorename_initname: best_ari}}\n",
    "with open(f'{CACHE_ROOT}/datasets_modularity_0.1.pkl', 'rb') as f:\n",
    "    datasets_modularity = pickle.load(f)  # {(dataset, graph_idx): modularity}"
   ]
  },
  {
   "cell_type": "code",
   "execution_count": 10,
   "metadata": {},
   "outputs": [
    {
     "name": "stdout",
     "output_type": "stream",
     "text": [
      "cora_Net: 0.18\n",
      "cora_DB: 0.18\n",
      "cora_EC: 0.27\n",
      "cora_IR: 0.30\n",
      "eu-core: 0.34\n",
      "cora_HA: 0.38\n",
      "news_5cl3_0.1: 0.42\n",
      "news_5cl2_0.1: 0.49\n",
      "cora_HCI: 0.51\n",
      "news_5cl1_0.1: 0.61\n",
      "news_3cl2_0.1: 0.62\n",
      "news_3cl3_0.1: 0.66\n",
      "news_2cl2_0.1: 0.67\n",
      "polbooks: 0.69\n",
      "sp_school_day_1: 0.72\n",
      "news_3cl1_0.1: 0.73\n",
      "news_2cl1_0.1: 0.73\n",
      "polblogs: 0.73\n",
      "sp_school_day_2: 0.74\n",
      "eurosis: 0.74\n",
      "news_2cl3_0.1: 0.83\n",
      "football: 0.87\n",
      "dolphins: 0.93\n",
      "karate: 1.00\n"
     ]
    }
   ],
   "source": [
    "datasets_results_m3_dka = defaultdict(lambda: defaultdict(list)) # {dataset, {kernel_name: [best_ari_for_graph]}}\n",
    "for (dataset, kernel_name, graph_idx), si_ari in datasets_results.items():\n",
    "    datasets_results_m3_dka[dataset][kernel_name].append(si_ari['modularity_any3'])\n",
    "for dataset, kernel_name in product(datasets_datasets, kernels_names):  # {dataset, {kernel_name: best_ari}}\n",
    "    datasets_results_m3_dka[dataset][kernel_name] = np.mean(datasets_results_m3_dka[dataset][kernel_name])\n",
    "\n",
    "datasets_meanari = {k: np.mean(list(v.values())) for k, v in datasets_results_m3_dka.items()}  # {dataset, mean_mean_bestari}\n",
    "for dataset, meanari in sorted(list(datasets_meanari.items()), key=lambda x: x[1]):\n",
    "    print(f'{dataset}: {meanari:.2f}')"
   ]
  },
  {
   "cell_type": "code",
   "execution_count": 11,
   "metadata": {},
   "outputs": [
    {
     "name": "stdout",
     "output_type": "stream",
     "text": [
      "cora_EC: 0.19\n",
      "sp_school_day_1: 0.29\n",
      "eu-core: 0.31\n",
      "sp_school_day_2: 0.32\n",
      "news_2cl2_0.1: 0.34\n",
      "cora_Net: 0.35\n",
      "karate: 0.37\n",
      "dolphins: 0.37\n",
      "news_2cl1_0.1: 0.38\n",
      "cora_IR: 0.38\n",
      "polblogs: 0.41\n",
      "polbooks: 0.41\n",
      "news_2cl3_0.1: 0.42\n",
      "news_5cl3_0.1: 0.42\n",
      "cora_DB: 0.43\n",
      "news_3cl2_0.1: 0.46\n",
      "news_5cl2_0.1: 0.50\n",
      "news_3cl3_0.1: 0.51\n",
      "news_3cl1_0.1: 0.53\n",
      "cora_HCI: 0.53\n",
      "football: 0.55\n",
      "news_5cl1_0.1: 0.56\n",
      "cora_HA: 0.61\n",
      "eurosis: 0.70\n"
     ]
    }
   ],
   "source": [
    "datasets_meanmodularity = datasets_modularity\n",
    "for dataset, modularity in sorted(list(datasets_meanmodularity.items()), key=lambda x: x[1]):\n",
    "    print(f'{dataset}: {modularity:.2f}')"
   ]
  },
  {
   "cell_type": "code",
   "execution_count": 12,
   "metadata": {},
   "outputs": [
    {
     "data": {
      "image/png": "[encoded data removed]",
      "text/plain": [
       "<Figure size 432x288 with 1 Axes>"
      ]
     },
     "metadata": {
      "needs_background": "light"
     },
     "output_type": "display_data"
    }
   ],
   "source": [
    "# draw ari-modularity dependency\n",
    "\n",
    "x, y = [], []\n",
    "for dataset in sbm_datasets:\n",
    "    x.append(sbm_meanmodularity[dataset])\n",
    "    y.append(sbm_meanari[dataset])\n",
    "plt.scatter(x, y, label='sbm')\n",
    "\n",
    "x, y = [], []\n",
    "for dataset in datasets_datasets:\n",
    "    x.append(datasets_meanmodularity[dataset])\n",
    "    y.append(datasets_meanari[dataset])\n",
    "plt.scatter(x, y, label='datasets')\n",
    "\n",
    "plt.xlabel('modularity')\n",
    "plt.ylabel('ARI')\n",
    "plt.legend();"
   ]
  },
  {
   "cell_type": "code",
   "execution_count": null,
   "metadata": {},
   "outputs": [],
   "source": []
  }
 ],
 "metadata": {
  "kernelspec": {
   "display_name": "Python 3",
   "language": "python",
   "name": "python3"
  },
  "language_info": {
   "codemirror_mode": {
    "name": "ipython",
    "version": 3
   },
   "file_extension": ".py",
   "mimetype": "text/x-python",
   "name": "python",
   "nbconvert_exporter": "python",
   "pygments_lexer": "ipython3",
   "version": "3.6.9"
  }
 },
 "nbformat": 4,
 "nbformat_minor": 4
}
