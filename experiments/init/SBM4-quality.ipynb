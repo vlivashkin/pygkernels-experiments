{
 "cells": [
  {
   "cell_type": "code",
   "execution_count": 1,
   "metadata": {},
   "outputs": [],
   "source": [
    "import sys\n",
    "import pickle\n",
    "from collections import defaultdict\n",
    "\n",
    "from matplotlib import colors\n",
    "import matplotlib.pyplot as plt\n",
    "import networkx as nx\n",
    "import numpy as np\n",
    "import pandas as pd\n",
    "from joblib import Parallel, delayed\n",
    "from networkx.algorithms.approximation import clique\n",
    "from sklearn.ensemble import RandomForestClassifier, RandomForestRegressor\n",
    "from sklearn.linear_model import LogisticRegression, Ridge\n",
    "from sklearn.metrics import accuracy_score, f1_score\n",
    "from sklearn.multiclass import OneVsRestClassifier\n",
    "from sklearn.neighbors import KNeighborsClassifier, KNeighborsRegressor\n",
    "from sklearn.svm import SVC, SVR, LinearSVC, LinearSVR\n",
    "from sklearn.preprocessing import Normalizer\n",
    "from tqdm.notebook import tqdm\n",
    "\n",
    "from utils import SBM_Data, Datasets_Data, load_or_calc_and_save, ytrue_to_partition, calc_avranks, RFE, RFE_LOO, OneVsRest_custom, OneHotEncoding_custom\n",
    "\n",
    "sys.path.append('../../pygkernels')\n",
    "from pygkernels.scenario import d3_category20"
   ]
  },
  {
   "cell_type": "code",
   "execution_count": 2,
   "metadata": {},
   "outputs": [
    {
     "name": "stderr",
     "output_type": "stream",
     "text": [
      "prepare columns: 100%|██████████| 86/86 [00:00<00:00, 913.32it/s]\n",
      "prepare columns: 100%|██████████| 86/86 [00:00<00:00, 458.45it/s]\n"
     ]
    }
   ],
   "source": [
    "data_hub = SBM_Data()\n",
    "_, results_modularity_any3, modularity_results = data_hub.load_precalculated()\n",
    "\n",
    "X, y = data_hub.make_dataset()\n",
    "X_train, y_train = X[:, :70].reshape(-1, 22), y[:, :70].reshape(-1, 25)\n",
    "X_val,   y_val   = X[:, 70:].reshape(-1, 22), y[:, 70:].reshape(-1, 25)\n",
    "X,       y       = X.reshape(-1, 22), y.reshape(-1, 25)\n",
    "\n",
    "_, y_ari = data_hub.make_dataset(return_clf=False)\n",
    "ari_train = y_ari[:, :70].reshape(-1, 25)\n",
    "ari_val = y_ari[:, 70:].reshape(-1, 25)\n",
    "\n",
    "feature_names = data_hub.allowed_features_list"
   ]
  },
  {
   "cell_type": "code",
   "execution_count": 3,
   "metadata": {},
   "outputs": [
    {
     "data": {
      "text/plain": [
       "10"
      ]
     },
     "execution_count": 3,
     "metadata": {},
     "output_type": "execute_result"
    }
   ],
   "source": [
    "data_hub.kernel_names.index('SCT')"
   ]
  },
  {
   "cell_type": "markdown",
   "metadata": {},
   "source": [
    "# Baseline 1: the best measure for all"
   ]
  },
  {
   "cell_type": "code",
   "execution_count": 4,
   "metadata": {},
   "outputs": [
    {
     "data": {
      "text/html": [
       "<div>\n",
       "<style scoped>\n",
       "    .dataframe tbody tr th:only-of-type {\n",
       "        vertical-align: middle;\n",
       "    }\n",
       "\n",
       "    .dataframe tbody tr th {\n",
       "        vertical-align: top;\n",
       "    }\n",
       "\n",
       "    .dataframe thead th {\n",
       "        text-align: right;\n",
       "    }\n",
       "</style>\n",
       "<table border=\"1\" class=\"dataframe\">\n",
       "  <thead>\n",
       "    <tr style=\"text-align: right;\">\n",
       "      <th></th>\n",
       "      <th>measure</th>\n",
       "      <th>mean ari</th>\n",
       "    </tr>\n",
       "  </thead>\n",
       "  <tbody>\n",
       "    <tr>\n",
       "      <th>7</th>\n",
       "      <td>logHeat</td>\n",
       "      <td>0.682207</td>\n",
       "    </tr>\n",
       "    <tr>\n",
       "      <th>10</th>\n",
       "      <td>SCT</td>\n",
       "      <td>0.679357</td>\n",
       "    </tr>\n",
       "    <tr>\n",
       "      <th>11</th>\n",
       "      <td>SCCT</td>\n",
       "      <td>0.676275</td>\n",
       "    </tr>\n",
       "    <tr>\n",
       "      <th>6</th>\n",
       "      <td>Heat</td>\n",
       "      <td>0.674940</td>\n",
       "    </tr>\n",
       "    <tr>\n",
       "      <th>3</th>\n",
       "      <td>logFor</td>\n",
       "      <td>0.670327</td>\n",
       "    </tr>\n",
       "    <tr>\n",
       "      <th>17</th>\n",
       "      <td>logModifPPR</td>\n",
       "      <td>0.661888</td>\n",
       "    </tr>\n",
       "    <tr>\n",
       "      <th>19</th>\n",
       "      <td>logHeatPR</td>\n",
       "      <td>0.659640</td>\n",
       "    </tr>\n",
       "    <tr>\n",
       "      <th>12</th>\n",
       "      <td>RSP</td>\n",
       "      <td>0.659491</td>\n",
       "    </tr>\n",
       "    <tr>\n",
       "      <th>9</th>\n",
       "      <td>logNHeat</td>\n",
       "      <td>0.658873</td>\n",
       "    </tr>\n",
       "    <tr>\n",
       "      <th>15</th>\n",
       "      <td>logPPR</td>\n",
       "      <td>0.657278</td>\n",
       "    </tr>\n",
       "    <tr>\n",
       "      <th>13</th>\n",
       "      <td>FE</td>\n",
       "      <td>0.656970</td>\n",
       "    </tr>\n",
       "    <tr>\n",
       "      <th>5</th>\n",
       "      <td>logComm</td>\n",
       "      <td>0.656064</td>\n",
       "    </tr>\n",
       "    <tr>\n",
       "      <th>18</th>\n",
       "      <td>HeatPR</td>\n",
       "      <td>0.653777</td>\n",
       "    </tr>\n",
       "    <tr>\n",
       "      <th>21</th>\n",
       "      <td>logDF</td>\n",
       "      <td>0.653668</td>\n",
       "    </tr>\n",
       "    <tr>\n",
       "      <th>23</th>\n",
       "      <td>logAbs</td>\n",
       "      <td>0.653363</td>\n",
       "    </tr>\n",
       "    <tr>\n",
       "      <th>1</th>\n",
       "      <td>logKatz</td>\n",
       "      <td>0.651443</td>\n",
       "    </tr>\n",
       "    <tr>\n",
       "      <th>24</th>\n",
       "      <td>SP-CT</td>\n",
       "      <td>0.650709</td>\n",
       "    </tr>\n",
       "    <tr>\n",
       "      <th>8</th>\n",
       "      <td>NHeat</td>\n",
       "      <td>0.648114</td>\n",
       "    </tr>\n",
       "    <tr>\n",
       "      <th>4</th>\n",
       "      <td>Comm</td>\n",
       "      <td>0.614775</td>\n",
       "    </tr>\n",
       "    <tr>\n",
       "      <th>20</th>\n",
       "      <td>DF</td>\n",
       "      <td>0.572357</td>\n",
       "    </tr>\n",
       "    <tr>\n",
       "      <th>14</th>\n",
       "      <td>PPR</td>\n",
       "      <td>0.561534</td>\n",
       "    </tr>\n",
       "    <tr>\n",
       "      <th>2</th>\n",
       "      <td>For</td>\n",
       "      <td>0.548722</td>\n",
       "    </tr>\n",
       "    <tr>\n",
       "      <th>16</th>\n",
       "      <td>ModifPPR</td>\n",
       "      <td>0.528811</td>\n",
       "    </tr>\n",
       "    <tr>\n",
       "      <th>22</th>\n",
       "      <td>Abs</td>\n",
       "      <td>0.515951</td>\n",
       "    </tr>\n",
       "    <tr>\n",
       "      <th>0</th>\n",
       "      <td>Katz</td>\n",
       "      <td>0.512085</td>\n",
       "    </tr>\n",
       "  </tbody>\n",
       "</table>\n",
       "</div>"
      ],
      "text/plain": [
       "        measure  mean ari\n",
       "7       logHeat  0.682207\n",
       "10          SCT  0.679357\n",
       "11         SCCT  0.676275\n",
       "6          Heat  0.674940\n",
       "3        logFor  0.670327\n",
       "17  logModifPPR  0.661888\n",
       "19    logHeatPR  0.659640\n",
       "12          RSP  0.659491\n",
       "9      logNHeat  0.658873\n",
       "15       logPPR  0.657278\n",
       "13           FE  0.656970\n",
       "5       logComm  0.656064\n",
       "18       HeatPR  0.653777\n",
       "21        logDF  0.653668\n",
       "23       logAbs  0.653363\n",
       "1       logKatz  0.651443\n",
       "24        SP-CT  0.650709\n",
       "8         NHeat  0.648114\n",
       "4          Comm  0.614775\n",
       "20           DF  0.572357\n",
       "14          PPR  0.561534\n",
       "2           For  0.548722\n",
       "16     ModifPPR  0.528811\n",
       "22          Abs  0.515951\n",
       "0          Katz  0.512085"
      ]
     },
     "execution_count": 4,
     "metadata": {},
     "output_type": "execute_result"
    }
   ],
   "source": [
    "by_kernel_results = dict(zip(data_hub.kernel_names, np.mean(ari_val, axis=0)))\n",
    "df = pd.DataFrame(list(by_kernel_results.items()), columns=['measure', 'mean ari'])\n",
    "df.sort_values('mean ari', ascending=False)"
   ]
  },
  {
   "cell_type": "code",
   "execution_count": 5,
   "metadata": {},
   "outputs": [
    {
     "data": {
      "text/plain": [
       "0.6822066926711716"
      ]
     },
     "execution_count": 5,
     "metadata": {},
     "output_type": "execute_result"
    }
   ],
   "source": [
    "baseline = list(df.iloc[7])[1]\n",
    "baseline"
   ]
  },
  {
   "cell_type": "markdown",
   "metadata": {},
   "source": [
    "# Baseline2: best measure for every column "
   ]
  },
  {
   "cell_type": "code",
   "execution_count": 6,
   "metadata": {},
   "outputs": [
    {
     "data": {
      "text/plain": [
       "0.7005810530473514"
      ]
     },
     "execution_count": 6,
     "metadata": {},
     "output_type": "execute_result"
    }
   ],
   "source": [
    "by_column_results = defaultdict(list)\n",
    "for column_name, column_results in results_modularity_any3.items():\n",
    "    by_kernel_results = defaultdict(list)\n",
    "    for graph_idx, graph_results in column_results.items():\n",
    "        for kernel_name, kernel_result in graph_results.items():\n",
    "            by_kernel_results[kernel_name].append(kernel_result)\n",
    "    best_measure, best_ari = sorted([(k, np.mean(v)) for k, v in by_kernel_results.items()], key=lambda x: -x[1])[0]\n",
    "    by_column_results[column_name] = (best_measure, best_ari)\n",
    "\n",
    "df = pd.DataFrame([(k, v[0], v[1]) for k, v in by_column_results.items()], columns=['column', 'best_measure', 'mean ari'])\n",
    "upper_bound1 = np.mean(list(df['mean ari']))\n",
    "upper_bound1"
   ]
  },
  {
   "cell_type": "markdown",
   "metadata": {},
   "source": [
    "# Upper bound: best measure for every graph"
   ]
  },
  {
   "cell_type": "code",
   "execution_count": 7,
   "metadata": {},
   "outputs": [
    {
     "data": {
      "text/plain": [
       "0.7386917036110954"
      ]
     },
     "execution_count": 7,
     "metadata": {},
     "output_type": "execute_result"
    }
   ],
   "source": [
    "results = list()\n",
    "for column_name, column_results in results_modularity_any3.items():\n",
    "    for graph_idx, graph_results in column_results.items():\n",
    "        graph_best_ari = np.max(list(graph_results.values()))\n",
    "        results.append(graph_best_ari)\n",
    "\n",
    "upper_bound2 = np.mean(results)\n",
    "upper_bound2"
   ]
  },
  {
   "cell_type": "markdown",
   "metadata": {},
   "source": [
    "# Ours #1 (logRegression)"
   ]
  },
  {
   "cell_type": "code",
   "execution_count": 8,
   "metadata": {},
   "outputs": [
    {
     "data": {
      "text/plain": [
       "0.6777481329499893"
      ]
     },
     "execution_count": 8,
     "metadata": {},
     "output_type": "execute_result"
    }
   ],
   "source": [
    "estimator = OneVsRestClassifier(LogisticRegression())\n",
    "estimator.fit(X_train[:, [6, 18]], y_train)\n",
    "y_pred = estimator.predict_proba(X_val[:, [6, 18]])\n",
    "ours1 = np.mean(ari_val[range(y_pred.shape[0]), np.argmax(y_pred, axis=1)])\n",
    "ours1"
   ]
  },
  {
   "cell_type": "markdown",
   "metadata": {},
   "source": [
    "# Ours #2: choose measure by algo"
   ]
  },
  {
   "cell_type": "code",
   "execution_count": 9,
   "metadata": {},
   "outputs": [],
   "source": [
    "estimator = OneVsRestClassifier(SVC(probability=True))\n",
    "estimator.fit(X_train[:, [6, 18]], y_train)\n",
    "y_pred = estimator.predict_proba(X_val[:, [6, 18]])"
   ]
  },
  {
   "cell_type": "code",
   "execution_count": 10,
   "metadata": {},
   "outputs": [
    {
     "data": {
      "image/png": "[encoded data removed]",
      "text/plain": [
       "<Figure size 936x1296 with 2 Axes>"
      ]
     },
     "metadata": {
      "needs_background": "light"
     },
     "output_type": "display_data"
    }
   ],
   "source": [
    "every_graph_choice = np.argmax(y_pred, axis=1).reshape(-1, 30)\n",
    "every_graph_choice_pic = np.zeros((every_graph_choice.shape[0], 30, 3))\n",
    "\n",
    "for i in range(every_graph_choice.shape[0]):\n",
    "    for j in range(every_graph_choice.shape[1]):\n",
    "        every_graph_choice_pic[i, j] = np.array(colors.hex2color(d3_category20[every_graph_choice[i, j]]))\n",
    "        \n",
    "fig, ax = plt.subplots(1, 2, figsize=(13, 18))\n",
    "ax[0].imshow(every_graph_choice_pic)\n",
    "ax[0].set_yticks(range(len(data_hub.datasets)))\n",
    "ax[0].set_yticklabels(data_hub.datasets);\n",
    "\n",
    "ax[1].imshow(np.array([colors.hex2color(d3_category20[i]) for i in range(25)])[:, None])\n",
    "ax[1].set_yticks(range(len(data_hub.kernel_names)))\n",
    "ax[1].set_yticklabels(data_hub.kernel_names);"
   ]
  },
  {
   "cell_type": "code",
   "execution_count": 11,
   "metadata": {},
   "outputs": [
    {
     "data": {
      "text/plain": [
       "0.6878350324599658"
      ]
     },
     "execution_count": 11,
     "metadata": {},
     "output_type": "execute_result"
    }
   ],
   "source": [
    "ours2 = np.mean(ari_val[range(y_pred.shape[0]), np.argmax(y_pred, axis=1)])\n",
    "ours2"
   ]
  },
  {
   "cell_type": "markdown",
   "metadata": {},
   "source": [
    "# Ours #3 (filter out kernels)"
   ]
  },
  {
   "cell_type": "code",
   "execution_count": 12,
   "metadata": {},
   "outputs": [],
   "source": [
    "support_kernels = np.array([False, True, True, True, False, True, True, True, False,\n",
    "                            False, True, True, True, False, False, False, True, True,\n",
    "                            True, True, False, False, False, False, True])"
   ]
  },
  {
   "cell_type": "code",
   "execution_count": 13,
   "metadata": {},
   "outputs": [
    {
     "data": {
      "text/plain": [
       "0.6870900730311091"
      ]
     },
     "execution_count": 13,
     "metadata": {},
     "output_type": "execute_result"
    }
   ],
   "source": [
    "estimator = OneVsRestClassifier(SVC(probability=True))\n",
    "estimator.fit(X_train[:, [6, 18]], y_train[:, support_kernels])\n",
    "y_pred = estimator.predict_proba(X_val[:, [6, 18]])\n",
    "ours3 = np.mean(ari_val[:, support_kernels][range(y_pred.shape[0]), np.argmax(y_pred, axis=1)])\n",
    "ours3"
   ]
  },
  {
   "cell_type": "markdown",
   "metadata": {},
   "source": [
    "# Ours #4 (own OneVsRest)"
   ]
  },
  {
   "cell_type": "code",
   "execution_count": 14,
   "metadata": {},
   "outputs": [
    {
     "data": {
      "text/plain": [
       "0.6545587092882291"
      ]
     },
     "execution_count": 14,
     "metadata": {},
     "output_type": "execute_result"
    }
   ],
   "source": [
    "estimator = OneVsRest_custom(SVC(), weight_samples=False)\n",
    "estimator.fit(X_train[:, [6, 18]], y_train[:, support_kernels])\n",
    "y_pred = estimator.predict(X_val[:, [6, 18]])\n",
    "ours4 = np.mean(ari_val[:, support_kernels][range(y_pred.shape[0]), np.argmax(y_pred, axis=1)])\n",
    "ours4"
   ]
  },
  {
   "cell_type": "markdown",
   "metadata": {},
   "source": [
    "# Ours #5 (sample weights)"
   ]
  },
  {
   "cell_type": "code",
   "execution_count": 15,
   "metadata": {},
   "outputs": [
    {
     "data": {
      "text/plain": [
       "0.6521655184750695"
      ]
     },
     "execution_count": 15,
     "metadata": {},
     "output_type": "execute_result"
    }
   ],
   "source": [
    "estimator = OneVsRest_custom(SVC(), weight_samples=True)\n",
    "estimator.fit(X_train[:, [6, 18]], y_train[:, support_kernels])\n",
    "y_pred = estimator.predict(X_val[:, [6, 18]])\n",
    "ours5 = np.mean(ari_val[:, support_kernels][range(y_pred.shape[0]), np.argmax(y_pred, axis=1)])\n",
    "ours5"
   ]
  },
  {
   "cell_type": "markdown",
   "metadata": {},
   "source": [
    "# Ours #6 (SVR)"
   ]
  },
  {
   "cell_type": "code",
   "execution_count": 16,
   "metadata": {},
   "outputs": [
    {
     "data": {
      "text/plain": [
       "0.6863203112249476"
      ]
     },
     "execution_count": 16,
     "metadata": {},
     "output_type": "execute_result"
    }
   ],
   "source": [
    "estimator = OneVsRest_custom(SVR(), weight_samples=False)\n",
    "estimator.fit(X_train[:, [6, 18]], ari_train[:, support_kernels])\n",
    "y_pred = estimator.predict(X_val[:, [6, 18]])\n",
    "ours6 = np.mean(ari_val[:, support_kernels][range(y_pred.shape[0]), np.argmax(y_pred, axis=1)])\n",
    "ours6"
   ]
  },
  {
   "cell_type": "markdown",
   "metadata": {},
   "source": [
    "# Ours # 7 (SVR, sample weights)"
   ]
  },
  {
   "cell_type": "code",
   "execution_count": 17,
   "metadata": {},
   "outputs": [
    {
     "data": {
      "text/plain": [
       "0.6880358265894039"
      ]
     },
     "execution_count": 17,
     "metadata": {},
     "output_type": "execute_result"
    }
   ],
   "source": [
    "estimator = OneVsRest_custom(SVR(), weight_samples=True)\n",
    "estimator.fit(X_train[:, [6, 18]], ari_train[:, support_kernels])\n",
    "y_pred = estimator.predict(X_val[:, [6, 18]])\n",
    "ours7 = np.mean(ari_val[:, support_kernels][range(y_pred.shape[0]), np.argmax(y_pred, axis=1)])\n",
    "ours7"
   ]
  },
  {
   "cell_type": "markdown",
   "metadata": {},
   "source": [
    "# Ours #8 (SVR, sample weights, normalized to max)"
   ]
  },
  {
   "cell_type": "code",
   "execution_count": 18,
   "metadata": {},
   "outputs": [
    {
     "data": {
      "text/plain": [
       "0.6879026723440368"
      ]
     },
     "execution_count": 18,
     "metadata": {},
     "output_type": "execute_result"
    }
   ],
   "source": [
    "estimator = OneVsRest_custom(SVR(), weight_samples=True)\n",
    "estimator.fit(X_train[:, [6, 18]], ari_train[:, support_kernels] / np.max(ari_train[:, support_kernels], axis=1, keepdims=1))\n",
    "y_pred = estimator.predict(X_val[:, [6, 18]])\n",
    "ours8 = np.mean(ari_val[:, support_kernels][range(y_pred.shape[0]), np.argmax(y_pred, axis=1)])\n",
    "ours8"
   ]
  },
  {
   "cell_type": "markdown",
   "metadata": {},
   "source": [
    "# Ours #9 (RandomForestClassifier, sample_weights)"
   ]
  },
  {
   "cell_type": "code",
   "execution_count": 19,
   "metadata": {},
   "outputs": [
    {
     "data": {
      "text/plain": [
       "0.6779380700194221"
      ]
     },
     "execution_count": 19,
     "metadata": {},
     "output_type": "execute_result"
    }
   ],
   "source": [
    "estimator = RandomForestClassifier()\n",
    "estimator.fit(X_train[:, [6, 18]], y_train[:, support_kernels])\n",
    "y_pred = estimator.predict(X_val[:, [6, 18]])\n",
    "ours9 = np.mean(ari_val[:, support_kernels][range(y_pred.shape[0]), np.argmax(y_pred, axis=1)])\n",
    "ours9"
   ]
  },
  {
   "cell_type": "markdown",
   "metadata": {},
   "source": [
    "# Ours #10 (RandomForestRegressor, sample_weights)"
   ]
  },
  {
   "cell_type": "code",
   "execution_count": 20,
   "metadata": {},
   "outputs": [
    {
     "data": {
      "text/plain": [
       "0.6874081671241801"
      ]
     },
     "execution_count": 20,
     "metadata": {},
     "output_type": "execute_result"
    }
   ],
   "source": [
    "estimator = RandomForestRegressor()\n",
    "estimator.fit(X_train[:, [6, 18]], ari_train[:, support_kernels])\n",
    "y_pred = estimator.predict(X_val[:, [6, 18]])\n",
    "ours10 = np.mean(ari_val[:, support_kernels][range(y_pred.shape[0]), np.argmax(y_pred, axis=1)])\n",
    "ours10"
   ]
  },
  {
   "cell_type": "markdown",
   "metadata": {},
   "source": [
    "# Ours #11 (KNeighborsClassifier)"
   ]
  },
  {
   "cell_type": "code",
   "execution_count": 21,
   "metadata": {},
   "outputs": [
    {
     "data": {
      "text/plain": [
       "0.6693455131951032"
      ]
     },
     "execution_count": 21,
     "metadata": {},
     "output_type": "execute_result"
    }
   ],
   "source": [
    "estimator = OneVsRest_custom(KNeighborsClassifier(n_neighbors=5), weight_samples=False)\n",
    "estimator.fit(X_train[:, [6, 18]], y_train[:, support_kernels])\n",
    "y_pred = estimator.predict(X_val[:, [6, 18]])\n",
    "ours11 = np.mean(ari_val[:, support_kernels][range(y_pred.shape[0]), np.argmax(y_pred, axis=1)])\n",
    "ours11"
   ]
  },
  {
   "cell_type": "markdown",
   "metadata": {},
   "source": [
    "# Ours #12 (KNeighborsRegressor)"
   ]
  },
  {
   "cell_type": "code",
   "execution_count": 22,
   "metadata": {},
   "outputs": [
    {
     "data": {
      "text/plain": [
       "0.6927817974430417"
      ]
     },
     "execution_count": 22,
     "metadata": {},
     "output_type": "execute_result"
    }
   ],
   "source": [
    "estimator = OneVsRest_custom(KNeighborsRegressor(n_neighbors=5), weight_samples=False)\n",
    "estimator.fit(X_train[:, [6, 18]], ari_train[:, support_kernels])\n",
    "y_pred = estimator.predict(X_val[:, [6, 18]])\n",
    "ours12 = np.mean(ari_val[:, support_kernels][range(y_pred.shape[0]), np.argmax(y_pred, axis=1)])\n",
    "ours12"
   ]
  },
  {
   "cell_type": "markdown",
   "metadata": {},
   "source": [
    "# Ours #13 (LinearSVC)"
   ]
  },
  {
   "cell_type": "code",
   "execution_count": 23,
   "metadata": {},
   "outputs": [
    {
     "data": {
      "text/plain": [
       "0.651603331892544"
      ]
     },
     "execution_count": 23,
     "metadata": {},
     "output_type": "execute_result"
    }
   ],
   "source": [
    "estimator = OneVsRest_custom(LinearSVC(), weight_samples=True)\n",
    "estimator.fit(X_train[:, [6, 18]], y_train[:, support_kernels])\n",
    "y_pred = estimator.predict(X_val[:, [6, 18]])\n",
    "ours13 = np.mean(ari_val[:, support_kernels][range(y_pred.shape[0]), np.argmax(y_pred, axis=1)])\n",
    "ours13"
   ]
  },
  {
   "cell_type": "markdown",
   "metadata": {},
   "source": [
    "# Ours #14 (LinearSVR)"
   ]
  },
  {
   "cell_type": "code",
   "execution_count": 24,
   "metadata": {},
   "outputs": [
    {
     "data": {
      "text/plain": [
       "0.6823667454853042"
      ]
     },
     "execution_count": 24,
     "metadata": {},
     "output_type": "execute_result"
    }
   ],
   "source": [
    "estimator = OneVsRest_custom(LinearSVR(), weight_samples=True)\n",
    "estimator.fit(X_train[:, [6, 18]], ari_train[:, support_kernels])\n",
    "y_pred = estimator.predict(X_val[:, [6, 18]])\n",
    "ours14 = np.mean(ari_val[:, support_kernels][range(y_pred.shape[0]), np.argmax(y_pred, axis=1)])\n",
    "ours14"
   ]
  },
  {
   "cell_type": "markdown",
   "metadata": {},
   "source": [
    "# Ours #15 (OneHotEncoding(SVR))"
   ]
  },
  {
   "cell_type": "code",
   "execution_count": 25,
   "metadata": {},
   "outputs": [
    {
     "data": {
      "text/plain": [
       "0.6878630140897283"
      ]
     },
     "execution_count": 25,
     "metadata": {},
     "output_type": "execute_result"
    }
   ],
   "source": [
    "estimator = OneHotEncoding_custom(SVR(), weight_samples=False)\n",
    "estimator.fit(X_train[:, [6, 18]], ari_train[:, support_kernels])\n",
    "y_pred = estimator.predict(X_val[:, [6, 18]])\n",
    "ours15 = np.mean(ari_val[:, support_kernels][range(y_pred.shape[0]), np.argmax(y_pred, axis=1)])\n",
    "ours15"
   ]
  },
  {
   "cell_type": "markdown",
   "metadata": {},
   "source": [
    "# Ours #16 (OneHotEncoding(SVR), sample_weights)"
   ]
  },
  {
   "cell_type": "code",
   "execution_count": null,
   "metadata": {},
   "outputs": [],
   "source": [
    "estimator = OneHotEncoding_custom(SVR(), weight_samples=True)\n",
    "estimator.fit(X_train[:, [6, 18]], ari_train[:, support_kernels])\n",
    "y_pred = estimator.predict(X_val[:, [6, 18]])\n",
    "ours16 = np.mean(ari_val[:, support_kernels][range(y_pred.shape[0]), np.argmax(y_pred, axis=1)])\n",
    "ours16"
   ]
  },
  {
   "cell_type": "markdown",
   "metadata": {},
   "source": [
    "# Summary"
   ]
  },
  {
   "cell_type": "code",
   "execution_count": 26,
   "metadata": {},
   "outputs": [
    {
     "data": {
      "text/html": [
       "<div>\n",
       "<style scoped>\n",
       "    .dataframe tbody tr th:only-of-type {\n",
       "        vertical-align: middle;\n",
       "    }\n",
       "\n",
       "    .dataframe tbody tr th {\n",
       "        vertical-align: top;\n",
       "    }\n",
       "\n",
       "    .dataframe thead th {\n",
       "        text-align: right;\n",
       "    }\n",
       "</style>\n",
       "<table border=\"1\" class=\"dataframe\">\n",
       "  <thead>\n",
       "    <tr style=\"text-align: right;\">\n",
       "      <th></th>\n",
       "      <th>exp_no</th>\n",
       "      <th>method</th>\n",
       "      <th>ari</th>\n",
       "    </tr>\n",
       "  </thead>\n",
       "  <tbody>\n",
       "    <tr>\n",
       "      <th>17</th>\n",
       "      <td>-1</td>\n",
       "      <td>upper_bound2</td>\n",
       "      <td>0.738692</td>\n",
       "    </tr>\n",
       "    <tr>\n",
       "      <th>16</th>\n",
       "      <td>-1</td>\n",
       "      <td>upper_bound1</td>\n",
       "      <td>0.700581</td>\n",
       "    </tr>\n",
       "    <tr>\n",
       "      <th>12</th>\n",
       "      <td>12</td>\n",
       "      <td>separate(KNeighborsRegressor), filter kernels</td>\n",
       "      <td>0.692782</td>\n",
       "    </tr>\n",
       "    <tr>\n",
       "      <th>7</th>\n",
       "      <td>7</td>\n",
       "      <td>separate(SVR), filter kernels, weight samples</td>\n",
       "      <td>0.688036</td>\n",
       "    </tr>\n",
       "    <tr>\n",
       "      <th>8</th>\n",
       "      <td>8</td>\n",
       "      <td>separate(SVR), filter kernels, weight samples,...</td>\n",
       "      <td>0.687903</td>\n",
       "    </tr>\n",
       "    <tr>\n",
       "      <th>15</th>\n",
       "      <td>14</td>\n",
       "      <td>onehotencoding(SVR), filter kernels</td>\n",
       "      <td>0.687863</td>\n",
       "    </tr>\n",
       "    <tr>\n",
       "      <th>2</th>\n",
       "      <td>2</td>\n",
       "      <td>OneVsRest(SVC)</td>\n",
       "      <td>0.687835</td>\n",
       "    </tr>\n",
       "    <tr>\n",
       "      <th>10</th>\n",
       "      <td>10</td>\n",
       "      <td>RandomForestRegressor, filter kernels</td>\n",
       "      <td>0.687408</td>\n",
       "    </tr>\n",
       "    <tr>\n",
       "      <th>3</th>\n",
       "      <td>3</td>\n",
       "      <td>OneVsRest(SVC), filter kernels</td>\n",
       "      <td>0.687090</td>\n",
       "    </tr>\n",
       "    <tr>\n",
       "      <th>6</th>\n",
       "      <td>6</td>\n",
       "      <td>separate(SVR), filter kernels</td>\n",
       "      <td>0.686320</td>\n",
       "    </tr>\n",
       "    <tr>\n",
       "      <th>14</th>\n",
       "      <td>14</td>\n",
       "      <td>separate(LinearSVR), filter kernels, weight sa...</td>\n",
       "      <td>0.682367</td>\n",
       "    </tr>\n",
       "    <tr>\n",
       "      <th>0</th>\n",
       "      <td>-1</td>\n",
       "      <td>baseline</td>\n",
       "      <td>0.682207</td>\n",
       "    </tr>\n",
       "    <tr>\n",
       "      <th>9</th>\n",
       "      <td>9</td>\n",
       "      <td>RandomForestClassifier, filter kernels</td>\n",
       "      <td>0.677938</td>\n",
       "    </tr>\n",
       "    <tr>\n",
       "      <th>1</th>\n",
       "      <td>1</td>\n",
       "      <td>OneVsRest(logRegression)</td>\n",
       "      <td>0.677748</td>\n",
       "    </tr>\n",
       "    <tr>\n",
       "      <th>11</th>\n",
       "      <td>11</td>\n",
       "      <td>separate(KNeighborsClassifier), filter kernels</td>\n",
       "      <td>0.669346</td>\n",
       "    </tr>\n",
       "    <tr>\n",
       "      <th>4</th>\n",
       "      <td>4</td>\n",
       "      <td>separate(SVC), filter kernels</td>\n",
       "      <td>0.654559</td>\n",
       "    </tr>\n",
       "    <tr>\n",
       "      <th>5</th>\n",
       "      <td>5</td>\n",
       "      <td>separate(SVC), filter kernels, weight samples</td>\n",
       "      <td>0.652166</td>\n",
       "    </tr>\n",
       "    <tr>\n",
       "      <th>13</th>\n",
       "      <td>13</td>\n",
       "      <td>separate(LinearSVC), filter kernels, weight sa...</td>\n",
       "      <td>0.651603</td>\n",
       "    </tr>\n",
       "  </tbody>\n",
       "</table>\n",
       "</div>"
      ],
      "text/plain": [
       "    exp_no                                             method       ari\n",
       "17      -1                                       upper_bound2  0.738692\n",
       "16      -1                                       upper_bound1  0.700581\n",
       "12      12      separate(KNeighborsRegressor), filter kernels  0.692782\n",
       "7        7      separate(SVR), filter kernels, weight samples  0.688036\n",
       "8        8  separate(SVR), filter kernels, weight samples,...  0.687903\n",
       "15      14                onehotencoding(SVR), filter kernels  0.687863\n",
       "2        2                                     OneVsRest(SVC)  0.687835\n",
       "10      10              RandomForestRegressor, filter kernels  0.687408\n",
       "3        3                     OneVsRest(SVC), filter kernels  0.687090\n",
       "6        6                      separate(SVR), filter kernels  0.686320\n",
       "14      14  separate(LinearSVR), filter kernels, weight sa...  0.682367\n",
       "0       -1                                           baseline  0.682207\n",
       "9        9             RandomForestClassifier, filter kernels  0.677938\n",
       "1        1                           OneVsRest(logRegression)  0.677748\n",
       "11      11     separate(KNeighborsClassifier), filter kernels  0.669346\n",
       "4        4                      separate(SVC), filter kernels  0.654559\n",
       "5        5      separate(SVC), filter kernels, weight samples  0.652166\n",
       "13      13  separate(LinearSVC), filter kernels, weight sa...  0.651603"
      ]
     },
     "execution_count": 26,
     "metadata": {},
     "output_type": "execute_result"
    }
   ],
   "source": [
    "df = pd.DataFrame([\n",
    "    (-1,'baseline', baseline),\n",
    "    (1, 'OneVsRest(logRegression)', ours1),\n",
    "    (2, 'OneVsRest(SVC)', ours2),\n",
    "    (3, 'OneVsRest(SVC), filter kernels', ours3),\n",
    "    (4, 'separate(SVC), filter kernels', ours4),\n",
    "    (5, 'separate(SVC), filter kernels, weight samples', ours5),\n",
    "    (6, 'separate(SVR), filter kernels', ours6),\n",
    "    (7, 'separate(SVR), filter kernels, weight samples', ours7),\n",
    "    (8, 'separate(SVR), filter kernels, weight samples, normalized', ours8),\n",
    "    (9, 'RandomForestClassifier, filter kernels', ours9),\n",
    "    (10, 'RandomForestRegressor, filter kernels', ours10),\n",
    "    (11, 'separate(KNeighborsClassifier), filter kernels', ours11),\n",
    "    (12, 'separate(KNeighborsRegressor), filter kernels', ours12),\n",
    "    (13, 'separate(LinearSVC), filter kernels, weight samples', ours13),\n",
    "    (14, 'separate(LinearSVR), filter kernels, weight samples', ours14),\n",
    "    (15, 'onehotencoding(SVR), filter kernels', ours15),\n",
    "    (16, 'onehotencoding(SVR), filter kernels, weight samples', ours16),\n",
    "    (-1, 'upper_bound1', upper_bound1),\n",
    "    (-1, 'upper_bound2', upper_bound2)\n",
    "], columns=['exp_no', 'method', 'ari'])\n",
    "df.sort_values(by='ari', ascending=False)"
   ]
  },
  {
   "cell_type": "code",
   "execution_count": null,
   "metadata": {},
   "outputs": [],
   "source": []
  },
  {
   "cell_type": "code",
   "execution_count": null,
   "metadata": {},
   "outputs": [],
   "source": []
  }
 ],
 "metadata": {
  "kernelspec": {
   "display_name": "Python 3",
   "language": "python",
   "name": "python3"
  },
  "language_info": {
   "codemirror_mode": {
    "name": "ipython",
    "version": 3
   },
   "file_extension": ".py",
   "mimetype": "text/x-python",
   "name": "python",
   "nbconvert_exporter": "python",
   "pygments_lexer": "ipython3",
   "version": "3.6.9"
  }
 },
 "nbformat": 4,
 "nbformat_minor": 4
}
