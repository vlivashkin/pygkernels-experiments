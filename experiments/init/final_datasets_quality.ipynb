{
 "cells": [
  {
   "cell_type": "code",
   "execution_count": 1,
   "metadata": {},
   "outputs": [],
   "source": [
    "%matplotlib inline"
   ]
  },
  {
   "cell_type": "code",
   "execution_count": 2,
   "metadata": {},
   "outputs": [],
   "source": [
    "import pickle\n",
    "from collections import defaultdict\n",
    "\n",
    "import matplotlib.pyplot as plt\n",
    "import networkx as nx\n",
    "import numpy as np\n",
    "import pandas as pd\n",
    "from joblib import Parallel, delayed\n",
    "from networkx.algorithms.approximation import clique\n",
    "from sklearn.linear_model import LogisticRegression\n",
    "from sklearn.metrics import accuracy_score, f1_score\n",
    "from sklearn.preprocessing import Normalizer\n",
    "from tqdm.notebook import tqdm\n",
    "\n",
    "from utils import SBM_Data, Datasets_Data, load_or_calc_and_save, ytrue_to_partition, calc_avranks, RFE, RFE_LOO"
   ]
  },
  {
   "cell_type": "markdown",
   "metadata": {},
   "source": [
    "# LOO"
   ]
  },
  {
   "cell_type": "code",
   "execution_count": 3,
   "metadata": {},
   "outputs": [
    {
     "name": "stderr",
     "output_type": "stream",
     "text": [
      "100%|██████████| 24/24 [00:00<00:00, 1891.46it/s]"
     ]
    },
    {
     "name": "stdout",
     "output_type": "stream",
     "text": [
      "wrapper: cache file ../../cache/cache/feature_importance/cora_DB.pkl found! Skip calculations\n",
      "wrapper: cache file ../../cache/cache/feature_importance/cora_EC.pkl found! Skip calculations\n",
      "wrapper: cache file ../../cache/cache/feature_importance/cora_HA.pkl found! Skip calculations\n",
      "wrapper: cache file ../../cache/cache/feature_importance/cora_HCI.pkl found! Skip calculations\n",
      "wrapper: cache file ../../cache/cache/feature_importance/cora_IR.pkl found! Skip calculations\n",
      "wrapper: cache file ../../cache/cache/feature_importance/cora_Net.pkl found! Skip calculations\n",
      "wrapper: cache file ../../cache/cache/feature_importance/dolphins.pkl found! Skip calculations\n",
      "wrapper: cache file ../../cache/cache/feature_importance/eu-core.pkl found! Skip calculations\n",
      "wrapper: cache file ../../cache/cache/feature_importance/eurosis.pkl found! Skip calculations\n",
      "wrapper: cache file ../../cache/cache/feature_importance/football.pkl found! Skip calculations\n",
      "wrapper: cache file ../../cache/cache/feature_importance/karate.pkl found! Skip calculations\n",
      "wrapper: cache file ../../cache/cache/feature_importance/news_2cl1_0.1.pkl found! Skip calculations\n",
      "wrapper: cache file ../../cache/cache/feature_importance/news_2cl2_0.1.pkl found! Skip calculations\n",
      "wrapper: cache file ../../cache/cache/feature_importance/news_2cl3_0.1.pkl found! Skip calculations\n",
      "wrapper: cache file ../../cache/cache/feature_importance/news_3cl1_0.1.pkl found! Skip calculations\n",
      "wrapper: cache file ../../cache/cache/feature_importance/news_3cl2_0.1.pkl found! Skip calculations\n",
      "wrapper: cache file ../../cache/cache/feature_importance/news_3cl3_0.1.pkl found! Skip calculations\n",
      "wrapper: cache file ../../cache/cache/feature_importance/news_5cl1_0.1.pkl found! Skip calculations\n",
      "wrapper: cache file ../../cache/cache/feature_importance/news_5cl2_0.1.pkl found! Skip calculations\n",
      "wrapper: cache file ../../cache/cache/feature_importance/news_5cl3_0.1.pkl found! Skip calculations\n",
      "wrapper: cache file ../../cache/cache/feature_importance/polblogs.pkl found! Skip calculations\n",
      "wrapper: cache file ../../cache/cache/feature_importance/polbooks.pkl found! Skip calculations\n",
      "wrapper: cache file ../../cache/cache/feature_importance/sp_school_day_1.pkl found! Skip calculations\n",
      "wrapper: cache file ../../cache/cache/feature_importance/sp_school_day_2.pkl found! Skip calculations\n"
     ]
    },
    {
     "name": "stderr",
     "output_type": "stream",
     "text": [
      "\n"
     ]
    }
   ],
   "source": [
    "datasets_data_hub = Datasets_Data()\n",
    "_, datasets_results_modularity_any3, datasets_modularity_results = datasets_data_hub.load_precalculated()\n",
    "X_val, y_val, _, _, _, _, feature_names = datasets_data_hub.make_dataset(datasets_results_modularity_any3)\n",
    "\n",
    "for i, name in enumerate(feature_names[:-25]):\n",
    "    was_logged = np.array(datasets_data_hub.features_to_log)[datasets_data_hub.allowed_features][i]\n",
    "    X_val[:, i] = ((X_val[:, i] - np.mean(X_val[:, i])) if was_logged else X_val[:, i]) / np.std(X_val[:, i])"
   ]
  },
  {
   "cell_type": "code",
   "execution_count": 4,
   "metadata": {},
   "outputs": [
    {
     "name": "stderr",
     "output_type": "stream",
     "text": [
      "  0%|          | 0/18 [00:00<?, ?it/s]"
     ]
    },
    {
     "name": "stdout",
     "output_type": "stream",
     "text": [
      "all features, acc=0.871, f1=0.062\n"
     ]
    },
    {
     "name": "stderr",
     "output_type": "stream",
     "text": [
      "100%|██████████| 18/18 [00:50<00:00,  2.81s/it]\n",
      "  0%|          | 0/153 [00:00<?, ?it/s]"
     ]
    },
    {
     "name": "stdout",
     "output_type": "stream",
     "text": [
      "1 features, set=('avg_deg',) acc=0.891, f1=0.039\n"
     ]
    },
    {
     "name": "stderr",
     "output_type": "stream",
     "text": [
      "100%|██████████| 153/153 [08:37<00:00,  3.38s/it]\n",
      "  0%|          | 0/816 [00:00<?, ?it/s]"
     ]
    },
    {
     "name": "stdout",
     "output_type": "stream",
     "text": [
      "2 features, set=('avg(deg | deg > avg_deg)', 'median_deg') acc=0.898, f1=0.048\n"
     ]
    },
    {
     "name": "stderr",
     "output_type": "stream",
     "text": [
      "100%|██████████| 816/816 [1:06:42<00:00,  4.90s/it]\n",
      "  0%|          | 0/3060 [00:00<?, ?it/s]"
     ]
    },
    {
     "name": "stdout",
     "output_type": "stream",
     "text": [
      "3 features, set=('median_deg', 'avg_sp', 'median_sp') acc=0.927, f1=0.061\n"
     ]
    },
    {
     "name": "stderr",
     "output_type": "stream",
     "text": [
      "100%|██████████| 3060/3060 [4:55:43<00:00,  5.80s/it]  "
     ]
    },
    {
     "name": "stdout",
     "output_type": "stream",
     "text": [
      "4 features, set=('modularity', 'median_deg', 'avg_sp', 'median_sp') acc=0.919, f1=0.064\n"
     ]
    },
    {
     "name": "stderr",
     "output_type": "stream",
     "text": [
      "\n"
     ]
    }
   ],
   "source": [
    "estimator = LogisticRegression(max_iter=10000)\n",
    "selector = RFE_LOO(estimator, feature_names)\n",
    "selector = selector.fit(X_val, y_val)"
   ]
  },
  {
   "cell_type": "markdown",
   "metadata": {},
   "source": [
    "# Final"
   ]
  },
  {
   "cell_type": "code",
   "execution_count": 5,
   "metadata": {},
   "outputs": [
    {
     "name": "stderr",
     "output_type": "stream",
     "text": [
      "  6%|▌         | 4/69 [00:00<00:01, 35.93it/s]"
     ]
    },
    {
     "name": "stdout",
     "output_type": "stream",
     "text": [
      "wrapper: cache file ../../cache/cache/feature_importance/100_2_0.05_0.001.pkl found! Skip calculations\n",
      "wrapper: cache file ../../cache/cache/feature_importance/100_2_0.05_0.002.pkl found! Skip calculations\n",
      "wrapper: cache file ../../cache/cache/feature_importance/100_2_0.05_0.005.pkl found! Skip calculations\n",
      "wrapper: cache file ../../cache/cache/feature_importance/100_2_0.05_0.007.pkl found! Skip calculations\n",
      "wrapper: cache file ../../cache/cache/feature_importance/100_2_0.05_0.010.pkl found! Skip calculations\n",
      "wrapper: cache file ../../cache/cache/feature_importance/100_2_0.05_0.020.pkl found! Skip calculations\n",
      "wrapper: cache file ../../cache/cache/feature_importance/100_2_0.05_0.030.pkl found! Skip calculations\n",
      "wrapper: cache file ../../cache/cache/feature_importance/100_2_0.05_0.050.pkl found! Skip calculations\n",
      "wrapper: cache file ../../cache/cache/feature_importance/100_2_0.10_0.001.pkl found! Skip calculations\n",
      "wrapper: cache file ../../cache/cache/feature_importance/100_2_0.10_0.002.pkl found! Skip calculations\n",
      "wrapper: cache file ../../cache/cache/feature_importance/100_2_0.10_0.005.pkl found! Skip calculations\n",
      "wrapper: cache file ../../cache/cache/feature_importance/100_2_0.10_0.010.pkl found! Skip calculations\n",
      "wrapper: cache file ../../cache/cache/feature_importance/100_2_0.10_0.020.pkl found! Skip calculations\n",
      "wrapper: cache file ../../cache/cache/feature_importance/100_2_0.10_0.030.pkl found! Skip calculations\n",
      "wrapper: cache file ../../cache/cache/feature_importance/100_2_0.10_0.050.pkl found! Skip calculations\n",
      "wrapper: cache file ../../cache/cache/feature_importance/100_2_0.10_0.070.pkl found! Skip calculations\n",
      "wrapper: cache file ../../cache/cache/feature_importance/100_2_0.10_0.100.pkl found! Skip calculations\n"
     ]
    },
    {
     "name": "stderr",
     "output_type": "stream",
     "text": [
      " 42%|████▏     | 29/69 [00:00<00:00, 55.41it/s]"
     ]
    },
    {
     "name": "stdout",
     "output_type": "stream",
     "text": [
      "wrapper: cache file ../../cache/cache/feature_importance/100_2_0.10_0.001_1.00.pkl found! Skip calculations\n",
      "wrapper: cache file ../../cache/cache/feature_importance/100_2_0.10_0.005_1.00.pkl found! Skip calculations\n",
      "wrapper: cache file ../../cache/cache/feature_importance/100_2_0.10_0.010_1.00.pkl found! Skip calculations\n",
      "wrapper: cache file ../../cache/cache/feature_importance/100_2_0.15_0.010.pkl found! Skip calculations\n",
      "wrapper: cache file ../../cache/cache/feature_importance/100_2_0.15_0.030.pkl found! Skip calculations\n",
      "wrapper: cache file ../../cache/cache/feature_importance/100_2_0.15_0.050.pkl found! Skip calculations\n",
      "wrapper: cache file ../../cache/cache/feature_importance/100_2_0.15_0.070.pkl found! Skip calculations\n",
      "wrapper: cache file ../../cache/cache/feature_importance/100_2_0.15_0.100.pkl found! Skip calculations\n",
      "wrapper: cache file ../../cache/cache/feature_importance/100_2_0.15_0.150.pkl found! Skip calculations\n",
      "wrapper: cache file ../../cache/cache/feature_importance/100_2_0.20_0.050.pkl found! Skip calculations\n",
      "wrapper: cache file ../../cache/cache/feature_importance/100_2_0.20_0.100.pkl found! Skip calculations\n",
      "wrapper: cache file ../../cache/cache/feature_importance/100_2_0.20_0.150.pkl found! Skip calculations\n",
      "wrapper: cache file ../../cache/cache/feature_importance/100_2_0.30_0.050.pkl found! Skip calculations\n",
      "wrapper: cache file ../../cache/cache/feature_importance/100_2_0.30_0.100.pkl found! Skip calculations\n",
      "wrapper: cache file ../../cache/cache/feature_importance/100_2_0.30_0.150.pkl found! Skip calculations\n",
      "wrapper: cache file ../../cache/cache/feature_importance/102_3_0.10_0.001.pkl found! Skip calculations\n",
      "wrapper: cache file ../../cache/cache/feature_importance/102_3_0.10_0.005.pkl found! Skip calculations\n",
      "wrapper: cache file ../../cache/cache/feature_importance/102_3_0.10_0.010.pkl found! Skip calculations\n",
      "wrapper: cache file ../../cache/cache/feature_importance/102_3_0.10_0.020.pkl found! Skip calculations\n",
      "wrapper: cache file ../../cache/cache/feature_importance/102_3_0.10_0.050.pkl found! Skip calculations\n",
      "wrapper: cache file ../../cache/cache/feature_importance/102_3_0.10_0.100.pkl found! Skip calculations\n",
      "wrapper: cache file ../../cache/cache/feature_importance/102_3_0.30_0.050.pkl found! Skip calculations\n"
     ]
    },
    {
     "name": "stderr",
     "output_type": "stream",
     "text": [
      " 72%|███████▏  | 50/69 [00:00<00:00, 70.58it/s]"
     ]
    },
    {
     "name": "stdout",
     "output_type": "stream",
     "text": [
      "wrapper: cache file ../../cache/cache/feature_importance/102_3_0.30_0.100.pkl found! Skip calculations\n",
      "wrapper: cache file ../../cache/cache/feature_importance/102_3_0.30_0.150.pkl found! Skip calculations\n",
      "wrapper: cache file ../../cache/cache/feature_importance/100_4_0.10_0.001.pkl found! Skip calculations\n",
      "wrapper: cache file ../../cache/cache/feature_importance/100_4_0.10_0.005.pkl found! Skip calculations\n",
      "wrapper: cache file ../../cache/cache/feature_importance/100_4_0.10_0.010.pkl found! Skip calculations\n",
      "wrapper: cache file ../../cache/cache/feature_importance/100_4_0.10_0.020.pkl found! Skip calculations\n",
      "wrapper: cache file ../../cache/cache/feature_importance/100_4_0.10_0.050.pkl found! Skip calculations\n",
      "wrapper: cache file ../../cache/cache/feature_importance/100_4_0.10_0.100.pkl found! Skip calculations\n",
      "wrapper: cache file ../../cache/cache/feature_importance/100_4_0.30_0.100.pkl found! Skip calculations\n",
      "wrapper: cache file ../../cache/cache/feature_importance/100_4_0.30_0.150.pkl found! Skip calculations\n",
      "wrapper: cache file ../../cache/cache/feature_importance/150_2_0.10_0.001.pkl found! Skip calculations\n",
      "wrapper: cache file ../../cache/cache/feature_importance/150_2_0.10_0.005.pkl found! Skip calculations\n",
      "wrapper: cache file ../../cache/cache/feature_importance/150_3_0.10_0.001.pkl found! Skip calculations\n",
      "wrapper: cache file ../../cache/cache/feature_importance/150_3_0.10_0.005.pkl found! Skip calculations\n",
      "wrapper: cache file ../../cache/cache/feature_importance/150_3_0.10_0.010.pkl found! Skip calculations\n",
      "wrapper: cache file ../../cache/cache/feature_importance/150_3_0.10_0.020.pkl found! Skip calculations\n",
      "wrapper: cache file ../../cache/cache/feature_importance/150_3_0.10_0.050.pkl found! Skip calculations\n",
      "wrapper: cache file ../../cache/cache/feature_importance/150_3_0.10_0.100.pkl found! Skip calculations\n",
      "wrapper: cache file ../../cache/cache/feature_importance/200_2_0.30_0.050.pkl found! Skip calculations\n",
      "wrapper: cache file ../../cache/cache/feature_importance/200_2_0.30_0.100.pkl found! Skip calculations\n"
     ]
    },
    {
     "name": "stderr",
     "output_type": "stream",
     "text": [
      "100%|██████████| 69/69 [00:00<00:00, 89.21it/s]"
     ]
    },
    {
     "name": "stdout",
     "output_type": "stream",
     "text": [
      "wrapper: cache file ../../cache/cache/feature_importance/200_2_0.30_0.150.pkl found! Skip calculations\n",
      "wrapper: cache file ../../cache/cache/feature_importance/201_3_0.30_0.100.pkl found! Skip calculations\n",
      "wrapper: cache file ../../cache/cache/feature_importance/200_4_0.10_0.001.pkl found! Skip calculations\n",
      "wrapper: cache file ../../cache/cache/feature_importance/200_4_0.10_0.005.pkl found! Skip calculations\n",
      "wrapper: cache file ../../cache/cache/feature_importance/200_4_0.10_0.010.pkl found! Skip calculations\n",
      "wrapper: cache file ../../cache/cache/feature_importance/200_4_0.10_0.020.pkl found! Skip calculations\n",
      "wrapper: cache file ../../cache/cache/feature_importance/200_4_0.10_0.050.pkl found! Skip calculations\n",
      "wrapper: cache file ../../cache/cache/feature_importance/200_4_0.10_0.100.pkl found! Skip calculations\n",
      "wrapper: cache file ../../cache/cache/feature_importance/200_4_0.30_0.100.pkl found! Skip calculations\n",
      "wrapper: cache file ../../cache/cache/feature_importance/200_4_0.30_0.150.pkl found! Skip calculations\n"
     ]
    },
    {
     "name": "stderr",
     "output_type": "stream",
     "text": [
      "\n",
      "100%|██████████| 24/24 [00:00<00:00, 168.04it/s]\n"
     ]
    },
    {
     "name": "stdout",
     "output_type": "stream",
     "text": [
      "wrapper: cache file ../../cache/cache/feature_importance/cora_DB.pkl found! Skip calculations\n",
      "wrapper: cache file ../../cache/cache/feature_importance/cora_EC.pkl found! Skip calculations\n",
      "wrapper: cache file ../../cache/cache/feature_importance/cora_HA.pkl found! Skip calculations\n",
      "wrapper: cache file ../../cache/cache/feature_importance/cora_HCI.pkl found! Skip calculations\n",
      "wrapper: cache file ../../cache/cache/feature_importance/cora_IR.pkl found! Skip calculations\n",
      "wrapper: cache file ../../cache/cache/feature_importance/cora_Net.pkl found! Skip calculations\n",
      "wrapper: cache file ../../cache/cache/feature_importance/dolphins.pkl found! Skip calculations\n",
      "wrapper: cache file ../../cache/cache/feature_importance/eu-core.pkl found! Skip calculations\n",
      "wrapper: cache file ../../cache/cache/feature_importance/eurosis.pkl found! Skip calculations\n",
      "wrapper: cache file ../../cache/cache/feature_importance/football.pkl found! Skip calculations\n",
      "wrapper: cache file ../../cache/cache/feature_importance/karate.pkl found! Skip calculations\n",
      "wrapper: cache file ../../cache/cache/feature_importance/news_2cl1_0.1.pkl found! Skip calculations\n",
      "wrapper: cache file ../../cache/cache/feature_importance/news_2cl2_0.1.pkl found! Skip calculations\n",
      "wrapper: cache file ../../cache/cache/feature_importance/news_2cl3_0.1.pkl found! Skip calculations\n",
      "wrapper: cache file ../../cache/cache/feature_importance/news_3cl1_0.1.pkl found! Skip calculations\n",
      "wrapper: cache file ../../cache/cache/feature_importance/news_3cl2_0.1.pkl found! Skip calculations\n",
      "wrapper: cache file ../../cache/cache/feature_importance/news_3cl3_0.1.pkl found! Skip calculations\n",
      "wrapper: cache file ../../cache/cache/feature_importance/news_5cl1_0.1.pkl found! Skip calculations\n",
      "wrapper: cache file ../../cache/cache/feature_importance/news_5cl2_0.1.pkl found! Skip calculations\n",
      "wrapper: cache file ../../cache/cache/feature_importance/news_5cl3_0.1.pkl found! Skip calculations\n",
      "wrapper: cache file ../../cache/cache/feature_importance/polblogs.pkl found! Skip calculations\n",
      "wrapper: cache file ../../cache/cache/feature_importance/polbooks.pkl found! Skip calculations\n",
      "wrapper: cache file ../../cache/cache/feature_importance/sp_school_day_1.pkl found! Skip calculations\n",
      "wrapper: cache file ../../cache/cache/feature_importance/sp_school_day_2.pkl found! Skip calculations\n"
     ]
    }
   ],
   "source": [
    "sbm_data_hub = SBM_Data()\n",
    "_, sbm_results_modularity_any3, sbm_modularity_results = sbm_data_hub.load_precalculated()\n",
    "X_train, y_train, _, _, _, _, feature_names = sbm_data_hub.make_dataset(sbm_results_modularity_any3)\n",
    "\n",
    "datasets_data_hub = Datasets_Data()\n",
    "_, datasets_results_modularity_any3, datasets_modularity_results = datasets_data_hub.load_precalculated()\n",
    "X_val, y_val, _, _, _, _, feature_names = datasets_data_hub.make_dataset(datasets_results_modularity_any3)\n",
    "\n",
    "for i, name in enumerate(feature_names[:-25]):\n",
    "    was_logged = np.array(sbm_data_hub.features_to_log)[sbm_data_hub.allowed_features][i]\n",
    "    X_train[:, i] = ((X_train[:, i] - np.mean(X_train[:, i])) if was_logged else X_train[:, i]) / np.std(X_train[:, i])\n",
    "    X_val[:, i] = ((X_val[:, i] - np.mean(X_train[:, i])) if was_logged else X_val[:, i]) / np.std(X_train[:, i])"
   ]
  },
  {
   "cell_type": "code",
   "execution_count": 6,
   "metadata": {},
   "outputs": [
    {
     "data": {
      "text/plain": [
       "24.0"
      ]
     },
     "execution_count": 6,
     "metadata": {},
     "output_type": "execute_result"
    }
   ],
   "source": [
    "X_val.shape[0] / 25 / 7"
   ]
  },
  {
   "cell_type": "raw",
   "metadata": {},
   "source": [
    "estimator = LogisticRegression(max_iter=10000)\n",
    "selector = RFE(estimator, feature_names)\n",
    "selector = selector.fit(X_train, y_train, X_val, y_val)"
   ]
  },
  {
   "cell_type": "code",
   "execution_count": null,
   "metadata": {},
   "outputs": [],
   "source": []
  }
 ],
 "metadata": {
  "kernelspec": {
   "display_name": "Python 3",
   "language": "python",
   "name": "python3"
  },
  "language_info": {
   "codemirror_mode": {
    "name": "ipython",
    "version": 3
   },
   "file_extension": ".py",
   "mimetype": "text/x-python",
   "name": "python",
   "nbconvert_exporter": "python",
   "pygments_lexer": "ipython3",
   "version": "3.6.9"
  }
 },
 "nbformat": 4,
 "nbformat_minor": 4
}
