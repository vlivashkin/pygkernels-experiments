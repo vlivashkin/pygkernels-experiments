{
 "cells": [
  {
   "cell_type": "code",
   "execution_count": 1,
   "metadata": {},
   "outputs": [],
   "source": [
    "import os\n",
    "os.environ[\"OPENBLAS_NUM_THREADS\"] = \"1\"\n",
    "import warnings\n",
    "warnings.filterwarnings(\"ignore\")\n",
    "import sys\n",
    "sys.path.append('../..')"
   ]
  },
  {
   "cell_type": "code",
   "execution_count": 2,
   "metadata": {},
   "outputs": [],
   "source": [
    "import numpy as np\n",
    "import matplotlib.pyplot as plt\n",
    "%matplotlib inline\n",
    "from tqdm import tqdm_notebook as tqdm\n",
    "from collections import defaultdict\n",
    "from sklearn.metrics import adjusted_rand_score\n",
    "from scipy.stats import rankdata\n",
    "import itertools\n",
    "from functools import partial"
   ]
  },
  {
   "cell_type": "code",
   "execution_count": 3,
   "metadata": {},
   "outputs": [],
   "source": [
    "from pygraphs.cluster import KKMeans_vanilla as KKMeans\n",
    "from pygraphs.graphs.generator import StochasticBlockModel, RubanovModel\n",
    "from pygraphs.measure import *\n",
    "from pygraphs.measure.kernel import Kernel\n",
    "from pygraphs.measure import kernels, scaler\n",
    "from pygraphs.scenario import plot_results, d3_colors, ParallelByGraphs\n",
    "from pygraphs.scorer import rand_index"
   ]
  },
  {
   "cell_type": "code",
   "execution_count": 4,
   "metadata": {},
   "outputs": [],
   "source": [
    "optimal_params_KKMeans = {  # for (100, 2, 0.3, 0.15)\n",
    "    'pWalk': 0.77,\n",
    "    'Walk': 0.12,\n",
    "    'For': 0.81,\n",
    "    'logFor': 0.04,\n",
    "    'Comm': 0.29,\n",
    "    'logComm': 0.58,\n",
    "    'Heat': 0.60,\n",
    "    'logHeat': 0.13,\n",
    "    'NHeat': 0.93,\n",
    "    'logNHeat': 0.97,\n",
    "    'SCT': 0.95,\n",
    "    'SCCT': 0.91,\n",
    "    'RSP': 0.73,\n",
    "    'FE': 0.34,\n",
    "    'PPR': 0.98,\n",
    "    'logPPR': 0.36,\n",
    "    'ModifPPR': 0.96,\n",
    "    'logModifPPR': 0.36,\n",
    "    'HeatPPR': 0.97,\n",
    "    'logHeatPPR': 0.80,\n",
    "    'SP-CT': 0.88\n",
    "}"
   ]
  },
  {
   "cell_type": "markdown",
   "metadata": {},
   "source": [
    "# Combinations"
   ]
  },
  {
   "cell_type": "code",
   "execution_count": 5,
   "metadata": {},
   "outputs": [],
   "source": [
    "graphs, _ = StochasticBlockModel(100, 2, p_in=0.3, p_out=0.15).generate_graphs(100)"
   ]
  },
  {
   "cell_type": "code",
   "execution_count": 6,
   "metadata": {},
   "outputs": [],
   "source": [
    "def SCCT_getK(A):\n",
    "    measure = SCCT_H(A)\n",
    "    SCCT_param = measure.scaler.scale(optimal_params_KKMeans['SCCT'])\n",
    "    return measure.get_K(SCCT_param)\n",
    "\n",
    "def logComm_getK(A):\n",
    "    measure = logComm_H(A)\n",
    "    logComm_param = measure.scaler.scale(optimal_params_KKMeans['logComm'])\n",
    "    return measure.get_K(logComm_param)\n",
    "\n",
    "def HeatPPR_getK(A):\n",
    "    measure = HeatPPR_H(A)\n",
    "    HeatPPR_param = measure.scaler.scale(optimal_params_KKMeans['HeatPPR'])\n",
    "    return measure.get_K(HeatPPR_param)\n",
    "\n",
    "def logNHeat_getK(A):\n",
    "    measure = logNHeat_H(A)\n",
    "    logNHeat_param = measure.scaler.scale(optimal_params_KKMeans['logNHeat'])\n",
    "    return measure.get_K(logNHeat_param)\n",
    "\n",
    "measure_getK = {\n",
    "    'SCCT': SCCT_getK,\n",
    "    'logComm': logComm_getK,\n",
    "    'HeatPPR': HeatPPR_getK,\n",
    "    'logNHeat': logNHeat_getK\n",
    "}"
   ]
  },
  {
   "cell_type": "code",
   "execution_count": 17,
   "metadata": {},
   "outputs": [
    {
     "data": {
      "application/vnd.jupyter.widget-view+json": {
       "model_id": "ae30df1c732d4b89956134c2d6291a8f",
       "version_major": 2,
       "version_minor": 0
      },
      "text/plain": [
       "HBox(children=(IntProgress(value=0, max=6), HTML(value='')))"
      ]
     },
     "metadata": {},
     "output_type": "display_data"
    },
    {
     "name": "stderr",
     "output_type": "stream",
     "text": [
      "SCCT-logComm: 100%|██████████| 100/100 [04:06<00:00,  2.46s/it]\n",
      "SCCT-HeatPPR: 100%|██████████| 100/100 [04:00<00:00,  2.40s/it]\n",
      "SCCT-logNHeat: 100%|██████████| 100/100 [04:06<00:00,  2.46s/it]\n",
      "logComm-HeatPPR: 100%|██████████| 100/100 [03:24<00:00,  2.04s/it]\n",
      "logComm-logNHeat: 100%|██████████| 100/100 [03:32<00:00,  2.12s/it]\n",
      "HeatPPR-logNHeat: 100%|██████████| 100/100 [03:34<00:00,  2.14s/it]\n"
     ]
    },
    {
     "name": "stdout",
     "output_type": "stream",
     "text": [
      "\n"
     ]
    }
   ],
   "source": [
    "all_results = {}\n",
    "\n",
    "def pair_measure_builder(measure1, measure2):\n",
    "\n",
    "    class pair_measure(Kernel):\n",
    "        name, default_scaler = f'{measure1.name}-{measure2.name}', scaler.Linear\n",
    "\n",
    "        def __init__(self, A):\n",
    "            super().__init__(A)\n",
    "\n",
    "            self.measure1_result = measure_getK[measure1.name](A)\n",
    "            self.measure2_result = measure_getK[measure2.name](A)\n",
    "\n",
    "        def get_K(self, param):\n",
    "            return (1 - param) * self.measure1_result + param * self.measure2_result\n",
    "        \n",
    "    return pair_measure\n",
    "\n",
    "for measure1, measure2 in tqdm([\n",
    "        (SCCT_H, logComm_H),\n",
    "        (SCCT_H, HeatPPR_H),\n",
    "        (SCCT_H, logNHeat_H),\n",
    "        (logComm_H, HeatPPR_H),\n",
    "        (logComm_H, logNHeat_H),\n",
    "        (HeatPPR_H, logNHeat_H)]):\n",
    "\n",
    "    measure = pair_measure_builder(measure1, measure2)\n",
    "    classic_plot = ParallelByGraphs(rand_index, 151, progressbar=True, verbose=True)\n",
    "    results_pair = classic_plot.perform(KKMeans, measure, graphs, 2, n_jobs=6)\n",
    "\n",
    "    all_results[measure.name] = results_pair"
   ]
  },
  {
   "cell_type": "code",
   "execution_count": 18,
   "metadata": {},
   "outputs": [
    {
     "data": {
      "application/vnd.jupyter.widget-view+json": {
       "model_id": "98c9e56dec064273a5015dbff870d452",
       "version_major": 2,
       "version_minor": 0
      },
      "text/plain": [
       "HBox(children=(IntProgress(value=0, max=4), HTML(value='')))"
      ]
     },
     "metadata": {},
     "output_type": "display_data"
    },
    {
     "name": "stderr",
     "output_type": "stream",
     "text": [
      "SCCT-SCCT: 100%|██████████| 100/100 [00:01<00:00, 83.35it/s]\n",
      "logComm-logComm: 100%|██████████| 100/100 [00:00<00:00, 128.67it/s]\n",
      "HeatPPR-HeatPPR: 100%|██████████| 100/100 [00:01<00:00, 87.99it/s]\n",
      "logNHeat-logNHeat: 100%|██████████| 100/100 [00:01<00:00, 95.94it/s]\n"
     ]
    },
    {
     "name": "stdout",
     "output_type": "stream",
     "text": [
      "\n"
     ]
    }
   ],
   "source": [
    "for measure1, measure2 in tqdm([\n",
    "        (SCCT_H, SCCT_H),\n",
    "        (logComm_H, logComm_H),\n",
    "        (HeatPPR_H, HeatPPR_H),\n",
    "        (logNHeat_H, logNHeat_H)]):\n",
    "    measure = pair_measure_builder(measure1, measure2)\n",
    "    classic_plot = ParallelByGraphs(rand_index, 1, progressbar=True, verbose=True)\n",
    "    results_pair = classic_plot.perform(KKMeans, measure, graphs, 2, n_jobs=6)\n",
    "\n",
    "    all_results[measure.name] = results_pair"
   ]
  },
  {
   "cell_type": "code",
   "execution_count": 50,
   "metadata": {},
   "outputs": [
    {
     "name": "stdout",
     "output_type": "stream",
     "text": [
      "SCCT-SCCT 0.8791\n",
      "SCCT-logComm 0.8798\n",
      "SCCT-HeatPPR 0.8797\n",
      "SCCT-logNHeat 0.8796\n",
      "logComm-logComm 0.8761\n",
      "logComm-HeatPPR 0.8816\n",
      "logComm-logNHeat 0.8779\n",
      "HeatPPR-HeatPPR 0.8765\n",
      "HeatPPR-logNHeat 0.8765\n",
      "logNHeat-logNHeat 0.8742\n"
     ]
    }
   ],
   "source": [
    "data = np.full((4, 4), np.nan)\n",
    "\n",
    "for idx1, measure1 in enumerate([SCCT_H, logComm_H, HeatPPR_H, logNHeat_H]):\n",
    "    for idx2, measure2 in enumerate([SCCT_H, logComm_H, HeatPPR_H, logNHeat_H]):\n",
    "        try:\n",
    "            key = f'{measure1.name}-{measure2.name}'\n",
    "            x, y, error = all_results[key]\n",
    "            max_ari = np.nanmax(y)\n",
    "            print(key, f'{max_ari:.4f}')\n",
    "            \n",
    "            data[idx1, idx2] = max_ari\n",
    "        except:\n",
    "            pass"
   ]
  },
  {
   "cell_type": "code",
   "execution_count": 51,
   "metadata": {},
   "outputs": [
    {
     "data": {
      "text/plain": [
       "array([[0.87909293, 0.87978182, 0.87965657, 0.87957172],\n",
       "       [       nan, 0.87609697, 0.88163232, 0.87792727],\n",
       "       [       nan,        nan, 0.87653535, 0.87653535],\n",
       "       [       nan,        nan,        nan, 0.87419394]])"
      ]
     },
     "execution_count": 51,
     "metadata": {},
     "output_type": "execute_result"
    }
   ],
   "source": [
    "data"
   ]
  },
  {
   "cell_type": "code",
   "execution_count": 58,
   "metadata": {},
   "outputs": [
    {
     "data": {
      "text/plain": [
       "<matplotlib.colorbar.Colorbar at 0x7fc66d6105c0>"
      ]
     },
     "execution_count": 58,
     "metadata": {},
     "output_type": "execute_result"
    },
    {
     "data": {
      "image/png": "[encoded data removed]",
      "text/plain": [
       "<Figure size 288x288 with 2 Axes>"
      ]
     },
     "metadata": {
      "needs_background": "light"
     },
     "output_type": "display_data"
    }
   ],
   "source": [
    "fig, ax = plt.subplots(1, figsize=(4, 4))\n",
    "\n",
    "# heatmap = ax.pcolor(data)\n",
    "\n",
    "ax.imshow(data)\n",
    "\n",
    "ax.set_yticks(range(4))\n",
    "ax.set_xticks(range(4));\n",
    "\n",
    "ax.set_yticklabels(['SCCT', 'logComm', 'HeatPPR', 'logNHeat'])\n",
    "ax.set_xticklabels(['SCCT', 'logComm', 'HeatPPR', 'logNHeat']);\n",
    "\n",
    "\n",
    "plt.colorbar(heatmap)"
   ]
  },
  {
   "cell_type": "code",
   "execution_count": 76,
   "metadata": {},
   "outputs": [
    {
     "data": {
      "image/png": "[encoded data removed]",
      "text/plain": [
       "<Figure size 720x720 with 6 Axes>"
      ]
     },
     "metadata": {
      "needs_background": "light"
     },
     "output_type": "display_data"
    }
   ],
   "source": [
    "fig, ax = plt.subplots(2, 3, figsize=(10, 10), sharex=True, sharey=True)\n",
    "\n",
    "    \n",
    "for idx, (measure1, measure2) in enumerate([\n",
    "        (SCCT_H, logComm_H),\n",
    "        (SCCT_H, HeatPPR_H),\n",
    "        (SCCT_H, logNHeat_H),\n",
    "        (logComm_H, HeatPPR_H),\n",
    "        (logComm_H, logNHeat_H),\n",
    "        (HeatPPR_H, logNHeat_H)]):\n",
    "    key = f'{measure1.name}-{measure2.name}'\n",
    "    x, y, error = all_results[key]\n",
    "    \n",
    "    plot_results(ax[idx // 3][idx % 3], [(key, *all_results[key])], ylim=(0.8675, 0.885))\n",
    "    if idx // 3 == 1:\n",
    "        ax[idx // 3][idx % 3].set_xlabel('param')\n",
    "    if idx % 3 == 0:\n",
    "        ax[idx // 3][idx % 3].set_ylabel('ARI')"
   ]
  },
  {
   "cell_type": "code",
   "execution_count": null,
   "metadata": {},
   "outputs": [],
   "source": []
  }
 ],
 "metadata": {
  "kernelspec": {
   "display_name": "Python 3",
   "language": "python",
   "name": "python3"
  },
  "language_info": {
   "codemirror_mode": {
    "name": "ipython",
    "version": 3
   },
   "file_extension": ".py",
   "mimetype": "text/x-python",
   "name": "python",
   "nbconvert_exporter": "python",
   "pygments_lexer": "ipython3",
   "version": "3.6.9"
  }
 },
 "nbformat": 4,
 "nbformat_minor": 2
}
