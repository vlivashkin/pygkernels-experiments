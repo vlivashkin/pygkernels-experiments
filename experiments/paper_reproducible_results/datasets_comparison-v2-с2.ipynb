{
 "cells": [
  {
   "cell_type": "code",
   "execution_count": 1,
   "metadata": {},
   "outputs": [],
   "source": [
    "%matplotlib inline"
   ]
  },
  {
   "cell_type": "code",
   "execution_count": 2,
   "metadata": {},
   "outputs": [],
   "source": [
    "import os\n",
    "import sys\n",
    "import numpy as np\n",
    "import pickle\n",
    "import json\n",
    "import networkx as nx\n",
    "import pandas as pd\n",
    "import powerlaw\n",
    "from scipy.stats import rankdata\n",
    "from collections import defaultdict, Counter\n",
    "from networkx.algorithms.community.quality import modularity as nx_modularity\n",
    "import matplotlib.pyplot as plt\n",
    "\n",
    "sys.path.append('../../pygkernels')\n",
    "from pygkernels.data import Datasets\n",
    "from pygkernels.measure import kernels, Kernel"
   ]
  },
  {
   "cell_type": "code",
   "execution_count": 3,
   "metadata": {},
   "outputs": [],
   "source": [
    "def np2nx(A: np.ndarray, partition: np.ndarray):\n",
    "    G = nx.from_numpy_matrix(A)\n",
    "    nx.set_node_attributes(G, dict(enumerate(partition)), 'community')\n",
    "    return G\n",
    "\n",
    "def partition2communities(partition):\n",
    "    result = defaultdict(list)\n",
    "    for idx, class_ in enumerate(partition):\n",
    "        result[class_].append(idx)\n",
    "    return list(result.values())\n",
    "\n",
    "def power_law(values, maxval=200):\n",
    "    tau = powerlaw.Fit(values, verbose=False).alpha\n",
    "    if tau > maxval or np.isnan(tau):\n",
    "        tau = maxval\n",
    "    return tau\n",
    "\n",
    "feature_inv = lambda x, power: (1 - (1 / x**power))"
   ]
  },
  {
   "cell_type": "code",
   "execution_count": 4,
   "metadata": {},
   "outputs": [],
   "source": [
    "def calc_avranks(results):  # {dataset: {classifier: accuracy}}\n",
    "    ranks = defaultdict(list)\n",
    "    for _, classifier_accuracy in results.items():\n",
    "        classifiers, accuracies = zip(*list(classifier_accuracy.items()))\n",
    "        for classifier, rank in zip(classifiers, rankdata(-np.array(accuracies), method='min')):\n",
    "            ranks[classifier].append(rank)\n",
    "    ranks = {k: np.mean(v) for k, v in sorted(ranks.items(), key=lambda x: x[0])}\n",
    "    return list(ranks.values()), list(ranks.keys()), len(results)"
   ]
  },
  {
   "cell_type": "code",
   "execution_count": 5,
   "metadata": {},
   "outputs": [],
   "source": [
    "CACHE_ROOT = '/data/phd/pygkernels/cache/kkmeans_init_datasets'\n",
    "dataset_names = [\n",
    "    'dolphins',\n",
    "    'football',\n",
    "    'karate',\n",
    "    'news_2cl1_0.1', 'news_2cl2_0.1', 'news_2cl3_0.1',\n",
    "    'news_3cl1_0.1', 'news_3cl2_0.1', 'news_3cl3_0.1',\n",
    "    'news_5cl1_0.1', 'news_5cl2_0.1', 'news_5cl3_0.1',\n",
    "    'polblogs',\n",
    "    'polbooks',\n",
    "    'sp_school_day_1', 'sp_school_day_2',\n",
    "    'cora_AI', 'cora_AI_ML', 'cora_DS_AT', 'cora_DB', 'cora_EC', 'cora_HA',\n",
    "    'cora_HCI', 'cora_IR', 'cora_Net', 'cora_OS', 'cora_Prog',\n",
    "    'eu-core',\n",
    "    'eurosis'\n",
    "]"
   ]
  },
  {
   "cell_type": "code",
   "execution_count": 6,
   "metadata": {},
   "outputs": [],
   "source": [
    "param_norms = {\n",
    "    'tau1|sqrtinv': {'min': 0.27, 'max': 0.94},\n",
    "    'avg_degree|log': {'min': 0.86, 'max': 7.07},\n",
    "    'modularity': {'min': -0.46, 'max': 0.84}\n",
    "}\n",
    "\n",
    "for param, norms in param_norms.items():\n",
    "    param_norms[param]['width'] = norms['max'] - norms['min']\n",
    "    \n",
    "def normalize(param, param_name):\n",
    "    return (param - param_norms[param_name]['min']) / param_norms[param_name]['width']"
   ]
  },
  {
   "cell_type": "code",
   "execution_count": 7,
   "metadata": {},
   "outputs": [],
   "source": [
    "# allowed_measures = ['SCCT', 'logComm', 'logDF', 'RSP', 'Comm', 'NHeat']\n",
    "allowed_measures = [kernel.name for kernel in kernels]"
   ]
  },
  {
   "cell_type": "markdown",
   "metadata": {},
   "source": [
    "# Сравнение результатов на датасетах\n",
    "\n",
    "Шаги:\n",
    "* Формируем список всех датасетов и мер, а также их параметров: tau1, avg degree, modularity\n",
    "* Открываем всё насчитанное\n",
    "* Находим для каждого датасета лучший скор каждой меры\n",
    "* Стратегия 1: выбираем для каждого датасета лучшую меру (upper bound)\n",
    "* Стратегия 2: выбираем для всех датасетов общую лучшую меру (SCT или SCCT)\n",
    "* Стратегия 3: выбираем для каждого датасета меру согласно его параметрам"
   ]
  },
  {
   "cell_type": "code",
   "execution_count": 8,
   "metadata": {},
   "outputs": [
    {
     "name": "stdout",
     "output_type": "stream",
     "text": [
      "7396\n",
      "5935\n"
     ]
    }
   ],
   "source": [
    "with open('filtered_dataset.json', 'r') as f:\n",
    "    lfr = json.load(f)\n",
    "print(len(lfr))\n",
    "\n",
    "for idx, lfr_item in enumerate(lfr):\n",
    "    lfr[idx]['measure_best_results'] = {k: v for k, v in lfr[idx]['measure_best_results'].items() if k in allowed_measures}\n",
    "    \n",
    "idx_several_answers = [idx for idx, d in enumerate(lfr) \n",
    "                       if np.sum(np.max(np.array(list(d['measure_best_results'].values()))) == np.array(list(d['measure_best_results'].values()))) > 1]\n",
    "idx_several_answers = set(idx_several_answers)\n",
    "\n",
    "lfr = [d for idx, d in enumerate(lfr) if idx not in idx_several_answers]\n",
    "\n",
    "lfr = [d for d in lfr if np.max(list(d['measure_best_results'].values())) > 0]\n",
    "print(len(lfr))"
   ]
  },
  {
   "cell_type": "code",
   "execution_count": 9,
   "metadata": {},
   "outputs": [],
   "source": [
    "buckets = defaultdict(list)\n",
    "for lfr_item in lfr:\n",
    "    modularity = lfr_item['estimated_params']['modularity']\n",
    "    ari = np.max(list(lfr_item['measure_best_results'].values()))\n",
    "    buckets[(modularity * 100 // 5) / 20].append(ari)\n",
    "for key, items in buckets.items():\n",
    "    buckets[key] = np.mean(items)"
   ]
  },
  {
   "cell_type": "code",
   "execution_count": 10,
   "metadata": {},
   "outputs": [
    {
     "data": {
      "text/plain": [
       "Text(0, 0.5, 'ARI')"
      ]
     },
     "execution_count": 10,
     "metadata": {},
     "output_type": "execute_result"
    },
    {
     "data": {
      "image/png": "[encoded data removed]",
      "text/plain": [
       "<Figure size 432x288 with 1 Axes>"
      ]
     },
     "metadata": {
      "needs_background": "light"
     },
     "output_type": "display_data"
    }
   ],
   "source": [
    "plt.plot(sorted(buckets.keys()), [buckets[k] for k in sorted(buckets.keys())])\n",
    "plt.xlabel('modularity')\n",
    "plt.ylabel('ARI')"
   ]
  },
  {
   "cell_type": "code",
   "execution_count": 11,
   "metadata": {},
   "outputs": [],
   "source": [
    "data = defaultdict(dict)"
   ]
  },
  {
   "cell_type": "code",
   "execution_count": 12,
   "metadata": {},
   "outputs": [
    {
     "name": "stdout",
     "output_type": "stream",
     "text": [
      "Dataset dolphins not in cache; reload\n"
     ]
    },
    {
     "name": "stderr",
     "output_type": "stream",
     "text": [
      "/home/vlivashkin/.local/lib/python3.8/site-packages/powerlaw.py:699: RuntimeWarning: invalid value encountered in true_divide\n",
      "  (CDF_diff**2) /\n"
     ]
    },
    {
     "name": "stdout",
     "output_type": "stream",
     "text": [
      "Dataset football not in cache; reload\n",
      "Dataset karate not in cache; reload\n",
      "Dataset news_2cl1_0.1 not in cache; reload\n",
      "Dataset news_2cl2_0.1 not in cache; reload\n",
      "Dataset news_2cl3_0.1 not in cache; reload\n",
      "Dataset news_3cl1_0.1 not in cache; reload\n",
      "Dataset news_3cl2_0.1 not in cache; reload\n",
      "Dataset news_3cl3_0.1 not in cache; reload\n",
      "Dataset news_5cl1_0.1 not in cache; reload\n",
      "Dataset news_5cl2_0.1 not in cache; reload\n",
      "Dataset news_5cl3_0.1 not in cache; reload\n",
      "Dataset polblogs not in cache; reload\n",
      "Dataset polbooks not in cache; reload\n",
      "Dataset sp_school_day_1 not in cache; reload\n",
      "Dataset sp_school_day_2 not in cache; reload\n",
      "Dataset cora_AI not in cache; reload\n",
      "Dataset cora_AI_ML not in cache; reload\n",
      "Dataset cora_DS_AT not in cache; reload\n",
      "Dataset cora_DB not in cache; reload\n",
      "Dataset cora_EC not in cache; reload\n",
      "Dataset cora_HA not in cache; reload\n",
      "Dataset cora_HCI not in cache; reload\n",
      "Dataset cora_IR not in cache; reload\n",
      "Dataset cora_Net not in cache; reload\n",
      "Dataset cora_OS not in cache; reload\n",
      "Dataset cora_Prog not in cache; reload\n",
      "Dataset eu-core not in cache; reload\n",
      "Dataset eurosis not in cache; reload\n"
     ]
    }
   ],
   "source": [
    "datasets_holder = Datasets()\n",
    "for dataset_name in dataset_names:\n",
    "    (A, partition), info = datasets_holder[dataset_name]\n",
    "    G = np2nx(A, partition)\n",
    "    \n",
    "    # Parameters\n",
    "    avg_degree = 2 * G.number_of_edges() / G.number_of_nodes()\n",
    "    node_degrees = [d for n, d in G.degree()]\n",
    "    tau1 = power_law(node_degrees, 100)\n",
    "    community_sizes = list(Counter(partition).values())\n",
    "    modularity = nx_modularity(G, partition2communities(partition))\n",
    "    data[dataset_name]['params'] = {\n",
    "        'n': G.number_of_nodes(),\n",
    "        'k': len(community_sizes),\n",
    "        'tau1': tau1, \n",
    "        'tau1|sqrtinv': feature_inv(tau1, 0.5),\n",
    "        'avg_degree': avg_degree,\n",
    "        'avg_degree|log': np.log(avg_degree),\n",
    "        'modularity': modularity\n",
    "    }\n",
    "    \n",
    "    # Best measure according LFR\n",
    "    lfr_distances = []\n",
    "    for lfr_item in lfr:\n",
    "        diff1 = np.abs(normalize(lfr_item['estimated_params']['tau1|sqrtinv'], 'tau1|sqrtinv') - \n",
    "                       normalize(data[dataset_name]['params']['tau1|sqrtinv'], 'tau1|sqrtinv'))\n",
    "        diff2 = np.abs(normalize(lfr_item['estimated_params']['avg_degree|log'], 'avg_degree|log') - \n",
    "                       normalize(data[dataset_name]['params']['avg_degree|log'], 'avg_degree|log'))\n",
    "        diff3 = np.abs(normalize(lfr_item['estimated_params']['modularity'], 'modularity') - \n",
    "                       normalize(data[dataset_name]['params']['modularity'], 'modularity'))\n",
    "        dist = np.sqrt(diff1*diff1 + diff2*diff2 + diff3*diff3)\n",
    "        lfr_distances.append((dist, lfr_item['measure_best_results']))\n",
    "    lfr_distances = sorted(lfr_distances, key=lambda x: x[0])\n",
    "   \n",
    "    lfr_recomendation = {}\n",
    "    for n_neighbors in range(1, 11):\n",
    "        lfr_distances1 = lfr_distances[:n_neighbors]\n",
    "        lfr_mean_ari = defaultdict(list)\n",
    "        for dist, results in lfr_distances1:\n",
    "            for measure_name, ari in results.items():\n",
    "                lfr_mean_ari[measure_name].append(ari)\n",
    "        for k, v in lfr_mean_ari.items():\n",
    "            lfr_mean_ari[k] = np.nanmean(v)\n",
    "        lfr_recomendation[f'{n_neighbors}nn'] = sorted([(k, v) for k, v in lfr_mean_ari.items() if k in allowed_measures], key=lambda x: -x[1])[0][0]\n",
    "        lfr_recomendation[f'{n_neighbors}nn_aris'] = {k: v for k, v in lfr_mean_ari.items() if k in allowed_measures}\n",
    "    data[dataset_name]['lfr_recomendation'] = lfr_recomendation\n",
    "    \n",
    "    # Results\n",
    "    data[dataset_name]['results'] = {}\n",
    "    best_dataset_kernel_name, best_dataset_kernel_ari = None, -1\n",
    "    best_dataset_kernel_name_top6, best_dataset_kernel_ari_top6 = None, -1\n",
    "    for kernel in kernels:\n",
    "        dataset_kernel_results_mean = defaultdict(list)\n",
    "        for i in range(7):\n",
    "            filepath = f'{CACHE_ROOT}/by_column_and_kernel/{dataset_name}_{kernel.name}_results_0{i}.pkl'\n",
    "            if os.path.exists(filepath):\n",
    "                with open(filepath, 'rb') as f:\n",
    "                    dataset_kernel_results = pickle.load(f)\n",
    "                for param, param_results in dataset_kernel_results.items():\n",
    "                    if len(param_results) > 0:\n",
    "                        best_init = sorted(param_results, key=lambda x: -x['modularity'])[0]\n",
    "                        dataset_kernel_results_mean[param].append(best_init['score_ari'])\n",
    "                    else:\n",
    "                        dataset_kernel_results_mean[param].append(0)\n",
    "            else:\n",
    "                print(filepath)\n",
    "        for k, v in dataset_kernel_results_mean.items():\n",
    "            dataset_kernel_results_mean[k] = np.mean(v)\n",
    "        best_ari = np.max(list(dataset_kernel_results_mean.values()), initial=0)\n",
    "        data[dataset_name]['results'][kernel.name] = best_ari\n",
    "\n",
    "        if best_ari > best_dataset_kernel_ari:\n",
    "            best_dataset_kernel_name, best_dataset_kernel_ari = kernel.name, best_ari\n",
    "        elif best_ari == best_dataset_kernel_ari:\n",
    "            if type(best_dataset_kernel_name) == list:\n",
    "                best_dataset_kernel_name.append(kernel.name)\n",
    "            else:\n",
    "                best_dataset_kernel_name = [best_dataset_kernel_name, kernel.name]\n",
    "\n",
    "        if kernel.name in allowed_measures:\n",
    "            if best_ari > best_dataset_kernel_ari_top6:\n",
    "                best_dataset_kernel_name_top6, best_dataset_kernel_ari_top6 = kernel.name, best_ari\n",
    "            elif best_ari == best_dataset_kernel_ari_top6:\n",
    "                if type(best_dataset_kernel_name_top6) == list:\n",
    "                    best_dataset_kernel_name_top6.append(kernel.name)\n",
    "                else:\n",
    "                    best_dataset_kernel_name_top6 = [best_dataset_kernel_name_top6, kernel.name]\n",
    "\n",
    "    data[dataset_name]['best_measure'] = {\n",
    "        'name': best_dataset_kernel_name, \n",
    "        'ari': best_dataset_kernel_ari\n",
    "    }\n",
    "    \n",
    "    data[dataset_name]['best_measure_top6'] = {\n",
    "        'name': best_dataset_kernel_name_top6, \n",
    "        'ari': best_dataset_kernel_ari_top6\n",
    "    }"
   ]
  },
  {
   "cell_type": "code",
   "execution_count": 13,
   "metadata": {},
   "outputs": [],
   "source": [
    "group_by_measure = defaultdict(list)\n",
    "for dataset_name, results in data.items():\n",
    "    for kernel_name, ari in results['results'].items():\n",
    "        group_by_measure[kernel_name].append(ari)\n",
    "meanari_real = {k: np.mean(v) for k, v in group_by_measure.items()}\n",
    "meanari_real;"
   ]
  },
  {
   "cell_type": "code",
   "execution_count": 14,
   "metadata": {},
   "outputs": [],
   "source": [
    "dataset_clf_acc = {dataset: results['results'] for dataset, results in data.items()}\n",
    "ranks_real = {v: k for k, v in zip(*calc_avranks(dataset_clf_acc)[:2])}\n",
    "ranks_real;"
   ]
  },
  {
   "cell_type": "code",
   "execution_count": 15,
   "metadata": {},
   "outputs": [],
   "source": [
    "group_by_measure = defaultdict(list)\n",
    "for dataset_name, results in data.items():\n",
    "    for kernel_name, ari in results['lfr_recomendation']['5nn_aris'].items():\n",
    "        group_by_measure[kernel_name].append(ari)\n",
    "meanari_5nn = {k: np.mean(v) for k, v in group_by_measure.items()}\n",
    "meanari_5nn;"
   ]
  },
  {
   "cell_type": "code",
   "execution_count": 16,
   "metadata": {},
   "outputs": [],
   "source": [
    "dataset_clf_acc = {dataset: results['lfr_recomendation']['5nn_aris'] for dataset, results in data.items()}\n",
    "ranks_5nn = {v: k for k, v in zip(*calc_avranks(dataset_clf_acc)[:2])}\n",
    "ranks_5nn;"
   ]
  },
  {
   "cell_type": "code",
   "execution_count": 17,
   "metadata": {},
   "outputs": [
    {
     "ename": "KeyError",
     "evalue": "'Katz'",
     "output_type": "error",
     "traceback": [
      "\u001b[0;31m---------------------------------------------------------------------------\u001b[0m",
      "\u001b[0;31mKeyError\u001b[0m                                  Traceback (most recent call last)",
      "\u001b[0;32m<ipython-input-17-c2934c249fb3>\u001b[0m in \u001b[0;36m<module>\u001b[0;34m\u001b[0m\n\u001b[0;32m----> 1\u001b[0;31m df = pd.DataFrame.from_records([{\n\u001b[0m\u001b[1;32m      2\u001b[0m     \u001b[0;34m'name'\u001b[0m\u001b[0;34m:\u001b[0m \u001b[0mkernel_name\u001b[0m\u001b[0;34m,\u001b[0m\u001b[0;34m\u001b[0m\u001b[0;34m\u001b[0m\u001b[0m\n\u001b[1;32m      3\u001b[0m     \u001b[0;34m'meanari_real'\u001b[0m\u001b[0;34m:\u001b[0m \u001b[0mmeanari_real\u001b[0m\u001b[0;34m[\u001b[0m\u001b[0mkernel_name\u001b[0m\u001b[0;34m]\u001b[0m\u001b[0;34m,\u001b[0m\u001b[0;34m\u001b[0m\u001b[0;34m\u001b[0m\u001b[0m\n\u001b[1;32m      4\u001b[0m     \u001b[0;34m'ranks_real'\u001b[0m\u001b[0;34m:\u001b[0m \u001b[0mranks_real\u001b[0m\u001b[0;34m[\u001b[0m\u001b[0mkernel_name\u001b[0m\u001b[0;34m]\u001b[0m\u001b[0;34m,\u001b[0m\u001b[0;34m\u001b[0m\u001b[0;34m\u001b[0m\u001b[0m\n\u001b[1;32m      5\u001b[0m     \u001b[0;34m'meanari_5nn'\u001b[0m\u001b[0;34m:\u001b[0m \u001b[0mmeanari_5nn\u001b[0m\u001b[0;34m[\u001b[0m\u001b[0mkernel_name\u001b[0m\u001b[0;34m]\u001b[0m\u001b[0;34m,\u001b[0m\u001b[0;34m\u001b[0m\u001b[0;34m\u001b[0m\u001b[0m\n",
      "\u001b[0;32m<ipython-input-17-c2934c249fb3>\u001b[0m in \u001b[0;36m<listcomp>\u001b[0;34m(.0)\u001b[0m\n\u001b[1;32m      3\u001b[0m     \u001b[0;34m'meanari_real'\u001b[0m\u001b[0;34m:\u001b[0m \u001b[0mmeanari_real\u001b[0m\u001b[0;34m[\u001b[0m\u001b[0mkernel_name\u001b[0m\u001b[0;34m]\u001b[0m\u001b[0;34m,\u001b[0m\u001b[0;34m\u001b[0m\u001b[0;34m\u001b[0m\u001b[0m\n\u001b[1;32m      4\u001b[0m     \u001b[0;34m'ranks_real'\u001b[0m\u001b[0;34m:\u001b[0m \u001b[0mranks_real\u001b[0m\u001b[0;34m[\u001b[0m\u001b[0mkernel_name\u001b[0m\u001b[0;34m]\u001b[0m\u001b[0;34m,\u001b[0m\u001b[0;34m\u001b[0m\u001b[0;34m\u001b[0m\u001b[0m\n\u001b[0;32m----> 5\u001b[0;31m     \u001b[0;34m'meanari_5nn'\u001b[0m\u001b[0;34m:\u001b[0m \u001b[0mmeanari_5nn\u001b[0m\u001b[0;34m[\u001b[0m\u001b[0mkernel_name\u001b[0m\u001b[0;34m]\u001b[0m\u001b[0;34m,\u001b[0m\u001b[0;34m\u001b[0m\u001b[0;34m\u001b[0m\u001b[0m\n\u001b[0m\u001b[1;32m      6\u001b[0m     \u001b[0;34m'ranks_5nn'\u001b[0m\u001b[0;34m:\u001b[0m \u001b[0mranks_5nn\u001b[0m\u001b[0;34m[\u001b[0m\u001b[0mkernel_name\u001b[0m\u001b[0;34m]\u001b[0m\u001b[0;34m\u001b[0m\u001b[0;34m\u001b[0m\u001b[0m\n\u001b[1;32m      7\u001b[0m } for kernel_name in meanari_real.keys()])\n",
      "\u001b[0;31mKeyError\u001b[0m: 'Katz'"
     ]
    }
   ],
   "source": [
    "df = pd.DataFrame.from_records([{\n",
    "    'name': kernel_name,\n",
    "    'meanari_real': meanari_real[kernel_name],\n",
    "    'ranks_real': ranks_real[kernel_name],\n",
    "    'meanari_5nn': meanari_5nn[kernel_name],\n",
    "    'ranks_5nn': ranks_5nn[kernel_name]\n",
    "} for kernel_name in meanari_real.keys()])\n",
    "df.to_excel('ranks_real_vs_5nn.xlsx')\n",
    "df\n",
    "# df.sort_values('ari', ascending=False)"
   ]
  },
  {
   "cell_type": "code",
   "execution_count": null,
   "metadata": {},
   "outputs": [],
   "source": [
    "strategies_table = []\n",
    "for dataset_name, results in data.items():\n",
    "    strategies_table.append({\n",
    "        'dataset_name': dataset_name,\n",
    "        'n': results['params']['n'],\n",
    "        'k': results['params']['k'],\n",
    "        'tau1': results['params']['tau1'],\n",
    "        'avg_degree': results['params']['avg_degree'],\n",
    "        'modularity': results['params']['modularity'],\n",
    "        'best_measure name': 'SCCT',\n",
    "        'best_measure ari': results['results']['SCCT'],\n",
    "    })\n",
    "    \n",
    "    for i in range(1, 11):\n",
    "        strategies_table[-1].update({\n",
    "            f'lfr_{i}nn name': results['lfr_recomendation'][f'{i}nn'],\n",
    "            f'lfr_{i}nn ari': results['results'][results['lfr_recomendation'][f'{i}nn']]\n",
    "        })\n",
    "        \n",
    "    strategies_table[-1].update({\n",
    "        'upper_bound_top6 name': results['best_measure_top6']['name'],\n",
    "        'upper_bound_top6 ari': results['best_measure_top6']['ari'],\n",
    "        'upper_bound name': results['best_measure']['name'],\n",
    "        'upper_bound ari': results['best_measure']['ari'],\n",
    "    })"
   ]
  },
  {
   "cell_type": "code",
   "execution_count": null,
   "metadata": {},
   "outputs": [],
   "source": [
    "df = pd.DataFrame(strategies_table)\n",
    "df"
   ]
  },
  {
   "cell_type": "code",
   "execution_count": null,
   "metadata": {},
   "outputs": [],
   "source": [
    "df.to_excel('strategies_table.xlsx')"
   ]
  },
  {
   "cell_type": "code",
   "execution_count": null,
   "metadata": {},
   "outputs": [],
   "source": [
    "{k: {\n",
    "    'tau1': v['params']['tau1'],\n",
    "    'norm(tau1|sqrtinv)': normalize(v['params']['tau1|sqrtinv'], 'tau1|sqrtinv'),\n",
    "    'avg_degree': v['params']['avg_degree'],\n",
    "    'norm(avg_degree|log)': normalize(v['params']['avg_degree|log'], 'avg_degree|log'),\n",
    "    'modularity': v['params']['modularity'],\n",
    "    'norm(modularity)': normalize(v['params']['modularity'], 'modularity'),\n",
    "    'top6': v['best_measure_top6']['name'],\n",
    "#     'all': v['best_measure']['name']\n",
    "} for k, v in data.items()}"
   ]
  },
  {
   "cell_type": "code",
   "execution_count": null,
   "metadata": {},
   "outputs": [],
   "source": []
  }
 ],
 "metadata": {
  "kernelspec": {
   "display_name": "Python 3",
   "language": "python",
   "name": "python3"
  },
  "language_info": {
   "codemirror_mode": {
    "name": "ipython",
    "version": 3
   },
   "file_extension": ".py",
   "mimetype": "text/x-python",
   "name": "python",
   "nbconvert_exporter": "python",
   "pygments_lexer": "ipython3",
   "version": "3.8.5"
  }
 },
 "nbformat": 4,
 "nbformat_minor": 4
}
