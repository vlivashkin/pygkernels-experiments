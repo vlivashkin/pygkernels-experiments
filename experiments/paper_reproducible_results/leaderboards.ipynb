{
 "cells": [
  {
   "cell_type": "code",
   "execution_count": 1,
   "metadata": {},
   "outputs": [],
   "source": [
    "%matplotlib inline"
   ]
  },
  {
   "cell_type": "code",
   "execution_count": 2,
   "metadata": {},
   "outputs": [],
   "source": [
    "import json\n",
    "import os\n",
    "import sys\n",
    "from collections import defaultdict, Counter\n",
    "\n",
    "import numpy as np\n",
    "import pandas as pd\n",
    "from scipy.stats import rankdata\n",
    "from tqdm.notebook import tqdm\n",
    "import matplotlib.pyplot as plt\n",
    "\n",
    "sys.path.append('../../pygkernels')\n",
    "from pygkernels.measure import kernels"
   ]
  },
  {
   "cell_type": "code",
   "execution_count": 3,
   "metadata": {},
   "outputs": [],
   "source": [
    "def calc_avranks(results):  # {dataset: {classifier: accuracy}}\n",
    "    ranks = defaultdict(list)\n",
    "    for _, classifier_accuracy in results.items():\n",
    "        classifiers, accuracies = zip(*list(classifier_accuracy.items()))\n",
    "        for classifier, rank in zip(classifiers, rankdata(-np.array(accuracies), method='min')):\n",
    "            ranks[classifier].append(rank)\n",
    "    ranks = {k: np.mean(v) for k, v in sorted(ranks.items(), key=lambda x: x[0])}\n",
    "    return list(ranks.values()), list(ranks.keys()), len(results)"
   ]
  },
  {
   "cell_type": "code",
   "execution_count": 4,
   "metadata": {
    "collapsed": false,
    "jupyter": {
     "outputs_hidden": false
    },
    "pycharm": {
     "name": "#%%\n"
    }
   },
   "outputs": [
    {
     "data": {
      "text/plain": [
       "[(0, 'Katz'),\n",
       " (1, 'logKatz'),\n",
       " (2, 'For'),\n",
       " (3, 'logFor'),\n",
       " (4, 'Comm'),\n",
       " (5, 'logComm'),\n",
       " (6, 'Heat'),\n",
       " (7, 'logHeat'),\n",
       " (8, 'NHeat'),\n",
       " (9, 'logNHeat'),\n",
       " (10, 'SCT'),\n",
       " (11, 'SCCT'),\n",
       " (12, 'RSP'),\n",
       " (13, 'FE'),\n",
       " (14, 'PPR'),\n",
       " (15, 'logPPR'),\n",
       " (16, 'ModifPPR'),\n",
       " (17, 'logModifPPR'),\n",
       " (18, 'HeatPR'),\n",
       " (19, 'logHeatPR'),\n",
       " (20, 'DF'),\n",
       " (21, 'logDF'),\n",
       " (22, 'Abs'),\n",
       " (23, 'logAbs'),\n",
       " (24, 'SP-CT')]"
      ]
     },
     "execution_count": 4,
     "metadata": {},
     "output_type": "execute_result"
    }
   ],
   "source": [
    "kernels_order = [x.name for x in kernels]\n",
    "list(enumerate(kernels_order))"
   ]
  },
  {
   "cell_type": "markdown",
   "metadata": {},
   "source": [
    "# Leaderboards"
   ]
  },
  {
   "cell_type": "code",
   "execution_count": 5,
   "metadata": {
    "collapsed": false,
    "jupyter": {
     "outputs_hidden": false
    },
    "pycharm": {
     "name": "#%%\n"
    }
   },
   "outputs": [
    {
     "name": "stdout",
     "output_type": "stream",
     "text": [
      "9167\n"
     ]
    }
   ],
   "source": [
    "with open('filtered_dataset.json', 'r') as f:\n",
    "    dataset = json.load(f)\n",
    "    \n",
    "for item in dataset:\n",
    "    if 'several' in item['measure_best_results']:\n",
    "        del item['measure_best_results']['several']\n",
    "    \n",
    "full_size = len(dataset)\n",
    "print(len(dataset))\n",
    "\n",
    "# dataset = [item for item in dataset if 1 <= item['estimated_params']['tau1'] <= 4 and item['estimated_params']['modularity'] > 0.0]\n",
    "# print(len(dataset) / full_size)"
   ]
  },
  {
   "cell_type": "code",
   "execution_count": 6,
   "metadata": {},
   "outputs": [
    {
     "data": {
      "text/plain": [
       "(5062, 4105)"
      ]
     },
     "execution_count": 6,
     "metadata": {},
     "output_type": "execute_result"
    }
   ],
   "source": [
    "associative_dataset = [x for x in dataset if x['estimated_params']['modularity'] >= 0]\n",
    "dissociative_dataset = [x for x in dataset if x['estimated_params']['modularity'] < 0]\n",
    "len(associative_dataset), len(dissociative_dataset)"
   ]
  },
  {
   "cell_type": "code",
   "execution_count": 7,
   "metadata": {
    "pycharm": {
     "name": "#%%\n"
    }
   },
   "outputs": [
    {
     "data": {
      "text/html": [
       "<div>\n",
       "<style scoped>\n",
       "    .dataframe tbody tr th:only-of-type {\n",
       "        vertical-align: middle;\n",
       "    }\n",
       "\n",
       "    .dataframe tbody tr th {\n",
       "        vertical-align: top;\n",
       "    }\n",
       "\n",
       "    .dataframe thead th {\n",
       "        text-align: right;\n",
       "    }\n",
       "</style>\n",
       "<table border=\"1\" class=\"dataframe\">\n",
       "  <thead>\n",
       "    <tr style=\"text-align: right;\">\n",
       "      <th></th>\n",
       "      <th>ranks(&gt;=)</th>\n",
       "      <th>wins(&gt;=)</th>\n",
       "      <th>meanari</th>\n",
       "    </tr>\n",
       "  </thead>\n",
       "  <tbody>\n",
       "    <tr>\n",
       "      <th>RSP</th>\n",
       "      <td>4.174437</td>\n",
       "      <td>22.101015</td>\n",
       "      <td>0.681007</td>\n",
       "    </tr>\n",
       "    <tr>\n",
       "      <th>SCCT</th>\n",
       "      <td>5.155077</td>\n",
       "      <td>27.577179</td>\n",
       "      <td>0.688710</td>\n",
       "    </tr>\n",
       "    <tr>\n",
       "      <th>logNHeat</th>\n",
       "      <td>5.259384</td>\n",
       "      <td>18.992037</td>\n",
       "      <td>0.665982</td>\n",
       "    </tr>\n",
       "    <tr>\n",
       "      <th>logHeatPR</th>\n",
       "      <td>5.268471</td>\n",
       "      <td>19.166576</td>\n",
       "      <td>0.666156</td>\n",
       "    </tr>\n",
       "    <tr>\n",
       "      <th>FE</th>\n",
       "      <td>5.493086</td>\n",
       "      <td>19.679284</td>\n",
       "      <td>0.665833</td>\n",
       "    </tr>\n",
       "    <tr>\n",
       "      <th>logKatz</th>\n",
       "      <td>5.577637</td>\n",
       "      <td>21.719210</td>\n",
       "      <td>0.669678</td>\n",
       "    </tr>\n",
       "    <tr>\n",
       "      <th>logComm</th>\n",
       "      <td>6.076847</td>\n",
       "      <td>22.548271</td>\n",
       "      <td>0.656212</td>\n",
       "    </tr>\n",
       "    <tr>\n",
       "      <th>logPPR</th>\n",
       "      <td>6.174437</td>\n",
       "      <td>19.188393</td>\n",
       "      <td>0.656736</td>\n",
       "    </tr>\n",
       "    <tr>\n",
       "      <th>logModifPPR</th>\n",
       "      <td>6.439550</td>\n",
       "      <td>18.970219</td>\n",
       "      <td>0.654337</td>\n",
       "    </tr>\n",
       "    <tr>\n",
       "      <th>SCT</th>\n",
       "      <td>7.201896</td>\n",
       "      <td>19.766554</td>\n",
       "      <td>0.650236</td>\n",
       "    </tr>\n",
       "    <tr>\n",
       "      <th>SP-CT</th>\n",
       "      <td>7.658633</td>\n",
       "      <td>17.704811</td>\n",
       "      <td>0.645765</td>\n",
       "    </tr>\n",
       "    <tr>\n",
       "      <th>logAbs</th>\n",
       "      <td>8.005729</td>\n",
       "      <td>18.588415</td>\n",
       "      <td>0.642637</td>\n",
       "    </tr>\n",
       "    <tr>\n",
       "      <th>logFor</th>\n",
       "      <td>8.548202</td>\n",
       "      <td>18.752045</td>\n",
       "      <td>0.617818</td>\n",
       "    </tr>\n",
       "    <tr>\n",
       "      <th>logHeat</th>\n",
       "      <td>8.936586</td>\n",
       "      <td>17.388459</td>\n",
       "      <td>0.599007</td>\n",
       "    </tr>\n",
       "    <tr>\n",
       "      <th>NHeat</th>\n",
       "      <td>9.751087</td>\n",
       "      <td>19.079306</td>\n",
       "      <td>0.561120</td>\n",
       "    </tr>\n",
       "    <tr>\n",
       "      <th>HeatPR</th>\n",
       "      <td>10.150731</td>\n",
       "      <td>17.879350</td>\n",
       "      <td>0.599812</td>\n",
       "    </tr>\n",
       "    <tr>\n",
       "      <th>Comm</th>\n",
       "      <td>11.761952</td>\n",
       "      <td>14.268572</td>\n",
       "      <td>0.518294</td>\n",
       "    </tr>\n",
       "    <tr>\n",
       "      <th>logDF</th>\n",
       "      <td>11.978269</td>\n",
       "      <td>13.188611</td>\n",
       "      <td>0.487174</td>\n",
       "    </tr>\n",
       "    <tr>\n",
       "      <th>Heat</th>\n",
       "      <td>13.634729</td>\n",
       "      <td>15.064907</td>\n",
       "      <td>0.468150</td>\n",
       "    </tr>\n",
       "    <tr>\n",
       "      <th>Katz</th>\n",
       "      <td>15.615369</td>\n",
       "      <td>5.203447</td>\n",
       "      <td>0.430569</td>\n",
       "    </tr>\n",
       "    <tr>\n",
       "      <th>DF</th>\n",
       "      <td>16.085342</td>\n",
       "      <td>6.839751</td>\n",
       "      <td>0.380576</td>\n",
       "    </tr>\n",
       "    <tr>\n",
       "      <th>PPR</th>\n",
       "      <td>17.880087</td>\n",
       "      <td>6.054325</td>\n",
       "      <td>0.354082</td>\n",
       "    </tr>\n",
       "    <tr>\n",
       "      <th>For</th>\n",
       "      <td>20.510075</td>\n",
       "      <td>4.178030</td>\n",
       "      <td>0.192323</td>\n",
       "    </tr>\n",
       "    <tr>\n",
       "      <th>Abs</th>\n",
       "      <td>21.081786</td>\n",
       "      <td>3.796226</td>\n",
       "      <td>0.163085</td>\n",
       "    </tr>\n",
       "    <tr>\n",
       "      <th>ModifPPR</th>\n",
       "      <td>22.147768</td>\n",
       "      <td>2.585361</td>\n",
       "      <td>0.124025</td>\n",
       "    </tr>\n",
       "  </tbody>\n",
       "</table>\n",
       "</div>"
      ],
      "text/plain": [
       "             ranks(>=)   wins(>=)   meanari\n",
       "RSP           4.174437  22.101015  0.681007\n",
       "SCCT          5.155077  27.577179  0.688710\n",
       "logNHeat      5.259384  18.992037  0.665982\n",
       "logHeatPR     5.268471  19.166576  0.666156\n",
       "FE            5.493086  19.679284  0.665833\n",
       "logKatz       5.577637  21.719210  0.669678\n",
       "logComm       6.076847  22.548271  0.656212\n",
       "logPPR        6.174437  19.188393  0.656736\n",
       "logModifPPR   6.439550  18.970219  0.654337\n",
       "SCT           7.201896  19.766554  0.650236\n",
       "SP-CT         7.658633  17.704811  0.645765\n",
       "logAbs        8.005729  18.588415  0.642637\n",
       "logFor        8.548202  18.752045  0.617818\n",
       "logHeat       8.936586  17.388459  0.599007\n",
       "NHeat         9.751087  19.079306  0.561120\n",
       "HeatPR       10.150731  17.879350  0.599812\n",
       "Comm         11.761952  14.268572  0.518294\n",
       "logDF        11.978269  13.188611  0.487174\n",
       "Heat         13.634729  15.064907  0.468150\n",
       "Katz         15.615369   5.203447  0.430569\n",
       "DF           16.085342   6.839751  0.380576\n",
       "PPR          17.880087   6.054325  0.354082\n",
       "For          20.510075   4.178030  0.192323\n",
       "Abs          21.081786   3.796226  0.163085\n",
       "ModifPPR     22.147768   2.585361  0.124025"
      ]
     },
     "execution_count": 7,
     "metadata": {},
     "output_type": "execute_result"
    }
   ],
   "source": [
    "lb = {}\n",
    "\n",
    "# Leaderboard by ranks \">=\"\n",
    "ranks, names, n_experiments = calc_avranks(dict(enumerate([data['measure_best_results'] for data in associative_dataset])))\n",
    "ranks_ge = dict(zip(names, ranks))\n",
    "lb['ranks(>=)'] = ranks_ge\n",
    "\n",
    "# Leaderboard by wins \">\", maxari < 1\n",
    "wins_ge = {kernel_name: 0 for kernel_name in kernels_order}\n",
    "meanari = {kernel_name: (0, 0) for kernel_name in kernels_order}\n",
    "for kernel_name in kernels_order:\n",
    "    for data in associative_dataset:\n",
    "        item = data['measure_best_results']\n",
    "        if item[kernel_name] >= np.max([v for k, v in item.items() if k != kernel_name]):\n",
    "            wins_ge[kernel_name] += 1\n",
    "        \n",
    "        meanari[kernel_name] = (meanari[kernel_name][0] + item[kernel_name], meanari[kernel_name][1] + 1)\n",
    "    meanari[kernel_name] = meanari[kernel_name][0] / meanari[kernel_name][1]\n",
    "            \n",
    "lb['wins(>=)'] = {k: v/full_size*100 for k, v in wins_ge.items()}\n",
    "lb['meanari'] = meanari\n",
    "# pd.DataFrame(Counter(ranks_ge).most_common(), columns=['measure', 'rank']).sort_values('rank')\n",
    "\n",
    "df = pd.DataFrame(lb)\n",
    "df.sort_values('ranks(>=)', ascending=True)"
   ]
  },
  {
   "cell_type": "code",
   "execution_count": 8,
   "metadata": {},
   "outputs": [],
   "source": [
    "df.to_excel('associative_leaderboard.xlsx')"
   ]
  },
  {
   "cell_type": "code",
   "execution_count": 9,
   "metadata": {},
   "outputs": [
    {
     "data": {
      "text/html": [
       "<div>\n",
       "<style scoped>\n",
       "    .dataframe tbody tr th:only-of-type {\n",
       "        vertical-align: middle;\n",
       "    }\n",
       "\n",
       "    .dataframe tbody tr th {\n",
       "        vertical-align: top;\n",
       "    }\n",
       "\n",
       "    .dataframe thead th {\n",
       "        text-align: right;\n",
       "    }\n",
       "</style>\n",
       "<table border=\"1\" class=\"dataframe\">\n",
       "  <thead>\n",
       "    <tr style=\"text-align: right;\">\n",
       "      <th></th>\n",
       "      <th>ranks(&gt;=)</th>\n",
       "      <th>wins(&gt;=)</th>\n",
       "      <th>meanari</th>\n",
       "    </tr>\n",
       "  </thead>\n",
       "  <tbody>\n",
       "    <tr>\n",
       "      <th>SCCT</th>\n",
       "      <td>4.132278</td>\n",
       "      <td>26.104505</td>\n",
       "      <td>0.653922</td>\n",
       "    </tr>\n",
       "    <tr>\n",
       "      <th>RSP</th>\n",
       "      <td>6.686967</td>\n",
       "      <td>8.683321</td>\n",
       "      <td>0.454491</td>\n",
       "    </tr>\n",
       "    <tr>\n",
       "      <th>SCT</th>\n",
       "      <td>7.678928</td>\n",
       "      <td>6.861569</td>\n",
       "      <td>0.457158</td>\n",
       "    </tr>\n",
       "    <tr>\n",
       "      <th>SP-CT</th>\n",
       "      <td>7.904994</td>\n",
       "      <td>8.061525</td>\n",
       "      <td>0.443853</td>\n",
       "    </tr>\n",
       "    <tr>\n",
       "      <th>FE</th>\n",
       "      <td>8.807552</td>\n",
       "      <td>6.905203</td>\n",
       "      <td>0.403210</td>\n",
       "    </tr>\n",
       "    <tr>\n",
       "      <th>logHeatPR</th>\n",
       "      <td>9.018758</td>\n",
       "      <td>5.956147</td>\n",
       "      <td>0.360776</td>\n",
       "    </tr>\n",
       "    <tr>\n",
       "      <th>logNHeat</th>\n",
       "      <td>9.340317</td>\n",
       "      <td>5.748882</td>\n",
       "      <td>0.351566</td>\n",
       "    </tr>\n",
       "    <tr>\n",
       "      <th>logPPR</th>\n",
       "      <td>9.708161</td>\n",
       "      <td>5.781608</td>\n",
       "      <td>0.344514</td>\n",
       "    </tr>\n",
       "    <tr>\n",
       "      <th>NHeat</th>\n",
       "      <td>9.838246</td>\n",
       "      <td>3.174430</td>\n",
       "      <td>0.313808</td>\n",
       "    </tr>\n",
       "    <tr>\n",
       "      <th>Abs</th>\n",
       "      <td>10.180024</td>\n",
       "      <td>6.654303</td>\n",
       "      <td>0.348622</td>\n",
       "    </tr>\n",
       "    <tr>\n",
       "      <th>Katz</th>\n",
       "      <td>10.620219</td>\n",
       "      <td>0.905422</td>\n",
       "      <td>0.261391</td>\n",
       "    </tr>\n",
       "    <tr>\n",
       "      <th>logKatz</th>\n",
       "      <td>11.100122</td>\n",
       "      <td>6.294317</td>\n",
       "      <td>0.339731</td>\n",
       "    </tr>\n",
       "    <tr>\n",
       "      <th>logModifPPR</th>\n",
       "      <td>11.123264</td>\n",
       "      <td>5.476165</td>\n",
       "      <td>0.330310</td>\n",
       "    </tr>\n",
       "    <tr>\n",
       "      <th>Comm</th>\n",
       "      <td>11.701340</td>\n",
       "      <td>1.745391</td>\n",
       "      <td>0.242750</td>\n",
       "    </tr>\n",
       "    <tr>\n",
       "      <th>logAbs</th>\n",
       "      <td>13.038733</td>\n",
       "      <td>4.778008</td>\n",
       "      <td>0.307162</td>\n",
       "    </tr>\n",
       "    <tr>\n",
       "      <th>DF</th>\n",
       "      <td>13.272838</td>\n",
       "      <td>0.839969</td>\n",
       "      <td>0.205688</td>\n",
       "    </tr>\n",
       "    <tr>\n",
       "      <th>Heat</th>\n",
       "      <td>14.660901</td>\n",
       "      <td>0.338170</td>\n",
       "      <td>0.083491</td>\n",
       "    </tr>\n",
       "    <tr>\n",
       "      <th>logFor</th>\n",
       "      <td>15.248234</td>\n",
       "      <td>2.356278</td>\n",
       "      <td>0.208462</td>\n",
       "    </tr>\n",
       "    <tr>\n",
       "      <th>logHeat</th>\n",
       "      <td>15.847747</td>\n",
       "      <td>0.250900</td>\n",
       "      <td>0.084408</td>\n",
       "    </tr>\n",
       "    <tr>\n",
       "      <th>HeatPR</th>\n",
       "      <td>15.896711</td>\n",
       "      <td>0.152722</td>\n",
       "      <td>0.112225</td>\n",
       "    </tr>\n",
       "    <tr>\n",
       "      <th>PPR</th>\n",
       "      <td>16.748112</td>\n",
       "      <td>0.065452</td>\n",
       "      <td>0.107192</td>\n",
       "    </tr>\n",
       "    <tr>\n",
       "      <th>logDF</th>\n",
       "      <td>17.135688</td>\n",
       "      <td>1.930839</td>\n",
       "      <td>0.082525</td>\n",
       "    </tr>\n",
       "    <tr>\n",
       "      <th>logComm</th>\n",
       "      <td>18.385384</td>\n",
       "      <td>0.239991</td>\n",
       "      <td>0.030425</td>\n",
       "    </tr>\n",
       "    <tr>\n",
       "      <th>For</th>\n",
       "      <td>20.834105</td>\n",
       "      <td>0.043635</td>\n",
       "      <td>0.017733</td>\n",
       "    </tr>\n",
       "    <tr>\n",
       "      <th>ModifPPR</th>\n",
       "      <td>21.097199</td>\n",
       "      <td>0.054543</td>\n",
       "      <td>0.014740</td>\n",
       "    </tr>\n",
       "  </tbody>\n",
       "</table>\n",
       "</div>"
      ],
      "text/plain": [
       "             ranks(>=)   wins(>=)   meanari\n",
       "SCCT          4.132278  26.104505  0.653922\n",
       "RSP           6.686967   8.683321  0.454491\n",
       "SCT           7.678928   6.861569  0.457158\n",
       "SP-CT         7.904994   8.061525  0.443853\n",
       "FE            8.807552   6.905203  0.403210\n",
       "logHeatPR     9.018758   5.956147  0.360776\n",
       "logNHeat      9.340317   5.748882  0.351566\n",
       "logPPR        9.708161   5.781608  0.344514\n",
       "NHeat         9.838246   3.174430  0.313808\n",
       "Abs          10.180024   6.654303  0.348622\n",
       "Katz         10.620219   0.905422  0.261391\n",
       "logKatz      11.100122   6.294317  0.339731\n",
       "logModifPPR  11.123264   5.476165  0.330310\n",
       "Comm         11.701340   1.745391  0.242750\n",
       "logAbs       13.038733   4.778008  0.307162\n",
       "DF           13.272838   0.839969  0.205688\n",
       "Heat         14.660901   0.338170  0.083491\n",
       "logFor       15.248234   2.356278  0.208462\n",
       "logHeat      15.847747   0.250900  0.084408\n",
       "HeatPR       15.896711   0.152722  0.112225\n",
       "PPR          16.748112   0.065452  0.107192\n",
       "logDF        17.135688   1.930839  0.082525\n",
       "logComm      18.385384   0.239991  0.030425\n",
       "For          20.834105   0.043635  0.017733\n",
       "ModifPPR     21.097199   0.054543  0.014740"
      ]
     },
     "execution_count": 9,
     "metadata": {},
     "output_type": "execute_result"
    }
   ],
   "source": [
    "lb = {}\n",
    "\n",
    "# Leaderboard by ranks \">=\"\n",
    "ranks, names, n_experiments = calc_avranks(dict(enumerate([data['measure_best_results'] for data in dissociative_dataset])))\n",
    "ranks_ge = dict(zip(names, ranks))\n",
    "lb['ranks(>=)'] = ranks_ge\n",
    "\n",
    "# Leaderboard by wins \">\", maxari < 1\n",
    "wins_ge = {kernel_name: 0 for kernel_name in kernels_order}\n",
    "meanari = {kernel_name: (0, 0) for kernel_name in kernels_order}\n",
    "for kernel_name in kernels_order:\n",
    "    for data in dissociative_dataset:\n",
    "        item = data['measure_best_results']\n",
    "        if item[kernel_name] >= np.max([v for k, v in item.items() if k != kernel_name]):\n",
    "            wins_ge[kernel_name] += 1\n",
    "        \n",
    "        meanari[kernel_name] = (meanari[kernel_name][0] + item[kernel_name], meanari[kernel_name][1] + 1)\n",
    "    meanari[kernel_name] = meanari[kernel_name][0] / meanari[kernel_name][1]\n",
    "            \n",
    "lb['wins(>=)'] = {k: v/full_size*100 for k, v in wins_ge.items()}\n",
    "lb['meanari'] = meanari\n",
    "# pd.DataFrame(Counter(ranks_ge).most_common(), columns=['measure', 'rank']).sort_values('rank')\n",
    "\n",
    "df = pd.DataFrame(lb)\n",
    "df.sort_values('ranks(>=)', ascending=True)"
   ]
  },
  {
   "cell_type": "code",
   "execution_count": 10,
   "metadata": {},
   "outputs": [],
   "source": [
    "df.to_excel('dissociative_leaderboard.xlsx')"
   ]
  },
  {
   "cell_type": "raw",
   "metadata": {
    "jupyter": {
     "outputs_hidden": false
    },
    "pycharm": {
     "name": "#%%\n"
    }
   },
   "source": [
    "names, scores = zip(*sorted(list(lb['wins (>)'].items()), key=lambda x: -x[1]))\n",
    "plt.bar(range(len(scores)), scores)\n",
    "plt.xticks(range(len(names)), list(names), rotation=90);"
   ]
  },
  {
   "cell_type": "code",
   "execution_count": null,
   "metadata": {
    "collapsed": false,
    "jupyter": {
     "outputs_hidden": false
    },
    "pycharm": {
     "name": "#%%\n"
    }
   },
   "outputs": [],
   "source": []
  },
  {
   "cell_type": "code",
   "execution_count": null,
   "metadata": {
    "collapsed": false,
    "jupyter": {
     "outputs_hidden": false
    },
    "pycharm": {
     "name": "#%%\n"
    }
   },
   "outputs": [],
   "source": []
  },
  {
   "cell_type": "code",
   "execution_count": 11,
   "metadata": {
    "collapsed": false,
    "jupyter": {
     "outputs_hidden": false
    },
    "pycharm": {
     "name": "#%%\n"
    }
   },
   "outputs": [],
   "source": [
    "df.to_excel('leaderboard.xlsx')"
   ]
  },
  {
   "cell_type": "code",
   "execution_count": null,
   "metadata": {
    "collapsed": false,
    "jupyter": {
     "outputs_hidden": false
    },
    "pycharm": {
     "name": "#%%\n"
    }
   },
   "outputs": [],
   "source": []
  },
  {
   "cell_type": "code",
   "execution_count": null,
   "metadata": {},
   "outputs": [],
   "source": []
  },
  {
   "cell_type": "code",
   "execution_count": null,
   "metadata": {},
   "outputs": [],
   "source": []
  }
 ],
 "metadata": {
  "kernelspec": {
   "display_name": "Python 3",
   "language": "python",
   "name": "python3"
  },
  "language_info": {
   "codemirror_mode": {
    "name": "ipython",
    "version": 3
   },
   "file_extension": ".py",
   "mimetype": "text/x-python",
   "name": "python",
   "nbconvert_exporter": "python",
   "pygments_lexer": "ipython3",
   "version": "3.8.10"
  }
 },
 "nbformat": 4,
 "nbformat_minor": 4
}
