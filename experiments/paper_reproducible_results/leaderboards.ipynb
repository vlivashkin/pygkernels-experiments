{
 "cells": [
  {
   "cell_type": "code",
   "execution_count": 1,
   "metadata": {},
   "outputs": [],
   "source": [
    "%matplotlib inline"
   ]
  },
  {
   "cell_type": "code",
   "execution_count": 2,
   "metadata": {},
   "outputs": [],
   "source": [
    "import json\n",
    "import os\n",
    "import sys\n",
    "from collections import defaultdict, Counter\n",
    "\n",
    "import numpy as np\n",
    "import pandas as pd\n",
    "from scipy.stats import rankdata\n",
    "from tqdm.notebook import tqdm\n",
    "import matplotlib.pyplot as plt\n",
    "\n",
    "sys.path.append('../../pygkernels')\n",
    "from pygkernels.measure import kernels"
   ]
  },
  {
   "cell_type": "code",
   "execution_count": 3,
   "metadata": {},
   "outputs": [],
   "source": [
    "def calc_avranks(results):  # {dataset: {classifier: accuracy}}\n",
    "    ranks = defaultdict(list)\n",
    "    for _, classifier_accuracy in results.items():\n",
    "        classifiers, accuracies = zip(*list(classifier_accuracy.items()))\n",
    "        for classifier, rank in zip(classifiers, rankdata(-np.array(accuracies), method='min')):\n",
    "            ranks[classifier].append(rank)\n",
    "    ranks = {k: np.mean(v) for k, v in sorted(ranks.items(), key=lambda x: x[0])}\n",
    "    return list(ranks.values()), list(ranks.keys()), len(results)"
   ]
  },
  {
   "cell_type": "code",
   "execution_count": 4,
   "metadata": {
    "collapsed": false,
    "jupyter": {
     "outputs_hidden": false
    },
    "pycharm": {
     "name": "#%%\n"
    }
   },
   "outputs": [
    {
     "data": {
      "text/plain": [
       "[(0, 'Katz'),\n",
       " (1, 'logKatz'),\n",
       " (2, 'For'),\n",
       " (3, 'logFor'),\n",
       " (4, 'Comm'),\n",
       " (5, 'logComm'),\n",
       " (6, 'Heat'),\n",
       " (7, 'logHeat'),\n",
       " (8, 'NHeat'),\n",
       " (9, 'logNHeat'),\n",
       " (10, 'SCT'),\n",
       " (11, 'SCCT'),\n",
       " (12, 'RSP'),\n",
       " (13, 'FE'),\n",
       " (14, 'PPR'),\n",
       " (15, 'logPPR'),\n",
       " (16, 'ModifPPR'),\n",
       " (17, 'logModifPPR'),\n",
       " (18, 'HeatPR'),\n",
       " (19, 'logHeatPR'),\n",
       " (20, 'DF'),\n",
       " (21, 'logDF'),\n",
       " (22, 'Abs'),\n",
       " (23, 'logAbs'),\n",
       " (24, 'SP-CT')]"
      ]
     },
     "execution_count": 4,
     "metadata": {},
     "output_type": "execute_result"
    }
   ],
   "source": [
    "kernels_order = [x.name for x in kernels]\n",
    "list(enumerate(kernels_order))"
   ]
  },
  {
   "cell_type": "markdown",
   "metadata": {},
   "source": [
    "# Leaderboards"
   ]
  },
  {
   "cell_type": "code",
   "execution_count": 5,
   "metadata": {
    "collapsed": false,
    "jupyter": {
     "outputs_hidden": false
    },
    "pycharm": {
     "name": "#%%\n"
    }
   },
   "outputs": [],
   "source": [
    "# root = '/media/illusionww/68949C3149F4E819/phd/pygkernels/montecarlo_lfr_simple'\n",
    "# dataset = []\n",
    "# for fn in tqdm(os.listdir(root)):\n",
    "#     with open(f'{root}/{fn}', 'rb') as f:\n",
    "#         dataset.append(json.load(f))\n",
    "        \n",
    "with open('filtered_dataset.json', 'r') as f:\n",
    "    dataset = json.load(f)"
   ]
  },
  {
   "cell_type": "code",
   "execution_count": 6,
   "metadata": {},
   "outputs": [],
   "source": [
    "idx_maxari_eq1 = [idx for idx, d in enumerate(dataset) if np.max(np.array(list(d['measure_best_results'].values()))) == 1]\n",
    "idx_maxari_eq1 = set(idx_maxari_eq1)\n",
    "idx_several_answers = [idx for idx, d in enumerate(dataset) \n",
    "                       if np.sum(np.max(np.array(list(d['measure_best_results'].values()))) == np.array(list(d['measure_best_results'].values()))) > 1]\n",
    "idx_several_answers = set(idx_several_answers)\n",
    "\n",
    "len(idx_maxari_eq1), \n",
    "len(idx_several_answers)\n",
    "\n",
    "dataset_mari_less1 = [d for idx, d in enumerate(dataset) if idx not in idx_maxari_eq1 and idx not in idx_several_answers]\n",
    "dataset_mari_eq1 = [d for idx, d in enumerate(dataset) if idx in idx_maxari_eq1]"
   ]
  },
  {
   "cell_type": "code",
   "execution_count": 7,
   "metadata": {},
   "outputs": [
    {
     "data": {
      "text/plain": [
       "4856"
      ]
     },
     "execution_count": 7,
     "metadata": {},
     "output_type": "execute_result"
    }
   ],
   "source": [
    "len(dataset_mari_less1)"
   ]
  },
  {
   "cell_type": "code",
   "execution_count": 8,
   "metadata": {},
   "outputs": [
    {
     "data": {
      "text/plain": [
       "1984"
      ]
     },
     "execution_count": 8,
     "metadata": {},
     "output_type": "execute_result"
    }
   ],
   "source": [
    "len(dataset_mari_eq1)"
   ]
  },
  {
   "cell_type": "code",
   "execution_count": 9,
   "metadata": {},
   "outputs": [
    {
     "data": {
      "text/plain": [
       "415"
      ]
     },
     "execution_count": 9,
     "metadata": {},
     "output_type": "execute_result"
    }
   ],
   "source": [
    "len([x for x in idx_several_answers if x not in idx_maxari_eq1])"
   ]
  },
  {
   "cell_type": "code",
   "execution_count": 10,
   "metadata": {},
   "outputs": [
    {
     "data": {
      "text/plain": [
       "504"
      ]
     },
     "execution_count": 10,
     "metadata": {},
     "output_type": "execute_result"
    }
   ],
   "source": [
    "len([x for x in idx_maxari_eq1 if x not in idx_several_answers])"
   ]
  },
  {
   "cell_type": "code",
   "execution_count": 11,
   "metadata": {
    "pycharm": {
     "name": "#%%\n"
    }
   },
   "outputs": [],
   "source": [
    "lb = {}\n",
    "\n",
    "# Leaderboard by ranks \">=\"\n",
    "ranks, names, n_experiments = calc_avranks(dict(enumerate([data['measure_best_results'] for data in dataset])))\n",
    "ranks_ge = dict(zip(names, ranks))\n",
    "lb['ranks(>=)'] = ranks_ge\n",
    "\n",
    "# Leaderboard by wins \">\", maxari < 1\n",
    "wins_ge = {kernel_name: 0 for kernel_name in kernels_order}\n",
    "for kernel_name in kernels_order:\n",
    "    for data in dataset_mari_less1:\n",
    "        item = data['measure_best_results']\n",
    "        if item[kernel_name] >= np.max([v for k, v in item.items() if k != kernel_name]):\n",
    "            wins_ge[kernel_name] += 1\n",
    "lb['wins(>), maxari<1'] = wins_ge\n",
    "# pd.DataFrame(Counter(ranks_ge).most_common(), columns=['measure', 'rank']).sort_values('rank')\n",
    "\n",
    "# Leaderboard by wins \"maxari == 1\"\n",
    "wins_maxari1 = {kernel_name: 0 for kernel_name in kernels_order}\n",
    "for kernel_name in kernels_order:\n",
    "    for data in dataset_mari_eq1:\n",
    "        item = data['measure_best_results']\n",
    "        if item[kernel_name] >= np.max([v for k, v in item.items() if k != kernel_name]):\n",
    "            wins_maxari1[kernel_name] += 1\n",
    "lb['wins(>=), maxari=1'] = wins_maxari1\n",
    "            \n",
    "# # Leaderboard by wins \">\"\n",
    "# wins_gt = {kernel_name: 0 for kernel_name in kernels_order}\n",
    "# for kernel_name in kernels_order:\n",
    "#     for data in dataset:\n",
    "#         item = data['measure_best_results']\n",
    "#         if item[kernel_name] > np.max([v for k, v in item.items() if k != kernel_name]):\n",
    "#             wins_gt[kernel_name] += 1\n",
    "# lb['wins (>)'] = wins_gt\n",
    "# # pd.DataFrame(Counter(ranks_ge).most_common(), columns=['measure', 'rank']).sort_values('rank')\n",
    "\n",
    "\n",
    "# # Leaderboard by ranks \">\"\n",
    "# ranks, names, n_experiments = calc_avranks(dict(enumerate([item for item in [data['measure_best_results'] for data in dataset]\n",
    "#                                                            if np.sum(np.array(list(item.values())) == np.max(list(item.values()))) == 1])))\n",
    "# ranks_gt = dict(zip(names, ranks))\n",
    "# lb['ranks (>)'] = ranks_gt\n",
    "# # pd.DataFrame(zip(names, ranks), columns=['measure', 'rank']).sort_values('rank')\n",
    "\n",
    "\n",
    "# # Leaderboard by ranks \"maxari == 1\"\n",
    "# ranks, names, n_experiments = calc_avranks(dict(enumerate([item for item in [data['measure_best_results'] for data in dataset]\n",
    "#                                                            if np.max(list(item.values())) == 1])))\n",
    "# ranks_maxari1 = dict(zip(names, ranks))\n",
    "# lb['ranks (maxari = 1)'] = ranks_maxari1"
   ]
  },
  {
   "cell_type": "code",
   "execution_count": 12,
   "metadata": {},
   "outputs": [
    {
     "data": {
      "text/html": [
       "<div>\n",
       "<style scoped>\n",
       "    .dataframe tbody tr th:only-of-type {\n",
       "        vertical-align: middle;\n",
       "    }\n",
       "\n",
       "    .dataframe tbody tr th {\n",
       "        vertical-align: top;\n",
       "    }\n",
       "\n",
       "    .dataframe thead th {\n",
       "        text-align: right;\n",
       "    }\n",
       "</style>\n",
       "<table border=\"1\" class=\"dataframe\">\n",
       "  <thead>\n",
       "    <tr style=\"text-align: right;\">\n",
       "      <th></th>\n",
       "      <th>ranks(&gt;=)</th>\n",
       "      <th>wins(&gt;), maxari&lt;1</th>\n",
       "      <th>wins(&gt;=), maxari=1</th>\n",
       "    </tr>\n",
       "  </thead>\n",
       "  <tbody>\n",
       "    <tr>\n",
       "      <th>SCCT</th>\n",
       "      <td>4.699518</td>\n",
       "      <td>2272</td>\n",
       "      <td>1734</td>\n",
       "    </tr>\n",
       "    <tr>\n",
       "      <th>NHeat</th>\n",
       "      <td>6.949139</td>\n",
       "      <td>815</td>\n",
       "      <td>969</td>\n",
       "    </tr>\n",
       "    <tr>\n",
       "      <th>Comm</th>\n",
       "      <td>8.481599</td>\n",
       "      <td>269</td>\n",
       "      <td>697</td>\n",
       "    </tr>\n",
       "    <tr>\n",
       "      <th>logComm</th>\n",
       "      <td>12.564025</td>\n",
       "      <td>253</td>\n",
       "      <td>864</td>\n",
       "    </tr>\n",
       "    <tr>\n",
       "      <th>RSP</th>\n",
       "      <td>7.632391</td>\n",
       "      <td>182</td>\n",
       "      <td>1348</td>\n",
       "    </tr>\n",
       "    <tr>\n",
       "      <th>logDF</th>\n",
       "      <td>14.826051</td>\n",
       "      <td>157</td>\n",
       "      <td>643</td>\n",
       "    </tr>\n",
       "    <tr>\n",
       "      <th>SCT</th>\n",
       "      <td>8.328739</td>\n",
       "      <td>141</td>\n",
       "      <td>1232</td>\n",
       "    </tr>\n",
       "    <tr>\n",
       "      <th>SP-CT</th>\n",
       "      <td>8.959614</td>\n",
       "      <td>128</td>\n",
       "      <td>1281</td>\n",
       "    </tr>\n",
       "    <tr>\n",
       "      <th>logKatz</th>\n",
       "      <td>9.927498</td>\n",
       "      <td>124</td>\n",
       "      <td>1169</td>\n",
       "    </tr>\n",
       "    <tr>\n",
       "      <th>Abs</th>\n",
       "      <td>18.635975</td>\n",
       "      <td>86</td>\n",
       "      <td>172</td>\n",
       "    </tr>\n",
       "    <tr>\n",
       "      <th>DF</th>\n",
       "      <td>10.976568</td>\n",
       "      <td>68</td>\n",
       "      <td>363</td>\n",
       "    </tr>\n",
       "    <tr>\n",
       "      <th>Katz</th>\n",
       "      <td>9.849483</td>\n",
       "      <td>54</td>\n",
       "      <td>341</td>\n",
       "    </tr>\n",
       "    <tr>\n",
       "      <th>FE</th>\n",
       "      <td>9.449759</td>\n",
       "      <td>47</td>\n",
       "      <td>1301</td>\n",
       "    </tr>\n",
       "    <tr>\n",
       "      <th>Heat</th>\n",
       "      <td>14.667264</td>\n",
       "      <td>41</td>\n",
       "      <td>761</td>\n",
       "    </tr>\n",
       "    <tr>\n",
       "      <th>logFor</th>\n",
       "      <td>12.966644</td>\n",
       "      <td>39</td>\n",
       "      <td>867</td>\n",
       "    </tr>\n",
       "    <tr>\n",
       "      <th>logHeat</th>\n",
       "      <td>13.600000</td>\n",
       "      <td>38</td>\n",
       "      <td>816</td>\n",
       "    </tr>\n",
       "    <tr>\n",
       "      <th>logPPR</th>\n",
       "      <td>9.975465</td>\n",
       "      <td>31</td>\n",
       "      <td>1189</td>\n",
       "    </tr>\n",
       "    <tr>\n",
       "      <th>logModifPPR</th>\n",
       "      <td>10.455961</td>\n",
       "      <td>26</td>\n",
       "      <td>1180</td>\n",
       "    </tr>\n",
       "    <tr>\n",
       "      <th>HeatPR</th>\n",
       "      <td>13.374500</td>\n",
       "      <td>23</td>\n",
       "      <td>868</td>\n",
       "    </tr>\n",
       "    <tr>\n",
       "      <th>PPR</th>\n",
       "      <td>16.709166</td>\n",
       "      <td>19</td>\n",
       "      <td>268</td>\n",
       "    </tr>\n",
       "    <tr>\n",
       "      <th>logAbs</th>\n",
       "      <td>12.124466</td>\n",
       "      <td>11</td>\n",
       "      <td>1120</td>\n",
       "    </tr>\n",
       "    <tr>\n",
       "      <th>logHeatPR</th>\n",
       "      <td>9.205238</td>\n",
       "      <td>11</td>\n",
       "      <td>1226</td>\n",
       "    </tr>\n",
       "    <tr>\n",
       "      <th>logNHeat</th>\n",
       "      <td>8.838181</td>\n",
       "      <td>10</td>\n",
       "      <td>1226</td>\n",
       "    </tr>\n",
       "    <tr>\n",
       "      <th>For</th>\n",
       "      <td>19.328601</td>\n",
       "      <td>6</td>\n",
       "      <td>187</td>\n",
       "    </tr>\n",
       "    <tr>\n",
       "      <th>ModifPPR</th>\n",
       "      <td>20.505996</td>\n",
       "      <td>5</td>\n",
       "      <td>112</td>\n",
       "    </tr>\n",
       "  </tbody>\n",
       "</table>\n",
       "</div>"
      ],
      "text/plain": [
       "             ranks(>=)  wins(>), maxari<1  wins(>=), maxari=1\n",
       "SCCT          4.699518               2272                1734\n",
       "NHeat         6.949139                815                 969\n",
       "Comm          8.481599                269                 697\n",
       "logComm      12.564025                253                 864\n",
       "RSP           7.632391                182                1348\n",
       "logDF        14.826051                157                 643\n",
       "SCT           8.328739                141                1232\n",
       "SP-CT         8.959614                128                1281\n",
       "logKatz       9.927498                124                1169\n",
       "Abs          18.635975                 86                 172\n",
       "DF           10.976568                 68                 363\n",
       "Katz          9.849483                 54                 341\n",
       "FE            9.449759                 47                1301\n",
       "Heat         14.667264                 41                 761\n",
       "logFor       12.966644                 39                 867\n",
       "logHeat      13.600000                 38                 816\n",
       "logPPR        9.975465                 31                1189\n",
       "logModifPPR  10.455961                 26                1180\n",
       "HeatPR       13.374500                 23                 868\n",
       "PPR          16.709166                 19                 268\n",
       "logAbs       12.124466                 11                1120\n",
       "logHeatPR     9.205238                 11                1226\n",
       "logNHeat      8.838181                 10                1226\n",
       "For          19.328601                  6                 187\n",
       "ModifPPR     20.505996                  5                 112"
      ]
     },
     "execution_count": 12,
     "metadata": {},
     "output_type": "execute_result"
    }
   ],
   "source": [
    "df = pd.DataFrame(lb)\n",
    "df.sort_values('wins(>), maxari<1', ascending=False)"
   ]
  },
  {
   "cell_type": "raw",
   "metadata": {
    "jupyter": {
     "outputs_hidden": false
    },
    "pycharm": {
     "name": "#%%\n"
    }
   },
   "source": [
    "names, scores = zip(*sorted(list(lb['wins (>)'].items()), key=lambda x: -x[1]))\n",
    "plt.bar(range(len(scores)), scores)\n",
    "plt.xticks(range(len(names)), list(names), rotation=90);"
   ]
  },
  {
   "cell_type": "code",
   "execution_count": null,
   "metadata": {
    "collapsed": false,
    "jupyter": {
     "outputs_hidden": false
    },
    "pycharm": {
     "name": "#%%\n"
    }
   },
   "outputs": [],
   "source": []
  },
  {
   "cell_type": "code",
   "execution_count": null,
   "metadata": {
    "collapsed": false,
    "jupyter": {
     "outputs_hidden": false
    },
    "pycharm": {
     "name": "#%%\n"
    }
   },
   "outputs": [],
   "source": []
  },
  {
   "cell_type": "code",
   "execution_count": 13,
   "metadata": {
    "collapsed": false,
    "jupyter": {
     "outputs_hidden": false
    },
    "pycharm": {
     "name": "#%%\n"
    }
   },
   "outputs": [],
   "source": [
    "df.to_excel('leaderboard.xlsx')"
   ]
  },
  {
   "cell_type": "code",
   "execution_count": null,
   "metadata": {
    "collapsed": false,
    "jupyter": {
     "outputs_hidden": false
    },
    "pycharm": {
     "name": "#%%\n"
    }
   },
   "outputs": [],
   "source": []
  },
  {
   "cell_type": "code",
   "execution_count": null,
   "metadata": {},
   "outputs": [],
   "source": []
  },
  {
   "cell_type": "code",
   "execution_count": null,
   "metadata": {},
   "outputs": [],
   "source": []
  }
 ],
 "metadata": {
  "kernelspec": {
   "display_name": "Python 3",
   "language": "python",
   "name": "python3"
  },
  "language_info": {
   "codemirror_mode": {
    "name": "ipython",
    "version": 3
   },
   "file_extension": ".py",
   "mimetype": "text/x-python",
   "name": "python",
   "nbconvert_exporter": "python",
   "pygments_lexer": "ipython3",
   "version": "3.6.9"
  }
 },
 "nbformat": 4,
 "nbformat_minor": 4
}