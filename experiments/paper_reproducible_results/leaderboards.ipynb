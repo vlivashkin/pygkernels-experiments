{
 "cells": [
  {
   "cell_type": "code",
   "execution_count": 1,
   "metadata": {},
   "outputs": [],
   "source": [
    "%matplotlib inline"
   ]
  },
  {
   "cell_type": "code",
   "execution_count": 2,
   "metadata": {},
   "outputs": [],
   "source": [
    "import json\n",
    "import os\n",
    "import sys\n",
    "from collections import defaultdict, Counter\n",
    "\n",
    "import numpy as np\n",
    "import pandas as pd\n",
    "from scipy.stats import rankdata\n",
    "from tqdm.notebook import tqdm\n",
    "import matplotlib.pyplot as plt\n",
    "\n",
    "sys.path.append('../../pygkernels')\n",
    "from pygkernels.measure import kernels"
   ]
  },
  {
   "cell_type": "code",
   "execution_count": 3,
   "metadata": {},
   "outputs": [],
   "source": [
    "def calc_avranks(results):  # {dataset: {classifier: accuracy}}\n",
    "    ranks = defaultdict(list)\n",
    "    for _, classifier_accuracy in results.items():\n",
    "        classifiers, accuracies = zip(*list(classifier_accuracy.items()))\n",
    "        for classifier, rank in zip(classifiers, rankdata(-np.array(accuracies), method='min')):\n",
    "            ranks[classifier].append(rank)\n",
    "    ranks = {k: np.mean(v) for k, v in sorted(ranks.items(), key=lambda x: x[0])}\n",
    "    return list(ranks.values()), list(ranks.keys()), len(results)"
   ]
  },
  {
   "cell_type": "code",
   "execution_count": 4,
   "metadata": {
    "collapsed": false,
    "jupyter": {
     "outputs_hidden": false
    },
    "pycharm": {
     "name": "#%%\n"
    }
   },
   "outputs": [
    {
     "data": {
      "text/plain": [
       "[(0, 'Katz'),\n",
       " (1, 'logKatz'),\n",
       " (2, 'For'),\n",
       " (3, 'logFor'),\n",
       " (4, 'Comm'),\n",
       " (5, 'logComm'),\n",
       " (6, 'Heat'),\n",
       " (7, 'logHeat'),\n",
       " (8, 'NHeat'),\n",
       " (9, 'logNHeat'),\n",
       " (10, 'SCT'),\n",
       " (11, 'SCCT'),\n",
       " (12, 'RSP'),\n",
       " (13, 'FE'),\n",
       " (14, 'PPR'),\n",
       " (15, 'logPPR'),\n",
       " (16, 'ModifPPR'),\n",
       " (17, 'logModifPPR'),\n",
       " (18, 'HeatPR'),\n",
       " (19, 'logHeatPR'),\n",
       " (20, 'DF'),\n",
       " (21, 'logDF'),\n",
       " (22, 'Abs'),\n",
       " (23, 'logAbs'),\n",
       " (24, 'SP-CT')]"
      ]
     },
     "execution_count": 4,
     "metadata": {},
     "output_type": "execute_result"
    }
   ],
   "source": [
    "kernels_order = [x.name for x in kernels]\n",
    "list(enumerate(kernels_order))"
   ]
  },
  {
   "cell_type": "markdown",
   "metadata": {},
   "source": [
    "# Leaderboards"
   ]
  },
  {
   "cell_type": "code",
   "execution_count": 5,
   "metadata": {
    "collapsed": false,
    "jupyter": {
     "outputs_hidden": false
    },
    "pycharm": {
     "name": "#%%\n"
    }
   },
   "outputs": [
    {
     "name": "stdout",
     "output_type": "stream",
     "text": [
      "7396\n"
     ]
    }
   ],
   "source": [
    "with open('filtered_dataset.json', 'r') as f:\n",
    "    dataset = json.load(f)\n",
    "full_size = len(dataset)\n",
    "print(len(dataset))\n",
    "\n",
    "# dataset = [item for item in dataset if 1 <= item['estimated_params']['tau1'] <= 4 and item['estimated_params']['modularity'] > 0.0]\n",
    "# print(len(dataset) / full_size)"
   ]
  },
  {
   "cell_type": "code",
   "execution_count": 14,
   "metadata": {},
   "outputs": [
    {
     "data": {
      "text/plain": [
       "(2556, 4840)"
      ]
     },
     "execution_count": 14,
     "metadata": {},
     "output_type": "execute_result"
    }
   ],
   "source": [
    "associative_dataset = [x for x in dataset if x['estimated_params']['modularity'] >= 0]\n",
    "dissociative_dataset = [x for x in dataset if x['estimated_params']['modularity'] < 0]\n",
    "len(associative_dataset), len(dissociative_dataset)"
   ]
  },
  {
   "cell_type": "code",
   "execution_count": 19,
   "metadata": {
    "pycharm": {
     "name": "#%%\n"
    }
   },
   "outputs": [
    {
     "data": {
      "text/html": [
       "<div>\n",
       "<style scoped>\n",
       "    .dataframe tbody tr th:only-of-type {\n",
       "        vertical-align: middle;\n",
       "    }\n",
       "\n",
       "    .dataframe tbody tr th {\n",
       "        vertical-align: top;\n",
       "    }\n",
       "\n",
       "    .dataframe thead th {\n",
       "        text-align: right;\n",
       "    }\n",
       "</style>\n",
       "<table border=\"1\" class=\"dataframe\">\n",
       "  <thead>\n",
       "    <tr style=\"text-align: right;\">\n",
       "      <th></th>\n",
       "      <th>ranks(&gt;=)</th>\n",
       "      <th>wins(&gt;=)</th>\n",
       "      <th>meanari</th>\n",
       "    </tr>\n",
       "  </thead>\n",
       "  <tbody>\n",
       "    <tr>\n",
       "      <th>RSP</th>\n",
       "      <td>4.220657</td>\n",
       "      <td>14.440238</td>\n",
       "      <td>0.680692</td>\n",
       "    </tr>\n",
       "    <tr>\n",
       "      <th>SCCT</th>\n",
       "      <td>4.563380</td>\n",
       "      <td>19.429421</td>\n",
       "      <td>0.700559</td>\n",
       "    </tr>\n",
       "    <tr>\n",
       "      <th>logNHeat</th>\n",
       "      <td>5.280908</td>\n",
       "      <td>13.290968</td>\n",
       "      <td>0.667493</td>\n",
       "    </tr>\n",
       "    <tr>\n",
       "      <th>logHeatPR</th>\n",
       "      <td>5.296557</td>\n",
       "      <td>13.290968</td>\n",
       "      <td>0.667439</td>\n",
       "    </tr>\n",
       "    <tr>\n",
       "      <th>FE</th>\n",
       "      <td>5.582942</td>\n",
       "      <td>13.547864</td>\n",
       "      <td>0.668040</td>\n",
       "    </tr>\n",
       "    <tr>\n",
       "      <th>logKatz</th>\n",
       "      <td>5.758998</td>\n",
       "      <td>13.710114</td>\n",
       "      <td>0.667096</td>\n",
       "    </tr>\n",
       "    <tr>\n",
       "      <th>logComm</th>\n",
       "      <td>6.136541</td>\n",
       "      <td>15.156842</td>\n",
       "      <td>0.643482</td>\n",
       "    </tr>\n",
       "    <tr>\n",
       "      <th>logPPR</th>\n",
       "      <td>6.197574</td>\n",
       "      <td>13.318010</td>\n",
       "      <td>0.661114</td>\n",
       "    </tr>\n",
       "    <tr>\n",
       "      <th>logModifPPR</th>\n",
       "      <td>6.507042</td>\n",
       "      <td>13.128718</td>\n",
       "      <td>0.658402</td>\n",
       "    </tr>\n",
       "    <tr>\n",
       "      <th>SP-CT</th>\n",
       "      <td>6.548513</td>\n",
       "      <td>13.061114</td>\n",
       "      <td>0.659287</td>\n",
       "    </tr>\n",
       "    <tr>\n",
       "      <th>SCT</th>\n",
       "      <td>6.614241</td>\n",
       "      <td>13.588426</td>\n",
       "      <td>0.662717</td>\n",
       "    </tr>\n",
       "    <tr>\n",
       "      <th>logAbs</th>\n",
       "      <td>7.984351</td>\n",
       "      <td>12.790698</td>\n",
       "      <td>0.648852</td>\n",
       "    </tr>\n",
       "    <tr>\n",
       "      <th>NHeat</th>\n",
       "      <td>8.082160</td>\n",
       "      <td>13.791239</td>\n",
       "      <td>0.621312</td>\n",
       "    </tr>\n",
       "    <tr>\n",
       "      <th>logFor</th>\n",
       "      <td>9.117762</td>\n",
       "      <td>12.574365</td>\n",
       "      <td>0.606974</td>\n",
       "    </tr>\n",
       "    <tr>\n",
       "      <th>logHeat</th>\n",
       "      <td>9.196009</td>\n",
       "      <td>11.641428</td>\n",
       "      <td>0.590553</td>\n",
       "    </tr>\n",
       "    <tr>\n",
       "      <th>HeatPR</th>\n",
       "      <td>10.219484</td>\n",
       "      <td>12.209302</td>\n",
       "      <td>0.597184</td>\n",
       "    </tr>\n",
       "    <tr>\n",
       "      <th>Comm</th>\n",
       "      <td>10.265649</td>\n",
       "      <td>10.654408</td>\n",
       "      <td>0.573720</td>\n",
       "    </tr>\n",
       "    <tr>\n",
       "      <th>Heat</th>\n",
       "      <td>12.676839</td>\n",
       "      <td>10.613845</td>\n",
       "      <td>0.512398</td>\n",
       "    </tr>\n",
       "    <tr>\n",
       "      <th>logDF</th>\n",
       "      <td>12.757042</td>\n",
       "      <td>8.315306</td>\n",
       "      <td>0.440292</td>\n",
       "    </tr>\n",
       "    <tr>\n",
       "      <th>Katz</th>\n",
       "      <td>14.670188</td>\n",
       "      <td>4.461871</td>\n",
       "      <td>0.466772</td>\n",
       "    </tr>\n",
       "    <tr>\n",
       "      <th>DF</th>\n",
       "      <td>14.829030</td>\n",
       "      <td>5.205516</td>\n",
       "      <td>0.428980</td>\n",
       "    </tr>\n",
       "    <tr>\n",
       "      <th>PPR</th>\n",
       "      <td>18.090767</td>\n",
       "      <td>3.772309</td>\n",
       "      <td>0.351373</td>\n",
       "    </tr>\n",
       "    <tr>\n",
       "      <th>For</th>\n",
       "      <td>20.527778</td>\n",
       "      <td>2.595998</td>\n",
       "      <td>0.190381</td>\n",
       "    </tr>\n",
       "    <tr>\n",
       "      <th>Abs</th>\n",
       "      <td>21.100548</td>\n",
       "      <td>2.325581</td>\n",
       "      <td>0.163993</td>\n",
       "    </tr>\n",
       "    <tr>\n",
       "      <th>ModifPPR</th>\n",
       "      <td>22.242958</td>\n",
       "      <td>1.581936</td>\n",
       "      <td>0.124847</td>\n",
       "    </tr>\n",
       "  </tbody>\n",
       "</table>\n",
       "</div>"
      ],
      "text/plain": [
       "             ranks(>=)   wins(>=)   meanari\n",
       "RSP           4.220657  14.440238  0.680692\n",
       "SCCT          4.563380  19.429421  0.700559\n",
       "logNHeat      5.280908  13.290968  0.667493\n",
       "logHeatPR     5.296557  13.290968  0.667439\n",
       "FE            5.582942  13.547864  0.668040\n",
       "logKatz       5.758998  13.710114  0.667096\n",
       "logComm       6.136541  15.156842  0.643482\n",
       "logPPR        6.197574  13.318010  0.661114\n",
       "logModifPPR   6.507042  13.128718  0.658402\n",
       "SP-CT         6.548513  13.061114  0.659287\n",
       "SCT           6.614241  13.588426  0.662717\n",
       "logAbs        7.984351  12.790698  0.648852\n",
       "NHeat         8.082160  13.791239  0.621312\n",
       "logFor        9.117762  12.574365  0.606974\n",
       "logHeat       9.196009  11.641428  0.590553\n",
       "HeatPR       10.219484  12.209302  0.597184\n",
       "Comm         10.265649  10.654408  0.573720\n",
       "Heat         12.676839  10.613845  0.512398\n",
       "logDF        12.757042   8.315306  0.440292\n",
       "Katz         14.670188   4.461871  0.466772\n",
       "DF           14.829030   5.205516  0.428980\n",
       "PPR          18.090767   3.772309  0.351373\n",
       "For          20.527778   2.595998  0.190381\n",
       "Abs          21.100548   2.325581  0.163993\n",
       "ModifPPR     22.242958   1.581936  0.124847"
      ]
     },
     "execution_count": 19,
     "metadata": {},
     "output_type": "execute_result"
    }
   ],
   "source": [
    "lb = {}\n",
    "\n",
    "# Leaderboard by ranks \">=\"\n",
    "ranks, names, n_experiments = calc_avranks(dict(enumerate([data['measure_best_results'] for data in associative_dataset])))\n",
    "ranks_ge = dict(zip(names, ranks))\n",
    "lb['ranks(>=)'] = ranks_ge\n",
    "\n",
    "# Leaderboard by wins \">\", maxari < 1\n",
    "wins_ge = {kernel_name: 0 for kernel_name in kernels_order}\n",
    "meanari = {kernel_name: (0, 0) for kernel_name in kernels_order}\n",
    "for kernel_name in kernels_order:\n",
    "    for data in associative_dataset:\n",
    "        item = data['measure_best_results']\n",
    "        if item[kernel_name] >= np.max([v for k, v in item.items() if k != kernel_name]):\n",
    "            wins_ge[kernel_name] += 1\n",
    "        \n",
    "        meanari[kernel_name] = (meanari[kernel_name][0] + item[kernel_name], meanari[kernel_name][1] + 1)\n",
    "    meanari[kernel_name] = meanari[kernel_name][0] / meanari[kernel_name][1]\n",
    "            \n",
    "lb['wins(>=)'] = {k: v/full_size*100 for k, v in wins_ge.items()}\n",
    "lb['meanari'] = meanari\n",
    "# pd.DataFrame(Counter(ranks_ge).most_common(), columns=['measure', 'rank']).sort_values('rank')\n",
    "\n",
    "df = pd.DataFrame(lb)\n",
    "df.sort_values('ranks(>=)', ascending=True)"
   ]
  },
  {
   "cell_type": "code",
   "execution_count": 20,
   "metadata": {},
   "outputs": [],
   "source": [
    "df.to_excel('associative_leaderboard.xlsx')"
   ]
  },
  {
   "cell_type": "code",
   "execution_count": 21,
   "metadata": {},
   "outputs": [
    {
     "data": {
      "text/html": [
       "<div>\n",
       "<style scoped>\n",
       "    .dataframe tbody tr th:only-of-type {\n",
       "        vertical-align: middle;\n",
       "    }\n",
       "\n",
       "    .dataframe tbody tr th {\n",
       "        vertical-align: top;\n",
       "    }\n",
       "\n",
       "    .dataframe thead th {\n",
       "        text-align: right;\n",
       "    }\n",
       "</style>\n",
       "<table border=\"1\" class=\"dataframe\">\n",
       "  <thead>\n",
       "    <tr style=\"text-align: right;\">\n",
       "      <th></th>\n",
       "      <th>ranks(&gt;=)</th>\n",
       "      <th>wins(&gt;=)</th>\n",
       "      <th>meanari</th>\n",
       "    </tr>\n",
       "  </thead>\n",
       "  <tbody>\n",
       "    <tr>\n",
       "      <th>SCCT</th>\n",
       "      <td>3.972314</td>\n",
       "      <td>40.684154</td>\n",
       "      <td>0.637098</td>\n",
       "    </tr>\n",
       "    <tr>\n",
       "      <th>RSP</th>\n",
       "      <td>7.811983</td>\n",
       "      <td>8.504597</td>\n",
       "      <td>0.385274</td>\n",
       "    </tr>\n",
       "    <tr>\n",
       "      <th>NHeat</th>\n",
       "      <td>8.198347</td>\n",
       "      <td>6.368307</td>\n",
       "      <td>0.336386</td>\n",
       "    </tr>\n",
       "    <tr>\n",
       "      <th>SCT</th>\n",
       "      <td>8.541942</td>\n",
       "      <td>7.030827</td>\n",
       "      <td>0.380617</td>\n",
       "    </tr>\n",
       "    <tr>\n",
       "      <th>SP-CT</th>\n",
       "      <td>8.953306</td>\n",
       "      <td>7.936723</td>\n",
       "      <td>0.374131</td>\n",
       "    </tr>\n",
       "    <tr>\n",
       "      <th>Katz</th>\n",
       "      <td>9.160124</td>\n",
       "      <td>2.460790</td>\n",
       "      <td>0.291131</td>\n",
       "    </tr>\n",
       "    <tr>\n",
       "      <th>Comm</th>\n",
       "      <td>9.351033</td>\n",
       "      <td>4.772850</td>\n",
       "      <td>0.285586</td>\n",
       "    </tr>\n",
       "    <tr>\n",
       "      <th>logNHeat</th>\n",
       "      <td>9.529339</td>\n",
       "      <td>6.003245</td>\n",
       "      <td>0.316810</td>\n",
       "    </tr>\n",
       "    <tr>\n",
       "      <th>FE</th>\n",
       "      <td>9.784504</td>\n",
       "      <td>6.828015</td>\n",
       "      <td>0.349098</td>\n",
       "    </tr>\n",
       "    <tr>\n",
       "      <th>logHeatPR</th>\n",
       "      <td>9.971074</td>\n",
       "      <td>6.003245</td>\n",
       "      <td>0.315509</td>\n",
       "    </tr>\n",
       "    <tr>\n",
       "      <th>Abs</th>\n",
       "      <td>10.057851</td>\n",
       "      <td>8.409951</td>\n",
       "      <td>0.303183</td>\n",
       "    </tr>\n",
       "    <tr>\n",
       "      <th>logPPR</th>\n",
       "      <td>10.613223</td>\n",
       "      <td>5.976203</td>\n",
       "      <td>0.304560</td>\n",
       "    </tr>\n",
       "    <tr>\n",
       "      <th>DF</th>\n",
       "      <td>10.956198</td>\n",
       "      <td>2.460790</td>\n",
       "      <td>0.243029</td>\n",
       "    </tr>\n",
       "    <tr>\n",
       "      <th>logKatz</th>\n",
       "      <td>11.610537</td>\n",
       "      <td>6.287182</td>\n",
       "      <td>0.301788</td>\n",
       "    </tr>\n",
       "    <tr>\n",
       "      <th>logModifPPR</th>\n",
       "      <td>11.692975</td>\n",
       "      <td>5.895078</td>\n",
       "      <td>0.299453</td>\n",
       "    </tr>\n",
       "    <tr>\n",
       "      <th>logAbs</th>\n",
       "      <td>13.699380</td>\n",
       "      <td>5.191996</td>\n",
       "      <td>0.279485</td>\n",
       "    </tr>\n",
       "    <tr>\n",
       "      <th>Heat</th>\n",
       "      <td>14.943802</td>\n",
       "      <td>0.594916</td>\n",
       "      <td>0.080167</td>\n",
       "    </tr>\n",
       "    <tr>\n",
       "      <th>logFor</th>\n",
       "      <td>15.793388</td>\n",
       "      <td>2.785289</td>\n",
       "      <td>0.179960</td>\n",
       "    </tr>\n",
       "    <tr>\n",
       "      <th>logHeat</th>\n",
       "      <td>15.915289</td>\n",
       "      <td>0.351541</td>\n",
       "      <td>0.079517</td>\n",
       "    </tr>\n",
       "    <tr>\n",
       "      <th>HeatPR</th>\n",
       "      <td>16.677273</td>\n",
       "      <td>0.148729</td>\n",
       "      <td>0.091816</td>\n",
       "    </tr>\n",
       "    <tr>\n",
       "      <th>logDF</th>\n",
       "      <td>16.988017</td>\n",
       "      <td>3.096268</td>\n",
       "      <td>0.083059</td>\n",
       "    </tr>\n",
       "    <tr>\n",
       "      <th>PPR</th>\n",
       "      <td>17.398967</td>\n",
       "      <td>0.175771</td>\n",
       "      <td>0.087031</td>\n",
       "    </tr>\n",
       "    <tr>\n",
       "      <th>logComm</th>\n",
       "      <td>18.707438</td>\n",
       "      <td>0.338021</td>\n",
       "      <td>0.028123</td>\n",
       "    </tr>\n",
       "    <tr>\n",
       "      <th>For</th>\n",
       "      <td>20.754752</td>\n",
       "      <td>0.202812</td>\n",
       "      <td>0.018551</td>\n",
       "    </tr>\n",
       "    <tr>\n",
       "      <th>ModifPPR</th>\n",
       "      <td>21.063017</td>\n",
       "      <td>0.175771</td>\n",
       "      <td>0.015619</td>\n",
       "    </tr>\n",
       "  </tbody>\n",
       "</table>\n",
       "</div>"
      ],
      "text/plain": [
       "             ranks(>=)   wins(>=)   meanari\n",
       "SCCT          3.972314  40.684154  0.637098\n",
       "RSP           7.811983   8.504597  0.385274\n",
       "NHeat         8.198347   6.368307  0.336386\n",
       "SCT           8.541942   7.030827  0.380617\n",
       "SP-CT         8.953306   7.936723  0.374131\n",
       "Katz          9.160124   2.460790  0.291131\n",
       "Comm          9.351033   4.772850  0.285586\n",
       "logNHeat      9.529339   6.003245  0.316810\n",
       "FE            9.784504   6.828015  0.349098\n",
       "logHeatPR     9.971074   6.003245  0.315509\n",
       "Abs          10.057851   8.409951  0.303183\n",
       "logPPR       10.613223   5.976203  0.304560\n",
       "DF           10.956198   2.460790  0.243029\n",
       "logKatz      11.610537   6.287182  0.301788\n",
       "logModifPPR  11.692975   5.895078  0.299453\n",
       "logAbs       13.699380   5.191996  0.279485\n",
       "Heat         14.943802   0.594916  0.080167\n",
       "logFor       15.793388   2.785289  0.179960\n",
       "logHeat      15.915289   0.351541  0.079517\n",
       "HeatPR       16.677273   0.148729  0.091816\n",
       "logDF        16.988017   3.096268  0.083059\n",
       "PPR          17.398967   0.175771  0.087031\n",
       "logComm      18.707438   0.338021  0.028123\n",
       "For          20.754752   0.202812  0.018551\n",
       "ModifPPR     21.063017   0.175771  0.015619"
      ]
     },
     "execution_count": 21,
     "metadata": {},
     "output_type": "execute_result"
    }
   ],
   "source": [
    "lb = {}\n",
    "\n",
    "# Leaderboard by ranks \">=\"\n",
    "ranks, names, n_experiments = calc_avranks(dict(enumerate([data['measure_best_results'] for data in dissociative_dataset])))\n",
    "ranks_ge = dict(zip(names, ranks))\n",
    "lb['ranks(>=)'] = ranks_ge\n",
    "\n",
    "# Leaderboard by wins \">\", maxari < 1\n",
    "wins_ge = {kernel_name: 0 for kernel_name in kernels_order}\n",
    "meanari = {kernel_name: (0, 0) for kernel_name in kernels_order}\n",
    "for kernel_name in kernels_order:\n",
    "    for data in dissociative_dataset:\n",
    "        item = data['measure_best_results']\n",
    "        if item[kernel_name] >= np.max([v for k, v in item.items() if k != kernel_name]):\n",
    "            wins_ge[kernel_name] += 1\n",
    "        \n",
    "        meanari[kernel_name] = (meanari[kernel_name][0] + item[kernel_name], meanari[kernel_name][1] + 1)\n",
    "    meanari[kernel_name] = meanari[kernel_name][0] / meanari[kernel_name][1]\n",
    "            \n",
    "lb['wins(>=)'] = {k: v/full_size*100 for k, v in wins_ge.items()}\n",
    "lb['meanari'] = meanari\n",
    "# pd.DataFrame(Counter(ranks_ge).most_common(), columns=['measure', 'rank']).sort_values('rank')\n",
    "\n",
    "df = pd.DataFrame(lb)\n",
    "df.sort_values('ranks(>=)', ascending=True)"
   ]
  },
  {
   "cell_type": "code",
   "execution_count": 22,
   "metadata": {},
   "outputs": [],
   "source": [
    "df.to_excel('dissociative_leaderboard.xlsx')"
   ]
  },
  {
   "cell_type": "raw",
   "metadata": {
    "jupyter": {
     "outputs_hidden": false
    },
    "pycharm": {
     "name": "#%%\n"
    }
   },
   "source": [
    "names, scores = zip(*sorted(list(lb['wins (>)'].items()), key=lambda x: -x[1]))\n",
    "plt.bar(range(len(scores)), scores)\n",
    "plt.xticks(range(len(names)), list(names), rotation=90);"
   ]
  },
  {
   "cell_type": "code",
   "execution_count": null,
   "metadata": {
    "collapsed": false,
    "jupyter": {
     "outputs_hidden": false
    },
    "pycharm": {
     "name": "#%%\n"
    }
   },
   "outputs": [],
   "source": []
  },
  {
   "cell_type": "code",
   "execution_count": null,
   "metadata": {
    "collapsed": false,
    "jupyter": {
     "outputs_hidden": false
    },
    "pycharm": {
     "name": "#%%\n"
    }
   },
   "outputs": [],
   "source": []
  },
  {
   "cell_type": "code",
   "execution_count": 8,
   "metadata": {
    "collapsed": false,
    "jupyter": {
     "outputs_hidden": false
    },
    "pycharm": {
     "name": "#%%\n"
    }
   },
   "outputs": [],
   "source": [
    "df.to_excel('leaderboard.xlsx')"
   ]
  },
  {
   "cell_type": "code",
   "execution_count": null,
   "metadata": {
    "collapsed": false,
    "jupyter": {
     "outputs_hidden": false
    },
    "pycharm": {
     "name": "#%%\n"
    }
   },
   "outputs": [],
   "source": []
  },
  {
   "cell_type": "code",
   "execution_count": null,
   "metadata": {},
   "outputs": [],
   "source": []
  },
  {
   "cell_type": "code",
   "execution_count": null,
   "metadata": {},
   "outputs": [],
   "source": []
  }
 ],
 "metadata": {
  "kernelspec": {
   "display_name": "Python 3",
   "language": "python",
   "name": "python3"
  },
  "language_info": {
   "codemirror_mode": {
    "name": "ipython",
    "version": 3
   },
   "file_extension": ".py",
   "mimetype": "text/x-python",
   "name": "python",
   "nbconvert_exporter": "python",
   "pygments_lexer": "ipython3",
   "version": "3.8.5"
  }
 },
 "nbformat": 4,
 "nbformat_minor": 4
}
