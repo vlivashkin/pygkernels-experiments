{
 "cells": [
  {
   "cell_type": "code",
   "execution_count": 1,
   "metadata": {},
   "outputs": [],
   "source": [
    "import os\n",
    "os.environ[\"OPENBLAS_NUM_THREADS\"] = \"1\"\n",
    "import warnings\n",
    "warnings.filterwarnings(\"ignore\")\n",
    "import sys\n",
    "sys.path.append('../..')"
   ]
  },
  {
   "cell_type": "code",
   "execution_count": 2,
   "metadata": {},
   "outputs": [],
   "source": [
    "from collections import defaultdict\n",
    "import json\n",
    "\n",
    "import numpy as np\n",
    "import matplotlib.pyplot as plt\n",
    "%matplotlib inline\n",
    "from tqdm import tqdm_notebook as tqdm\n",
    "from sklearn.metrics import adjusted_rand_score"
   ]
  },
  {
   "cell_type": "code",
   "execution_count": 3,
   "metadata": {},
   "outputs": [],
   "source": [
    "from pygraphs.graphs.generator import StochasticBlockModel\n",
    "from pygraphs.measure import kernels\n",
    "from pygraphs.cluster import KKMeans\n",
    "from pygraphs.scenario import ParallelByGraphs"
   ]
  },
  {
   "cell_type": "markdown",
   "metadata": {},
   "source": [
    "# Experiment 1\n",
    "Calc a 2d field p_in vs p_out for several n and k (balanced classes)\n",
    "\n",
    "$$\n",
    "n = 50, 100, 150, 200 \\\\\n",
    "k = 2, 3, 4, 5, 10 \\\\\n",
    "p_{in}, p_{out} \\in (0, 1] \\text{ with step}=0.05\n",
    "$$\n",
    "\n",
    "mean (or median) by 100 graphs"
   ]
  },
  {
   "cell_type": "code",
   "execution_count": 4,
   "metadata": {},
   "outputs": [],
   "source": [
    "kernel_colors = dict([(k.name, i) for i, k in enumerate(kernels)])"
   ]
  },
  {
   "cell_type": "code",
   "execution_count": 5,
   "metadata": {},
   "outputs": [],
   "source": [
    "class CellMeasureResults:\n",
    "    def __init__(self, name, params, ari, error):\n",
    "        self.measure_name = name\n",
    "        self.params = params\n",
    "        self.ari = ari\n",
    "        self.error = error\n",
    "    \n",
    "    def mari(self, method='max'):\n",
    "        if len(self.ari) == 0:\n",
    "            return 0\n",
    "        elif method == 'max':\n",
    "            return np.nanmax(self.ari)\n",
    "        elif method == 'mean':\n",
    "            return np.nanmean(self.ari)\n",
    "        elif method == 'median':\n",
    "            return np.nanmedian(self.ari)\n",
    "\n",
    "\n",
    "class PictureCellResults:\n",
    "    def __init__(self):\n",
    "        self.measure_results = {}\n",
    "    \n",
    "    def best_measure(self):\n",
    "        measure_results_list = [(measure_name, measure_result.mari(method='max')) \\\n",
    "                                for measure_name, measure_result in self.measure_results.items()]\n",
    "        measure_results_list = sorted(measure_results_list, key=lambda x: x[1], reverse=True)\n",
    "        return measure_results_list[0]  # tuple (name, ari)\n",
    "    \n",
    "\n",
    "class PictureResults:\n",
    "    def __init__(self, name, n_pin, n_pout):\n",
    "        self.name = name\n",
    "        self.results = [[PictureCellResults() for _ in range(n_pout)] for _ in range(n_pin)]\n",
    "        \n",
    "    def best_measure_map(self, kernel_colors):\n",
    "        measure_map = np.full((len(self.results), len(self.results[0])), np.nan)\n",
    "        ari_map = np.full((len(self.results), len(self.results[0])), np.nan)\n",
    "        for i in range(len(self.results)):\n",
    "            for j in range(len(self.results[0])):\n",
    "                name, ari = self.results[i][j].best_measure()\n",
    "                measure_map[i, j] = kernel_colors[name]\n",
    "                ari_map[i, j] = ari \n",
    "        return measure_map, ari_map"
   ]
  },
  {
   "cell_type": "code",
   "execution_count": 6,
   "metadata": {
    "scrolled": false
   },
   "outputs": [
    {
     "data": {
      "application/vnd.jupyter.widget-view+json": {
       "model_id": "041a6f5d63854d819a3dab6483d1978d",
       "version_major": 2,
       "version_minor": 0
      },
      "text/plain": [
       "HBox(children=(IntProgress(value=0, description='100_2_KernelKMeans', max=441), HTML(value='')))"
      ]
     },
     "metadata": {},
     "output_type": "display_data"
    },
    {
     "name": "stdout",
     "output_type": "stream",
     "text": [
      "0.0, 0.0, NHeat -- error\n",
      "0.0, 0.0, logNHeat -- error\n",
      "0.0, 0.0, SCCT -- error\n",
      "0.0, 0.0, PPR -- error\n",
      "0.0, 0.0, logPPR -- error\n",
      "0.0, 0.0, HeatPPR -- error\n",
      "0.0, 0.0, logHeatPPR -- error\n",
      "0.0, 0.05, NHeat -- error\n",
      "0.0, 0.05, logNHeat -- error\n",
      "0.0, 0.05, SCCT -- error\n",
      "0.0, 0.05, PPR -- error\n",
      "0.0, 0.05, logPPR -- error\n",
      "0.0, 0.05, HeatPPR -- error\n",
      "0.0, 0.05, logHeatPPR -- error\n",
      "0.0, 0.1, NHeat -- error\n",
      "0.0, 0.1, logNHeat -- error\n",
      "0.0, 0.1, SCCT -- error\n",
      "0.0, 0.1, PPR -- error\n",
      "0.0, 0.1, logPPR -- error\n",
      "0.0, 0.1, HeatPPR -- error\n",
      "0.0, 0.1, logHeatPPR -- error\n",
      "0.0, 0.15000000000000002, NHeat -- error\n",
      "0.0, 0.15000000000000002, logNHeat -- error\n",
      "0.0, 0.15000000000000002, SCCT -- error\n",
      "0.0, 0.15000000000000002, PPR -- error\n",
      "0.0, 0.15000000000000002, logPPR -- error\n",
      "0.0, 0.15000000000000002, HeatPPR -- error\n",
      "0.0, 0.15000000000000002, logHeatPPR -- error\n",
      "0.05, 0.0, NHeat -- error\n",
      "0.05, 0.0, logNHeat -- error\n",
      "0.05, 0.0, SCCT -- error\n",
      "0.05, 0.0, PPR -- error\n",
      "0.05, 0.0, logPPR -- error\n",
      "0.05, 0.0, HeatPPR -- error\n",
      "0.05, 0.0, logHeatPPR -- error\n",
      "0.05, 0.05, NHeat -- error\n",
      "0.05, 0.05, logNHeat -- error\n",
      "0.05, 0.05, SCCT -- error\n",
      "0.05, 0.05, PPR -- error\n",
      "0.05, 0.05, logPPR -- error\n",
      "0.05, 0.05, HeatPPR -- error\n",
      "0.05, 0.05, logHeatPPR -- error\n",
      "0.05, 0.1, NHeat -- error\n",
      "0.05, 0.1, logNHeat -- error\n",
      "0.05, 0.1, SCCT -- error\n",
      "0.05, 0.1, PPR -- error\n",
      "0.05, 0.1, logPPR -- error\n",
      "0.05, 0.1, HeatPPR -- error\n",
      "0.05, 0.1, logHeatPPR -- error\n",
      "0.1, 0.0, NHeat -- error\n",
      "0.1, 0.0, logNHeat -- error\n",
      "0.1, 0.0, SCCT -- error\n",
      "0.1, 0.0, PPR -- error\n",
      "0.1, 0.0, logPPR -- error\n",
      "0.1, 0.0, HeatPPR -- error\n",
      "0.1, 0.0, logHeatPPR -- error\n",
      "0.1, 0.05, NHeat -- error\n",
      "0.1, 0.05, logNHeat -- error\n",
      "0.1, 0.05, SCCT -- error\n",
      "0.1, 0.05, PPR -- error\n",
      "0.1, 0.05, logPPR -- error\n",
      "0.1, 0.05, HeatPPR -- error\n",
      "0.1, 0.05, logHeatPPR -- error\n",
      "0.15000000000000002, 0.0, NHeat -- error\n",
      "0.15000000000000002, 0.0, logNHeat -- error\n",
      "0.15000000000000002, 0.0, SCCT -- error\n",
      "0.15000000000000002, 0.0, PPR -- error\n",
      "0.15000000000000002, 0.0, logPPR -- error\n",
      "0.15000000000000002, 0.0, HeatPPR -- error\n",
      "0.15000000000000002, 0.0, logHeatPPR -- error\n",
      "\n"
     ]
    }
   ],
   "source": [
    "ns = [100]\n",
    "ks = [2]\n",
    "estimators = [KKMeans]\n",
    "step = 0.05\n",
    "p_ins = np.arange(0.0, 1.0001, step)\n",
    "p_outs = np.arange(0.0, 1.0001, step)\n",
    "\n",
    "overall_results = {}\n",
    "\n",
    "classic_plot = ParallelByGraphs(adjusted_rand_score, np.linspace(0, 1, 31), progressbar=False)\n",
    "for n, k, estimator in product(ns, ks, estimators):  # one picture\n",
    "    experiment_name = f'{n}_{k}_{estimator.name}'\n",
    "    picture_results = PictureResults(experiment_name, p_ins.shape[0], p_outs.shape[0])\n",
    "    overall_results[experiment_name] = picture_results\n",
    "    for p_in, p_out in tqdm(list(product(p_ins, p_outs)), desc=experiment_name):  # one pixel\n",
    "        p_in_idx, p_out_idx = int(p_in / step), int(p_out / step)\n",
    "        cell_results = picture_results.results[p_in_idx][p_out_idx]\n",
    "        graphs, info = StochasticBlockModel(n, k, p_in=p_in, p_out=p_out).generate_graphs(100)\n",
    "        for kernel in kernels:\n",
    "            try:\n",
    "                params, ari, error = classic_plot.perform(estimator, kernel, graphs, k, n_jobs=12)\n",
    "            except KeyboardInterrupt:\n",
    "                exit(1)\n",
    "            except:\n",
    "                print(f'{p_in}, {p_out}, {kernel.name} -- error')\n",
    "                params, ari, error = [], [], []\n",
    "            cell_results.measure_results[kernel.name] = CellMeasureResults(kernel.name, params, ari, error)            "
   ]
  },
  {
   "cell_type": "code",
   "execution_count": 22,
   "metadata": {},
   "outputs": [
    {
     "name": "stdout",
     "output_type": "stream",
     "text": [
      "0 0 pWalk\n",
      "0 0 Walk\n",
      "0 0 logFor\n",
      "0 0 logComm\n",
      "0 0 logHeat\n",
      "0 0 NHeat\n",
      "0 0 logNHeat\n",
      "0 0 SCT\n",
      "0 0 SCCT\n",
      "0 0 RSP\n",
      "0 0 FE\n",
      "0 0 PPR\n",
      "0 0 logPPR\n",
      "0 0 ModifPPR\n",
      "0 0 logModifPPR\n",
      "0 0 HeatPPR\n",
      "0 0 logHeatPPR\n",
      "0 0 SP-CT\n",
      "0 1 Walk\n",
      "0 1 logComm\n",
      "0 1 logHeat\n",
      "0 1 NHeat\n",
      "0 1 logNHeat\n",
      "0 1 SCCT\n",
      "0 1 RSP\n",
      "0 1 FE\n",
      "0 1 PPR\n",
      "0 1 logPPR\n",
      "0 1 ModifPPR\n",
      "0 1 logModifPPR\n",
      "0 1 HeatPPR\n",
      "0 1 logHeatPPR\n",
      "0 1 SP-CT\n",
      "0 2 NHeat\n",
      "0 2 logNHeat\n",
      "0 2 SCCT\n",
      "0 2 PPR\n",
      "0 2 logPPR\n",
      "0 2 HeatPPR\n",
      "0 2 logHeatPPR\n",
      "0 3 NHeat\n",
      "0 3 logNHeat\n",
      "0 3 SCCT\n",
      "0 3 PPR\n",
      "0 3 logPPR\n",
      "0 3 HeatPPR\n",
      "0 3 logHeatPPR\n",
      "1 0 Walk\n",
      "1 0 logFor\n",
      "1 0 logComm\n",
      "1 0 logHeat\n",
      "1 0 NHeat\n",
      "1 0 logNHeat\n",
      "1 0 SCCT\n",
      "1 0 RSP\n",
      "1 0 FE\n",
      "1 0 PPR\n",
      "1 0 logPPR\n",
      "1 0 ModifPPR\n",
      "1 0 logModifPPR\n",
      "1 0 HeatPPR\n",
      "1 0 logHeatPPR\n",
      "1 0 SP-CT\n",
      "1 1 NHeat\n",
      "1 1 logNHeat\n",
      "1 1 SCCT\n",
      "1 1 PPR\n",
      "1 1 logPPR\n",
      "1 1 HeatPPR\n",
      "1 1 logHeatPPR\n",
      "1 2 NHeat\n",
      "1 2 logNHeat\n",
      "1 2 SCCT\n",
      "1 2 PPR\n",
      "1 2 logPPR\n",
      "1 2 HeatPPR\n",
      "1 2 logHeatPPR\n",
      "2 0 Walk\n",
      "2 0 logFor\n",
      "2 0 logComm\n",
      "2 0 logHeat\n",
      "2 0 NHeat\n",
      "2 0 logNHeat\n",
      "2 0 SCCT\n",
      "2 0 RSP\n",
      "2 0 FE\n",
      "2 0 PPR\n",
      "2 0 logPPR\n",
      "2 0 logModifPPR\n",
      "2 0 HeatPPR\n",
      "2 0 logHeatPPR\n",
      "2 0 SP-CT\n",
      "2 1 NHeat\n",
      "2 1 logNHeat\n",
      "2 1 SCCT\n",
      "2 1 PPR\n",
      "2 1 logPPR\n",
      "2 1 HeatPPR\n",
      "2 1 logHeatPPR\n",
      "3 0 Walk\n",
      "3 0 logFor\n",
      "3 0 logComm\n",
      "3 0 logHeat\n",
      "3 0 NHeat\n",
      "3 0 logNHeat\n",
      "3 0 SCCT\n",
      "3 0 RSP\n",
      "3 0 FE\n",
      "3 0 PPR\n",
      "3 0 logPPR\n",
      "3 0 logModifPPR\n",
      "3 0 HeatPPR\n",
      "3 0 logHeatPPR\n",
      "3 0 SP-CT\n",
      "4 0 Walk\n",
      "4 0 logFor\n",
      "4 0 logComm\n",
      "4 0 logHeat\n",
      "4 0 logNHeat\n",
      "4 0 RSP\n",
      "4 0 FE\n",
      "4 0 logPPR\n",
      "4 0 logModifPPR\n",
      "4 0 logHeatPPR\n",
      "4 0 SP-CT\n",
      "5 0 Walk\n",
      "5 0 logFor\n",
      "5 0 logComm\n",
      "5 0 logHeat\n",
      "5 0 logNHeat\n",
      "5 0 RSP\n",
      "5 0 FE\n",
      "5 0 logPPR\n",
      "5 0 logModifPPR\n",
      "5 0 logHeatPPR\n",
      "5 0 SP-CT\n",
      "6 0 Walk\n",
      "6 0 logFor\n",
      "6 0 logComm\n",
      "6 0 logHeat\n",
      "6 0 logNHeat\n",
      "6 0 RSP\n",
      "6 0 FE\n",
      "6 0 logPPR\n",
      "6 0 logModifPPR\n",
      "6 0 logHeatPPR\n",
      "6 0 SP-CT\n",
      "7 0 Walk\n",
      "7 0 logFor\n",
      "7 0 logComm\n",
      "7 0 logHeat\n",
      "7 0 logNHeat\n",
      "7 0 RSP\n",
      "7 0 FE\n",
      "7 0 logPPR\n",
      "7 0 logModifPPR\n",
      "7 0 logHeatPPR\n",
      "7 0 SP-CT\n",
      "8 0 Walk\n",
      "8 0 logFor\n",
      "8 0 logComm\n",
      "8 0 logHeat\n",
      "8 0 logNHeat\n",
      "8 0 RSP\n",
      "8 0 FE\n",
      "8 0 logPPR\n",
      "8 0 logModifPPR\n",
      "8 0 logHeatPPR\n",
      "8 0 SP-CT\n",
      "9 0 Walk\n",
      "9 0 logFor\n",
      "9 0 logComm\n",
      "9 0 logHeat\n",
      "9 0 logNHeat\n",
      "9 0 RSP\n",
      "9 0 FE\n",
      "9 0 logPPR\n",
      "9 0 logModifPPR\n",
      "9 0 logHeatPPR\n",
      "9 0 SP-CT\n",
      "10 0 Walk\n",
      "10 0 logFor\n",
      "10 0 logComm\n",
      "10 0 logHeat\n",
      "10 0 logNHeat\n",
      "10 0 RSP\n",
      "10 0 FE\n",
      "10 0 logPPR\n",
      "10 0 logModifPPR\n",
      "10 0 logHeatPPR\n",
      "10 0 SP-CT\n",
      "11 0 Walk\n",
      "11 0 logFor\n",
      "11 0 logComm\n",
      "11 0 logHeat\n",
      "11 0 logNHeat\n",
      "11 0 RSP\n",
      "11 0 FE\n",
      "11 0 logPPR\n",
      "11 0 logModifPPR\n",
      "11 0 logHeatPPR\n",
      "11 0 SP-CT\n",
      "12 0 Walk\n",
      "12 0 logFor\n",
      "12 0 logComm\n",
      "12 0 logHeat\n",
      "12 0 logNHeat\n",
      "12 0 RSP\n",
      "12 0 FE\n",
      "12 0 logPPR\n",
      "12 0 logModifPPR\n",
      "12 0 logHeatPPR\n",
      "12 0 SP-CT\n",
      "13 0 Walk\n",
      "13 0 logFor\n",
      "13 0 logComm\n",
      "13 0 logHeat\n",
      "13 0 logNHeat\n",
      "13 0 RSP\n",
      "13 0 FE\n",
      "13 0 logPPR\n",
      "13 0 logModifPPR\n",
      "13 0 logHeatPPR\n",
      "13 0 SP-CT\n",
      "14 0 Walk\n",
      "14 0 logFor\n",
      "14 0 logComm\n",
      "14 0 logHeat\n",
      "14 0 logNHeat\n",
      "14 0 RSP\n",
      "14 0 FE\n",
      "14 0 logPPR\n",
      "14 0 logModifPPR\n",
      "14 0 logHeatPPR\n",
      "14 0 SP-CT\n",
      "15 0 Walk\n",
      "15 0 logFor\n",
      "15 0 logComm\n",
      "15 0 logHeat\n",
      "15 0 logNHeat\n",
      "15 0 RSP\n",
      "15 0 FE\n",
      "15 0 logPPR\n",
      "15 0 logModifPPR\n",
      "15 0 logHeatPPR\n",
      "15 0 SP-CT\n",
      "16 0 Walk\n",
      "16 0 logFor\n",
      "16 0 logComm\n",
      "16 0 logHeat\n",
      "16 0 logNHeat\n",
      "16 0 RSP\n",
      "16 0 FE\n",
      "16 0 logPPR\n",
      "16 0 logModifPPR\n",
      "16 0 logHeatPPR\n",
      "16 0 SP-CT\n",
      "17 0 Walk\n",
      "17 0 logFor\n",
      "17 0 logComm\n",
      "17 0 logHeat\n",
      "17 0 logNHeat\n",
      "17 0 RSP\n",
      "17 0 FE\n",
      "17 0 logPPR\n",
      "17 0 logModifPPR\n",
      "17 0 logHeatPPR\n",
      "17 0 SP-CT\n",
      "18 0 Walk\n",
      "18 0 logFor\n",
      "18 0 logComm\n",
      "18 0 logHeat\n",
      "18 0 logNHeat\n",
      "18 0 RSP\n",
      "18 0 FE\n",
      "18 0 logPPR\n",
      "18 0 logModifPPR\n",
      "18 0 logHeatPPR\n",
      "18 0 SP-CT\n",
      "19 0 Walk\n",
      "19 0 logFor\n",
      "19 0 logComm\n",
      "19 0 logHeat\n",
      "19 0 logNHeat\n",
      "19 0 RSP\n",
      "19 0 FE\n",
      "19 0 logPPR\n",
      "19 0 logModifPPR\n",
      "19 0 logHeatPPR\n",
      "19 0 SP-CT\n",
      "20 0 Walk\n",
      "20 0 logFor\n",
      "20 0 logComm\n",
      "20 0 logHeat\n",
      "20 0 logNHeat\n",
      "20 0 RSP\n",
      "20 0 FE\n",
      "20 0 logPPR\n",
      "20 0 logModifPPR\n",
      "20 0 logHeatPPR\n",
      "20 0 SP-CT\n"
     ]
    }
   ],
   "source": [
    "for cell_x, content_x in enumerate(overall_results['100_2_KernelKMeans'].results):\n",
    "    for cell_y, content_xy in enumerate(content_x):\n",
    "        for measure_name, content_xy_measure in content_xy.measure_results.items():\n",
    "            if len(content_xy_measure.ari) == 0:\n",
    "                print(cell_x, cell_y, measure_name)\n",
    "                content_xy_measure.ari = [0]"
   ]
  },
  {
   "cell_type": "code",
   "execution_count": 23,
   "metadata": {},
   "outputs": [
    {
     "data": {
      "text/plain": [
       "Text(0, 0.5, '$p_{out}$')"
      ]
     },
     "execution_count": 23,
     "metadata": {},
     "output_type": "execute_result"
    },
    {
     "data": {
      "image/png": "[encoded data removed]",
      "text/plain": [
       "<Figure size 1080x1080 with 2 Axes>"
      ]
     },
     "metadata": {
      "needs_background": "light"
     },
     "output_type": "display_data"
    }
   ],
   "source": [
    "colors, ari = overall_results['100_2_KernelKMeans'].best_measure_map(kernel_colors)\n",
    "\n",
    "fig, ax = plt.subplots(1, 2, figsize=(15, 15))\n",
    "\n",
    "ax[0].imshow(colors)\n",
    "ax[0].set_xticks(range(p_ins.shape[0]))\n",
    "ax[0].set_yticks(range(p_outs.shape[0]))\n",
    "ax[0].set_xticklabels(p_ins)\n",
    "ax[0].set_yticklabels(p_outs)\n",
    "ax[0].set_xlabel('$p_{in}$')\n",
    "ax[0].set_ylabel('$p_{out}$')\n",
    "\n",
    "ax[1].imshow(ari, vmin=0, vmax=1)\n",
    "ax[1].set_xticks(range(p_ins.shape[0]))\n",
    "ax[1].set_yticks(range(p_outs.shape[0]))\n",
    "ax[1].set_xticklabels(p_ins)\n",
    "ax[1].set_yticklabels(p_outs)\n",
    "ax[1].set_xlabel('$p_{in}$')\n",
    "ax[1].set_ylabel('$p_{out}$')"
   ]
  },
  {
   "cell_type": "code",
   "execution_count": 43,
   "metadata": {},
   "outputs": [
    {
     "data": {
      "application/vnd.jupyter.widget-view+json": {
       "model_id": "369a0a1798b14da2ac846730151ad148",
       "version_major": 2,
       "version_minor": 0
      },
      "text/plain": [
       "HBox(children=(IntProgress(value=0, description='100_2_KernelKMeans', max=441), HTML(value='')))"
      ]
     },
     "metadata": {},
     "output_type": "display_data"
    },
    {
     "name": "stdout",
     "output_type": "stream",
     "text": [
      "\n"
     ]
    }
   ],
   "source": [
    "picture_results = overall_results['100_2_KernelKMeans']\n",
    "jjson = {}\n",
    "for p_in, p_out in tqdm(list(product(p_ins, p_outs)), desc=experiment_name):  # one pixel\n",
    "    p_in_idx, p_out_idx = int(p_in / step), int(p_out / step)\n",
    "    cell_results = picture_results.results[p_in_idx][p_out_idx]\n",
    "\n",
    "    jcell = {}\n",
    "    for measure_result in cell_results.measure_results.values():\n",
    "        jcell[measure_result.measure_name] = {\n",
    "            'params': measure_result.params.tolist() if type(measure_result.params) != list else [],\n",
    "            'ari': measure_result.ari.tolist() if type(measure_result.ari) != list else [],\n",
    "            'error': measure_result.error.tolist() if type(measure_result.error) != list else [],\n",
    "        }\n",
    "    jjson[f'{p_in}, {p_out}'] = jcell"
   ]
  },
  {
   "cell_type": "code",
   "execution_count": 45,
   "metadata": {},
   "outputs": [],
   "source": [
    "with open('result.json', 'w') as f:\n",
    "    json.dump(jjson, f, indent=4, sort_keys=True)"
   ]
  },
  {
   "cell_type": "code",
   "execution_count": 37,
   "metadata": {},
   "outputs": [
    {
     "data": {
      "text/plain": [
       "array([], dtype=float64)"
      ]
     },
     "execution_count": 37,
     "metadata": {},
     "output_type": "execute_result"
    }
   ],
   "source": [
    "list(cell_results.measure_results.values())[10].params"
   ]
  },
  {
   "cell_type": "code",
   "execution_count": 29,
   "metadata": {},
   "outputs": [
    {
     "data": {
      "text/plain": [
       "<__main__.CellMeasureResults at 0x7f09b473d1d0>"
      ]
     },
     "execution_count": 29,
     "metadata": {},
     "output_type": "execute_result"
    }
   ],
   "source": [
    "measure_result"
   ]
  },
  {
   "cell_type": "code",
   "execution_count": 41,
   "metadata": {},
   "outputs": [
    {
     "data": {
      "text/plain": [
       "False"
      ]
     },
     "execution_count": 41,
     "metadata": {},
     "output_type": "execute_result"
    }
   ],
   "source": [
    "type(measure_result.ari) != list"
   ]
  },
  {
   "cell_type": "code",
   "execution_count": 42,
   "metadata": {},
   "outputs": [
    {
     "data": {
      "text/plain": [
       "[]"
      ]
     },
     "execution_count": 42,
     "metadata": {},
     "output_type": "execute_result"
    }
   ],
   "source": [
    "measure_result.params"
   ]
  },
  {
   "cell_type": "code",
   "execution_count": null,
   "metadata": {},
   "outputs": [],
   "source": []
  }
 ],
 "metadata": {
  "kernelspec": {
   "display_name": "Python 3",
   "language": "python",
   "name": "python3"
  },
  "language_info": {
   "codemirror_mode": {
    "name": "ipython",
    "version": 3
   },
   "file_extension": ".py",
   "mimetype": "text/x-python",
   "name": "python",
   "nbconvert_exporter": "python",
   "pygments_lexer": "ipython3",
   "version": "3.7.3"
  }
 },
 "nbformat": 4,
 "nbformat_minor": 2
}
